{
 "cells": [
  {
   "cell_type": "markdown",
   "metadata": {},
   "source": [
    "# Part 1: Anaconda\n",
    "\n",
    "* Anaconda environments, what is their purpose\n",
    "* Installation, availability on other systems\n",
    "* How packages are installed in Anaconda, what packages have we used"
   ]
  },
  {
   "cell_type": "markdown",
   "metadata": {},
   "source": [
    "# Part 2: NumPy\n",
    "\n",
    "* Why NumPy? How much more efficient it is, why."
   ]
  },
  {
   "cell_type": "code",
   "execution_count": 4,
   "metadata": {},
   "outputs": [
    {
     "data": {
      "text/plain": [
       "array([[  4.10000000e+01,  -6.50000000e+01,   2.00000000e+00,\n",
       "          5.00000000e-01,   7.60073701e-01,  -1.29298355e+00],\n",
       "       [  4.30000000e+01,  -6.45000000e+01,   2.00000000e+00,\n",
       "         -5.00000000e-01,   5.13320063e-01,  -2.59823901e+00],\n",
       "       [  4.05999985e+01,  -7.90999985e+01,   1.10000229e+00,\n",
       "          2.09999847e+00,  -4.60328926e-02,   1.00319821e+00],\n",
       "       ..., \n",
       "       [  4.18999977e+01,  -4.98999977e+01,  -3.99997711e-01,\n",
       "          6.99996948e-01,  -1.43903719e+00,  -1.38072820e+00],\n",
       "       [  4.15000000e+01,  -4.92000008e+01,  -7.00000763e-01,\n",
       "          1.70000076e+00,  -1.69445276e+00,  -2.62464241e-01],\n",
       "       [  4.07999992e+01,  -4.75000000e+01,  -9.99984741e-02,\n",
       "          2.10000229e+00,  -1.00612214e+00,   3.61856296e-01]])"
      ]
     },
     "execution_count": 4,
     "metadata": {},
     "output_type": "execute_result"
    }
   ],
   "source": [
    "import numpy as np\n",
    "\n",
    "arr = np.load('hurr_data_full.npy')\n",
    "arr.ndim # number of dimensions\n",
    "arr.shape # shape of the array, i.e. [rows,cols] for a 2D array\n",
    "arr.dtype # type of array elements\n",
    "arr[:,0] # first column\n",
    "arr[0,:] # first row\n",
    "arr.mean() # mean of all array elements, also np.mean(arr)\n",
    "arr[:,1].mean() # mean of the second column, also np.mean(arr[:,1])\n",
    "arr[arr[:,0] > 40] # select all elements where the first column is greater than 40"
   ]
  },
  {
   "cell_type": "code",
   "execution_count": null,
   "metadata": {},
   "outputs": [],
   "source": [
    "# Array reshaping. Note that none of these are saved\n",
    "arr.reshape([-1]) # Make a 1D array\n",
    "arr.reshape([3,2,-1]) # Make a 3D array where the first two dimensions are 3 and 2, the last dimension to fit\n",
    "arr.reshape([2,-1,3,1]) # Make a 4D array with dimensions: 2, to fit, 3, and 1"
   ]
  },
  {
   "cell_type": "code",
   "execution_count": null,
   "metadata": {
    "collapsed": true
   },
   "outputs": [],
   "source": [
    "# Error cases\n",
    "arr.reshape(1,1,2) # New shape has to be a list\n",
    "arr.reshape([1,2,3]) # Array cannot be reshaped to this (too few elements)"
   ]
  },
  {
   "cell_type": "markdown",
   "metadata": {},
   "source": [
    "## Other array functions and operations\n",
    "\n",
    "* Slicing\n",
    "* Grouping: np.max(), np.min()\n",
    "* Using arrays to store text data"
   ]
  },
  {
   "cell_type": "markdown",
   "metadata": {},
   "source": [
    "# Part 3: Web Scraping\n",
    "\n",
    "* robots.txt\n",
    "* code organization for scraping\n",
    "* BeautifulSoup elements"
   ]
  },
  {
   "cell_type": "markdown",
   "metadata": {},
   "source": [
    "# Part 4: Pandas DataFrame\n"
   ]
  }
 ],
 "metadata": {
  "kernelspec": {
   "display_name": "Python 3",
   "language": "python",
   "name": "python3"
  },
  "language_info": {
   "codemirror_mode": {
    "name": "ipython",
    "version": 3
   },
   "file_extension": ".py",
   "mimetype": "text/x-python",
   "name": "python",
   "nbconvert_exporter": "python",
   "pygments_lexer": "ipython3",
   "version": "3.5.4"
  }
 },
 "nbformat": 4,
 "nbformat_minor": 2
}
