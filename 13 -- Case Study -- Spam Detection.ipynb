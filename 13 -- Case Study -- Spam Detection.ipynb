{
 "cells": [
  {
   "cell_type": "code",
   "execution_count": 1,
   "metadata": {},
   "outputs": [],
   "source": [
    "import numpy as np\n",
    "import pandas as pd\n",
    "import os\n",
    "import glob\n",
    "\n",
    "from sklearn.feature_extraction.text import TfidfVectorizer\n",
    "from sklearn.decomposition import PCA\n",
    "from sklearn.linear_model import LogisticRegression\n",
    "from sklearn.neural_network import MLPClassifier\n",
    "from sklearn.tree import DecisionTreeClassifier\n",
    "from sklearn.metrics import classification_report\n",
    "\n",
    "from sklearn import tree\n",
    "import subprocess\n",
    "import matplotlib.image as mpimg\n",
    "import matplotlib.pyplot as plt\n",
    "\n",
    "from sklearn.pipeline import Pipeline\n",
    "from sklearn.preprocessing import FunctionTransformer\n",
    "\n",
    "from ipywidgets import interact, interactive, fixed, interact_manual\n",
    "import ipywidgets as widgets"
   ]
  },
  {
   "cell_type": "markdown",
   "metadata": {},
   "source": [
    "# Spam Detection Filter\n",
    "\n",
    "Let us illustrate a few concepts from before on a case study -- building a spam detection filter. The data for this notebook is from https://medium.com/analytics-vidhya/building-a-spam-filter-from-scratch-using-machine-learning-fc58b178ea56.\n",
    "\n",
    "## Read Data\n",
    "\n",
    "The emails are currently organized in four directories (see data/email): nonspam-train, nonspam-test, spam-train, and spam-test, with one file per email. The data looks preprocessed, i.e. lower-cased, etc."
   ]
  },
  {
   "cell_type": "code",
   "execution_count": 2,
   "metadata": {},
   "outputs": [
    {
     "name": "stdout",
     "output_type": "stream",
     "text": [
      "\u001b[0m\u001b[01;34mnonspam-test\u001b[0m/\r\n",
      "\u001b[01;34mnonspam-train\u001b[0m/\r\n",
      "\u001b[01;34mspam-test\u001b[0m/\r\n",
      "\u001b[01;34mspam-train\u001b[0m/\r\n"
     ]
    }
   ],
   "source": [
    "%ls data/email | head"
   ]
  },
  {
   "cell_type": "markdown",
   "metadata": {},
   "source": [
    "Legit email example:"
   ]
  },
  {
   "cell_type": "code",
   "execution_count": 3,
   "metadata": {},
   "outputs": [
    {
     "name": "stdout",
     "output_type": "stream",
     "text": [
      "posting hi m work phonetics project modern irish m hard source anyone recommend book article english specifically interest palatal slender consonant work helpful too thank laurel sutton sutton garnet berkeley edu "
     ]
    }
   ],
   "source": [
    "%cat data/email/nonspam-train/3-380msg4.txt | head"
   ]
  },
  {
   "cell_type": "markdown",
   "metadata": {},
   "source": [
    "Spam email:"
   ]
  },
  {
   "cell_type": "code",
   "execution_count": 4,
   "metadata": {},
   "outputs": [
    {
     "name": "stdout",
     "output_type": "stream",
     "text": [
      "great parttime summer job display box credit application need place small owneroperate store area here introduce yourself store owner manager our effective script tell little display box save customer hundred dollar draw card business every app send spot counter place box nothing need need name address company send commission check compensaation every box place become representative earn commission each application store course much profitable plan pay month small effort call code hours receive detail removed our mailing list type b hotmail com area remove subject area e mail send "
     ]
    }
   ],
   "source": [
    "%cat data/email/spam-train/spmsga1.txt | head"
   ]
  },
  {
   "cell_type": "markdown",
   "metadata": {},
   "source": [
    "We arrange the data into two Pandas dataframes: df_train and df_test:"
   ]
  },
  {
   "cell_type": "code",
   "execution_count": 2,
   "metadata": {},
   "outputs": [
    {
     "data": {
      "text/plain": [
       "['./data/email/spam-train/spmsgc74.txt',\n",
       " './data/email/spam-train/spmsga48.txt',\n",
       " './data/email/spam-train/spmsga123.txt',\n",
       " './data/email/spam-train/spmsgc98.txt',\n",
       " './data/email/spam-train/spmsga143.txt']"
      ]
     },
     "execution_count": 2,
     "metadata": {},
     "output_type": "execute_result"
    }
   ],
   "source": [
    "base_dir = \"./data/email\"\n",
    "train_spam, train_legit = \"./data/email/spam-train/*\", \"./data/email/nonspam-train/*\"\n",
    "test_spam,test_legit = \"./data/email/spam-test/*\", \"./data/email/nonspam-test/*\"\n",
    "file_paths = glob.glob('./data/email/spam-train/*')\n",
    "file_paths[:5]"
   ]
  },
  {
   "cell_type": "code",
   "execution_count": 3,
   "metadata": {},
   "outputs": [
    {
     "data": {
      "text/plain": [
       "((700, 2), (260, 2))"
      ]
     },
     "execution_count": 3,
     "metadata": {},
     "output_type": "execute_result"
    }
   ],
   "source": [
    "def read_emails(dir_):\n",
    "     return [' '.join(open(file_path, \"r\").readlines()).strip() for file_path in glob.glob(dir_)]\n",
    "\n",
    "def read_df(spam_dir, legit_dir):\n",
    "    # spam\n",
    "    df_spam = pd.DataFrame({'email':read_emails(spam_dir)})\n",
    "    df_spam['spam'] = 1\n",
    "    # legit\n",
    "    df_legit = pd.DataFrame({'email':read_emails(legit_dir)})\n",
    "    df_legit['spam'] = 0\n",
    "    return pd.concat([df_spam,df_legit])\n",
    "\n",
    "df_train = read_df(train_spam, train_legit)\n",
    "df_test = read_df(test_spam, test_legit)\n",
    "df_train.shape, df_test.shape"
   ]
  },
  {
   "cell_type": "markdown",
   "metadata": {},
   "source": [
    "This is what the data look like:"
   ]
  },
  {
   "cell_type": "code",
   "execution_count": 4,
   "metadata": {},
   "outputs": [
    {
     "data": {
      "text/html": [
       "<div>\n",
       "<style scoped>\n",
       "    .dataframe tbody tr th:only-of-type {\n",
       "        vertical-align: middle;\n",
       "    }\n",
       "\n",
       "    .dataframe tbody tr th {\n",
       "        vertical-align: top;\n",
       "    }\n",
       "\n",
       "    .dataframe thead th {\n",
       "        text-align: right;\n",
       "    }\n",
       "</style>\n",
       "<table border=\"1\" class=\"dataframe\">\n",
       "  <thead>\n",
       "    <tr style=\"text-align: right;\">\n",
       "      <th></th>\n",
       "      <th>email</th>\n",
       "      <th>spam</th>\n",
       "    </tr>\n",
       "  </thead>\n",
       "  <tbody>\n",
       "    <tr>\n",
       "      <th>0</th>\n",
       "      <td>offer close march offer close march announceme...</td>\n",
       "      <td>1</td>\n",
       "    </tr>\n",
       "    <tr>\n",
       "      <th>1</th>\n",
       "      <td>re ems best software best remove instruction b...</td>\n",
       "      <td>1</td>\n",
       "    </tr>\n",
       "    <tr>\n",
       "      <th>2</th>\n",
       "      <td>really cool hot video attention warn adult war...</td>\n",
       "      <td>1</td>\n",
       "    </tr>\n",
       "    <tr>\n",
       "      <th>3</th>\n",
       "      <td>submit spam receive message member safemail li...</td>\n",
       "      <td>1</td>\n",
       "    </tr>\n",
       "    <tr>\n",
       "      <th>4</th>\n",
       "      <td>direct emailsecret stumble block are ready rea...</td>\n",
       "      <td>1</td>\n",
       "    </tr>\n",
       "  </tbody>\n",
       "</table>\n",
       "</div>"
      ],
      "text/plain": [
       "                                               email  spam\n",
       "0  offer close march offer close march announceme...     1\n",
       "1  re ems best software best remove instruction b...     1\n",
       "2  really cool hot video attention warn adult war...     1\n",
       "3  submit spam receive message member safemail li...     1\n",
       "4  direct emailsecret stumble block are ready rea...     1"
      ]
     },
     "execution_count": 4,
     "metadata": {},
     "output_type": "execute_result"
    }
   ],
   "source": [
    "df_train.head()"
   ]
  },
  {
   "cell_type": "code",
   "execution_count": 5,
   "metadata": {},
   "outputs": [
    {
     "data": {
      "text/html": [
       "<div>\n",
       "<style scoped>\n",
       "    .dataframe tbody tr th:only-of-type {\n",
       "        vertical-align: middle;\n",
       "    }\n",
       "\n",
       "    .dataframe tbody tr th {\n",
       "        vertical-align: top;\n",
       "    }\n",
       "\n",
       "    .dataframe thead th {\n",
       "        text-align: right;\n",
       "    }\n",
       "</style>\n",
       "<table border=\"1\" class=\"dataframe\">\n",
       "  <thead>\n",
       "    <tr style=\"text-align: right;\">\n",
       "      <th></th>\n",
       "      <th>email</th>\n",
       "      <th>spam</th>\n",
       "    </tr>\n",
       "  </thead>\n",
       "  <tbody>\n",
       "    <tr>\n",
       "      <th>0</th>\n",
       "      <td>chance wish remove reply remove subject virtua...</td>\n",
       "      <td>1</td>\n",
       "    </tr>\n",
       "    <tr>\n",
       "      <th>1</th>\n",
       "      <td>request need driver s license too many point t...</td>\n",
       "      <td>1</td>\n",
       "    </tr>\n",
       "    <tr>\n",
       "      <th>2</th>\n",
       "      <td>attract women attract women nature s secret we...</td>\n",
       "      <td>1</td>\n",
       "    </tr>\n",
       "    <tr>\n",
       "      <th>3</th>\n",
       "      <td>re brighter better faster ever re brighter bet...</td>\n",
       "      <td>1</td>\n",
       "    </tr>\n",
       "    <tr>\n",
       "      <th>4</th>\n",
       "      <td>released vol released introducing cd vol cd vo...</td>\n",
       "      <td>1</td>\n",
       "    </tr>\n",
       "  </tbody>\n",
       "</table>\n",
       "</div>"
      ],
      "text/plain": [
       "                                               email  spam\n",
       "0  chance wish remove reply remove subject virtua...     1\n",
       "1  request need driver s license too many point t...     1\n",
       "2  attract women attract women nature s secret we...     1\n",
       "3  re brighter better faster ever re brighter bet...     1\n",
       "4  released vol released introducing cd vol cd vo...     1"
      ]
     },
     "execution_count": 5,
     "metadata": {},
     "output_type": "execute_result"
    }
   ],
   "source": [
    "df_test.head()"
   ]
  },
  {
   "cell_type": "code",
   "execution_count": 9,
   "metadata": {},
   "outputs": [],
   "source": [
    "# May be save it for future use?\n",
    "#df_train.to_csv('./data/email/train.csv')\n",
    "#df_test.to_csv('./data/email/test.csv')"
   ]
  },
  {
   "cell_type": "markdown",
   "metadata": {},
   "source": [
    "## TfidfVectorizer\n",
    "\n",
    "We are going to use a bag-of-words model to translate each email into a feature vector. TfidfVectorizer (term-frequency * inverse document frequency) will do the translation. Another option is using CountVectorizer that does not consider the overall document frequency of each word.\n",
    "\n",
    "See also the commented out parameters when creating tf:"
   ]
  },
  {
   "cell_type": "code",
   "execution_count": 6,
   "metadata": {},
   "outputs": [],
   "source": [
    "tf = TfidfVectorizer(\n",
    "    #ngram_range = (1,2) # how many words per each term?\n",
    "    #,stop_words = 'english' # do we want to use the stop words?\n",
    "    #,max_features = 10000 # what is the max vocabulary size?\n",
    "    #,max_df = 1.0 # maximum document frequency\n",
    "    #,min_df = 1.0 # minimum document frequency\n",
    ")\n",
    "X_train = tf.fit_transform(df_train['email'])\n",
    "y_train = df_train['spam']\n",
    "X_test = tf.transform(df_test['email'])\n",
    "y_test = df_test['spam']"
   ]
  },
  {
   "cell_type": "code",
   "execution_count": 7,
   "metadata": {},
   "outputs": [
    {
     "data": {
      "text/plain": [
       "((700, 19073), (700,), (260, 19073), (260,))"
      ]
     },
     "execution_count": 7,
     "metadata": {},
     "output_type": "execute_result"
    }
   ],
   "source": [
    "X_train.shape, y_train.shape, X_test.shape, y_test.shape"
   ]
  },
  {
   "cell_type": "markdown",
   "metadata": {},
   "source": [
    "## Principal Component Analysis\n",
    "\n",
    "The feature vector currently has X_train.shape[1] features that are not necessarily orthogonal to each other. To reduce the number of features, let us apply the Principal Component Analysis (PCA):"
   ]
  },
  {
   "cell_type": "code",
   "execution_count": 8,
   "metadata": {},
   "outputs": [
    {
     "data": {
      "text/plain": [
       "PCA(copy=True, iterated_power='auto', n_components=None, random_state=None,\n",
       "  svd_solver='auto', tol=0.0, whiten=False)"
      ]
     },
     "execution_count": 8,
     "metadata": {},
     "output_type": "execute_result"
    }
   ],
   "source": [
    "p = PCA() # use all defaults\n",
    "\n",
    "p.fit(\n",
    "    X_train.todense() # X_train is a sparse array, so we convert it to dense array first\n",
    ") "
   ]
  },
  {
   "cell_type": "markdown",
   "metadata": {},
   "source": [
    "How many features (components) are needed to explain 95% of the variance?"
   ]
  },
  {
   "cell_type": "code",
   "execution_count": 9,
   "metadata": {},
   "outputs": [
    {
     "data": {
      "text/plain": [
       "598"
      ]
     },
     "execution_count": 9,
     "metadata": {},
     "output_type": "execute_result"
    }
   ],
   "source": [
    "n_comps = np.argmax(np.cumsum(p.explained_variance_) > 0.95)\n",
    "n_comps"
   ]
  },
  {
   "cell_type": "markdown",
   "metadata": {},
   "source": [
    "Re-run the PCA with that many components. You can re-do PCA with more or fewer components:"
   ]
  },
  {
   "cell_type": "code",
   "execution_count": 10,
   "metadata": {},
   "outputs": [
    {
     "data": {
      "text/plain": [
       "((700, 598), (260, 598))"
      ]
     },
     "execution_count": 10,
     "metadata": {},
     "output_type": "execute_result"
    }
   ],
   "source": [
    "p = PCA(n_components = n_comps)\n",
    "X_train_pca = p.fit_transform(X_train.todense())\n",
    "X_test_pca = p.transform(X_test.todense())\n",
    "X_train_pca.shape,X_test_pca.shape"
   ]
  },
  {
   "cell_type": "markdown",
   "metadata": {},
   "source": [
    "## Modeling\n",
    "We try a few models on our data:\n",
    "* Logistic Regression\n",
    "* An artificial neural network\n",
    "\n",
    "### Logistic Regression"
   ]
  },
  {
   "cell_type": "code",
   "execution_count": 11,
   "metadata": {},
   "outputs": [],
   "source": [
    "lr = LogisticRegression(\n",
    "    random_state = 1\n",
    "    , solver = 'lbfgs'\n",
    ")\n",
    "lr.fit(X_train_pca, y_train)\n",
    "y_pred = lr.predict(X_test_pca)"
   ]
  },
  {
   "cell_type": "code",
   "execution_count": 12,
   "metadata": {},
   "outputs": [
    {
     "name": "stdout",
     "output_type": "stream",
     "text": [
      "              precision    recall  f1-score   support\n",
      "\n",
      "       legit       0.97      0.99      0.98       130\n",
      "        spam       0.99      0.97      0.98       130\n",
      "\n",
      "   micro avg       0.98      0.98      0.98       260\n",
      "   macro avg       0.98      0.98      0.98       260\n",
      "weighted avg       0.98      0.98      0.98       260\n",
      "\n"
     ]
    }
   ],
   "source": [
    "print(classification_report(y_test,y_pred, target_names = ['legit','spam']))"
   ]
  },
  {
   "cell_type": "markdown",
   "metadata": {},
   "source": [
    "The model performance is really good. The lowest scores are the precision on the legit emails and recall on spam ones. It means that the logistic regression occasionally fails to filter out spam emails. The good news is that 99% of the legit emails are recognized as legit. "
   ]
  },
  {
   "cell_type": "markdown",
   "metadata": {},
   "source": [
    "### Artificial Neural Network\n",
    "\n",
    "At this time, let us try an artificial neural network and see if we can improve the scores:"
   ]
  },
  {
   "cell_type": "code",
   "execution_count": 13,
   "metadata": {},
   "outputs": [
    {
     "name": "stdout",
     "output_type": "stream",
     "text": [
      "Iteration 1, loss = 0.71230330\n",
      "Iteration 2, loss = 0.70819380\n",
      "Iteration 3, loss = 0.70446776\n",
      "Iteration 4, loss = 0.70138323\n",
      "Iteration 5, loss = 0.69851348\n",
      "Iteration 6, loss = 0.69648528\n",
      "Iteration 7, loss = 0.69423609\n",
      "Iteration 8, loss = 0.69236862\n",
      "Iteration 9, loss = 0.69057795\n",
      "Iteration 10, loss = 0.68886709\n",
      "Iteration 11, loss = 0.68733194\n",
      "Iteration 12, loss = 0.68579932\n",
      "Iteration 13, loss = 0.68419014\n",
      "Iteration 14, loss = 0.68250167\n",
      "Iteration 15, loss = 0.68080580\n",
      "Iteration 16, loss = 0.67902171\n",
      "Iteration 17, loss = 0.67714932\n",
      "Iteration 18, loss = 0.67515768\n",
      "Iteration 19, loss = 0.67304023\n",
      "Iteration 20, loss = 0.67079872\n",
      "Iteration 21, loss = 0.66846248\n",
      "Iteration 22, loss = 0.66595253\n",
      "Iteration 23, loss = 0.66318784\n",
      "Iteration 24, loss = 0.66024420\n",
      "Iteration 25, loss = 0.65691674\n",
      "Iteration 26, loss = 0.65311892\n",
      "Iteration 27, loss = 0.64872796\n",
      "Iteration 28, loss = 0.64355209\n",
      "Iteration 29, loss = 0.63756594\n",
      "Iteration 30, loss = 0.63071553\n",
      "Iteration 31, loss = 0.62295471\n",
      "Iteration 32, loss = 0.61461723\n",
      "Iteration 33, loss = 0.60550529\n",
      "Iteration 34, loss = 0.59577297\n",
      "Iteration 35, loss = 0.58530139\n",
      "Iteration 36, loss = 0.57404525\n",
      "Iteration 37, loss = 0.56210920\n",
      "Iteration 38, loss = 0.54932663\n",
      "Iteration 39, loss = 0.53582318\n",
      "Iteration 40, loss = 0.52169305\n",
      "Iteration 41, loss = 0.50680699\n",
      "Iteration 42, loss = 0.49135003\n",
      "Iteration 43, loss = 0.47533433\n",
      "Iteration 44, loss = 0.45883462\n",
      "Iteration 45, loss = 0.44232379\n",
      "Iteration 46, loss = 0.42517188\n",
      "Iteration 47, loss = 0.40809432\n",
      "Iteration 48, loss = 0.39075963\n",
      "Iteration 49, loss = 0.37361606\n",
      "Iteration 50, loss = 0.35649329\n",
      "Iteration 51, loss = 0.33959964\n",
      "Iteration 52, loss = 0.32271320\n",
      "Iteration 53, loss = 0.30581437\n",
      "Iteration 54, loss = 0.28851831\n",
      "Iteration 55, loss = 0.27111934\n",
      "Iteration 56, loss = 0.25440099\n",
      "Iteration 57, loss = 0.23820457\n",
      "Iteration 58, loss = 0.22290091\n",
      "Iteration 59, loss = 0.20833533\n",
      "Iteration 60, loss = 0.19455904\n",
      "Iteration 61, loss = 0.18157440\n",
      "Iteration 62, loss = 0.16938653\n",
      "Iteration 63, loss = 0.15788137\n",
      "Iteration 64, loss = 0.14727843\n",
      "Iteration 65, loss = 0.13724910\n",
      "Iteration 66, loss = 0.12790275\n",
      "Iteration 67, loss = 0.11924990\n",
      "Iteration 68, loss = 0.11114131\n",
      "Iteration 69, loss = 0.10364916\n",
      "Iteration 70, loss = 0.09668745\n",
      "Iteration 71, loss = 0.09022398\n",
      "Iteration 72, loss = 0.08425460\n",
      "Iteration 73, loss = 0.07872415\n",
      "Iteration 74, loss = 0.07357996\n",
      "Iteration 75, loss = 0.06883980\n",
      "Iteration 76, loss = 0.06446946\n",
      "Iteration 77, loss = 0.06042521\n",
      "Iteration 78, loss = 0.05672871\n",
      "Iteration 79, loss = 0.05327211\n",
      "Iteration 80, loss = 0.05011980\n",
      "Iteration 81, loss = 0.04721109\n",
      "Iteration 82, loss = 0.04451308\n",
      "Iteration 83, loss = 0.04204202\n",
      "Iteration 84, loss = 0.03974334\n",
      "Iteration 85, loss = 0.03760285\n",
      "Iteration 86, loss = 0.03564182\n",
      "Iteration 87, loss = 0.03382043\n",
      "Iteration 88, loss = 0.03210263\n",
      "Iteration 89, loss = 0.03052174\n",
      "Iteration 90, loss = 0.02904319\n",
      "Iteration 91, loss = 0.02766657\n",
      "Iteration 92, loss = 0.02638255\n",
      "Iteration 93, loss = 0.02519066\n",
      "Iteration 94, loss = 0.02406102\n",
      "Iteration 95, loss = 0.02300219\n",
      "Iteration 96, loss = 0.02202320\n",
      "Iteration 97, loss = 0.02109255\n",
      "Iteration 98, loss = 0.02022127\n",
      "Iteration 99, loss = 0.01940785\n",
      "Iteration 100, loss = 0.01863636\n",
      "Iteration 101, loss = 0.01790473\n",
      "Iteration 102, loss = 0.01722493\n",
      "Iteration 103, loss = 0.01657685\n",
      "Iteration 104, loss = 0.01596348\n",
      "Iteration 105, loss = 0.01538539\n",
      "Iteration 106, loss = 0.01483990\n",
      "Iteration 107, loss = 0.01432347\n",
      "Iteration 108, loss = 0.01382791\n",
      "Iteration 109, loss = 0.01336422\n",
      "Iteration 110, loss = 0.01291786\n",
      "Iteration 111, loss = 0.01249340\n",
      "Iteration 112, loss = 0.01209550\n",
      "Iteration 113, loss = 0.01170792\n",
      "Iteration 114, loss = 0.01134841\n",
      "Iteration 115, loss = 0.01099641\n",
      "Iteration 116, loss = 0.01066453\n",
      "Iteration 117, loss = 0.01034734\n",
      "Iteration 118, loss = 0.01004309\n",
      "Iteration 119, loss = 0.00975306\n",
      "Iteration 120, loss = 0.00947622\n",
      "Iteration 121, loss = 0.00920874\n",
      "Iteration 122, loss = 0.00895477\n",
      "Iteration 123, loss = 0.00871124\n",
      "Iteration 124, loss = 0.00847444\n",
      "Iteration 125, loss = 0.00824871\n",
      "Iteration 126, loss = 0.00803163\n",
      "Iteration 127, loss = 0.00782526\n",
      "Iteration 128, loss = 0.00762323\n",
      "Iteration 129, loss = 0.00742925\n",
      "Iteration 130, loss = 0.00724276\n",
      "Iteration 131, loss = 0.00706317\n",
      "Iteration 132, loss = 0.00689044\n",
      "Iteration 133, loss = 0.00672367\n",
      "Iteration 134, loss = 0.00656251\n",
      "Iteration 135, loss = 0.00640702\n",
      "Iteration 136, loss = 0.00625852\n",
      "Iteration 137, loss = 0.00611396\n",
      "Iteration 138, loss = 0.00597498\n",
      "Iteration 139, loss = 0.00583975\n",
      "Iteration 140, loss = 0.00571111\n",
      "Iteration 141, loss = 0.00558535\n",
      "Iteration 142, loss = 0.00546403\n",
      "Iteration 143, loss = 0.00534657\n",
      "Iteration 144, loss = 0.00523504\n",
      "Iteration 145, loss = 0.00512370\n",
      "Iteration 146, loss = 0.00501727\n",
      "Iteration 147, loss = 0.00491434\n",
      "Iteration 148, loss = 0.00481311\n",
      "Iteration 149, loss = 0.00471516\n",
      "Iteration 150, loss = 0.00462001\n",
      "Iteration 151, loss = 0.00452724\n",
      "Iteration 152, loss = 0.00443709\n",
      "Iteration 153, loss = 0.00434941\n",
      "Iteration 154, loss = 0.00426405\n",
      "Iteration 155, loss = 0.00418083\n",
      "Iteration 156, loss = 0.00409995\n",
      "Iteration 157, loss = 0.00402158\n",
      "Iteration 158, loss = 0.00394467\n",
      "Iteration 159, loss = 0.00387030\n",
      "Training loss did not improve more than tol=0.000100 for 10 consecutive epochs. Stopping.\n"
     ]
    }
   ],
   "source": [
    "nn = MLPClassifier(hidden_layer_sizes = [100,100,10]\n",
    "                   ,learning_rate_init = 0.0002\n",
    "                   ,max_iter = 1000\n",
    "                   ,verbose = 1, random_state = 2)\n",
    "nn.fit(X_train_pca, y_train)\n",
    "y_pred = nn.predict(X_test_pca)"
   ]
  },
  {
   "cell_type": "code",
   "execution_count": 14,
   "metadata": {},
   "outputs": [
    {
     "name": "stdout",
     "output_type": "stream",
     "text": [
      "              precision    recall  f1-score   support\n",
      "\n",
      "       legit       0.99      0.99      0.99       130\n",
      "        spam       0.99      0.99      0.99       130\n",
      "\n",
      "   micro avg       0.99      0.99      0.99       260\n",
      "   macro avg       0.99      0.99      0.99       260\n",
      "weighted avg       0.99      0.99      0.99       260\n",
      "\n"
     ]
    }
   ],
   "source": [
    "print(classification_report(y_test,y_pred, target_names = ['legit','spam']))"
   ]
  },
  {
   "cell_type": "markdown",
   "metadata": {},
   "source": [
    "## Trying out the spam filter\n",
    "\n",
    "Let us put all the steps into a pipeline:\n",
    "* TfidFVectorizer to convert the text to word counts;\n",
    "* Transform the sparse matrix to dense;\n",
    "* Apply principal component analysis;\n",
    "* Run artificial neural network to predict if the email is spam;"
   ]
  },
  {
   "cell_type": "code",
   "execution_count": 15,
   "metadata": {},
   "outputs": [],
   "source": [
    "model = Pipeline([('tfidfvectorizer',tf)\n",
    "                 ,('todense',FunctionTransformer(lambda x: x.todense(), accept_sparse=True, validate = False))\n",
    "                 ,('pca',p)\n",
    "                 ,('ann',nn)])"
   ]
  },
  {
   "cell_type": "markdown",
   "metadata": {},
   "source": [
    "The method returns two numbers which can be thought of as 'probabilities' that the email is legit (1st) vs. spam (2nd)"
   ]
  },
  {
   "cell_type": "code",
   "execution_count": 16,
   "metadata": {},
   "outputs": [
    {
     "data": {
      "text/plain": [
       "array([[0.03086249, 0.96913751]])"
      ]
     },
     "execution_count": 16,
     "metadata": {},
     "output_type": "execute_result"
    }
   ],
   "source": [
    "model.predict_proba(['Hello'])"
   ]
  },
  {
   "cell_type": "markdown",
   "metadata": {},
   "source": [
    "We can also call it at runtime and see its work:"
   ]
  },
  {
   "cell_type": "code",
   "execution_count": 17,
   "metadata": {},
   "outputs": [
    {
     "data": {
      "application/vnd.jupyter.widget-view+json": {
       "model_id": "428dfc019de54062b5c33c1b194d80e5",
       "version_major": 2,
       "version_minor": 0
      },
      "text/plain": [
       "interactive(children=(Text(value='Hi there!', description='x'), Output()), _dom_classes=('widget-interact',))"
      ]
     },
     "metadata": {},
     "output_type": "display_data"
    },
    {
     "data": {
      "text/plain": [
       "<function __main__.<lambda>(x)>"
      ]
     },
     "execution_count": 17,
     "metadata": {},
     "output_type": "execute_result"
    }
   ],
   "source": [
    "interact(lambda x:print(\"Spam probability: %.2f%%\"%(model.predict_proba([x])[0][1]*100.0))\n",
    "         , x='Hi there!')"
   ]
  },
  {
   "cell_type": "markdown",
   "metadata": {},
   "source": [
    "## Looking `inside` the model\n",
    "\n",
    "Is there a way to look inside the model, i.e. see what words help it make the decisions? Let's try to do this with help of a decision tree.\n",
    "\n",
    "### Decision tree\n",
    "\n",
    "Let us use a decision tree of depth 3, which still works decently:"
   ]
  },
  {
   "cell_type": "code",
   "execution_count": 22,
   "metadata": {},
   "outputs": [
    {
     "name": "stdout",
     "output_type": "stream",
     "text": [
      "              precision    recall  f1-score   support\n",
      "\n",
      "       legit       0.96      0.95      0.96       130\n",
      "        spam       0.95      0.96      0.96       130\n",
      "\n",
      "   micro avg       0.96      0.96      0.96       260\n",
      "   macro avg       0.96      0.96      0.96       260\n",
      "weighted avg       0.96      0.96      0.96       260\n",
      "\n"
     ]
    }
   ],
   "source": [
    "dt = DecisionTreeClassifier(max_depth = 3)\n",
    "dt.fit(X_train_pca,y_train)\n",
    "y_pred = dt.predict(X_test_pca)\n",
    "\n",
    "print(classification_report(y_test,y_pred, target_names = ['legit','spam']))"
   ]
  },
  {
   "cell_type": "markdown",
   "metadata": {},
   "source": [
    "This is what the tree looks like (make sure that you have graphviz installed in the system):"
   ]
  },
  {
   "cell_type": "code",
   "execution_count": 24,
   "metadata": {},
   "outputs": [
    {
     "data": {
      "image/png": "[encoded data removed]",
      "text/plain": [
       "<Figure size 1080x576 with 1 Axes>"
      ]
     },
     "metadata": {
      "needs_background": "light"
     },
     "output_type": "display_data"
    }
   ],
   "source": [
    "tree.export_graphviz(dt, out_file = 'tree.dot')\n",
    "subprocess.call(['dot','-Tpng','tree.dot','-o','tree.png'])\n",
    "img = mpimg.imread('tree.png')\n",
    "plt.figure(figsize=(15,8))\n",
    "imgplot = plt.imshow(img, aspect='auto')\n",
    "plt.show()"
   ]
  },
  {
   "cell_type": "markdown",
   "metadata": {},
   "source": [
    "The rightmost leaf represents the case with 268 spam emails and no (0) legit ones. One can reach it by making X[0] > -0.021 and X[189] > -0.096. We can simulate this case:"
   ]
  },
  {
   "cell_type": "code",
   "execution_count": 25,
   "metadata": {},
   "outputs": [
    {
     "data": {
      "text/plain": [
       "(19073,)"
      ]
     },
     "execution_count": 25,
     "metadata": {},
     "output_type": "execute_result"
    }
   ],
   "source": [
    "sim_X = np.zeros(n_comps)\n",
    "sim_X[0] = 1\n",
    "sim_X[189] = 1\n",
    "tf_idf_sim_X = p.inverse_transform(sim_X)\n",
    "tf_idf_sim_X.shape"
   ]
  },
  {
   "cell_type": "markdown",
   "metadata": {},
   "source": [
    "TfidfVectorizer has vocabulary in a form of {'word':idx,...}. Let us swap the keys and values there:"
   ]
  },
  {
   "cell_type": "code",
   "execution_count": 26,
   "metadata": {},
   "outputs": [],
   "source": [
    "inv_vocabulary = dict(zip(tf.vocabulary_.values(),tf.vocabulary_.keys()))"
   ]
  },
  {
   "cell_type": "markdown",
   "metadata": {},
   "source": [
    "Now, find the highest features of tf_idf_sim_X (the terms with the highest scores):"
   ]
  },
  {
   "cell_type": "code",
   "execution_count": 27,
   "metadata": {},
   "outputs": [
    {
     "data": {
      "text/plain": [
       "['report',\n",
       " 'order',\n",
       " 'email',\n",
       " 'program',\n",
       " 'address',\n",
       " 'business',\n",
       " 'mail',\n",
       " 'money',\n",
       " 'list',\n",
       " 'our']"
      ]
     },
     "execution_count": 27,
     "metadata": {},
     "output_type": "execute_result"
    }
   ],
   "source": [
    "[inv_vocabulary[idx] for idx in np.argsort(-tf_idf_sim_X)[:10]]"
   ]
  },
  {
   "cell_type": "markdown",
   "metadata": {},
   "source": [
    "So, it turns out that the terms like 'report', 'order', 'email' are the heavy indicators of the spam. \n",
    "\n",
    "What about the legit email? Here are the requirements:\n",
    "\n",
    "* X[0] <= -0.054\n",
    "* X[1] > -0.04\n",
    "* X[4] <= 0.249"
   ]
  },
  {
   "cell_type": "code",
   "execution_count": 28,
   "metadata": {},
   "outputs": [
    {
     "data": {
      "text/plain": [
       "(19073,)"
      ]
     },
     "execution_count": 28,
     "metadata": {},
     "output_type": "execute_result"
    }
   ],
   "source": [
    "sim_X = np.zeros(n_comps)\n",
    "sim_X[0] = -1\n",
    "sim_X[1] = 1\n",
    "sim_X[4] = -1\n",
    "tf_idf_sim_X = p.inverse_transform(sim_X)\n",
    "tf_idf_sim_X.shape"
   ]
  },
  {
   "cell_type": "markdown",
   "metadata": {},
   "source": [
    "What are the words pertaining to a legit email?"
   ]
  },
  {
   "cell_type": "code",
   "execution_count": 29,
   "metadata": {},
   "outputs": [
    {
     "data": {
      "text/plain": [
       "['language',\n",
       " 'linguistic',\n",
       " 'university',\n",
       " 'de',\n",
       " 'english',\n",
       " 'conference',\n",
       " 'book',\n",
       " 'abstract',\n",
       " 'edu',\n",
       " 'theory']"
      ]
     },
     "execution_count": 29,
     "metadata": {},
     "output_type": "execute_result"
    }
   ],
   "source": [
    "[inv_vocabulary[idx] for idx in np.argsort(-tf_idf_sim_X)[:10]]"
   ]
  },
  {
   "cell_type": "markdown",
   "metadata": {},
   "source": [
    "Now, try to construct the email with the words above and see what its spam probability looks like!"
   ]
  }
 ],
 "metadata": {
  "kernelspec": {
   "display_name": "Python 3",
   "language": "python",
   "name": "python3"
  },
  "language_info": {
   "codemirror_mode": {
    "name": "ipython",
    "version": 3
   },
   "file_extension": ".py",
   "mimetype": "text/x-python",
   "name": "python",
   "nbconvert_exporter": "python",
   "pygments_lexer": "ipython3",
   "version": "3.7.3"
  }
 },
 "nbformat": 4,
 "nbformat_minor": 2
}
