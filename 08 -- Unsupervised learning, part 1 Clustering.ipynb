{
 "cells": [
  {
   "cell_type": "code",
   "execution_count": 2,
   "metadata": {
    "collapsed": true
   },
   "outputs": [],
   "source": [
    "import pandas as pd\n",
    "import numpy as np\n",
    "from geopy.geocoders import Nominatim\n",
    "import matplotlib.pyplot as plt\n",
    "import seaborn as sns\n",
    "import folium\n",
    "from sklearn.cluster import KMeans\n",
    "from sklearn.preprocessing import StandardScaler, MinMaxScaler\n",
    "from sklearn.datasets import fetch_mldata\n",
    "from sklearn.model_selection import train_test_split\n",
    "\n",
    "%matplotlib inline"
   ]
  },
  {
   "cell_type": "markdown",
   "metadata": {},
   "source": [
    "# Unsupervised learning, part 1: Clustering\n",
    "\n",
    "Unsupervised learning -- there is no 'supervisor' or 'teacher', i.e. we do not want to predict a known attribute. We rather want to 'understand' the data by either clustering or reducing dimensionality. \n",
    "\n",
    "## Clustering\n",
    "\n",
    "The process of finding 'clusters' -- group the data sharing similar properties\n",
    "\n",
    "![clustering](https://cdn-images-1.medium.com/max/1600/1*tWaaZX75oumVwBMcKN-eHA.png)"
   ]
  },
  {
   "cell_type": "markdown",
   "metadata": {},
   "source": [
    "## Example 1: Houses in Storm Lake"
   ]
  },
  {
   "cell_type": "code",
   "execution_count": 724,
   "metadata": {},
   "outputs": [
    {
     "data": {
      "text/html": [
       "<div>\n",
       "<style>\n",
       "    .dataframe thead tr:only-child th {\n",
       "        text-align: right;\n",
       "    }\n",
       "\n",
       "    .dataframe thead th {\n",
       "        text-align: left;\n",
       "    }\n",
       "\n",
       "    .dataframe tbody tr th {\n",
       "        vertical-align: top;\n",
       "    }\n",
       "</style>\n",
       "<table border=\"1\" class=\"dataframe\">\n",
       "  <thead>\n",
       "    <tr style=\"text-align: right;\">\n",
       "      <th></th>\n",
       "      <th>Address</th>\n",
       "      <th>Listing</th>\n",
       "      <th>City</th>\n",
       "      <th>Bed</th>\n",
       "      <th>Bth</th>\n",
       "      <th>Map</th>\n",
       "      <th>LotSz</th>\n",
       "      <th>SqFt</th>\n",
       "      <th>Year</th>\n",
       "      <th>DOM_CDOM</th>\n",
       "      <th>...</th>\n",
       "      <th>OrigPrice</th>\n",
       "      <th>ListPrice</th>\n",
       "      <th>SellingPrice</th>\n",
       "      <th>SPLP</th>\n",
       "      <th>Unnamed: 21</th>\n",
       "      <th>total_baths</th>\n",
       "      <th>full_baths</th>\n",
       "      <th>three_q_baths</th>\n",
       "      <th>half_baths</th>\n",
       "      <th>q_baths</th>\n",
       "    </tr>\n",
       "  </thead>\n",
       "  <tbody>\n",
       "    <tr>\n",
       "      <th>0</th>\n",
       "      <td>815 E Lakeshore Dr</td>\n",
       "      <td>44012132</td>\n",
       "      <td>Storm Lake</td>\n",
       "      <td>5</td>\n",
       "      <td>4 (4 0 0 0)</td>\n",
       "      <td>,</td>\n",
       "      <td>16405.0</td>\n",
       "      <td>4010.0</td>\n",
       "      <td>1991</td>\n",
       "      <td>645/645</td>\n",
       "      <td>...</td>\n",
       "      <td>550000</td>\n",
       "      <td>299900</td>\n",
       "      <td>280000</td>\n",
       "      <td>93.36</td>\n",
       "      <td>39478</td>\n",
       "      <td>4</td>\n",
       "      <td>4</td>\n",
       "      <td>0</td>\n",
       "      <td>0</td>\n",
       "      <td>0</td>\n",
       "    </tr>\n",
       "    <tr>\n",
       "      <th>1</th>\n",
       "      <td>307 Lake Ave</td>\n",
       "      <td>44012256</td>\n",
       "      <td>Storm Lake</td>\n",
       "      <td>4</td>\n",
       "      <td>2 (2 0 0 0)</td>\n",
       "      <td>,</td>\n",
       "      <td>14000.0</td>\n",
       "      <td>3412.0</td>\n",
       "      <td>1907</td>\n",
       "      <td>12-Dec</td>\n",
       "      <td>...</td>\n",
       "      <td>162000</td>\n",
       "      <td>162000</td>\n",
       "      <td>156000</td>\n",
       "      <td>96.30</td>\n",
       "      <td>39447</td>\n",
       "      <td>2</td>\n",
       "      <td>2</td>\n",
       "      <td>0</td>\n",
       "      <td>0</td>\n",
       "      <td>0</td>\n",
       "    </tr>\n",
       "    <tr>\n",
       "      <th>2</th>\n",
       "      <td>800 Meadow Ln</td>\n",
       "      <td>44012644</td>\n",
       "      <td>Storm Lake</td>\n",
       "      <td>3</td>\n",
       "      <td>3 (3 0 0 0)</td>\n",
       "      <td>,</td>\n",
       "      <td>14000.0</td>\n",
       "      <td>1562.0</td>\n",
       "      <td>1981</td>\n",
       "      <td>54/54</td>\n",
       "      <td>...</td>\n",
       "      <td>217000</td>\n",
       "      <td>217000</td>\n",
       "      <td>204000</td>\n",
       "      <td>94.01</td>\n",
       "      <td>39402</td>\n",
       "      <td>3</td>\n",
       "      <td>3</td>\n",
       "      <td>0</td>\n",
       "      <td>0</td>\n",
       "      <td>0</td>\n",
       "    </tr>\n",
       "    <tr>\n",
       "      <th>3</th>\n",
       "      <td>1308 Poplar Ln</td>\n",
       "      <td>44012701</td>\n",
       "      <td>Storm Lake</td>\n",
       "      <td>3</td>\n",
       "      <td>3 (2 0 0 1)</td>\n",
       "      <td>,</td>\n",
       "      <td>13500.0</td>\n",
       "      <td>1872.0</td>\n",
       "      <td>1977</td>\n",
       "      <td>147/147</td>\n",
       "      <td>...</td>\n",
       "      <td>174900</td>\n",
       "      <td>159500</td>\n",
       "      <td>150000</td>\n",
       "      <td>94.04</td>\n",
       "      <td>39451</td>\n",
       "      <td>3</td>\n",
       "      <td>2</td>\n",
       "      <td>0</td>\n",
       "      <td>0</td>\n",
       "      <td>1</td>\n",
       "    </tr>\n",
       "    <tr>\n",
       "      <th>4</th>\n",
       "      <td>1420 N Seneca St</td>\n",
       "      <td>44012791</td>\n",
       "      <td>Storm Lake</td>\n",
       "      <td>4</td>\n",
       "      <td>3 (2 0 1 0)</td>\n",
       "      <td>,</td>\n",
       "      <td>8475.0</td>\n",
       "      <td>NaN</td>\n",
       "      <td>2007</td>\n",
       "      <td>120/120</td>\n",
       "      <td>...</td>\n",
       "      <td>149800</td>\n",
       "      <td>149800</td>\n",
       "      <td>158598</td>\n",
       "      <td>105.87</td>\n",
       "      <td>39524</td>\n",
       "      <td>3</td>\n",
       "      <td>2</td>\n",
       "      <td>0</td>\n",
       "      <td>1</td>\n",
       "      <td>0</td>\n",
       "    </tr>\n",
       "  </tbody>\n",
       "</table>\n",
       "<p>5 rows × 27 columns</p>\n",
       "</div>"
      ],
      "text/plain": [
       "               Address      Listing        City Bed            Bth Map  \\\n",
       "0  815 E Lakeshore Dr    44012132    Storm Lake  5   4 (4 0 0 0)     ,   \n",
       "1        307 Lake Ave    44012256    Storm Lake  4   2 (2 0 0 0)     ,   \n",
       "2       800 Meadow Ln    44012644    Storm Lake  3   3 (3 0 0 0)     ,   \n",
       "3      1308 Poplar Ln    44012701    Storm Lake  3   3 (2 0 0 1)     ,   \n",
       "4    1420 N Seneca St    44012791    Storm Lake  4   3 (2 0 1 0)     ,   \n",
       "\n",
       "     LotSz    SqFt  Year DOM_CDOM   ...    OrigPrice ListPrice  SellingPrice  \\\n",
       "0  16405.0  4010.0  1991  645/645   ...       550000    299900        280000   \n",
       "1  14000.0  3412.0  1907   12-Dec   ...       162000    162000        156000   \n",
       "2  14000.0  1562.0  1981    54/54   ...       217000    217000        204000   \n",
       "3  13500.0  1872.0  1977  147/147   ...       174900    159500        150000   \n",
       "4   8475.0     NaN  2007  120/120   ...       149800    149800        158598   \n",
       "\n",
       "       SPLP  Unnamed: 21 total_baths full_baths  three_q_baths  half_baths  \\\n",
       "0     93.36        39478           4          4              0           0   \n",
       "1     96.30        39447           2          2              0           0   \n",
       "2     94.01        39402           3          3              0           0   \n",
       "3     94.04        39451           3          2              0           0   \n",
       "4    105.87        39524           3          2              0           1   \n",
       "\n",
       "   q_baths  \n",
       "0        0  \n",
       "1        0  \n",
       "2        0  \n",
       "3        1  \n",
       "4        0  \n",
       "\n",
       "[5 rows x 27 columns]"
      ]
     },
     "execution_count": 724,
     "metadata": {},
     "output_type": "execute_result"
    }
   ],
   "source": [
    "# Houses in Storm Lake\n",
    "import pandas as pd\n",
    "\n",
    "df = pd.read_csv('../data/housing_stats_clean.csv')\n",
    "df.head()"
   ]
  },
  {
   "cell_type": "code",
   "execution_count": 725,
   "metadata": {},
   "outputs": [
    {
     "data": {
      "text/plain": [
       "Index(['Address', 'Listing', 'City', 'Bed', 'Bth', 'Map', 'LotSz', 'SqFt',\n",
       "       'Year', 'DOM_CDOM', 'Area', 'Subdivision', 'DayofWkListed',\n",
       "       'MonthListed', 'YearListed', 'Date', 'SqFt.1', 'OrigPrice', 'ListPrice',\n",
       "       'SellingPrice', 'SPLP', 'Unnamed: 21', 'total_baths', 'full_baths',\n",
       "       'three_q_baths', 'half_baths', 'q_baths'],\n",
       "      dtype='object')"
      ]
     },
     "execution_count": 725,
     "metadata": {},
     "output_type": "execute_result"
    }
   ],
   "source": [
    "# the list of fields\n",
    "df.columns"
   ]
  },
  {
   "cell_type": "code",
   "execution_count": 726,
   "metadata": {},
   "outputs": [
    {
     "data": {
      "text/plain": [
       "(200, 27)"
      ]
     },
     "execution_count": 726,
     "metadata": {},
     "output_type": "execute_result"
    }
   ],
   "source": [
    "# there are 200 houses in total\n",
    "df.shape"
   ]
  },
  {
   "cell_type": "markdown",
   "metadata": {},
   "source": [
    "### Let us add the coordinates for future use"
   ]
  },
  {
   "cell_type": "code",
   "execution_count": null,
   "metadata": {
    "collapsed": true
   },
   "outputs": [],
   "source": [
    "# Check to see how well Nominatim can convert neighborhood name to coordinates\n",
    "from geopy.geocoders import Nominatim\n",
    "\n",
    "def get_neigh_coords(inputAddress, city = 'Storm Lake', state = 'IA'):\n",
    "    geolocator = Nominatim(user_agent = 'my-application')\n",
    "    try:\n",
    "        location = geolocator.geocode(inputAddress)\n",
    "        return location.latitude,location.longitude\n",
    "    except:\n",
    "        pass\n",
    "    try:\n",
    "        location = geolocator.geocode({'street':inputAddress, 'city':city, 'state':state})\n",
    "    except:\n",
    "        return None,None\n",
    "\n",
    "get_neigh_coords('815 E Lakeshore Dr')"
   ]
  },
  {
   "cell_type": "code",
   "execution_count": null,
   "metadata": {
    "collapsed": true
   },
   "outputs": [],
   "source": [
    "#df['coords'] = df.Address.apply(lambda x:get_coords(x)) # this will take some time to run"
   ]
  },
  {
   "cell_type": "code",
   "execution_count": null,
   "metadata": {
    "collapsed": true
   },
   "outputs": [],
   "source": [
    "df['lat'] = df.coords.apply(lambda x:x[0])\n",
    "df['lon'] = df.coords.apply(lambda x:x[1])"
   ]
  },
  {
   "cell_type": "markdown",
   "metadata": {},
   "source": [
    "### Drop NaN's"
   ]
  },
  {
   "cell_type": "code",
   "execution_count": null,
   "metadata": {
    "collapsed": true
   },
   "outputs": [],
   "source": [
    "df.shape, df.dropna().shape # this is how many rows of data we will lose:"
   ]
  },
  {
   "cell_type": "code",
   "execution_count": null,
   "metadata": {
    "collapsed": true
   },
   "outputs": [],
   "source": [
    "df.dropna().to_csv('storm_lake_houses_coords.csv') # it's OK, save and read it"
   ]
  },
  {
   "cell_type": "markdown",
   "metadata": {},
   "source": [
    "### K-Means clustering by geographic location"
   ]
  },
  {
   "cell_type": "code",
   "execution_count": 3,
   "metadata": {},
   "outputs": [
    {
     "data": {
      "text/html": [
       "<div>\n",
       "<style>\n",
       "    .dataframe thead tr:only-child th {\n",
       "        text-align: right;\n",
       "    }\n",
       "\n",
       "    .dataframe thead th {\n",
       "        text-align: left;\n",
       "    }\n",
       "\n",
       "    .dataframe tbody tr th {\n",
       "        vertical-align: top;\n",
       "    }\n",
       "</style>\n",
       "<table border=\"1\" class=\"dataframe\">\n",
       "  <thead>\n",
       "    <tr style=\"text-align: right;\">\n",
       "      <th></th>\n",
       "      <th>Address</th>\n",
       "      <th>lat</th>\n",
       "      <th>lon</th>\n",
       "    </tr>\n",
       "  </thead>\n",
       "  <tbody>\n",
       "    <tr>\n",
       "      <th>0</th>\n",
       "      <td>815 E Lakeshore Dr</td>\n",
       "      <td>42.635949</td>\n",
       "      <td>-95.190106</td>\n",
       "    </tr>\n",
       "    <tr>\n",
       "      <th>1</th>\n",
       "      <td>307 Lake Ave</td>\n",
       "      <td>42.639569</td>\n",
       "      <td>-95.200812</td>\n",
       "    </tr>\n",
       "    <tr>\n",
       "      <th>2</th>\n",
       "      <td>800 Meadow Ln</td>\n",
       "      <td>42.632047</td>\n",
       "      <td>-95.242888</td>\n",
       "    </tr>\n",
       "    <tr>\n",
       "      <th>3</th>\n",
       "      <td>1308 Poplar Ln</td>\n",
       "      <td>42.644993</td>\n",
       "      <td>-95.184715</td>\n",
       "    </tr>\n",
       "    <tr>\n",
       "      <th>4</th>\n",
       "      <td>1 Colonial Cir</td>\n",
       "      <td>42.646798</td>\n",
       "      <td>-95.217970</td>\n",
       "    </tr>\n",
       "  </tbody>\n",
       "</table>\n",
       "</div>"
      ],
      "text/plain": [
       "               Address        lat        lon\n",
       "0  815 E Lakeshore Dr   42.635949 -95.190106\n",
       "1        307 Lake Ave   42.639569 -95.200812\n",
       "2       800 Meadow Ln   42.632047 -95.242888\n",
       "3      1308 Poplar Ln   42.644993 -95.184715\n",
       "4      1 Colonial Cir   42.646798 -95.217970"
      ]
     },
     "execution_count": 3,
     "metadata": {},
     "output_type": "execute_result"
    }
   ],
   "source": [
    "df = pd.read_csv('storm_lake_houses_coords.csv')\n",
    "df[['Address','lat','lon']].head()"
   ]
  },
  {
   "cell_type": "markdown",
   "metadata": {},
   "source": [
    "How many clusters do we need here? The map suggests two: a bigger cluster at the North and a smaller at the West of the lake:"
   ]
  },
  {
   "cell_type": "code",
   "execution_count": 4,
   "metadata": {},
   "outputs": [
    {
     "data": {
      "text/html": [
       "<div style=\"width:100%;\"><div style=\"position:relative;width:100%;height:0;padding-bottom:60%;\"><iframe src=\"data:text/html;charset=utf-8;base64,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\" style=\"position:absolute;width:100%;height:100%;left:0;top:0;border:none !important;\" allowfullscreen webkitallowfullscreen mozallowfullscreen></iframe></div></div>"
      ],
      "text/plain": [
       "<folium.folium.Map at 0x7ff878bc6b38>"
      ]
     },
     "execution_count": 4,
     "metadata": {},
     "output_type": "execute_result"
    }
   ],
   "source": [
    "import folium\n",
    "latitude, longitude = df[['lat','lon']].mean() # use the mean coordinates to center the map\n",
    "map_clusters = folium.Map(location=[latitude, longitude], zoom_start=13)\n",
    "map_clusters"
   ]
  },
  {
   "cell_type": "code",
   "execution_count": 12,
   "metadata": {},
   "outputs": [
    {
     "data": {
      "text/plain": [
       "KMeans(algorithm='auto', copy_x=True, init='k-means++', max_iter=300,\n",
       "    n_clusters=6, n_init=10, n_jobs=None, precompute_distances='auto',\n",
       "    random_state=1, tol=0.0001, verbose=0)"
      ]
     },
     "execution_count": 12,
     "metadata": {},
     "output_type": "execute_result"
    }
   ],
   "source": [
    "from sklearn.cluster import KMeans\n",
    "n_clusters = 6 # assume there are two districts in Storm Lake\n",
    "km_geo = KMeans(n_clusters = n_clusters, random_state = 1)\n",
    "km_geo.fit(df[['lat','lon']])"
   ]
  },
  {
   "cell_type": "code",
   "execution_count": 13,
   "metadata": {
    "scrolled": true
   },
   "outputs": [
    {
     "data": {
      "text/plain": [
       "array([4, 1, 2, 3, 5, 3, 3, 2, 3, 2, 2, 0, 3, 2, 0, 2, 2, 5, 1, 3, 2, 2, 3,\n",
       "       2, 4, 2, 2, 2, 3, 2, 3, 1, 4, 2, 3, 4, 4, 2, 1, 2, 2, 1, 0, 0, 0, 3,\n",
       "       1, 2, 2, 2, 5, 5, 2, 0, 1, 3, 5, 4, 2, 0, 5, 0, 0, 5, 3, 4, 2, 1, 0,\n",
       "       3, 3, 1, 3, 3, 2, 0, 3, 3, 2, 2, 1, 3, 0, 3, 5, 5, 1, 5, 0, 3, 2, 1,\n",
       "       3, 0, 1, 5, 0, 3, 2, 3, 3, 3, 5, 2, 3, 5, 3, 5, 1, 2, 5, 1, 2, 0, 3,\n",
       "       2, 3, 2, 3, 1, 1, 5, 3, 3, 5, 3, 3, 4, 0, 0, 0, 5, 0, 3, 2, 2, 3, 0,\n",
       "       2, 0, 2, 5, 0, 3, 0, 2, 1, 3, 3, 0, 3, 3, 0, 3, 1, 0, 0, 2, 5, 0, 0], dtype=int32)"
      ]
     },
     "execution_count": 13,
     "metadata": {},
     "output_type": "execute_result"
    }
   ],
   "source": [
    "df['cluster'] = km_geo.labels_\n",
    "km_geo.labels_ # these are the cluster assignments, let's add them as a separate field to our dataframe"
   ]
  },
  {
   "cell_type": "code",
   "execution_count": 8,
   "metadata": {},
   "outputs": [
    {
     "data": {
      "text/html": [
       "<div>\n",
       "<style>\n",
       "    .dataframe thead tr:only-child th {\n",
       "        text-align: right;\n",
       "    }\n",
       "\n",
       "    .dataframe thead th {\n",
       "        text-align: left;\n",
       "    }\n",
       "\n",
       "    .dataframe tbody tr th {\n",
       "        vertical-align: top;\n",
       "    }\n",
       "</style>\n",
       "<table border=\"1\" class=\"dataframe\">\n",
       "  <thead>\n",
       "    <tr style=\"text-align: right;\">\n",
       "      <th></th>\n",
       "      <th>lat</th>\n",
       "      <th>lon</th>\n",
       "    </tr>\n",
       "    <tr>\n",
       "      <th>cluster</th>\n",
       "      <th></th>\n",
       "      <th></th>\n",
       "    </tr>\n",
       "  </thead>\n",
       "  <tbody>\n",
       "    <tr>\n",
       "      <th>0</th>\n",
       "      <td>42.630896</td>\n",
       "      <td>-95.240242</td>\n",
       "    </tr>\n",
       "    <tr>\n",
       "      <th>1</th>\n",
       "      <td>42.650399</td>\n",
       "      <td>-95.189705</td>\n",
       "    </tr>\n",
       "    <tr>\n",
       "      <th>2</th>\n",
       "      <td>42.645126</td>\n",
       "      <td>-95.221718</td>\n",
       "    </tr>\n",
       "    <tr>\n",
       "      <th>3</th>\n",
       "      <td>42.638442</td>\n",
       "      <td>-95.199553</td>\n",
       "    </tr>\n",
       "  </tbody>\n",
       "</table>\n",
       "</div>"
      ],
      "text/plain": [
       "               lat        lon\n",
       "cluster                      \n",
       "0        42.630896 -95.240242\n",
       "1        42.650399 -95.189705\n",
       "2        42.645126 -95.221718\n",
       "3        42.638442 -95.199553"
      ]
     },
     "execution_count": 8,
     "metadata": {},
     "output_type": "execute_result"
    }
   ],
   "source": [
    "df.groupby('cluster')[['lat','lon']].mean()"
   ]
  },
  {
   "cell_type": "markdown",
   "metadata": {},
   "source": [
    "So, we have two clusters:\n",
    "* cluster 0 -- West of the lake\n",
    "* cluster 1 -- North of the lake\n",
    "\n",
    "Let's see some houses in each cluster and the map with two cluster centers:"
   ]
  },
  {
   "cell_type": "code",
   "execution_count": 9,
   "metadata": {
    "scrolled": true
   },
   "outputs": [
    {
     "data": {
      "text/html": [
       "<div>\n",
       "<style>\n",
       "    .dataframe thead tr:only-child th {\n",
       "        text-align: right;\n",
       "    }\n",
       "\n",
       "    .dataframe thead th {\n",
       "        text-align: left;\n",
       "    }\n",
       "\n",
       "    .dataframe tbody tr th {\n",
       "        vertical-align: top;\n",
       "    }\n",
       "</style>\n",
       "<table border=\"1\" class=\"dataframe\">\n",
       "  <thead>\n",
       "    <tr style=\"text-align: right;\">\n",
       "      <th></th>\n",
       "      <th>Address</th>\n",
       "    </tr>\n",
       "  </thead>\n",
       "  <tbody>\n",
       "    <tr>\n",
       "      <th>2</th>\n",
       "      <td>800 Meadow Ln</td>\n",
       "    </tr>\n",
       "    <tr>\n",
       "      <th>7</th>\n",
       "      <td>1104 Kelvin Rd</td>\n",
       "    </tr>\n",
       "    <tr>\n",
       "      <th>9</th>\n",
       "      <td>804 Clover Ln</td>\n",
       "    </tr>\n",
       "    <tr>\n",
       "      <th>10</th>\n",
       "      <td>704 Clover Ln</td>\n",
       "    </tr>\n",
       "    <tr>\n",
       "      <th>13</th>\n",
       "      <td>700 Clover Lane</td>\n",
       "    </tr>\n",
       "  </tbody>\n",
       "</table>\n",
       "</div>"
      ],
      "text/plain": [
       "             Address\n",
       "2     800 Meadow Ln \n",
       "7    1104 Kelvin Rd \n",
       "9     804 Clover Ln \n",
       "10    704 Clover Ln \n",
       "13  700 Clover Lane "
      ]
     },
     "execution_count": 9,
     "metadata": {},
     "output_type": "execute_result"
    }
   ],
   "source": [
    "df[df.cluster == 0][['Address']].head()"
   ]
  },
  {
   "cell_type": "code",
   "execution_count": 10,
   "metadata": {},
   "outputs": [
    {
     "data": {
      "text/html": [
       "<div>\n",
       "<style>\n",
       "    .dataframe thead tr:only-child th {\n",
       "        text-align: right;\n",
       "    }\n",
       "\n",
       "    .dataframe thead th {\n",
       "        text-align: left;\n",
       "    }\n",
       "\n",
       "    .dataframe tbody tr th {\n",
       "        vertical-align: top;\n",
       "    }\n",
       "</style>\n",
       "<table border=\"1\" class=\"dataframe\">\n",
       "  <thead>\n",
       "    <tr style=\"text-align: right;\">\n",
       "      <th></th>\n",
       "      <th>Address</th>\n",
       "    </tr>\n",
       "  </thead>\n",
       "  <tbody>\n",
       "    <tr>\n",
       "      <th>3</th>\n",
       "      <td>1308 Poplar Ln</td>\n",
       "    </tr>\n",
       "    <tr>\n",
       "      <th>5</th>\n",
       "      <td>705 Maywood Dr</td>\n",
       "    </tr>\n",
       "    <tr>\n",
       "      <th>6</th>\n",
       "      <td>518 Expansion Blvd</td>\n",
       "    </tr>\n",
       "    <tr>\n",
       "      <th>8</th>\n",
       "      <td>1209 N Oneida St</td>\n",
       "    </tr>\n",
       "    <tr>\n",
       "      <th>12</th>\n",
       "      <td>1110 Lincoln Rd</td>\n",
       "    </tr>\n",
       "  </tbody>\n",
       "</table>\n",
       "</div>"
      ],
      "text/plain": [
       "                Address\n",
       "3       1308 Poplar Ln \n",
       "5       705 Maywood Dr \n",
       "6   518 Expansion Blvd \n",
       "8     1209 N Oneida St \n",
       "12     1110 Lincoln Rd "
      ]
     },
     "execution_count": 10,
     "metadata": {},
     "output_type": "execute_result"
    }
   ],
   "source": [
    "df[df.cluster == 1][['Address']].head()"
   ]
  },
  {
   "cell_type": "code",
   "execution_count": 14,
   "metadata": {},
   "outputs": [
    {
     "data": {
      "text/html": [
       "<div style=\"width:100%;\"><div style=\"position:relative;width:100%;height:0;padding-bottom:60%;\"><iframe src=\"data:text/html;charset=utf-8;base64,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\" style=\"position:absolute;width:100%;height:100%;left:0;top:0;border:none !important;\" allowfullscreen webkitallowfullscreen mozallowfullscreen></iframe></div></div>"
      ],
      "text/plain": [
       "<folium.folium.Map at 0x7ff878b61cf8>"
      ]
     },
     "execution_count": 14,
     "metadata": {},
     "output_type": "execute_result"
    }
   ],
   "source": [
    "cluster_coords = df.groupby('cluster')[['lat','lon']].mean().to_dict('records')\n",
    "map_clusters = folium.Map(location=[latitude, longitude], zoom_start=13)\n",
    "\n",
    "for coord in cluster_coords:\n",
    "    cm = folium.Marker(\n",
    "        [coord['lat'],coord['lon']],\n",
    "    )\n",
    "    cm.add_to(map_clusters)\n",
    "    \n",
    "map_clusters"
   ]
  },
  {
   "cell_type": "markdown",
   "metadata": {},
   "source": [
    "### Finding the optimal number of clusters\n",
    "\n",
    "What if two clusters is not enough? How do we determine the optimal number of clusters?\n",
    "\n",
    "![elbow method](https://www.datascience.com/hs-fs/hubfs/Blog/introduction-to-k-means-clustering-elbow-point-example.png?width=760&height=411&name=introduction-to-k-means-clustering-elbow-point-example.png)\n",
    "\n",
    "Let us run the previous task and compute the average distance to cluster centers for a range of cluster_no:"
   ]
  },
  {
   "cell_type": "code",
   "execution_count": 573,
   "metadata": {},
   "outputs": [
    {
     "data": {
      "text/plain": [
       "0.0033603304169846347"
      ]
     },
     "execution_count": 573,
     "metadata": {},
     "output_type": "execute_result"
    }
   ],
   "source": [
    "km_geo.inertia_ # Sum of squared distances of samples to their closest cluster center"
   ]
  },
  {
   "cell_type": "markdown",
   "metadata": {},
   "source": [
    "As the number of clusters increases, inertia\\_ will decrease. The optimal number of clusters is the _elbow_ point. Let us try to find it:"
   ]
  },
  {
   "cell_type": "code",
   "execution_count": 583,
   "metadata": {},
   "outputs": [
    {
     "name": "stdout",
     "output_type": "stream",
     "text": [
      "2 3 4 5 6 7 8 9 "
     ]
    },
    {
     "data": {
      "image/png": "[encoded data removed]",
      "text/plain": [
       "<matplotlib.figure.Figure at 0x7f4b0e113eb8>"
      ]
     },
     "metadata": {},
     "output_type": "display_data"
    }
   ],
   "source": [
    "max_n_clusters = 10\n",
    "squared_distance = np.zeros(max_n_clusters)\n",
    "for k in range(2,max_n_clusters):\n",
    "    kmeans = KMeans(n_clusters = k, random_state = 0).fit(df[['lat','lon']])\n",
    "    squared_distance[k] = kmeans.inertia_\n",
    "    print(k,sep=' ', end=' ', flush=True)\n",
    "    \n",
    "import matplotlib.pyplot as plt\n",
    "%matplotlib inline\n",
    "\n",
    "plt.figure()\n",
    "plt.plot(squared_distance)\n",
    "plt.xlim((2,max_n_clusters))\n",
    "plt.xlabel('number of clusters')\n",
    "plt.ylabel('avg dist to centers')\n",
    "plt.annotate(\"elbow point,\\nnum_clusters = 4\", xy=(4, 0.0035), xytext=(6, 0.01), arrowprops={'arrowstyle':\"->\"})\n",
    "plt.show()"
   ]
  },
  {
   "cell_type": "markdown",
   "metadata": {},
   "source": [
    "### Run clustering on n_clusters = 4"
   ]
  },
  {
   "cell_type": "code",
   "execution_count": 575,
   "metadata": {},
   "outputs": [
    {
     "data": {
      "text/html": [
       "<div style=\"width:100%;\"><div style=\"position:relative;width:100%;height:0;padding-bottom:60%;\"><iframe src=\"data:text/html;charset=utf-8;base64,PCFET0NUWVBFIGh0bWw+CjxoZWFkPiAgICAKICAgIDxtZXRhIGh0dHAtZXF1aXY9ImNvbnRlbnQtdHlwZSIgY29udGVudD0idGV4dC9odG1sOyBjaGFyc2V0PVVURi04IiAvPgogICAgPHNjcmlwdD5MX1BSRUZFUl9DQU5WQVM9ZmFsc2U7IExfTk9fVE9VQ0g9ZmFsc2U7IExfRElTQUJMRV8zRD1mYWxzZTs8L3NjcmlwdD4KICAgIDxzY3JpcHQgc3JjPSJodHRwczovL2Nkbi5qc2RlbGl2ci5uZXQvbnBtL2xlYWZsZXRAMS4zLjQvZGlzdC9sZWFmbGV0LmpzIj48L3NjcmlwdD4KICAgIDxzY3JpcHQgc3JjPSJodHRwczovL2FqYXguZ29vZ2xlYXBpcy5jb20vYWpheC9saWJzL2pxdWVyeS8xLjExLjEvanF1ZXJ5Lm1pbi5qcyI+PC9zY3JpcHQ+CiAgICA8c2NyaXB0IHNyYz0iaHR0cHM6Ly9tYXhjZG4uYm9vdHN0cmFwY2RuLmNvbS9ib290c3RyYXAvMy4yLjAvanMvYm9vdHN0cmFwLm1pbi5qcyI+PC9zY3JpcHQ+CiAgICA8c2NyaXB0IHNyYz0iaHR0cHM6Ly9jZG5qcy5jbG91ZGZsYXJlLmNvbS9hamF4L2xpYnMvTGVhZmxldC5hd2Vzb21lLW1hcmtlcnMvMi4wLjIvbGVhZmxldC5hd2Vzb21lLW1hcmtlcnMuanMiPjwvc2NyaXB0PgogICAgPGxpbmsgcmVsPSJzdHlsZXNoZWV0IiBocmVmPSJodHRwczovL2Nkbi5qc2RlbGl2ci5uZXQvbnBtL2xlYWZsZXRAMS4zLjQvZGlzdC9sZWFmbGV0LmNzcyIvPgogICAgPGxpbmsgcmVsPSJzdHlsZXNoZWV0IiBocmVmPSJodHRwczovL21heGNkbi5ib290c3RyYXBjZG4uY29tL2Jvb3RzdHJhcC8zLjIuMC9jc3MvYm9vdHN0cmFwLm1pbi5jc3MiLz4KICAgIDxsaW5rIHJlbD0ic3R5bGVzaGVldCIgaHJlZj0iaHR0cHM6Ly9tYXhjZG4uYm9vdHN0cmFwY2RuLmNvbS9ib290c3RyYXAvMy4yLjAvY3NzL2Jvb3RzdHJhcC10aGVtZS5taW4uY3NzIi8+CiAgICA8bGluayByZWw9InN0eWxlc2hlZXQiIGhyZWY9Imh0dHBzOi8vbWF4Y2RuLmJvb3RzdHJhcGNkbi5jb20vZm9udC1hd2Vzb21lLzQuNi4zL2Nzcy9mb250LWF3ZXNvbWUubWluLmNzcyIvPgogICAgPGxpbmsgcmVsPSJzdHlsZXNoZWV0IiBocmVmPSJodHRwczovL2NkbmpzLmNsb3VkZmxhcmUuY29tL2FqYXgvbGlicy9MZWFmbGV0LmF3ZXNvbWUtbWFya2Vycy8yLjAuMi9sZWFmbGV0LmF3ZXNvbWUtbWFya2Vycy5jc3MiLz4KICAgIDxsaW5rIHJlbD0ic3R5bGVzaGVldCIgaHJlZj0iaHR0cHM6Ly9yYXdjZG4uZ2l0aGFjay5jb20vcHl0aG9uLXZpc3VhbGl6YXRpb24vZm9saXVtL21hc3Rlci9mb2xpdW0vdGVtcGxhdGVzL2xlYWZsZXQuYXdlc29tZS5yb3RhdGUuY3NzIi8+CiAgICA8c3R5bGU+aHRtbCwgYm9keSB7d2lkdGg6IDEwMCU7aGVpZ2h0OiAxMDAlO21hcmdpbjogMDtwYWRkaW5nOiAwO308L3N0eWxlPgogICAgPHN0eWxlPiNtYXAge3Bvc2l0aW9uOmFic29sdXRlO3RvcDowO2JvdHRvbTowO3JpZ2h0OjA7bGVmdDowO308L3N0eWxlPgogICAgCiAgICA8bWV0YSBuYW1lPSJ2aWV3cG9ydCIgY29udGVudD0id2lkdGg9ZGV2aWNlLXdpZHRoLAogICAgICAgIGluaXRpYWwtc2NhbGU9MS4wLCBtYXhpbXVtLXNjYWxlPTEuMCwgdXNlci1zY2FsYWJsZT1ubyIgLz4KICAgIDxzdHlsZT4jbWFwXzNhYWU2MmUxMmM1NDRhOTI4NTFkNTJkY2VmMDQ2MTI5IHsKICAgICAgICBwb3NpdGlvbjogcmVsYXRpdmU7CiAgICAgICAgd2lkdGg6IDEwMC4wJTsKICAgICAgICBoZWlnaHQ6IDEwMC4wJTsKICAgICAgICBsZWZ0OiAwLjAlOwogICAgICAgIHRvcDogMC4wJTsKICAgICAgICB9CiAgICA8L3N0eWxlPgo8L2hlYWQ+Cjxib2R5PiAgICAKICAgIAogICAgPGRpdiBjbGFzcz0iZm9saXVtLW1hcCIgaWQ9Im1hcF8zYWFlNjJlMTJjNTQ0YTkyODUxZDUyZGNlZjA0NjEyOSIgPjwvZGl2Pgo8L2JvZHk+CjxzY3JpcHQ+ICAgIAogICAgCiAgICAKICAgICAgICB2YXIgYm91bmRzID0gbnVsbDsKICAgIAoKICAgIHZhciBtYXBfM2FhZTYyZTEyYzU0NGE5Mjg1MWQ1MmRjZWYwNDYxMjkgPSBMLm1hcCgKICAgICAgICAnbWFwXzNhYWU2MmUxMmM1NDRhOTI4NTFkNTJkY2VmMDQ2MTI5JywgewogICAgICAgIGNlbnRlcjogWzQyLjY0MTkxMDY2MywgLTk1LjIxMzg1NDE5MTddLAogICAgICAgIHpvb206IDEzLAogICAgICAgIG1heEJvdW5kczogYm91bmRzLAogICAgICAgIGxheWVyczogW10sCiAgICAgICAgd29ybGRDb3B5SnVtcDogZmFsc2UsCiAgICAgICAgY3JzOiBMLkNSUy5FUFNHMzg1NywKICAgICAgICB6b29tQ29udHJvbDogdHJ1ZSwKICAgICAgICB9KTsKCiAgICAKICAgIAogICAgdmFyIHRpbGVfbGF5ZXJfNTIyOTI2OThmZTYwNDNmZjg2YzA3NmI1YmIyZGQxYjUgPSBMLnRpbGVMYXllcigKICAgICAgICAnaHR0cHM6Ly97c30udGlsZS5vcGVuc3RyZWV0bWFwLm9yZy97en0ve3h9L3t5fS5wbmcnLAogICAgICAgIHsKICAgICAgICAiYXR0cmlidXRpb24iOiBudWxsLAogICAgICAgICJkZXRlY3RSZXRpbmEiOiBmYWxzZSwKICAgICAgICAibWF4TmF0aXZlWm9vbSI6IDE4LAogICAgICAgICJtYXhab29tIjogMTgsCiAgICAgICAgIm1pblpvb20iOiAwLAogICAgICAgICJub1dyYXAiOiBmYWxzZSwKICAgICAgICAib3BhY2l0eSI6IDEsCiAgICAgICAgInN1YmRvbWFpbnMiOiAiYWJjIiwKICAgICAgICAidG1zIjogZmFsc2UKfSkuYWRkVG8obWFwXzNhYWU2MmUxMmM1NDRhOTI4NTFkNTJkY2VmMDQ2MTI5KTsKICAgIAogICAgICAgIHZhciBtYXJrZXJfMTgzM2NhMjc3OTkwNDJkZTg1YTdjZmQ1YjY1NmZhNWEgPSBMLm1hcmtlcigKICAgICAgICAgICAgWzQyLjYzMDg5NTg4MDQsIC05NS4yNDAyNDIyMzg1XSwKICAgICAgICAgICAgewogICAgICAgICAgICAgICAgaWNvbjogbmV3IEwuSWNvbi5EZWZhdWx0KCkKICAgICAgICAgICAgICAgIH0KICAgICAgICAgICAgKS5hZGRUbyhtYXBfM2FhZTYyZTEyYzU0NGE5Mjg1MWQ1MmRjZWYwNDYxMjkpOwogICAgICAgIAogICAgCiAgICAgICAgdmFyIG1hcmtlcl85YjM4ZWUzYjE1ZTg0YzVhYTQ3MGY5YTkyNjhhNGNhNyA9IEwubWFya2VyKAogICAgICAgICAgICBbNDIuNjUwMzk4OTQ4MywgLTk1LjE4OTcwNTIwNjhdLAogICAgICAgICAgICB7CiAgICAgICAgICAgICAgICBpY29uOiBuZXcgTC5JY29uLkRlZmF1bHQoKQogICAgICAgICAgICAgICAgfQogICAgICAgICAgICApLmFkZFRvKG1hcF8zYWFlNjJlMTJjNTQ0YTkyODUxZDUyZGNlZjA0NjEyOSk7CiAgICAgICAgCiAgICAKICAgICAgICB2YXIgbWFya2VyX2NkMjUwYzRjYjQwMTRkN2FhNzQ0NDViMDljMWI5NGU3ID0gTC5tYXJrZXIoCiAgICAgICAgICAgIFs0Mi42NDUxMjU5NDQ3LCAtOTUuMjIxNzE3NTM4N10sCiAgICAgICAgICAgIHsKICAgICAgICAgICAgICAgIGljb246IG5ldyBMLkljb24uRGVmYXVsdCgpCiAgICAgICAgICAgICAgICB9CiAgICAgICAgICAgICkuYWRkVG8obWFwXzNhYWU2MmUxMmM1NDRhOTI4NTFkNTJkY2VmMDQ2MTI5KTsKICAgICAgICAKICAgIAogICAgICAgIHZhciBtYXJrZXJfYTY0YjBmMTMyMDFlNDI3ZGEyOTZjZGViYmJkZDU4MjIgPSBMLm1hcmtlcigKICAgICAgICAgICAgWzQyLjYzODQ0MTg3MjUsIC05NS4xOTk1NTI5MzY2XSwKICAgICAgICAgICAgewogICAgICAgICAgICAgICAgaWNvbjogbmV3IEwuSWNvbi5EZWZhdWx0KCkKICAgICAgICAgICAgICAgIH0KICAgICAgICAgICAgKS5hZGRUbyhtYXBfM2FhZTYyZTEyYzU0NGE5Mjg1MWQ1MmRjZWYwNDYxMjkpOwogICAgICAgIAo8L3NjcmlwdD4=\" style=\"position:absolute;width:100%;height:100%;left:0;top:0;border:none !important;\" allowfullscreen webkitallowfullscreen mozallowfullscreen></iframe></div></div>"
      ],
      "text/plain": [
       "<folium.folium.Map at 0x7f4b0e394208>"
      ]
     },
     "execution_count": 575,
     "metadata": {},
     "output_type": "execute_result"
    }
   ],
   "source": [
    "from sklearn.cluster import KMeans\n",
    "n_clusters = 4 # 4 clusters is the best\n",
    "km_geo = KMeans(n_clusters = n_clusters, random_state = 1)\n",
    "km_geo.fit(df[['lat','lon']])\n",
    "\n",
    "df['cluster'] = km_geo.labels_\n",
    "\n",
    "map_clusters = folium.Map(location=[latitude, longitude], zoom_start=13)\n",
    "cluster_coords = df.groupby('cluster')[['lat','lon']].mean().to_dict('records')\n",
    "\n",
    "for coord in cluster_coords:\n",
    "    cm = folium.Marker(\n",
    "        [coord['lat'],coord['lon']],\n",
    "    )\n",
    "    cm.add_to(map_clusters)\n",
    "    \n",
    "map_clusters"
   ]
  },
  {
   "cell_type": "markdown",
   "metadata": {},
   "source": [
    "### Clustering by house features\n",
    "\n",
    "So far we have only looked at 2D data (lat and lon). Let us include other house features to the clustering: "
   ]
  },
  {
   "cell_type": "code",
   "execution_count": 576,
   "metadata": {},
   "outputs": [
    {
     "data": {
      "text/html": [
       "<div>\n",
       "<style>\n",
       "    .dataframe thead tr:only-child th {\n",
       "        text-align: right;\n",
       "    }\n",
       "\n",
       "    .dataframe thead th {\n",
       "        text-align: left;\n",
       "    }\n",
       "\n",
       "    .dataframe tbody tr th {\n",
       "        vertical-align: top;\n",
       "    }\n",
       "</style>\n",
       "<table border=\"1\" class=\"dataframe\">\n",
       "  <thead>\n",
       "    <tr style=\"text-align: right;\">\n",
       "      <th></th>\n",
       "      <th>Bed</th>\n",
       "      <th>SqFt</th>\n",
       "      <th>Year</th>\n",
       "      <th>SellingPrice</th>\n",
       "      <th>total_baths</th>\n",
       "      <th>LotSz</th>\n",
       "      <th>lat</th>\n",
       "      <th>lon</th>\n",
       "    </tr>\n",
       "  </thead>\n",
       "  <tbody>\n",
       "    <tr>\n",
       "      <th>0</th>\n",
       "      <td>5</td>\n",
       "      <td>4010.0</td>\n",
       "      <td>1991</td>\n",
       "      <td>280000</td>\n",
       "      <td>4</td>\n",
       "      <td>16405.0</td>\n",
       "      <td>42.635949</td>\n",
       "      <td>-95.190106</td>\n",
       "    </tr>\n",
       "    <tr>\n",
       "      <th>1</th>\n",
       "      <td>4</td>\n",
       "      <td>3412.0</td>\n",
       "      <td>1907</td>\n",
       "      <td>156000</td>\n",
       "      <td>2</td>\n",
       "      <td>14000.0</td>\n",
       "      <td>42.639569</td>\n",
       "      <td>-95.200812</td>\n",
       "    </tr>\n",
       "    <tr>\n",
       "      <th>2</th>\n",
       "      <td>3</td>\n",
       "      <td>1562.0</td>\n",
       "      <td>1981</td>\n",
       "      <td>204000</td>\n",
       "      <td>3</td>\n",
       "      <td>14000.0</td>\n",
       "      <td>42.632047</td>\n",
       "      <td>-95.242888</td>\n",
       "    </tr>\n",
       "    <tr>\n",
       "      <th>3</th>\n",
       "      <td>3</td>\n",
       "      <td>1872.0</td>\n",
       "      <td>1977</td>\n",
       "      <td>150000</td>\n",
       "      <td>3</td>\n",
       "      <td>13500.0</td>\n",
       "      <td>42.644993</td>\n",
       "      <td>-95.184715</td>\n",
       "    </tr>\n",
       "    <tr>\n",
       "      <th>4</th>\n",
       "      <td>3</td>\n",
       "      <td>2642.0</td>\n",
       "      <td>1953</td>\n",
       "      <td>215000</td>\n",
       "      <td>2</td>\n",
       "      <td>21702.0</td>\n",
       "      <td>42.646798</td>\n",
       "      <td>-95.217970</td>\n",
       "    </tr>\n",
       "  </tbody>\n",
       "</table>\n",
       "</div>"
      ],
      "text/plain": [
       "  Bed    SqFt  Year  SellingPrice  total_baths    LotSz        lat        lon\n",
       "0  5   4010.0  1991        280000            4  16405.0  42.635949 -95.190106\n",
       "1  4   3412.0  1907        156000            2  14000.0  42.639569 -95.200812\n",
       "2  3   1562.0  1981        204000            3  14000.0  42.632047 -95.242888\n",
       "3  3   1872.0  1977        150000            3  13500.0  42.644993 -95.184715\n",
       "4  3   2642.0  1953        215000            2  21702.0  42.646798 -95.217970"
      ]
     },
     "execution_count": 576,
     "metadata": {},
     "output_type": "execute_result"
    }
   ],
   "source": [
    "cols = ['Bed','SqFt','Year','SellingPrice','total_baths','LotSz','lat','lon']\n",
    "df[cols].head()"
   ]
  },
  {
   "cell_type": "markdown",
   "metadata": {},
   "source": [
    "We need to find optimal number of clusters again. (BTW, why?) "
   ]
  },
  {
   "cell_type": "code",
   "execution_count": 577,
   "metadata": {},
   "outputs": [
    {
     "name": "stdout",
     "output_type": "stream",
     "text": [
      "2 3 4 5 6 7 8 9 10 11 12 13 14 15 16 17 18 19 "
     ]
    },
    {
     "data": {
      "image/png": "[encoded data removed]",
      "text/plain": [
       "<matplotlib.figure.Figure at 0x7f4b0e38cda0>"
      ]
     },
     "metadata": {},
     "output_type": "display_data"
    }
   ],
   "source": [
    "# How many clusters do we need? \n",
    "\n",
    "max_n_clusters = 20\n",
    "squared_distance = np.zeros(max_n_clusters)\n",
    "for k in range(2,max_n_clusters):\n",
    "    kmeans = KMeans(n_clusters = k, random_state = 0).fit(df[cols])\n",
    "    squared_distance[k] = kmeans.inertia_\n",
    "    print(k,sep=' ', end=' ', flush=True)\n",
    "    \n",
    "import matplotlib.pyplot as plt\n",
    "%matplotlib inline\n",
    "\n",
    "plt.figure()\n",
    "plt.plot(squared_distance)\n",
    "plt.xlim((2,max_n_clusters))\n",
    "plt.xlabel('number of clusters')\n",
    "plt.ylabel('avg dist to centers')\n",
    "plt.show()"
   ]
  },
  {
   "cell_type": "code",
   "execution_count": 578,
   "metadata": {},
   "outputs": [
    {
     "data": {
      "text/html": [
       "<div>\n",
       "<style>\n",
       "    .dataframe thead tr:only-child th {\n",
       "        text-align: right;\n",
       "    }\n",
       "\n",
       "    .dataframe thead th {\n",
       "        text-align: left;\n",
       "    }\n",
       "\n",
       "    .dataframe tbody tr th {\n",
       "        vertical-align: top;\n",
       "    }\n",
       "</style>\n",
       "<table border=\"1\" class=\"dataframe\">\n",
       "  <thead>\n",
       "    <tr style=\"text-align: right;\">\n",
       "      <th></th>\n",
       "      <th>SqFt</th>\n",
       "      <th>Year</th>\n",
       "      <th>SellingPrice</th>\n",
       "      <th>total_baths</th>\n",
       "      <th>LotSz</th>\n",
       "      <th>lat</th>\n",
       "      <th>lon</th>\n",
       "    </tr>\n",
       "    <tr>\n",
       "      <th>cluster</th>\n",
       "      <th></th>\n",
       "      <th></th>\n",
       "      <th></th>\n",
       "      <th></th>\n",
       "      <th></th>\n",
       "      <th></th>\n",
       "      <th></th>\n",
       "    </tr>\n",
       "  </thead>\n",
       "  <tbody>\n",
       "    <tr>\n",
       "      <th>0</th>\n",
       "      <td>1673.145833</td>\n",
       "      <td>1968.333333</td>\n",
       "      <td>154928.125000</td>\n",
       "      <td>2.562500</td>\n",
       "      <td>11697.354167</td>\n",
       "      <td>42.645570</td>\n",
       "      <td>-95.208571</td>\n",
       "    </tr>\n",
       "    <tr>\n",
       "      <th>5</th>\n",
       "      <td>1836.552632</td>\n",
       "      <td>1974.236842</td>\n",
       "      <td>168957.894737</td>\n",
       "      <td>2.684211</td>\n",
       "      <td>11301.631579</td>\n",
       "      <td>42.643729</td>\n",
       "      <td>-95.211062</td>\n",
       "    </tr>\n",
       "    <tr>\n",
       "      <th>3</th>\n",
       "      <td>1973.904762</td>\n",
       "      <td>1977.761905</td>\n",
       "      <td>184822.904762</td>\n",
       "      <td>3.047619</td>\n",
       "      <td>12464.428571</td>\n",
       "      <td>42.639276</td>\n",
       "      <td>-95.213579</td>\n",
       "    </tr>\n",
       "    <tr>\n",
       "      <th>2</th>\n",
       "      <td>1959.181818</td>\n",
       "      <td>1973.818182</td>\n",
       "      <td>199297.727273</td>\n",
       "      <td>2.909091</td>\n",
       "      <td>14764.090909</td>\n",
       "      <td>42.639461</td>\n",
       "      <td>-95.224773</td>\n",
       "    </tr>\n",
       "    <tr>\n",
       "      <th>6</th>\n",
       "      <td>1752.294118</td>\n",
       "      <td>1983.705882</td>\n",
       "      <td>222011.764706</td>\n",
       "      <td>2.705882</td>\n",
       "      <td>14080.176471</td>\n",
       "      <td>42.641082</td>\n",
       "      <td>-95.214030</td>\n",
       "    </tr>\n",
       "    <tr>\n",
       "      <th>1</th>\n",
       "      <td>2355.818182</td>\n",
       "      <td>1974.272727</td>\n",
       "      <td>255590.909091</td>\n",
       "      <td>3.090909</td>\n",
       "      <td>16301.818182</td>\n",
       "      <td>42.633877</td>\n",
       "      <td>-95.222969</td>\n",
       "    </tr>\n",
       "    <tr>\n",
       "      <th>4</th>\n",
       "      <td>2300.500000</td>\n",
       "      <td>1985.000000</td>\n",
       "      <td>286750.000000</td>\n",
       "      <td>2.750000</td>\n",
       "      <td>14200.250000</td>\n",
       "      <td>42.633645</td>\n",
       "      <td>-95.219361</td>\n",
       "    </tr>\n",
       "  </tbody>\n",
       "</table>\n",
       "</div>"
      ],
      "text/plain": [
       "                SqFt         Year   SellingPrice  total_baths         LotSz  \\\n",
       "cluster                                                                       \n",
       "0        1673.145833  1968.333333  154928.125000     2.562500  11697.354167   \n",
       "5        1836.552632  1974.236842  168957.894737     2.684211  11301.631579   \n",
       "3        1973.904762  1977.761905  184822.904762     3.047619  12464.428571   \n",
       "2        1959.181818  1973.818182  199297.727273     2.909091  14764.090909   \n",
       "6        1752.294118  1983.705882  222011.764706     2.705882  14080.176471   \n",
       "1        2355.818182  1974.272727  255590.909091     3.090909  16301.818182   \n",
       "4        2300.500000  1985.000000  286750.000000     2.750000  14200.250000   \n",
       "\n",
       "               lat        lon  \n",
       "cluster                        \n",
       "0        42.645570 -95.208571  \n",
       "5        42.643729 -95.211062  \n",
       "3        42.639276 -95.213579  \n",
       "2        42.639461 -95.224773  \n",
       "6        42.641082 -95.214030  \n",
       "1        42.633877 -95.222969  \n",
       "4        42.633645 -95.219361  "
      ]
     },
     "execution_count": 578,
     "metadata": {},
     "output_type": "execute_result"
    }
   ],
   "source": [
    "km = KMeans(n_clusters = 7, random_state = 0).fit(df[cols])\n",
    "km.fit(df[cols])\n",
    "\n",
    "df['cluster'] = km.labels_\n",
    "\n",
    "df.groupby('cluster')[cols].mean().sort_values(by='SellingPrice')"
   ]
  },
  {
   "cell_type": "code",
   "execution_count": 580,
   "metadata": {
    "collapsed": true
   },
   "outputs": [],
   "source": [
    "cluster_descs = [\n",
    "    \"cheapest eldest houses, smallest number of bathrooms\",\n",
    "    \"largest houses built in approx. 1974\",\n",
    "    \"average houses\",\n",
    "    \"good number of bathrooms, otherwise average, cheaper\",\n",
    "    \"most expensive houses and the newest\",\n",
    "    \"cheaper houses, smallest lot size\",\n",
    "    \"average newer houses\"\n",
    "]"
   ]
  },
  {
   "cell_type": "code",
   "execution_count": 581,
   "metadata": {},
   "outputs": [
    {
     "data": {
      "text/html": [
       "<div style=\"width:100%;\"><div style=\"position:relative;width:100%;height:0;padding-bottom:60%;\"><iframe src=\"data:text/html;charset=utf-8;base64,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\" style=\"position:absolute;width:100%;height:100%;left:0;top:0;border:none !important;\" allowfullscreen webkitallowfullscreen mozallowfullscreen></iframe></div></div>"
      ],
      "text/plain": [
       "<folium.folium.Map at 0x7f4b0e464048>"
      ]
     },
     "execution_count": 581,
     "metadata": {},
     "output_type": "execute_result"
    }
   ],
   "source": [
    "colors = [\n",
    "    'red',\n",
    "    'blue',\n",
    "    'green',\n",
    "    'darkred',\n",
    "    'lightred',\n",
    "    'orange',\n",
    "    'beige',\n",
    "    'gray',\n",
    "    'darkgreen',\n",
    "    'lightgreen',\n",
    "    'darkblue',\n",
    "    'lightblue',\n",
    "    'purple',\n",
    "    'darkpurple',\n",
    "    'pink',\n",
    "    'cadetblue',\n",
    "    'lightgray',\n",
    "    'black'\n",
    "]\n",
    "\n",
    "map_clusters = folium.Map(location=[latitude, longitude], zoom_start=13)\n",
    "\n",
    "for house in df.to_dict('records'):\n",
    "    label_text = \"cluster: %d, %s\"%(house['cluster'],cluster_descs[house['cluster']])\n",
    "    label = folium.Popup(label_text, parse_html=True)\n",
    "    \n",
    "    cm = folium.Marker(\n",
    "        [house['lat'],house['lon']],\n",
    "        popup = label,\n",
    "        icon=folium.Icon(color=colors[house['cluster']]),\n",
    "    )\n",
    "    cm.add_to(map_clusters)\n",
    "    \n",
    "    legend_html = '''\n",
    "     <div style=\"position: fixed; bottom: 50px; left: 50px; width: 100px; height: 90px; \n",
    "     border:2px solid grey; z-index:9999; font-size:14px;\">\n",
    "     &nbsp; Cluster 0 &nbsp; <i class=\"fa fa-map-marker fa-2x:\" style=\"color:red\"></i><br>\n",
    "     &nbsp; Cluster 1 &nbsp; <i class=\"fa fa-map-marker fa-2x:\" style=\"color:blue\"></i><br>\n",
    "     &nbsp; Cluster 2 &nbsp; <i class=\"fa fa-map-marker fa-2x:\" style=\"color:green\"></i><br>\n",
    "     &nbsp; Cluster 3 &nbsp; <i class=\"fa fa-map-marker fa-2x:\" style=\"color:darkred\"></i><br>\n",
    "\n",
    "    </div>\n",
    "     '''\n",
    "map_clusters.get_root().html.add_child(folium.Element(legend_html))\n",
    "    \n",
    "map_clusters"
   ]
  },
  {
   "cell_type": "markdown",
   "metadata": {},
   "source": [
    "### Scaling/normalize the data\n",
    "\n",
    "Note that the data in the fields varies by several orders of magnitude. The clustering algorithm will optimize lot size before number of bedrooms.\n",
    "\n",
    "To mitigate the problem, let us scale the data. There are a couple methods to do this.\n",
    "\n",
    "#### Method 1. MinMaxScaler:\n",
    "$X_{norm} = \\frac{X-min(X)}{max(X)-min(X)}$\n",
    "\n",
    "#### Method 2. StandardScaler:\n",
    "\n",
    "$Z_X = \\frac{X-\\mu_X}{\\sigma_X}$\n",
    "\n",
    "$var(X) = \\frac{(X-\\mu_X)^2}{N}$\n",
    "\n",
    "$\\sigma_X = \\sqrt{ var(X)}$\n",
    "\n",
    "Both methods are implemented in sklearn.preprocessing library:\n",
    "\n",
    "```python\n",
    "from sklearn.preprocessing import StandardScaler\n",
    "from sklearn.preprocessing import MinMaxScaler\n",
    "```"
   ]
  },
  {
   "cell_type": "code",
   "execution_count": 648,
   "metadata": {},
   "outputs": [
    {
     "data": {
      "text/html": [
       "<div>\n",
       "<style>\n",
       "    .dataframe thead tr:only-child th {\n",
       "        text-align: right;\n",
       "    }\n",
       "\n",
       "    .dataframe thead th {\n",
       "        text-align: left;\n",
       "    }\n",
       "\n",
       "    .dataframe tbody tr th {\n",
       "        vertical-align: top;\n",
       "    }\n",
       "</style>\n",
       "<table border=\"1\" class=\"dataframe\">\n",
       "  <thead>\n",
       "    <tr style=\"text-align: right;\">\n",
       "      <th></th>\n",
       "      <th>Bed</th>\n",
       "      <th>SqFt</th>\n",
       "      <th>Year</th>\n",
       "      <th>SellingPrice</th>\n",
       "      <th>total_baths</th>\n",
       "      <th>LotSz</th>\n",
       "      <th>lat</th>\n",
       "      <th>lon</th>\n",
       "    </tr>\n",
       "  </thead>\n",
       "  <tbody>\n",
       "    <tr>\n",
       "      <th>0</th>\n",
       "      <td>5</td>\n",
       "      <td>4010.0</td>\n",
       "      <td>1991</td>\n",
       "      <td>280000</td>\n",
       "      <td>4</td>\n",
       "      <td>16405.0</td>\n",
       "      <td>42.635949</td>\n",
       "      <td>-95.190106</td>\n",
       "    </tr>\n",
       "    <tr>\n",
       "      <th>1</th>\n",
       "      <td>4</td>\n",
       "      <td>3412.0</td>\n",
       "      <td>1907</td>\n",
       "      <td>156000</td>\n",
       "      <td>2</td>\n",
       "      <td>14000.0</td>\n",
       "      <td>42.639569</td>\n",
       "      <td>-95.200812</td>\n",
       "    </tr>\n",
       "    <tr>\n",
       "      <th>2</th>\n",
       "      <td>3</td>\n",
       "      <td>1562.0</td>\n",
       "      <td>1981</td>\n",
       "      <td>204000</td>\n",
       "      <td>3</td>\n",
       "      <td>14000.0</td>\n",
       "      <td>42.632047</td>\n",
       "      <td>-95.242888</td>\n",
       "    </tr>\n",
       "    <tr>\n",
       "      <th>3</th>\n",
       "      <td>3</td>\n",
       "      <td>1872.0</td>\n",
       "      <td>1977</td>\n",
       "      <td>150000</td>\n",
       "      <td>3</td>\n",
       "      <td>13500.0</td>\n",
       "      <td>42.644993</td>\n",
       "      <td>-95.184715</td>\n",
       "    </tr>\n",
       "    <tr>\n",
       "      <th>4</th>\n",
       "      <td>3</td>\n",
       "      <td>2642.0</td>\n",
       "      <td>1953</td>\n",
       "      <td>215000</td>\n",
       "      <td>2</td>\n",
       "      <td>21702.0</td>\n",
       "      <td>42.646798</td>\n",
       "      <td>-95.217970</td>\n",
       "    </tr>\n",
       "  </tbody>\n",
       "</table>\n",
       "</div>"
      ],
      "text/plain": [
       "  Bed    SqFt  Year  SellingPrice  total_baths    LotSz        lat        lon\n",
       "0  5   4010.0  1991        280000            4  16405.0  42.635949 -95.190106\n",
       "1  4   3412.0  1907        156000            2  14000.0  42.639569 -95.200812\n",
       "2  3   1562.0  1981        204000            3  14000.0  42.632047 -95.242888\n",
       "3  3   1872.0  1977        150000            3  13500.0  42.644993 -95.184715\n",
       "4  3   2642.0  1953        215000            2  21702.0  42.646798 -95.217970"
      ]
     },
     "execution_count": 648,
     "metadata": {},
     "output_type": "execute_result"
    }
   ],
   "source": [
    "df[cols].head()"
   ]
  },
  {
   "cell_type": "code",
   "execution_count": 649,
   "metadata": {},
   "outputs": [
    {
     "name": "stderr",
     "output_type": "stream",
     "text": [
      "/opt/anaconda3/envs/jh/lib/python3.5/site-packages/sklearn/preprocessing/data.py:617: DataConversionWarning: Data with input dtype int64, float64, object were all converted to float64 by StandardScaler.\n",
      "  return self.partial_fit(X, y)\n",
      "/opt/anaconda3/envs/jh/lib/python3.5/site-packages/sklearn/base.py:462: DataConversionWarning: Data with input dtype int64, float64, object were all converted to float64 by StandardScaler.\n",
      "  return self.fit(X, **fit_params).transform(X)\n"
     ]
    }
   ],
   "source": [
    "from sklearn.preprocessing import StandardScaler\n",
    "X = StandardScaler().fit_transform(df[cols])"
   ]
  },
  {
   "cell_type": "code",
   "execution_count": 652,
   "metadata": {},
   "outputs": [
    {
     "data": {
      "text/plain": [
       "array([ 1.84314812,  3.86385522,  0.66248668,  2.82164187,  1.91776503,\n",
       "        0.83425374, -0.77504613,  1.18353017])"
      ]
     },
     "execution_count": 652,
     "metadata": {},
     "output_type": "execute_result"
    }
   ],
   "source": [
    "X[0,:]"
   ]
  },
  {
   "cell_type": "markdown",
   "metadata": {},
   "source": [
    "### Data distribution before and after scaling"
   ]
  },
  {
   "cell_type": "code",
   "execution_count": 657,
   "metadata": {},
   "outputs": [
    {
     "data": {
      "text/plain": [
       "<matplotlib.axes._subplots.AxesSubplot at 0x7f4b0e5ee4e0>"
      ]
     },
     "execution_count": 657,
     "metadata": {},
     "output_type": "execute_result"
    },
    {
     "data": {
      "image/png": "[encoded data removed]",
      "text/plain": [
       "<matplotlib.figure.Figure at 0x7f4b0e15e240>"
      ]
     },
     "metadata": {},
     "output_type": "display_data"
    }
   ],
   "source": [
    "import seaborn as sns # seaborn is a visualization library\n",
    "plt.figure(figsize = (10,5)) # create a figure of 10x5 inches\n",
    "ax1 = plt.subplot(121) # create a subplot, there will be 1 row, 2 columns, and this is the 1st subplot, hence 121\n",
    "ax1.set_title('before scaling')\n",
    "sns.distplot(df.SqFt, ax = ax1, bins = 10) # draw df.SqFt distribution on subplot ax1\n",
    "#sns.distplot(df.Year, ax = ax1, bins = 10)\n",
    "ax2 = plt.subplot(122) # create a subplot, there will be 1 row, 2 columns, and this is the 2nd subplot, hence 122\n",
    "ax2.set_title('after scaling')\n",
    "ax2.set_xlabel('$\\sigma$')\n",
    "sns.distplot(X[:,1], ax = ax2, bins = 10)\n",
    "#sns.distplot(X[:,2], ax = ax2, bins = 10)"
   ]
  },
  {
   "cell_type": "markdown",
   "metadata": {},
   "source": [
    "### MinMaxScaler\n",
    "\n",
    "Try to scale your data with MinMaxScaler and visualize the distributions"
   ]
  },
  {
   "cell_type": "code",
   "execution_count": 660,
   "metadata": {},
   "outputs": [
    {
     "name": "stderr",
     "output_type": "stream",
     "text": [
      "/opt/anaconda3/envs/jh/lib/python3.5/site-packages/sklearn/preprocessing/data.py:323: DataConversionWarning: Data with input dtype int64, float64, object were all converted to float64 by MinMaxScaler.\n",
      "  return self.partial_fit(X, y)\n"
     ]
    },
    {
     "data": {
      "text/plain": [
       "<matplotlib.axes._subplots.AxesSubplot at 0x7f4b0d8fe518>"
      ]
     },
     "execution_count": 660,
     "metadata": {},
     "output_type": "execute_result"
    },
    {
     "data": {
      "image/png": "[encoded data removed]",
      "text/plain": [
       "<matplotlib.figure.Figure at 0x7f4b0db95d30>"
      ]
     },
     "metadata": {},
     "output_type": "display_data"
    }
   ],
   "source": [
    "from sklearn.preprocessing import MinMaxScaler\n",
    "X2 = MinMaxScaler().fit_transform(df[cols])\n",
    "\n",
    "import seaborn as sns # seaborn is a visualization library\n",
    "plt.figure(figsize = (10,5)) # create a figure of 10x5 inches\n",
    "ax1 = plt.subplot(121) # create a subplot, there will be 1 row, 2 columns, and this is the 1st subplot, hence 121\n",
    "ax1.set_title('before scaling')\n",
    "sns.distplot(df.SqFt, ax = ax1, bins = 10) # draw df.SqFt distribution on subplot ax1\n",
    "#sns.distplot(df.Year, ax = ax1, bins = 10)\n",
    "ax2 = plt.subplot(122) # create a subplot, there will be 1 row, 2 columns, and this is the 2nd subplot, hence 122\n",
    "ax2.set_title('after scaling')\n",
    "ax2.set_xlabel('sq. ft normalized')\n",
    "sns.distplot(X2[:,1], ax = ax2, bins = 10)\n",
    "#sns.distplot(X[:,2], ax = ax2, bins = 10)"
   ]
  },
  {
   "cell_type": "markdown",
   "metadata": {},
   "source": [
    "### Back to clustering"
   ]
  },
  {
   "cell_type": "code",
   "execution_count": 661,
   "metadata": {},
   "outputs": [
    {
     "name": "stdout",
     "output_type": "stream",
     "text": [
      "2 3 4 5 6 7 8 9 10 11 12 13 14 15 16 17 18 19 20 21 22 23 24 25 26 27 28 29 30 31 32 33 34 35 36 37 38 39 40 41 42 43 44 45 46 47 48 49 "
     ]
    },
    {
     "data": {
      "image/png": "[encoded data removed]",
      "text/plain": [
       "<matplotlib.figure.Figure at 0x7f4b0dd39eb8>"
      ]
     },
     "metadata": {},
     "output_type": "display_data"
    }
   ],
   "source": [
    "# How many clusters do we need? \n",
    "\n",
    "max_n_clusters = 50\n",
    "squared_distance = np.zeros(max_n_clusters)\n",
    "for k in range(2,max_n_clusters):\n",
    "    kmeans = KMeans(n_clusters = k, random_state = 0).fit(X)\n",
    "    squared_distance[k] = kmeans.inertia_\n",
    "    print(k,sep=' ', end=' ', flush=True)\n",
    "    \n",
    "import matplotlib.pyplot as plt\n",
    "%matplotlib inline\n",
    "\n",
    "plt.figure()\n",
    "plt.plot(squared_distance)\n",
    "plt.xlim((2,max_n_clusters))\n",
    "plt.xlabel('number of clusters')\n",
    "plt.ylabel('avg dist to centers')\n",
    "plt.show()"
   ]
  },
  {
   "cell_type": "code",
   "execution_count": 662,
   "metadata": {},
   "outputs": [
    {
     "data": {
      "text/html": [
       "<div>\n",
       "<style>\n",
       "    .dataframe thead tr:only-child th {\n",
       "        text-align: right;\n",
       "    }\n",
       "\n",
       "    .dataframe thead th {\n",
       "        text-align: left;\n",
       "    }\n",
       "\n",
       "    .dataframe tbody tr th {\n",
       "        vertical-align: top;\n",
       "    }\n",
       "</style>\n",
       "<table border=\"1\" class=\"dataframe\">\n",
       "  <thead>\n",
       "    <tr style=\"text-align: right;\">\n",
       "      <th></th>\n",
       "      <th>SqFt</th>\n",
       "      <th>Year</th>\n",
       "      <th>SellingPrice</th>\n",
       "      <th>total_baths</th>\n",
       "      <th>LotSz</th>\n",
       "      <th>lat</th>\n",
       "      <th>lon</th>\n",
       "    </tr>\n",
       "    <tr>\n",
       "      <th>cluster</th>\n",
       "      <th></th>\n",
       "      <th></th>\n",
       "      <th></th>\n",
       "      <th></th>\n",
       "      <th></th>\n",
       "      <th></th>\n",
       "      <th></th>\n",
       "    </tr>\n",
       "  </thead>\n",
       "  <tbody>\n",
       "    <tr>\n",
       "      <th>0</th>\n",
       "      <td>1682.756098</td>\n",
       "      <td>1966.365854</td>\n",
       "      <td>154076.829268</td>\n",
       "      <td>2.512195</td>\n",
       "      <td>11974.560976</td>\n",
       "      <td>42.644916</td>\n",
       "      <td>-95.210050</td>\n",
       "    </tr>\n",
       "    <tr>\n",
       "      <th>4</th>\n",
       "      <td>1785.703704</td>\n",
       "      <td>1971.888889</td>\n",
       "      <td>163918.518519</td>\n",
       "      <td>2.629630</td>\n",
       "      <td>11152.518519</td>\n",
       "      <td>42.645709</td>\n",
       "      <td>-95.206137</td>\n",
       "    </tr>\n",
       "    <tr>\n",
       "      <th>9</th>\n",
       "      <td>1829.052632</td>\n",
       "      <td>1980.000000</td>\n",
       "      <td>173263.157895</td>\n",
       "      <td>2.842105</td>\n",
       "      <td>11203.157895</td>\n",
       "      <td>42.642334</td>\n",
       "      <td>-95.215622</td>\n",
       "    </tr>\n",
       "    <tr>\n",
       "      <th>2</th>\n",
       "      <td>1979.650000</td>\n",
       "      <td>1977.600000</td>\n",
       "      <td>185164.050000</td>\n",
       "      <td>3.050000</td>\n",
       "      <td>12387.650000</td>\n",
       "      <td>42.639690</td>\n",
       "      <td>-95.212116</td>\n",
       "    </tr>\n",
       "    <tr>\n",
       "      <th>7</th>\n",
       "      <td>1959.181818</td>\n",
       "      <td>1973.818182</td>\n",
       "      <td>199297.727273</td>\n",
       "      <td>2.909091</td>\n",
       "      <td>14764.090909</td>\n",
       "      <td>42.639461</td>\n",
       "      <td>-95.224773</td>\n",
       "    </tr>\n",
       "    <tr>\n",
       "      <th>1</th>\n",
       "      <td>1798.700000</td>\n",
       "      <td>1989.400000</td>\n",
       "      <td>216500.000000</td>\n",
       "      <td>2.800000</td>\n",
       "      <td>14071.700000</td>\n",
       "      <td>42.642138</td>\n",
       "      <td>-95.214546</td>\n",
       "    </tr>\n",
       "    <tr>\n",
       "      <th>8</th>\n",
       "      <td>1686.000000</td>\n",
       "      <td>1975.571429</td>\n",
       "      <td>229885.714286</td>\n",
       "      <td>2.571429</td>\n",
       "      <td>14092.285714</td>\n",
       "      <td>42.639574</td>\n",
       "      <td>-95.213294</td>\n",
       "    </tr>\n",
       "    <tr>\n",
       "      <th>6</th>\n",
       "      <td>2114.666667</td>\n",
       "      <td>1968.833333</td>\n",
       "      <td>249500.000000</td>\n",
       "      <td>3.000000</td>\n",
       "      <td>14588.666667</td>\n",
       "      <td>42.633652</td>\n",
       "      <td>-95.218823</td>\n",
       "    </tr>\n",
       "    <tr>\n",
       "      <th>3</th>\n",
       "      <td>2645.200000</td>\n",
       "      <td>1980.800000</td>\n",
       "      <td>262900.000000</td>\n",
       "      <td>3.200000</td>\n",
       "      <td>18357.600000</td>\n",
       "      <td>42.634147</td>\n",
       "      <td>-95.227944</td>\n",
       "    </tr>\n",
       "    <tr>\n",
       "      <th>5</th>\n",
       "      <td>2300.500000</td>\n",
       "      <td>1985.000000</td>\n",
       "      <td>286750.000000</td>\n",
       "      <td>2.750000</td>\n",
       "      <td>14200.250000</td>\n",
       "      <td>42.633645</td>\n",
       "      <td>-95.219361</td>\n",
       "    </tr>\n",
       "  </tbody>\n",
       "</table>\n",
       "</div>"
      ],
      "text/plain": [
       "                SqFt         Year   SellingPrice  total_baths         LotSz  \\\n",
       "cluster                                                                       \n",
       "0        1682.756098  1966.365854  154076.829268     2.512195  11974.560976   \n",
       "4        1785.703704  1971.888889  163918.518519     2.629630  11152.518519   \n",
       "9        1829.052632  1980.000000  173263.157895     2.842105  11203.157895   \n",
       "2        1979.650000  1977.600000  185164.050000     3.050000  12387.650000   \n",
       "7        1959.181818  1973.818182  199297.727273     2.909091  14764.090909   \n",
       "1        1798.700000  1989.400000  216500.000000     2.800000  14071.700000   \n",
       "8        1686.000000  1975.571429  229885.714286     2.571429  14092.285714   \n",
       "6        2114.666667  1968.833333  249500.000000     3.000000  14588.666667   \n",
       "3        2645.200000  1980.800000  262900.000000     3.200000  18357.600000   \n",
       "5        2300.500000  1985.000000  286750.000000     2.750000  14200.250000   \n",
       "\n",
       "               lat        lon  \n",
       "cluster                        \n",
       "0        42.644916 -95.210050  \n",
       "4        42.645709 -95.206137  \n",
       "9        42.642334 -95.215622  \n",
       "2        42.639690 -95.212116  \n",
       "7        42.639461 -95.224773  \n",
       "1        42.642138 -95.214546  \n",
       "8        42.639574 -95.213294  \n",
       "6        42.633652 -95.218823  \n",
       "3        42.634147 -95.227944  \n",
       "5        42.633645 -95.219361  "
      ]
     },
     "execution_count": 662,
     "metadata": {},
     "output_type": "execute_result"
    }
   ],
   "source": [
    "# It looks like the data calls for at least ten clusters:\n",
    "\n",
    "km = KMeans(n_clusters = 10, random_state = 0).fit(X)\n",
    "km.fit(df[cols])\n",
    "\n",
    "df['cluster'] = km.labels_\n",
    "\n",
    "df.groupby('cluster')[cols].mean().sort_values(by='SellingPrice')"
   ]
  },
  {
   "cell_type": "markdown",
   "metadata": {},
   "source": [
    "Interestingly enough, the most expensive houses are neither the largest, the newest, etc. Let's see what is special about them:"
   ]
  },
  {
   "cell_type": "code",
   "execution_count": 663,
   "metadata": {},
   "outputs": [
    {
     "data": {
      "text/html": [
       "<div>\n",
       "<style>\n",
       "    .dataframe thead tr:only-child th {\n",
       "        text-align: right;\n",
       "    }\n",
       "\n",
       "    .dataframe thead th {\n",
       "        text-align: left;\n",
       "    }\n",
       "\n",
       "    .dataframe tbody tr th {\n",
       "        vertical-align: top;\n",
       "    }\n",
       "</style>\n",
       "<table border=\"1\" class=\"dataframe\">\n",
       "  <thead>\n",
       "    <tr style=\"text-align: right;\">\n",
       "      <th></th>\n",
       "      <th>Unnamed: 0</th>\n",
       "      <th>Address</th>\n",
       "      <th>Listing</th>\n",
       "      <th>City</th>\n",
       "      <th>Bed</th>\n",
       "      <th>Bth</th>\n",
       "      <th>Map</th>\n",
       "      <th>LotSz</th>\n",
       "      <th>SqFt</th>\n",
       "      <th>Year</th>\n",
       "      <th>...</th>\n",
       "      <th>Unnamed: 21</th>\n",
       "      <th>total_baths</th>\n",
       "      <th>full_baths</th>\n",
       "      <th>three_q_baths</th>\n",
       "      <th>half_baths</th>\n",
       "      <th>q_baths</th>\n",
       "      <th>coords</th>\n",
       "      <th>lat</th>\n",
       "      <th>lon</th>\n",
       "      <th>cluster</th>\n",
       "    </tr>\n",
       "  </thead>\n",
       "  <tbody>\n",
       "    <tr>\n",
       "      <th>0</th>\n",
       "      <td>0</td>\n",
       "      <td>815 E Lakeshore Dr</td>\n",
       "      <td>44012132</td>\n",
       "      <td>Storm Lake</td>\n",
       "      <td>5</td>\n",
       "      <td>4 (4 0 0 0)</td>\n",
       "      <td>,</td>\n",
       "      <td>16405.0</td>\n",
       "      <td>4010.0</td>\n",
       "      <td>1991</td>\n",
       "      <td>...</td>\n",
       "      <td>39478</td>\n",
       "      <td>4</td>\n",
       "      <td>4</td>\n",
       "      <td>0</td>\n",
       "      <td>0</td>\n",
       "      <td>0</td>\n",
       "      <td>(42.6359485019541, -95.1901057042011)</td>\n",
       "      <td>42.635949</td>\n",
       "      <td>-95.190106</td>\n",
       "      <td>5</td>\n",
       "    </tr>\n",
       "    <tr>\n",
       "      <th>16</th>\n",
       "      <td>20</td>\n",
       "      <td>701 Prairie Ln</td>\n",
       "      <td>44014513</td>\n",
       "      <td>Storm Lake</td>\n",
       "      <td>5</td>\n",
       "      <td>3 (3 0 0 0)</td>\n",
       "      <td>,</td>\n",
       "      <td>15744.0</td>\n",
       "      <td>1878.0</td>\n",
       "      <td>2008</td>\n",
       "      <td>...</td>\n",
       "      <td>40043</td>\n",
       "      <td>3</td>\n",
       "      <td>3</td>\n",
       "      <td>0</td>\n",
       "      <td>0</td>\n",
       "      <td>0</td>\n",
       "      <td>(42.631797, -95.243925)</td>\n",
       "      <td>42.631797</td>\n",
       "      <td>-95.243925</td>\n",
       "      <td>5</td>\n",
       "    </tr>\n",
       "    <tr>\n",
       "      <th>94</th>\n",
       "      <td>120</td>\n",
       "      <td>502 Lakeshore Dr</td>\n",
       "      <td>44017178</td>\n",
       "      <td>Storm Lake</td>\n",
       "      <td>3</td>\n",
       "      <td>2 (2 0 0 0)</td>\n",
       "      <td>,</td>\n",
       "      <td>7152.0</td>\n",
       "      <td>2170.0</td>\n",
       "      <td>1979</td>\n",
       "      <td>...</td>\n",
       "      <td>42171</td>\n",
       "      <td>2</td>\n",
       "      <td>2</td>\n",
       "      <td>0</td>\n",
       "      <td>0</td>\n",
       "      <td>0</td>\n",
       "      <td>(42.6386624328948, -95.2071362206583)</td>\n",
       "      <td>42.638662</td>\n",
       "      <td>-95.207136</td>\n",
       "      <td>5</td>\n",
       "    </tr>\n",
       "    <tr>\n",
       "      <th>112</th>\n",
       "      <td>139</td>\n",
       "      <td>1009 Emerald Dr</td>\n",
       "      <td>44017711</td>\n",
       "      <td>Storm Lake</td>\n",
       "      <td>3</td>\n",
       "      <td>2 (2 0 0 0)</td>\n",
       "      <td>,</td>\n",
       "      <td>17500.0</td>\n",
       "      <td>1144.0</td>\n",
       "      <td>1962</td>\n",
       "      <td>...</td>\n",
       "      <td>42224</td>\n",
       "      <td>2</td>\n",
       "      <td>2</td>\n",
       "      <td>0</td>\n",
       "      <td>0</td>\n",
       "      <td>0</td>\n",
       "      <td>(42.6281717613031, -95.2362776022763)</td>\n",
       "      <td>42.628172</td>\n",
       "      <td>-95.236278</td>\n",
       "      <td>5</td>\n",
       "    </tr>\n",
       "  </tbody>\n",
       "</table>\n",
       "<p>4 rows × 32 columns</p>\n",
       "</div>"
      ],
      "text/plain": [
       "     Unnamed: 0              Address      Listing        City Bed  \\\n",
       "0             0  815 E Lakeshore Dr    44012132    Storm Lake  5    \n",
       "16           20      701 Prairie Ln    44014513    Storm Lake  5    \n",
       "94          120    502 Lakeshore Dr    44017178    Storm Lake  3    \n",
       "112         139     1009 Emerald Dr    44017711    Storm Lake  3    \n",
       "\n",
       "               Bth Map    LotSz    SqFt  Year   ...    Unnamed: 21  \\\n",
       "0    4 (4 0 0 0)     ,  16405.0  4010.0  1991   ...          39478   \n",
       "16   3 (3 0 0 0)     ,  15744.0  1878.0  2008   ...          40043   \n",
       "94   2 (2 0 0 0)     ,   7152.0  2170.0  1979   ...          42171   \n",
       "112  2 (2 0 0 0)     ,  17500.0  1144.0  1962   ...          42224   \n",
       "\n",
       "    total_baths full_baths  three_q_baths  half_baths  q_baths  \\\n",
       "0             4          4              0           0        0   \n",
       "16            3          3              0           0        0   \n",
       "94            2          2              0           0        0   \n",
       "112           2          2              0           0        0   \n",
       "\n",
       "                                    coords        lat        lon  cluster  \n",
       "0    (42.6359485019541, -95.1901057042011)  42.635949 -95.190106        5  \n",
       "16                 (42.631797, -95.243925)  42.631797 -95.243925        5  \n",
       "94   (42.6386624328948, -95.2071362206583)  42.638662 -95.207136        5  \n",
       "112  (42.6281717613031, -95.2362776022763)  42.628172 -95.236278        5  \n",
       "\n",
       "[4 rows x 32 columns]"
      ]
     },
     "execution_count": 663,
     "metadata": {},
     "output_type": "execute_result"
    }
   ],
   "source": [
    "df[df.cluster == 5]"
   ]
  },
  {
   "cell_type": "code",
   "execution_count": 664,
   "metadata": {},
   "outputs": [
    {
     "data": {
      "text/html": [
       "<div style=\"width:100%;\"><div style=\"position:relative;width:100%;height:0;padding-bottom:60%;\"><iframe src=\"data:text/html;charset=utf-8;base64,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\" style=\"position:absolute;width:100%;height:100%;left:0;top:0;border:none !important;\" allowfullscreen webkitallowfullscreen mozallowfullscreen></iframe></div></div>"
      ],
      "text/plain": [
       "<folium.folium.Map at 0x7f4b0d9ab208>"
      ]
     },
     "execution_count": 664,
     "metadata": {},
     "output_type": "execute_result"
    }
   ],
   "source": [
    "def show_cluster(cluster_no):\n",
    "    map_clusters = folium.Map(location=[latitude, longitude], zoom_start=13)\n",
    "    house_coords = df[df.cluster == cluster_no][['lat','lon','SellingPrice']].to_dict('records')\n",
    "\n",
    "    for coord in house_coords:\n",
    "        label_text = \"Price: %d\"%(coord['SellingPrice'])\n",
    "        label = folium.Popup(label_text, parse_html=True)\n",
    "\n",
    "        cm = folium.Marker(\n",
    "            [coord['lat'],coord['lon']],\n",
    "            popup = label,\n",
    "        )\n",
    "        cm.add_to(map_clusters)\n",
    "\n",
    "    return map_clusters\n",
    "    \n",
    "show_cluster(5)"
   ]
  },
  {
   "cell_type": "code",
   "execution_count": 300,
   "metadata": {},
   "outputs": [
    {
     "data": {
      "text/html": [
       "<div style=\"width:100%;\"><div style=\"position:relative;width:100%;height:0;padding-bottom:60%;\"><iframe src=\"data:text/html;charset=utf-8;base64,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\" style=\"position:absolute;width:100%;height:100%;left:0;top:0;border:none !important;\" allowfullscreen webkitallowfullscreen mozallowfullscreen></iframe></div></div>"
      ],
      "text/plain": [
       "<folium.folium.Map at 0x7f4b186372e8>"
      ]
     },
     "execution_count": 300,
     "metadata": {},
     "output_type": "execute_result"
    }
   ],
   "source": [
    "# The cheapest houses:\n",
    "show_cluster(0)"
   ]
  },
  {
   "cell_type": "markdown",
   "metadata": {},
   "source": [
    "## Employees at Storm Lake Tyson Plant\n",
    "\n",
    "![Tyson, Storm Lake](https://dehayf5mhw1h7.cloudfront.net/wp-content/uploads/sites/304/2017/06/06114527/tyson-storm-lake.jpg)\n",
    "\n",
    "### Data preparation"
   ]
  },
  {
   "cell_type": "code",
   "execution_count": 665,
   "metadata": {},
   "outputs": [
    {
     "name": "stdout",
     "output_type": "stream",
     "text": [
      "../data/tyson_active.csv\r\n"
     ]
    }
   ],
   "source": [
    "%ls ../data/tyson_active.csv"
   ]
  },
  {
   "cell_type": "code",
   "execution_count": 666,
   "metadata": {},
   "outputs": [
    {
     "data": {
      "text/html": [
       "<div>\n",
       "<style>\n",
       "    .dataframe thead tr:only-child th {\n",
       "        text-align: right;\n",
       "    }\n",
       "\n",
       "    .dataframe thead th {\n",
       "        text-align: left;\n",
       "    }\n",
       "\n",
       "    .dataframe tbody tr th {\n",
       "        vertical-align: top;\n",
       "    }\n",
       "</style>\n",
       "<table border=\"1\" class=\"dataframe\">\n",
       "  <thead>\n",
       "    <tr style=\"text-align: right;\">\n",
       "      <th></th>\n",
       "      <th>Dept</th>\n",
       "      <th>Position</th>\n",
       "      <th>Age</th>\n",
       "      <th>Job title</th>\n",
       "      <th>Org Text</th>\n",
       "      <th>Org.unit</th>\n",
       "      <th>Supv</th>\n",
       "      <th>Gen.</th>\n",
       "      <th>Hire Date</th>\n",
       "      <th>LOS</th>\n",
       "      <th>Ethnic Text</th>\n",
       "      <th>ESgrp</th>\n",
       "    </tr>\n",
       "  </thead>\n",
       "  <tbody>\n",
       "    <tr>\n",
       "      <th>0</th>\n",
       "      <td>531B</td>\n",
       "      <td>11072901</td>\n",
       "      <td>43</td>\n",
       "      <td>Frzr Warehouse</td>\n",
       "      <td>Storm Lake Loadout #1 (B)</td>\n",
       "      <td>10253799</td>\n",
       "      <td>Ryan M Bailey</td>\n",
       "      <td>M</td>\n",
       "      <td>7/24/2007</td>\n",
       "      <td>10</td>\n",
       "      <td>Hispanic or Latino</td>\n",
       "      <td>10</td>\n",
       "    </tr>\n",
       "    <tr>\n",
       "      <th>1</th>\n",
       "      <td>726</td>\n",
       "      <td>11243198</td>\n",
       "      <td>39</td>\n",
       "      <td>No Jobber</td>\n",
       "      <td>Storm Lake Bone Cannon (A)</td>\n",
       "      <td>10253856</td>\n",
       "      <td>Abel Saengchanpheng</td>\n",
       "      <td>F</td>\n",
       "      <td>3/9/2006</td>\n",
       "      <td>11</td>\n",
       "      <td>Hispanic or Latino</td>\n",
       "      <td>10</td>\n",
       "    </tr>\n",
       "    <tr>\n",
       "      <th>2</th>\n",
       "      <td>923</td>\n",
       "      <td>11246372</td>\n",
       "      <td>61</td>\n",
       "      <td>Whiz Belly</td>\n",
       "      <td>Storm Lake Commodity Bellies (B)</td>\n",
       "      <td>10253795</td>\n",
       "      <td>Josh M Zimmer</td>\n",
       "      <td>F</td>\n",
       "      <td>9/21/2015</td>\n",
       "      <td>2</td>\n",
       "      <td>Asian (NHL)</td>\n",
       "      <td>10</td>\n",
       "    </tr>\n",
       "    <tr>\n",
       "      <th>3</th>\n",
       "      <td>407</td>\n",
       "      <td>11308525</td>\n",
       "      <td>37</td>\n",
       "      <td>Maintenance Generalist Cl</td>\n",
       "      <td>Storm Lake Maint Cold Side N2 (B)</td>\n",
       "      <td>11201789</td>\n",
       "      <td>Robert Yearicks</td>\n",
       "      <td>M</td>\n",
       "      <td>5/1/2017</td>\n",
       "      <td>0</td>\n",
       "      <td>White (NHL)</td>\n",
       "      <td>10</td>\n",
       "    </tr>\n",
       "    <tr>\n",
       "      <th>4</th>\n",
       "      <td>965</td>\n",
       "      <td>11025873</td>\n",
       "      <td>35</td>\n",
       "      <td>No Jobber</td>\n",
       "      <td>Storm Lake Loin Boning (B)</td>\n",
       "      <td>10251640</td>\n",
       "      <td>Amphone Keopaseuth</td>\n",
       "      <td>M</td>\n",
       "      <td>6/26/2017</td>\n",
       "      <td>0</td>\n",
       "      <td>Black or African American (NHL)</td>\n",
       "      <td>10</td>\n",
       "    </tr>\n",
       "  </tbody>\n",
       "</table>\n",
       "</div>"
      ],
      "text/plain": [
       "   Dept  Position  Age                   Job title  \\\n",
       "0  531B  11072901    43             Frzr Warehouse   \n",
       "1   726  11243198    39                  No Jobber   \n",
       "2   923  11246372    61                 Whiz Belly   \n",
       "3   407  11308525    37  Maintenance Generalist Cl   \n",
       "4   965  11025873    35                  No Jobber   \n",
       "\n",
       "                            Org Text  Org.unit                 Supv Gen.  \\\n",
       "0          Storm Lake Loadout #1 (B)  10253799        Ryan M Bailey    M   \n",
       "1         Storm Lake Bone Cannon (A)  10253856  Abel Saengchanpheng    F   \n",
       "2   Storm Lake Commodity Bellies (B)  10253795        Josh M Zimmer    F   \n",
       "3  Storm Lake Maint Cold Side N2 (B)  11201789      Robert Yearicks    M   \n",
       "4         Storm Lake Loin Boning (B)  10251640   Amphone Keopaseuth    M   \n",
       "\n",
       "   Hire Date  LOS                      Ethnic Text  ESgrp  \n",
       "0  7/24/2007   10               Hispanic or Latino     10  \n",
       "1   3/9/2006   11               Hispanic or Latino     10  \n",
       "2  9/21/2015    2                      Asian (NHL)     10  \n",
       "3   5/1/2017    0                      White (NHL)     10  \n",
       "4  6/26/2017    0  Black or African American (NHL)     10  "
      ]
     },
     "execution_count": 666,
     "metadata": {},
     "output_type": "execute_result"
    }
   ],
   "source": [
    "df_tyson = pd.read_csv('../data/tyson_active.csv')\n",
    "df_tyson.head()"
   ]
  },
  {
   "cell_type": "code",
   "execution_count": 309,
   "metadata": {},
   "outputs": [
    {
     "data": {
      "text/plain": [
       "(2007, 12)"
      ]
     },
     "execution_count": 309,
     "metadata": {},
     "output_type": "execute_result"
    }
   ],
   "source": [
    "df_tyson.shape"
   ]
  },
  {
   "cell_type": "code",
   "execution_count": 667,
   "metadata": {},
   "outputs": [
    {
     "data": {
      "text/html": [
       "<div>\n",
       "<style>\n",
       "    .dataframe thead tr:only-child th {\n",
       "        text-align: right;\n",
       "    }\n",
       "\n",
       "    .dataframe thead th {\n",
       "        text-align: left;\n",
       "    }\n",
       "\n",
       "    .dataframe tbody tr th {\n",
       "        vertical-align: top;\n",
       "    }\n",
       "</style>\n",
       "<table border=\"1\" class=\"dataframe\">\n",
       "  <thead>\n",
       "    <tr style=\"text-align: right;\">\n",
       "      <th></th>\n",
       "      <th>Age</th>\n",
       "      <th>Gen.</th>\n",
       "      <th>LOS</th>\n",
       "      <th>Ethnic Text</th>\n",
       "    </tr>\n",
       "  </thead>\n",
       "  <tbody>\n",
       "    <tr>\n",
       "      <th>0</th>\n",
       "      <td>43</td>\n",
       "      <td>M</td>\n",
       "      <td>10</td>\n",
       "      <td>Hispanic or Latino</td>\n",
       "    </tr>\n",
       "    <tr>\n",
       "      <th>1</th>\n",
       "      <td>39</td>\n",
       "      <td>F</td>\n",
       "      <td>11</td>\n",
       "      <td>Hispanic or Latino</td>\n",
       "    </tr>\n",
       "    <tr>\n",
       "      <th>2</th>\n",
       "      <td>61</td>\n",
       "      <td>F</td>\n",
       "      <td>2</td>\n",
       "      <td>Asian (NHL)</td>\n",
       "    </tr>\n",
       "    <tr>\n",
       "      <th>3</th>\n",
       "      <td>37</td>\n",
       "      <td>M</td>\n",
       "      <td>0</td>\n",
       "      <td>White (NHL)</td>\n",
       "    </tr>\n",
       "    <tr>\n",
       "      <th>4</th>\n",
       "      <td>35</td>\n",
       "      <td>M</td>\n",
       "      <td>0</td>\n",
       "      <td>Black or African American (NHL)</td>\n",
       "    </tr>\n",
       "  </tbody>\n",
       "</table>\n",
       "</div>"
      ],
      "text/plain": [
       "   Age  Gen.  LOS                      Ethnic Text\n",
       "0    43    M   10               Hispanic or Latino\n",
       "1    39    F   11               Hispanic or Latino\n",
       "2    61    F    2                      Asian (NHL)\n",
       "3    37    M    0                      White (NHL)\n",
       "4    35    M    0  Black or African American (NHL)"
      ]
     },
     "execution_count": 667,
     "metadata": {},
     "output_type": "execute_result"
    }
   ],
   "source": [
    "cols = ['Age ','Gen.','LOS','Ethnic Text']\n",
    "df_tyson[cols].head()"
   ]
  },
  {
   "cell_type": "code",
   "execution_count": 316,
   "metadata": {},
   "outputs": [
    {
     "data": {
      "text/html": [
       "<div>\n",
       "<style>\n",
       "    .dataframe thead tr:only-child th {\n",
       "        text-align: right;\n",
       "    }\n",
       "\n",
       "    .dataframe thead th {\n",
       "        text-align: left;\n",
       "    }\n",
       "\n",
       "    .dataframe tbody tr th {\n",
       "        vertical-align: top;\n",
       "    }\n",
       "</style>\n",
       "<table border=\"1\" class=\"dataframe\">\n",
       "  <thead>\n",
       "    <tr style=\"text-align: right;\">\n",
       "      <th></th>\n",
       "      <th>Asian (NHL)</th>\n",
       "      <th>Black or African American (NHL)</th>\n",
       "      <th>Hispanic or Latino</th>\n",
       "      <th>Native American/Alaskan (NHL)</th>\n",
       "      <th>Native Hawaiian or other Pacific Islander (NHL)</th>\n",
       "      <th>Two or more races (NHL)</th>\n",
       "      <th>White (NHL)</th>\n",
       "    </tr>\n",
       "  </thead>\n",
       "  <tbody>\n",
       "    <tr>\n",
       "      <th>0</th>\n",
       "      <td>0</td>\n",
       "      <td>0</td>\n",
       "      <td>1</td>\n",
       "      <td>0</td>\n",
       "      <td>0</td>\n",
       "      <td>0</td>\n",
       "      <td>0</td>\n",
       "    </tr>\n",
       "    <tr>\n",
       "      <th>1</th>\n",
       "      <td>0</td>\n",
       "      <td>0</td>\n",
       "      <td>1</td>\n",
       "      <td>0</td>\n",
       "      <td>0</td>\n",
       "      <td>0</td>\n",
       "      <td>0</td>\n",
       "    </tr>\n",
       "    <tr>\n",
       "      <th>2</th>\n",
       "      <td>1</td>\n",
       "      <td>0</td>\n",
       "      <td>0</td>\n",
       "      <td>0</td>\n",
       "      <td>0</td>\n",
       "      <td>0</td>\n",
       "      <td>0</td>\n",
       "    </tr>\n",
       "    <tr>\n",
       "      <th>3</th>\n",
       "      <td>0</td>\n",
       "      <td>0</td>\n",
       "      <td>0</td>\n",
       "      <td>0</td>\n",
       "      <td>0</td>\n",
       "      <td>0</td>\n",
       "      <td>1</td>\n",
       "    </tr>\n",
       "    <tr>\n",
       "      <th>4</th>\n",
       "      <td>0</td>\n",
       "      <td>1</td>\n",
       "      <td>0</td>\n",
       "      <td>0</td>\n",
       "      <td>0</td>\n",
       "      <td>0</td>\n",
       "      <td>0</td>\n",
       "    </tr>\n",
       "  </tbody>\n",
       "</table>\n",
       "</div>"
      ],
      "text/plain": [
       "   Asian (NHL)  Black or African American (NHL)  Hispanic or Latino  \\\n",
       "0            0                                0                   1   \n",
       "1            0                                0                   1   \n",
       "2            1                                0                   0   \n",
       "3            0                                0                   0   \n",
       "4            0                                1                   0   \n",
       "\n",
       "   Native American/Alaskan (NHL)  \\\n",
       "0                              0   \n",
       "1                              0   \n",
       "2                              0   \n",
       "3                              0   \n",
       "4                              0   \n",
       "\n",
       "   Native Hawaiian or other Pacific Islander (NHL)  Two or more races (NHL)  \\\n",
       "0                                                0                        0   \n",
       "1                                                0                        0   \n",
       "2                                                0                        0   \n",
       "3                                                0                        0   \n",
       "4                                                0                        0   \n",
       "\n",
       "   White (NHL)  \n",
       "0            0  \n",
       "1            0  \n",
       "2            0  \n",
       "3            1  \n",
       "4            0  "
      ]
     },
     "execution_count": 316,
     "metadata": {},
     "output_type": "execute_result"
    }
   ],
   "source": [
    "df_ethnic = pd.get_dummies(df_tyson['Ethnic Text'])\n",
    "df_ethnic.head()"
   ]
  },
  {
   "cell_type": "code",
   "execution_count": 668,
   "metadata": {},
   "outputs": [
    {
     "data": {
      "text/html": [
       "<div>\n",
       "<style>\n",
       "    .dataframe thead tr:only-child th {\n",
       "        text-align: right;\n",
       "    }\n",
       "\n",
       "    .dataframe thead th {\n",
       "        text-align: left;\n",
       "    }\n",
       "\n",
       "    .dataframe tbody tr th {\n",
       "        vertical-align: top;\n",
       "    }\n",
       "</style>\n",
       "<table border=\"1\" class=\"dataframe\">\n",
       "  <thead>\n",
       "    <tr style=\"text-align: right;\">\n",
       "      <th></th>\n",
       "      <th>Age</th>\n",
       "      <th>Gen.</th>\n",
       "      <th>LOS</th>\n",
       "      <th>Asian (NHL)</th>\n",
       "      <th>Black or African American (NHL)</th>\n",
       "      <th>Hispanic or Latino</th>\n",
       "      <th>Native American/Alaskan (NHL)</th>\n",
       "      <th>Native Hawaiian or other Pacific Islander (NHL)</th>\n",
       "      <th>Two or more races (NHL)</th>\n",
       "      <th>White (NHL)</th>\n",
       "    </tr>\n",
       "  </thead>\n",
       "  <tbody>\n",
       "    <tr>\n",
       "      <th>0</th>\n",
       "      <td>43</td>\n",
       "      <td>M</td>\n",
       "      <td>10</td>\n",
       "      <td>0</td>\n",
       "      <td>0</td>\n",
       "      <td>1</td>\n",
       "      <td>0</td>\n",
       "      <td>0</td>\n",
       "      <td>0</td>\n",
       "      <td>0</td>\n",
       "    </tr>\n",
       "    <tr>\n",
       "      <th>1</th>\n",
       "      <td>39</td>\n",
       "      <td>F</td>\n",
       "      <td>11</td>\n",
       "      <td>0</td>\n",
       "      <td>0</td>\n",
       "      <td>1</td>\n",
       "      <td>0</td>\n",
       "      <td>0</td>\n",
       "      <td>0</td>\n",
       "      <td>0</td>\n",
       "    </tr>\n",
       "    <tr>\n",
       "      <th>2</th>\n",
       "      <td>61</td>\n",
       "      <td>F</td>\n",
       "      <td>2</td>\n",
       "      <td>1</td>\n",
       "      <td>0</td>\n",
       "      <td>0</td>\n",
       "      <td>0</td>\n",
       "      <td>0</td>\n",
       "      <td>0</td>\n",
       "      <td>0</td>\n",
       "    </tr>\n",
       "    <tr>\n",
       "      <th>3</th>\n",
       "      <td>37</td>\n",
       "      <td>M</td>\n",
       "      <td>0</td>\n",
       "      <td>0</td>\n",
       "      <td>0</td>\n",
       "      <td>0</td>\n",
       "      <td>0</td>\n",
       "      <td>0</td>\n",
       "      <td>0</td>\n",
       "      <td>1</td>\n",
       "    </tr>\n",
       "    <tr>\n",
       "      <th>4</th>\n",
       "      <td>35</td>\n",
       "      <td>M</td>\n",
       "      <td>0</td>\n",
       "      <td>0</td>\n",
       "      <td>1</td>\n",
       "      <td>0</td>\n",
       "      <td>0</td>\n",
       "      <td>0</td>\n",
       "      <td>0</td>\n",
       "      <td>0</td>\n",
       "    </tr>\n",
       "  </tbody>\n",
       "</table>\n",
       "</div>"
      ],
      "text/plain": [
       "   Age  Gen.  LOS  Asian (NHL)  Black or African American (NHL)  \\\n",
       "0    43    M   10            0                                0   \n",
       "1    39    F   11            0                                0   \n",
       "2    61    F    2            1                                0   \n",
       "3    37    M    0            0                                0   \n",
       "4    35    M    0            0                                1   \n",
       "\n",
       "   Hispanic or Latino  Native American/Alaskan (NHL)  \\\n",
       "0                   1                              0   \n",
       "1                   1                              0   \n",
       "2                   0                              0   \n",
       "3                   0                              0   \n",
       "4                   0                              0   \n",
       "\n",
       "   Native Hawaiian or other Pacific Islander (NHL)  Two or more races (NHL)  \\\n",
       "0                                                0                        0   \n",
       "1                                                0                        0   \n",
       "2                                                0                        0   \n",
       "3                                                0                        0   \n",
       "4                                                0                        0   \n",
       "\n",
       "   White (NHL)  \n",
       "0            0  \n",
       "1            0  \n",
       "2            0  \n",
       "3            1  \n",
       "4            0  "
      ]
     },
     "execution_count": 668,
     "metadata": {},
     "output_type": "execute_result"
    }
   ],
   "source": [
    "df_tyson2 = pd.concat([df_tyson[cols],df_ethnic],axis  = 1)\n",
    "df_tyson2.drop('Ethnic Text', axis = 1, inplace = True)\n",
    "df_tyson2.head()"
   ]
  },
  {
   "cell_type": "code",
   "execution_count": 324,
   "metadata": {},
   "outputs": [
    {
     "data": {
      "text/html": [
       "<div>\n",
       "<style>\n",
       "    .dataframe thead tr:only-child th {\n",
       "        text-align: right;\n",
       "    }\n",
       "\n",
       "    .dataframe thead th {\n",
       "        text-align: left;\n",
       "    }\n",
       "\n",
       "    .dataframe tbody tr th {\n",
       "        vertical-align: top;\n",
       "    }\n",
       "</style>\n",
       "<table border=\"1\" class=\"dataframe\">\n",
       "  <thead>\n",
       "    <tr style=\"text-align: right;\">\n",
       "      <th></th>\n",
       "      <th>Age</th>\n",
       "      <th>Gen.</th>\n",
       "      <th>LOS</th>\n",
       "      <th>Asian (NHL)</th>\n",
       "      <th>Black or African American (NHL)</th>\n",
       "      <th>Hispanic or Latino</th>\n",
       "      <th>Native American/Alaskan (NHL)</th>\n",
       "      <th>Native Hawaiian or other Pacific Islander (NHL)</th>\n",
       "      <th>Two or more races (NHL)</th>\n",
       "      <th>White (NHL)</th>\n",
       "      <th>Male</th>\n",
       "    </tr>\n",
       "  </thead>\n",
       "  <tbody>\n",
       "    <tr>\n",
       "      <th>0</th>\n",
       "      <td>43</td>\n",
       "      <td>M</td>\n",
       "      <td>10</td>\n",
       "      <td>0</td>\n",
       "      <td>0</td>\n",
       "      <td>1</td>\n",
       "      <td>0</td>\n",
       "      <td>0</td>\n",
       "      <td>0</td>\n",
       "      <td>0</td>\n",
       "      <td>True</td>\n",
       "    </tr>\n",
       "    <tr>\n",
       "      <th>1</th>\n",
       "      <td>39</td>\n",
       "      <td>F</td>\n",
       "      <td>11</td>\n",
       "      <td>0</td>\n",
       "      <td>0</td>\n",
       "      <td>1</td>\n",
       "      <td>0</td>\n",
       "      <td>0</td>\n",
       "      <td>0</td>\n",
       "      <td>0</td>\n",
       "      <td>False</td>\n",
       "    </tr>\n",
       "    <tr>\n",
       "      <th>2</th>\n",
       "      <td>61</td>\n",
       "      <td>F</td>\n",
       "      <td>2</td>\n",
       "      <td>1</td>\n",
       "      <td>0</td>\n",
       "      <td>0</td>\n",
       "      <td>0</td>\n",
       "      <td>0</td>\n",
       "      <td>0</td>\n",
       "      <td>0</td>\n",
       "      <td>False</td>\n",
       "    </tr>\n",
       "    <tr>\n",
       "      <th>3</th>\n",
       "      <td>37</td>\n",
       "      <td>M</td>\n",
       "      <td>0</td>\n",
       "      <td>0</td>\n",
       "      <td>0</td>\n",
       "      <td>0</td>\n",
       "      <td>0</td>\n",
       "      <td>0</td>\n",
       "      <td>0</td>\n",
       "      <td>1</td>\n",
       "      <td>True</td>\n",
       "    </tr>\n",
       "    <tr>\n",
       "      <th>4</th>\n",
       "      <td>35</td>\n",
       "      <td>M</td>\n",
       "      <td>0</td>\n",
       "      <td>0</td>\n",
       "      <td>1</td>\n",
       "      <td>0</td>\n",
       "      <td>0</td>\n",
       "      <td>0</td>\n",
       "      <td>0</td>\n",
       "      <td>0</td>\n",
       "      <td>True</td>\n",
       "    </tr>\n",
       "  </tbody>\n",
       "</table>\n",
       "</div>"
      ],
      "text/plain": [
       "   Age  Gen.  LOS  Asian (NHL)  Black or African American (NHL)  \\\n",
       "0    43    M   10            0                                0   \n",
       "1    39    F   11            0                                0   \n",
       "2    61    F    2            1                                0   \n",
       "3    37    M    0            0                                0   \n",
       "4    35    M    0            0                                1   \n",
       "\n",
       "   Hispanic or Latino  Native American/Alaskan (NHL)  \\\n",
       "0                   1                              0   \n",
       "1                   1                              0   \n",
       "2                   0                              0   \n",
       "3                   0                              0   \n",
       "4                   0                              0   \n",
       "\n",
       "   Native Hawaiian or other Pacific Islander (NHL)  Two or more races (NHL)  \\\n",
       "0                                                0                        0   \n",
       "1                                                0                        0   \n",
       "2                                                0                        0   \n",
       "3                                                0                        0   \n",
       "4                                                0                        0   \n",
       "\n",
       "   White (NHL)   Male  \n",
       "0            0   True  \n",
       "1            0  False  \n",
       "2            0  False  \n",
       "3            1   True  \n",
       "4            0   True  "
      ]
     },
     "execution_count": 324,
     "metadata": {},
     "output_type": "execute_result"
    }
   ],
   "source": [
    "# now, replace Gen. with boolean field Male\n",
    "df_tyson2['Male'] = (df_tyson2['Gen.'] == 'M')\n",
    "df_tyson2.head()"
   ]
  },
  {
   "cell_type": "markdown",
   "metadata": {},
   "source": [
    "### Clustering\n"
   ]
  },
  {
   "cell_type": "code",
   "execution_count": null,
   "metadata": {
    "collapsed": true
   },
   "outputs": [],
   "source": [
    "# DIY\n",
    "# 1. Decide which columns you exclude from clustering (use drop(['col'], axis = 1))\n",
    "# 2. Decide how many clusters you will need\n",
    "# 3. Run clustering and group by cluster no.\n",
    "# 4. Let's see what the clusters are"
   ]
  },
  {
   "cell_type": "code",
   "execution_count": 701,
   "metadata": {},
   "outputs": [
    {
     "data": {
      "text/html": [
       "<div>\n",
       "<style>\n",
       "    .dataframe thead tr:only-child th {\n",
       "        text-align: right;\n",
       "    }\n",
       "\n",
       "    .dataframe thead th {\n",
       "        text-align: left;\n",
       "    }\n",
       "\n",
       "    .dataframe tbody tr th {\n",
       "        vertical-align: top;\n",
       "    }\n",
       "</style>\n",
       "<table border=\"1\" class=\"dataframe\">\n",
       "  <thead>\n",
       "    <tr style=\"text-align: right;\">\n",
       "      <th></th>\n",
       "      <th>Age</th>\n",
       "      <th>LOS</th>\n",
       "      <th>Asian (NHL)</th>\n",
       "      <th>Black or African American (NHL)</th>\n",
       "      <th>Hispanic or Latino</th>\n",
       "      <th>Native American/Alaskan (NHL)</th>\n",
       "      <th>Native Hawaiian or other Pacific Islander (NHL)</th>\n",
       "      <th>Two or more races (NHL)</th>\n",
       "      <th>White (NHL)</th>\n",
       "    </tr>\n",
       "  </thead>\n",
       "  <tbody>\n",
       "    <tr>\n",
       "      <th>0</th>\n",
       "      <td>43</td>\n",
       "      <td>10</td>\n",
       "      <td>0</td>\n",
       "      <td>0</td>\n",
       "      <td>1</td>\n",
       "      <td>0</td>\n",
       "      <td>0</td>\n",
       "      <td>0</td>\n",
       "      <td>0</td>\n",
       "    </tr>\n",
       "    <tr>\n",
       "      <th>1</th>\n",
       "      <td>39</td>\n",
       "      <td>11</td>\n",
       "      <td>0</td>\n",
       "      <td>0</td>\n",
       "      <td>1</td>\n",
       "      <td>0</td>\n",
       "      <td>0</td>\n",
       "      <td>0</td>\n",
       "      <td>0</td>\n",
       "    </tr>\n",
       "    <tr>\n",
       "      <th>2</th>\n",
       "      <td>61</td>\n",
       "      <td>2</td>\n",
       "      <td>1</td>\n",
       "      <td>0</td>\n",
       "      <td>0</td>\n",
       "      <td>0</td>\n",
       "      <td>0</td>\n",
       "      <td>0</td>\n",
       "      <td>0</td>\n",
       "    </tr>\n",
       "    <tr>\n",
       "      <th>3</th>\n",
       "      <td>37</td>\n",
       "      <td>0</td>\n",
       "      <td>0</td>\n",
       "      <td>0</td>\n",
       "      <td>0</td>\n",
       "      <td>0</td>\n",
       "      <td>0</td>\n",
       "      <td>0</td>\n",
       "      <td>1</td>\n",
       "    </tr>\n",
       "    <tr>\n",
       "      <th>4</th>\n",
       "      <td>35</td>\n",
       "      <td>0</td>\n",
       "      <td>0</td>\n",
       "      <td>1</td>\n",
       "      <td>0</td>\n",
       "      <td>0</td>\n",
       "      <td>0</td>\n",
       "      <td>0</td>\n",
       "      <td>0</td>\n",
       "    </tr>\n",
       "  </tbody>\n",
       "</table>\n",
       "</div>"
      ],
      "text/plain": [
       "   Age   LOS  Asian (NHL)  Black or African American (NHL)  \\\n",
       "0    43   10            0                                0   \n",
       "1    39   11            0                                0   \n",
       "2    61    2            1                                0   \n",
       "3    37    0            0                                0   \n",
       "4    35    0            0                                1   \n",
       "\n",
       "   Hispanic or Latino  Native American/Alaskan (NHL)  \\\n",
       "0                   1                              0   \n",
       "1                   1                              0   \n",
       "2                   0                              0   \n",
       "3                   0                              0   \n",
       "4                   0                              0   \n",
       "\n",
       "   Native Hawaiian or other Pacific Islander (NHL)  Two or more races (NHL)  \\\n",
       "0                                                0                        0   \n",
       "1                                                0                        0   \n",
       "2                                                0                        0   \n",
       "3                                                0                        0   \n",
       "4                                                0                        0   \n",
       "\n",
       "   White (NHL)  \n",
       "0            0  \n",
       "1            0  \n",
       "2            0  \n",
       "3            1  \n",
       "4            0  "
      ]
     },
     "execution_count": 701,
     "metadata": {},
     "output_type": "execute_result"
    }
   ],
   "source": [
    "df_tyson2.drop('Gen.', axis = 1, inplace = True)\n",
    "df_tyson2.head()"
   ]
  },
  {
   "cell_type": "code",
   "execution_count": 702,
   "metadata": {},
   "outputs": [
    {
     "name": "stdout",
     "output_type": "stream",
     "text": [
      "2 "
     ]
    },
    {
     "name": "stderr",
     "output_type": "stream",
     "text": [
      "/opt/anaconda3/envs/jh/lib/python3.5/site-packages/sklearn/preprocessing/data.py:617: DataConversionWarning: Data with input dtype uint8, int64 were all converted to float64 by StandardScaler.\n",
      "  return self.partial_fit(X, y)\n",
      "/opt/anaconda3/envs/jh/lib/python3.5/site-packages/sklearn/base.py:462: DataConversionWarning: Data with input dtype uint8, int64 were all converted to float64 by StandardScaler.\n",
      "  return self.fit(X, **fit_params).transform(X)\n"
     ]
    },
    {
     "name": "stdout",
     "output_type": "stream",
     "text": [
      "3 4 5 6 7 8 9 10 11 12 13 14 15 16 17 18 19 "
     ]
    },
    {
     "data": {
      "image/png": "[encoded data removed]",
      "text/plain": [
       "<matplotlib.figure.Figure at 0x7f4b0cd7f780>"
      ]
     },
     "metadata": {},
     "output_type": "display_data"
    }
   ],
   "source": [
    "X = StandardScaler().fit_transform(df_tyson2)\n",
    "\n",
    "max_n_clusters = 20\n",
    "squared_distance = np.zeros(max_n_clusters)\n",
    "for k in range(2,max_n_clusters):\n",
    "    kmeans = KMeans(n_clusters = k, random_state = 0).fit(X)\n",
    "    squared_distance[k] = kmeans.inertia_\n",
    "    print(k,sep=' ', end=' ', flush=True)\n",
    "    \n",
    "import matplotlib.pyplot as plt\n",
    "%matplotlib inline\n",
    "\n",
    "plt.figure()\n",
    "plt.plot(squared_distance)\n",
    "plt.xlim((2,max_n_clusters))\n",
    "plt.xlabel('number of clusters')\n",
    "plt.ylabel('avg dist to centers')\n",
    "plt.show()"
   ]
  },
  {
   "cell_type": "code",
   "execution_count": 705,
   "metadata": {},
   "outputs": [
    {
     "data": {
      "text/html": [
       "<div>\n",
       "<style>\n",
       "    .dataframe thead tr:only-child th {\n",
       "        text-align: right;\n",
       "    }\n",
       "\n",
       "    .dataframe thead th {\n",
       "        text-align: left;\n",
       "    }\n",
       "\n",
       "    .dataframe tbody tr th {\n",
       "        vertical-align: top;\n",
       "    }\n",
       "</style>\n",
       "<table border=\"1\" class=\"dataframe\">\n",
       "  <thead>\n",
       "    <tr style=\"text-align: right;\">\n",
       "      <th></th>\n",
       "      <th>Age</th>\n",
       "      <th>LOS</th>\n",
       "      <th>Asian (NHL)</th>\n",
       "      <th>Black or African American (NHL)</th>\n",
       "      <th>Hispanic or Latino</th>\n",
       "      <th>Native American/Alaskan (NHL)</th>\n",
       "      <th>Native Hawaiian or other Pacific Islander (NHL)</th>\n",
       "      <th>Two or more races (NHL)</th>\n",
       "      <th>White (NHL)</th>\n",
       "      <th>cluster</th>\n",
       "    </tr>\n",
       "  </thead>\n",
       "  <tbody>\n",
       "    <tr>\n",
       "      <th>0</th>\n",
       "      <td>43</td>\n",
       "      <td>10</td>\n",
       "      <td>0</td>\n",
       "      <td>0</td>\n",
       "      <td>1</td>\n",
       "      <td>0</td>\n",
       "      <td>0</td>\n",
       "      <td>0</td>\n",
       "      <td>0</td>\n",
       "      <td>0</td>\n",
       "    </tr>\n",
       "    <tr>\n",
       "      <th>1</th>\n",
       "      <td>39</td>\n",
       "      <td>11</td>\n",
       "      <td>0</td>\n",
       "      <td>0</td>\n",
       "      <td>1</td>\n",
       "      <td>0</td>\n",
       "      <td>0</td>\n",
       "      <td>0</td>\n",
       "      <td>0</td>\n",
       "      <td>0</td>\n",
       "    </tr>\n",
       "    <tr>\n",
       "      <th>2</th>\n",
       "      <td>61</td>\n",
       "      <td>2</td>\n",
       "      <td>1</td>\n",
       "      <td>0</td>\n",
       "      <td>0</td>\n",
       "      <td>0</td>\n",
       "      <td>0</td>\n",
       "      <td>0</td>\n",
       "      <td>0</td>\n",
       "      <td>2</td>\n",
       "    </tr>\n",
       "    <tr>\n",
       "      <th>3</th>\n",
       "      <td>37</td>\n",
       "      <td>0</td>\n",
       "      <td>0</td>\n",
       "      <td>0</td>\n",
       "      <td>0</td>\n",
       "      <td>0</td>\n",
       "      <td>0</td>\n",
       "      <td>0</td>\n",
       "      <td>1</td>\n",
       "      <td>3</td>\n",
       "    </tr>\n",
       "    <tr>\n",
       "      <th>4</th>\n",
       "      <td>35</td>\n",
       "      <td>0</td>\n",
       "      <td>0</td>\n",
       "      <td>1</td>\n",
       "      <td>0</td>\n",
       "      <td>0</td>\n",
       "      <td>0</td>\n",
       "      <td>0</td>\n",
       "      <td>0</td>\n",
       "      <td>1</td>\n",
       "    </tr>\n",
       "  </tbody>\n",
       "</table>\n",
       "</div>"
      ],
      "text/plain": [
       "   Age   LOS  Asian (NHL)  Black or African American (NHL)  \\\n",
       "0    43   10            0                                0   \n",
       "1    39   11            0                                0   \n",
       "2    61    2            1                                0   \n",
       "3    37    0            0                                0   \n",
       "4    35    0            0                                1   \n",
       "\n",
       "   Hispanic or Latino  Native American/Alaskan (NHL)  \\\n",
       "0                   1                              0   \n",
       "1                   1                              0   \n",
       "2                   0                              0   \n",
       "3                   0                              0   \n",
       "4                   0                              0   \n",
       "\n",
       "   Native Hawaiian or other Pacific Islander (NHL)  Two or more races (NHL)  \\\n",
       "0                                                0                        0   \n",
       "1                                                0                        0   \n",
       "2                                                0                        0   \n",
       "3                                                0                        0   \n",
       "4                                                0                        0   \n",
       "\n",
       "   White (NHL)  cluster  \n",
       "0            0        0  \n",
       "1            0        0  \n",
       "2            0        2  \n",
       "3            1        3  \n",
       "4            0        1  "
      ]
     },
     "execution_count": 705,
     "metadata": {},
     "output_type": "execute_result"
    }
   ],
   "source": [
    "kmeans = KMeans(n_clusters = 7, random_state = 0).fit(X)\n",
    "df_tyson2['cluster'] = kmeans.labels_\n",
    "df_tyson2.head()"
   ]
  },
  {
   "cell_type": "code",
   "execution_count": 708,
   "metadata": {},
   "outputs": [
    {
     "data": {
      "text/html": [
       "<div>\n",
       "<style>\n",
       "    .dataframe thead tr:only-child th {\n",
       "        text-align: right;\n",
       "    }\n",
       "\n",
       "    .dataframe thead th {\n",
       "        text-align: left;\n",
       "    }\n",
       "\n",
       "    .dataframe tbody tr th {\n",
       "        vertical-align: top;\n",
       "    }\n",
       "</style>\n",
       "<table border=\"1\" class=\"dataframe\">\n",
       "  <thead>\n",
       "    <tr style=\"text-align: right;\">\n",
       "      <th></th>\n",
       "      <th>Age</th>\n",
       "      <th>LOS</th>\n",
       "      <th>Asian (NHL)</th>\n",
       "      <th>Black or African American (NHL)</th>\n",
       "      <th>Hispanic or Latino</th>\n",
       "      <th>Native American/Alaskan (NHL)</th>\n",
       "      <th>Native Hawaiian or other Pacific Islander (NHL)</th>\n",
       "      <th>Two or more races (NHL)</th>\n",
       "      <th>White (NHL)</th>\n",
       "    </tr>\n",
       "    <tr>\n",
       "      <th>cluster</th>\n",
       "      <th></th>\n",
       "      <th></th>\n",
       "      <th></th>\n",
       "      <th></th>\n",
       "      <th></th>\n",
       "      <th></th>\n",
       "      <th></th>\n",
       "      <th></th>\n",
       "      <th></th>\n",
       "    </tr>\n",
       "  </thead>\n",
       "  <tbody>\n",
       "    <tr>\n",
       "      <th>6</th>\n",
       "      <td>62.000000</td>\n",
       "      <td>0.000000</td>\n",
       "      <td>0</td>\n",
       "      <td>0</td>\n",
       "      <td>0</td>\n",
       "      <td>1</td>\n",
       "      <td>0</td>\n",
       "      <td>0</td>\n",
       "      <td>0</td>\n",
       "    </tr>\n",
       "    <tr>\n",
       "      <th>5</th>\n",
       "      <td>24.666667</td>\n",
       "      <td>1.333333</td>\n",
       "      <td>0</td>\n",
       "      <td>0</td>\n",
       "      <td>0</td>\n",
       "      <td>0</td>\n",
       "      <td>0</td>\n",
       "      <td>1</td>\n",
       "      <td>0</td>\n",
       "    </tr>\n",
       "    <tr>\n",
       "      <th>4</th>\n",
       "      <td>31.059259</td>\n",
       "      <td>1.362963</td>\n",
       "      <td>0</td>\n",
       "      <td>0</td>\n",
       "      <td>0</td>\n",
       "      <td>0</td>\n",
       "      <td>1</td>\n",
       "      <td>0</td>\n",
       "      <td>0</td>\n",
       "    </tr>\n",
       "    <tr>\n",
       "      <th>1</th>\n",
       "      <td>35.320225</td>\n",
       "      <td>2.573034</td>\n",
       "      <td>0</td>\n",
       "      <td>1</td>\n",
       "      <td>0</td>\n",
       "      <td>0</td>\n",
       "      <td>0</td>\n",
       "      <td>0</td>\n",
       "      <td>0</td>\n",
       "    </tr>\n",
       "    <tr>\n",
       "      <th>0</th>\n",
       "      <td>40.329694</td>\n",
       "      <td>7.075328</td>\n",
       "      <td>0</td>\n",
       "      <td>0</td>\n",
       "      <td>1</td>\n",
       "      <td>0</td>\n",
       "      <td>0</td>\n",
       "      <td>0</td>\n",
       "      <td>0</td>\n",
       "    </tr>\n",
       "    <tr>\n",
       "      <th>2</th>\n",
       "      <td>39.233564</td>\n",
       "      <td>7.437716</td>\n",
       "      <td>1</td>\n",
       "      <td>0</td>\n",
       "      <td>0</td>\n",
       "      <td>0</td>\n",
       "      <td>0</td>\n",
       "      <td>0</td>\n",
       "      <td>0</td>\n",
       "    </tr>\n",
       "    <tr>\n",
       "      <th>3</th>\n",
       "      <td>44.403061</td>\n",
       "      <td>13.678571</td>\n",
       "      <td>0</td>\n",
       "      <td>0</td>\n",
       "      <td>0</td>\n",
       "      <td>0</td>\n",
       "      <td>0</td>\n",
       "      <td>0</td>\n",
       "      <td>1</td>\n",
       "    </tr>\n",
       "  </tbody>\n",
       "</table>\n",
       "</div>"
      ],
      "text/plain": [
       "              Age         LOS  Asian (NHL)  Black or African American (NHL)  \\\n",
       "cluster                                                                       \n",
       "6        62.000000   0.000000            0                                0   \n",
       "5        24.666667   1.333333            0                                0   \n",
       "4        31.059259   1.362963            0                                0   \n",
       "1        35.320225   2.573034            0                                1   \n",
       "0        40.329694   7.075328            0                                0   \n",
       "2        39.233564   7.437716            1                                0   \n",
       "3        44.403061  13.678571            0                                0   \n",
       "\n",
       "         Hispanic or Latino  Native American/Alaskan (NHL)  \\\n",
       "cluster                                                      \n",
       "6                         0                              1   \n",
       "5                         0                              0   \n",
       "4                         0                              0   \n",
       "1                         0                              0   \n",
       "0                         1                              0   \n",
       "2                         0                              0   \n",
       "3                         0                              0   \n",
       "\n",
       "         Native Hawaiian or other Pacific Islander (NHL)  \\\n",
       "cluster                                                    \n",
       "6                                                      0   \n",
       "5                                                      0   \n",
       "4                                                      1   \n",
       "1                                                      0   \n",
       "0                                                      0   \n",
       "2                                                      0   \n",
       "3                                                      0   \n",
       "\n",
       "         Two or more races (NHL)  White (NHL)  \n",
       "cluster                                        \n",
       "6                              0            0  \n",
       "5                              1            0  \n",
       "4                              0            0  \n",
       "1                              0            0  \n",
       "0                              0            0  \n",
       "2                              0            0  \n",
       "3                              0            1  "
      ]
     },
     "execution_count": 708,
     "metadata": {},
     "output_type": "execute_result"
    }
   ],
   "source": [
    "df_tyson2.groupby('cluster').mean().sort_values(by='LOS')"
   ]
  },
  {
   "cell_type": "markdown",
   "metadata": {},
   "source": [
    "# MNIST Dataset"
   ]
  },
  {
   "cell_type": "code",
   "execution_count": 587,
   "metadata": {},
   "outputs": [
    {
     "name": "stderr",
     "output_type": "stream",
     "text": [
      "/opt/anaconda3/envs/jh/lib/python3.5/site-packages/sklearn/utils/deprecation.py:77: DeprecationWarning: Function fetch_mldata is deprecated; fetch_mldata was deprecated in version 0.20 and will be removed in version 0.22\n",
      "  warnings.warn(msg, category=DeprecationWarning)\n",
      "/opt/anaconda3/envs/jh/lib/python3.5/site-packages/sklearn/utils/deprecation.py:77: DeprecationWarning: Function mldata_filename is deprecated; mldata_filename was deprecated in version 0.20 and will be removed in version 0.22\n",
      "  warnings.warn(msg, category=DeprecationWarning)\n"
     ]
    },
    {
     "data": {
      "text/plain": [
       "{'COL_NAMES': ['label', 'data'],\n",
       " 'DESCR': 'mldata.org dataset: mnist-original',\n",
       " 'data': array([[0, 0, 0, ..., 0, 0, 0],\n",
       "        [0, 0, 0, ..., 0, 0, 0],\n",
       "        [0, 0, 0, ..., 0, 0, 0],\n",
       "        ..., \n",
       "        [0, 0, 0, ..., 0, 0, 0],\n",
       "        [0, 0, 0, ..., 0, 0, 0],\n",
       "        [0, 0, 0, ..., 0, 0, 0]], dtype=uint8),\n",
       " 'target': array([ 0.,  0.,  0., ...,  9.,  9.,  9.])}"
      ]
     },
     "execution_count": 587,
     "metadata": {},
     "output_type": "execute_result"
    }
   ],
   "source": [
    "from sklearn.datasets import fetch_mldata\n",
    "mnist = fetch_mldata('MNIST original')\n",
    "mnist"
   ]
  },
  {
   "cell_type": "code",
   "execution_count": 697,
   "metadata": {},
   "outputs": [
    {
     "data": {
      "text/plain": [
       "(70000, 784)"
      ]
     },
     "execution_count": 697,
     "metadata": {},
     "output_type": "execute_result"
    }
   ],
   "source": [
    "mnist.data.shape"
   ]
  },
  {
   "cell_type": "markdown",
   "metadata": {},
   "source": [
    "Note that this data also contains targets, so this can be used for supervised learning."
   ]
  },
  {
   "cell_type": "code",
   "execution_count": 698,
   "metadata": {},
   "outputs": [
    {
     "data": {
      "text/plain": [
       "0.0"
      ]
     },
     "execution_count": 698,
     "metadata": {},
     "output_type": "execute_result"
    }
   ],
   "source": [
    "mnist.target[0] # this is what the first image is of"
   ]
  },
  {
   "cell_type": "code",
   "execution_count": 709,
   "metadata": {},
   "outputs": [
    {
     "data": {
      "image/png": "[encoded data removed]",
      "text/plain": [
       "<matplotlib.figure.Figure at 0x7f4b0cdfb128>"
      ]
     },
     "metadata": {},
     "output_type": "display_data"
    }
   ],
   "source": [
    "import matplotlib.pyplot as plt\n",
    "%matplotlib inline\n",
    "\n",
    "def show_image(mnist_no = 0):\n",
    "    plt.figure(figsize = (5,5))\n",
    "    plt.imshow(mnist.data[mnist_no,:].reshape([28,28]), cmap = plt.cm.gray)\n",
    "    plt.show()\n",
    "    \n",
    "show_image()"
   ]
  },
  {
   "cell_type": "code",
   "execution_count": 711,
   "metadata": {},
   "outputs": [
    {
     "data": {
      "image/png": "[encoded data removed]",
      "text/plain": [
       "<matplotlib.figure.Figure at 0x7f4b0c67cf60>"
      ]
     },
     "metadata": {},
     "output_type": "display_data"
    }
   ],
   "source": [
    "show_image(30500)"
   ]
  },
  {
   "cell_type": "code",
   "execution_count": 596,
   "metadata": {},
   "outputs": [
    {
     "data": {
      "text/plain": [
       "array([  0,   0,   0,   0,   0,   0,   0,   0,   0,   0,   0,   0,   0,\n",
       "         0,   0,   0,   0,   0,   0,   0,   0,   0,   0,   0,   0,   0,\n",
       "         0,   0,   0,   0,   0,   0,   0,   0,   0,   0,   0,   0,   0,\n",
       "         0,   0,   0,   0,   0,   0,   0,   0,   0,   0,   0,   0,   0,\n",
       "         0,   0,   0,   0,   0,   0,   0,   0,   0,   0,   0,   0,   0,\n",
       "         0,   0,   0,   0,   0,   0,   0,   0,   0,   0,   0,   0,   0,\n",
       "         0,   0,   0,   0,   0,   0,   0,   0,   0,   0,   0,   0,   0,\n",
       "         0,   0,   0,   0,   0,   0,   0,   0,   0,   0,   0,   0,   0,\n",
       "         0,   0,   0,   0,   0,   0,   0,   0,   0,   0,   0,   0,   0,\n",
       "         0,   0,   0,   0,   0,   0,   0,   0,   0,   0,  51, 159, 253,\n",
       "       159,  50,   0,   0,   0,   0,   0,   0,   0,   0,   0,   0,   0,\n",
       "         0,   0,   0,   0,   0,   0,   0,   0,   0,   0,   0,  48, 238,\n",
       "       252, 252, 252, 237,   0,   0,   0,   0,   0,   0,   0,   0,   0,\n",
       "         0,   0,   0,   0,   0,   0,   0,   0,   0,   0,   0,   0,  54,\n",
       "       227, 253, 252, 239, 233, 252,  57,   6,   0,   0,   0,   0,   0,\n",
       "         0,   0,   0,   0,   0,   0,   0,   0,   0,   0,   0,   0,  10,\n",
       "        60, 224, 252, 253, 252, 202,  84, 252, 253, 122,   0,   0,   0,\n",
       "         0,   0,   0,   0,   0,   0,   0,   0,   0,   0,   0,   0,   0,\n",
       "         0, 163, 252, 252, 252, 253, 252, 252,  96, 189, 253, 167,   0,\n",
       "         0,   0,   0,   0,   0,   0,   0,   0,   0,   0,   0,   0,   0,\n",
       "         0,   0,  51, 238, 253, 253, 190, 114, 253, 228,  47,  79, 255,\n",
       "       168,   0,   0,   0,   0,   0,   0,   0,   0,   0,   0,   0,   0,\n",
       "         0,   0,   0,  48, 238, 252, 252, 179,  12,  75, 121,  21,   0,\n",
       "         0, 253, 243,  50,   0,   0,   0,   0,   0,   0,   0,   0,   0,\n",
       "         0,   0,   0,   0,  38, 165, 253, 233, 208,  84,   0,   0,   0,\n",
       "         0,   0,   0, 253, 252, 165,   0,   0,   0,   0,   0,   0,   0,\n",
       "         0,   0,   0,   0,   0,   7, 178, 252, 240,  71,  19,  28,   0,\n",
       "         0,   0,   0,   0,   0, 253, 252, 195,   0,   0,   0,   0,   0,\n",
       "         0,   0,   0,   0,   0,   0,   0,  57, 252, 252,  63,   0,   0,\n",
       "         0,   0,   0,   0,   0,   0,   0, 253, 252, 195,   0,   0,   0,\n",
       "         0,   0,   0,   0,   0,   0,   0,   0,   0, 198, 253, 190,   0,\n",
       "         0,   0,   0,   0,   0,   0,   0,   0,   0, 255, 253, 196,   0,\n",
       "         0,   0,   0,   0,   0,   0,   0,   0,   0,   0,  76, 246, 252,\n",
       "       112,   0,   0,   0,   0,   0,   0,   0,   0,   0,   0, 253, 252,\n",
       "       148,   0,   0,   0,   0,   0,   0,   0,   0,   0,   0,   0,  85,\n",
       "       252, 230,  25,   0,   0,   0,   0,   0,   0,   0,   0,   7, 135,\n",
       "       253, 186,  12,   0,   0,   0,   0,   0,   0,   0,   0,   0,   0,\n",
       "         0,  85, 252, 223,   0,   0,   0,   0,   0,   0,   0,   0,   7,\n",
       "       131, 252, 225,  71,   0,   0,   0,   0,   0,   0,   0,   0,   0,\n",
       "         0,   0,   0,  85, 252, 145,   0,   0,   0,   0,   0,   0,   0,\n",
       "        48, 165, 252, 173,   0,   0,   0,   0,   0,   0,   0,   0,   0,\n",
       "         0,   0,   0,   0,   0,  86, 253, 225,   0,   0,   0,   0,   0,\n",
       "         0, 114, 238, 253, 162,   0,   0,   0,   0,   0,   0,   0,   0,\n",
       "         0,   0,   0,   0,   0,   0,   0,  85, 252, 249, 146,  48,  29,\n",
       "        85, 178, 225, 253, 223, 167,  56,   0,   0,   0,   0,   0,   0,\n",
       "         0,   0,   0,   0,   0,   0,   0,   0,   0,  85, 252, 252, 252,\n",
       "       229, 215, 252, 252, 252, 196, 130,   0,   0,   0,   0,   0,   0,\n",
       "         0,   0,   0,   0,   0,   0,   0,   0,   0,   0,   0,  28, 199,\n",
       "       252, 252, 253, 252, 252, 233, 145,   0,   0,   0,   0,   0,   0,\n",
       "         0,   0,   0,   0,   0,   0,   0,   0,   0,   0,   0,   0,   0,\n",
       "         0,  25, 128, 252, 253, 252, 141,  37,   0,   0,   0,   0,   0,\n",
       "         0,   0,   0,   0,   0,   0,   0,   0,   0,   0,   0,   0,   0,\n",
       "         0,   0,   0,   0,   0,   0,   0,   0,   0,   0,   0,   0,   0,\n",
       "         0,   0,   0,   0,   0,   0,   0,   0,   0,   0,   0,   0,   0,\n",
       "         0,   0,   0,   0,   0,   0,   0,   0,   0,   0,   0,   0,   0,\n",
       "         0,   0,   0,   0,   0,   0,   0,   0,   0,   0,   0,   0,   0,\n",
       "         0,   0,   0,   0,   0,   0,   0,   0,   0,   0,   0,   0,   0,\n",
       "         0,   0,   0,   0,   0,   0,   0,   0,   0,   0,   0,   0,   0,\n",
       "         0,   0,   0,   0,   0,   0,   0,   0,   0,   0,   0,   0,   0,\n",
       "         0,   0,   0,   0,   0,   0,   0,   0,   0,   0,   0,   0,   0,\n",
       "         0,   0,   0,   0], dtype=uint8)"
      ]
     },
     "execution_count": 596,
     "metadata": {},
     "output_type": "execute_result"
    }
   ],
   "source": [
    "# this is what the data looks like:\n",
    "mnist.data[0,:]"
   ]
  },
  {
   "cell_type": "markdown",
   "metadata": {},
   "source": [
    "### KMeans clustering on MNIST"
   ]
  },
  {
   "cell_type": "code",
   "execution_count": 692,
   "metadata": {},
   "outputs": [
    {
     "data": {
      "text/plain": [
       "(350, 784)"
      ]
     },
     "execution_count": 692,
     "metadata": {},
     "output_type": "execute_result"
    }
   ],
   "source": [
    "# there is too much data (70K rows)\n",
    "from sklearn.model_selection import train_test_split\n",
    "X_train, X_test, y_train, y_test = train_test_split(mnist.data, mnist.target, test_size=0.995, random_state=42)\n",
    "X_train.shape"
   ]
  },
  {
   "cell_type": "code",
   "execution_count": 693,
   "metadata": {},
   "outputs": [
    {
     "name": "stdout",
     "output_type": "stream",
     "text": [
      "2 3 4 5 6 7 8 9 10 11 12 13 14 15 16 17 18 19 20 21 22 23 24 25 26 27 28 29 30 31 32 33 34 35 36 37 38 39 40 41 42 43 44 45 46 47 48 49 "
     ]
    },
    {
     "data": {
      "image/png": "[encoded data removed]",
      "text/plain": [
       "<matplotlib.figure.Figure at 0x7f4b0d425080>"
      ]
     },
     "metadata": {},
     "output_type": "display_data"
    }
   ],
   "source": [
    "# How many clusters do we need? \n",
    "\n",
    "max_n_clusters = 50\n",
    "squared_distance = np.zeros(max_n_clusters)\n",
    "for k in range(2,max_n_clusters):\n",
    "    kmeans = KMeans(n_clusters = k, random_state = 0).fit(X_train)\n",
    "    squared_distance[k] = kmeans.inertia_\n",
    "    print(k,sep=' ', end=' ', flush=True)\n",
    "    \n",
    "import matplotlib.pyplot as plt\n",
    "%matplotlib inline\n",
    "\n",
    "plt.figure()\n",
    "plt.plot(squared_distance)\n",
    "plt.xlim((2,max_n_clusters))\n",
    "plt.xlabel('number of clusters')\n",
    "plt.ylabel('avg dist to centers')\n",
    "plt.show()"
   ]
  },
  {
   "cell_type": "markdown",
   "metadata": {},
   "source": [
    "At this time, let us use 10% of our data:"
   ]
  },
  {
   "cell_type": "code",
   "execution_count": 721,
   "metadata": {
    "collapsed": true
   },
   "outputs": [],
   "source": [
    "X_train, X_test, y_train, y_test = train_test_split(mnist.data, mnist.target, test_size=0.9, random_state=0) # use 10% of data\n",
    "kmeans = KMeans(n_clusters = 25, random_state = 0).fit(X_train) # find 20 clusters (change this number)\n",
    "y_pred = kmeans.predict(X_train) # store cluster numbers in y_pred"
   ]
  },
  {
   "cell_type": "markdown",
   "metadata": {},
   "source": [
    "* X_train -- source data\n",
    "* y_pred -- predicted clusters\n",
    "* y_train -- decoded images, i.e. written numbers"
   ]
  },
  {
   "cell_type": "code",
   "execution_count": 714,
   "metadata": {},
   "outputs": [
    {
     "data": {
      "text/plain": [
       "((7000, 784), (7000,), (7000,))"
      ]
     },
     "execution_count": 714,
     "metadata": {},
     "output_type": "execute_result"
    }
   ],
   "source": [
    "X_train.shape, y_train.shape, y_pred.shape"
   ]
  },
  {
   "cell_type": "code",
   "execution_count": 715,
   "metadata": {},
   "outputs": [
    {
     "data": {
      "text/plain": [
       "(393, 784)"
      ]
     },
     "execution_count": 715,
     "metadata": {},
     "output_type": "execute_result"
    }
   ],
   "source": [
    "X_train[y_pred == 0].shape # the number of images in cluster 0"
   ]
  },
  {
   "cell_type": "code",
   "execution_count": 716,
   "metadata": {},
   "outputs": [
    {
     "data": {
      "text/plain": [
       "(784,)"
      ]
     },
     "execution_count": 716,
     "metadata": {},
     "output_type": "execute_result"
    }
   ],
   "source": [
    "X_train[y_pred == 0].mean(axis = 0).shape # the average image in cluster 0"
   ]
  },
  {
   "cell_type": "code",
   "execution_count": 719,
   "metadata": {},
   "outputs": [
    {
     "data": {
      "image/png": "[encoded data removed]",
      "text/plain": [
       "<matplotlib.figure.Figure at 0x7f4b0c61fe10>"
      ]
     },
     "metadata": {},
     "output_type": "display_data"
    }
   ],
   "source": [
    "# visualize the average image in cluster 0\n",
    "plt.figure(figsize = [5,5])\n",
    "plt.imshow(X_train[y_pred == 2].mean(axis = 0).reshape([28,28]), cmap = plt.cm.gray)\n",
    "plt.show()"
   ]
  },
  {
   "cell_type": "code",
   "execution_count": 722,
   "metadata": {},
   "outputs": [
    {
     "data": {
      "image/png": "[encoded data removed]",
      "text/plain": [
       "<matplotlib.figure.Figure at 0x7f4b0c7ea2e8>"
      ]
     },
     "metadata": {},
     "output_type": "display_data"
    }
   ],
   "source": [
    "# visualize all 20 clusters\n",
    "fig, axs = plt.subplots(5, 5, sharex=True, sharey=True, figsize = (10,5))\n",
    "for i in range(5):\n",
    "    for j in range(5):\n",
    "        axs[i, j].imshow(X_train[y_pred == i*5+j].mean(axis = 0).reshape([28,28]), cmap = plt.cm.gray)"
   ]
  },
  {
   "cell_type": "markdown",
   "metadata": {},
   "source": [
    "# Appendix\n",
    "\n",
    "## min, max, mean, std, argmin, and argmax"
   ]
  },
  {
   "cell_type": "code",
   "execution_count": 539,
   "metadata": {},
   "outputs": [
    {
     "data": {
      "text/plain": [
       "array([ 0.95726541,  0.41213328,  0.35650127,  0.09724474,  0.39389953,\n",
       "       -0.46877882, -0.99022406,  0.19896875,  1.82134278,  0.691666  ,\n",
       "       -0.81024035,  1.02144997, -0.1949097 ,  0.79553737,  1.32368595,\n",
       "        0.91798623, -0.5846606 , -0.14656039, -0.21030843,  0.07780368])"
      ]
     },
     "execution_count": 539,
     "metadata": {},
     "output_type": "execute_result"
    }
   ],
   "source": [
    "import numpy as np\n",
    "arr = np.random.normal(0,1,20)\n",
    "arr"
   ]
  },
  {
   "cell_type": "code",
   "execution_count": 540,
   "metadata": {},
   "outputs": [
    {
     "data": {
      "text/plain": [
       "(-0.99022405673779257,\n",
       " 1.821342782912563,\n",
       " 0.28299013121032413,\n",
       " 0.71382699431225805)"
      ]
     },
     "execution_count": 540,
     "metadata": {},
     "output_type": "execute_result"
    }
   ],
   "source": [
    "np.min(arr), np.max(arr), np.mean(arr), np.std(arr)"
   ]
  },
  {
   "cell_type": "code",
   "execution_count": 541,
   "metadata": {},
   "outputs": [
    {
     "data": {
      "text/plain": [
       "(6, 8)"
      ]
     },
     "execution_count": 541,
     "metadata": {},
     "output_type": "execute_result"
    }
   ],
   "source": [
    "np.argmin(arr), np.argmax(arr)"
   ]
  },
  {
   "cell_type": "code",
   "execution_count": 543,
   "metadata": {},
   "outputs": [
    {
     "data": {
      "text/plain": [
       "1.821342782912563"
      ]
     },
     "execution_count": 543,
     "metadata": {},
     "output_type": "execute_result"
    }
   ],
   "source": [
    "arr[np.argmax(arr)]"
   ]
  },
  {
   "cell_type": "markdown",
   "metadata": {},
   "source": [
    "## 2D arrays"
   ]
  },
  {
   "cell_type": "code",
   "execution_count": null,
   "metadata": {
    "collapsed": true
   },
   "outputs": [],
   "source": [
    "arr = np.random.normal(0,1,[10,100])\n",
    "arr"
   ]
  },
  {
   "cell_type": "code",
   "execution_count": 548,
   "metadata": {},
   "outputs": [
    {
     "data": {
      "text/plain": [
       "(-3.83151146547053, 2.8913144766583132)"
      ]
     },
     "execution_count": 548,
     "metadata": {},
     "output_type": "execute_result"
    }
   ],
   "source": [
    "np.min(arr), np.max(arr)"
   ]
  },
  {
   "cell_type": "code",
   "execution_count": 551,
   "metadata": {},
   "outputs": [
    {
     "data": {
      "text/plain": [
       "array([-2.30385111, -2.59650251, -2.59848767, -2.48792684, -1.86163687,\n",
       "       -2.45346129, -1.91167317, -3.33795865, -3.83151147, -1.82912309])"
      ]
     },
     "execution_count": 551,
     "metadata": {},
     "output_type": "execute_result"
    }
   ],
   "source": [
    "np.min(arr, axis = 1)"
   ]
  },
  {
   "cell_type": "code",
   "execution_count": 553,
   "metadata": {},
   "outputs": [
    {
     "data": {
      "text/plain": [
       "894"
      ]
     },
     "execution_count": 553,
     "metadata": {},
     "output_type": "execute_result"
    }
   ],
   "source": [
    "np.argmin(arr)"
   ]
  },
  {
   "cell_type": "code",
   "execution_count": 556,
   "metadata": {},
   "outputs": [
    {
     "data": {
      "text/plain": [
       "-3.83151146547053"
      ]
     },
     "execution_count": 556,
     "metadata": {},
     "output_type": "execute_result"
    }
   ],
   "source": [
    "arr.reshape([-1])[np.argmin(arr)] # useless, we have np.min(arr)!"
   ]
  },
  {
   "cell_type": "code",
   "execution_count": 558,
   "metadata": {},
   "outputs": [
    {
     "data": {
      "text/plain": [
       "array([47, 39, 48, 95, 92, 41, 20,  4, 94, 27])"
      ]
     },
     "execution_count": 558,
     "metadata": {},
     "output_type": "execute_result"
    }
   ],
   "source": [
    "np.argmin(arr,axis = 1)"
   ]
  },
  {
   "cell_type": "markdown",
   "metadata": {},
   "source": [
    "## Unravel_index -- convert flattened index to index"
   ]
  },
  {
   "cell_type": "code",
   "execution_count": 560,
   "metadata": {},
   "outputs": [
    {
     "data": {
      "text/plain": [
       "(8, 94)"
      ]
     },
     "execution_count": 560,
     "metadata": {},
     "output_type": "execute_result"
    }
   ],
   "source": [
    "np.unravel_index(894, [10,100])"
   ]
  },
  {
   "cell_type": "code",
   "execution_count": 562,
   "metadata": {},
   "outputs": [
    {
     "data": {
      "text/plain": [
       "(8, 94)"
      ]
     },
     "execution_count": 562,
     "metadata": {},
     "output_type": "execute_result"
    }
   ],
   "source": [
    "np.unravel_index(np.argmin(arr), arr.shape)"
   ]
  },
  {
   "cell_type": "markdown",
   "metadata": {},
   "source": [
    "## Maximum and minimum function"
   ]
  },
  {
   "cell_type": "code",
   "execution_count": null,
   "metadata": {
    "collapsed": true
   },
   "outputs": [],
   "source": [
    "arr1 = np.random.normal(0,1,[100,10])\n",
    "arr2 = np.random.normal(0,1,[100,10])\n",
    "\n",
    "np.minimum(arr1,arr2)"
   ]
  },
  {
   "cell_type": "code",
   "execution_count": null,
   "metadata": {
    "collapsed": true
   },
   "outputs": [],
   "source": []
  }
 ],
 "metadata": {
  "kernelspec": {
   "display_name": "Python 3",
   "language": "python",
   "name": "python3"
  },
  "language_info": {
   "codemirror_mode": {
    "name": "ipython",
    "version": 3
   },
   "file_extension": ".py",
   "mimetype": "text/x-python",
   "name": "python",
   "nbconvert_exporter": "python",
   "pygments_lexer": "ipython3",
   "version": "3.5.4"
  }
 },
 "nbformat": 4,
 "nbformat_minor": 2
}
