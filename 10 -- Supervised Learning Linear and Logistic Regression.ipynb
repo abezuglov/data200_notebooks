{
 "cells": [
  {
   "cell_type": "code",
   "execution_count": 264,
   "metadata": {
    "collapsed": true
   },
   "outputs": [],
   "source": [
    "import numpy as np\n",
    "import matplotlib.pyplot as plt\n",
    "import pandas as pd\n",
    "from sklearn.datasets import make_regression, make_classification\n",
    "from ipywidgets import interactive\n",
    "import ipywidgets as widgets\n",
    "\n",
    "%matplotlib inline"
   ]
  },
  {
   "cell_type": "markdown",
   "metadata": {},
   "source": [
    "# Introduction to Data Modeling\n",
    "\n",
    "## Linear Regression -- rather informal introduction\n",
    "\n",
    "The code below is based in part on Andrew Ng deep learning classes on Coursera. \n",
    "\n",
    "Let us make a synthetic dataset of house sale price based on number of bedrooms, sq. footage, and year built:"
   ]
  },
  {
   "cell_type": "code",
   "execution_count": 265,
   "metadata": {},
   "outputs": [
    {
     "name": "stdout",
     "output_type": "stream",
     "text": [
      "[105300, 110300, 115300, 120300, 125300, 130300, 135300, 140300, 145300, 150300, 155300, 160300, 165300, 170300, 175300]\n"
     ]
    },
    {
     "data": {
      "text/plain": [
       "<matplotlib.text.Text at 0x7fb4adce7208>"
      ]
     },
     "execution_count": 265,
     "metadata": {},
     "output_type": "execute_result"
    },
    {
     "data": {
      "image/png": "[encoded data removed]",
      "text/plain": [
       "<matplotlib.figure.Figure at 0x7fb4ce380d30>"
      ]
     },
     "metadata": {},
     "output_type": "display_data"
    }
   ],
   "source": [
    "# x1 -- number of bedrooms in a house\n",
    "# x2 -- sq. ft\n",
    "# x3 -- year built\n",
    "W = (15000, 50, -10)\n",
    "b = 30000\n",
    "\n",
    "def predict(x1,x2,x3,W,b):\n",
    "    return W[0]*x1+W[1]*x2+W[2]*x3+b\n",
    "\n",
    "y_pred = []\n",
    "\n",
    "for x2 in range(1000,2500,100):\n",
    "    y_pred.append(predict(3,x2,1970,W,b))\n",
    "\n",
    "print(y_pred)\n",
    "\n",
    "fig = plt.figure()\n",
    "ax = plt.subplot(111)\n",
    "ax.plot(np.arange(1000,2500,100), y_pred, )\n",
    "ax.set_xlabel('Sq. ft')\n",
    "ax.set_ylabel('House price, \\$')\n",
    "ax.set_title('House price vs. sq. ft')"
   ]
  },
  {
   "cell_type": "code",
   "execution_count": 266,
   "metadata": {
    "collapsed": true
   },
   "outputs": [],
   "source": [
    "# Figure out the w1-w3 and b that make the most sense according to your intuition"
   ]
  },
  {
   "cell_type": "markdown",
   "metadata": {},
   "source": [
    "## Advertising dataset\n",
    "\n",
    "This is a more realistic dataset of sales based on advertising on TV, Radio, and newspaper:"
   ]
  },
  {
   "cell_type": "code",
   "execution_count": 267,
   "metadata": {},
   "outputs": [
    {
     "data": {
      "application/vnd.jupyter.widget-view+json": {
       "model_id": "7228a63ff7004d7db9c47e8573d11dae",
       "version_major": 2,
       "version_minor": 0
      },
      "text/plain": [
       "interactive(children=(FloatSlider(value=0.05, description='w1', max=0.1, step=0.01), FloatSlider(value=5.0, de…"
      ]
     },
     "metadata": {},
     "output_type": "display_data"
    }
   ],
   "source": [
    "df = pd.read_csv('../data/Advertising.csv')\n",
    "X = df.TV\n",
    "y = df.Sales\n",
    "\n",
    "def linear_fit(w1, b):\n",
    "    y_pred = w1*X+b\n",
    "    fig = plt.figure()\n",
    "    ax = fig.add_subplot(1,1,1)\n",
    "    ax.plot(X, y_pred, label = 'Linear regression (predicted)', color = 'r')\n",
    "    ax.scatter(X, y, label = 'Sales')\n",
    "    ax.set_xlabel('TV')\n",
    "    ax.set_ylabel('Sales')\n",
    "    ax.legend()\n",
    "    plt.show()\n",
    "    \n",
    "i_plot = interactive(linear_fit, w1 = (0.0,0.1,0.01), b = (0.0,10.0))\n",
    "i_plot"
   ]
  },
  {
   "cell_type": "markdown",
   "metadata": {},
   "source": [
    "How good is the linear regression? Let us compute the loss and the cost:\n",
    "\n",
    "Loss is the squared error between the predicted $\\hat{y}^{(i)}$ and true data $y^{(i)}$ for row $i$:\n",
    "\n",
    "$L(\\hat{y}^{(i)}, y^{(i)}) = \\frac{1}{2}(\\hat{y}^{(i)} - y^{(i)})^2$\n",
    "\n",
    "Cost -- is the average of losses at each point. Here, the cost is proportional to Mean Squared Error (MSE): \n",
    "\n",
    "$J = \\frac{1}{m}\\sum_{i=1}^m L(\\hat{y}^{(i)}, y^{(i)})$\n",
    "\n",
    "So, let's try again and minimize the cost:"
   ]
  },
  {
   "cell_type": "code",
   "execution_count": 268,
   "metadata": {},
   "outputs": [
    {
     "data": {
      "application/vnd.jupyter.widget-view+json": {
       "model_id": "c3f72473ac0d43379c09f65b4522230d",
       "version_major": 2,
       "version_minor": 0
      },
      "text/plain": [
       "interactive(children=(FloatSlider(value=0.05, description='w1', max=0.1, step=0.005), FloatSlider(value=5.0, d…"
      ]
     },
     "metadata": {},
     "output_type": "display_data"
    }
   ],
   "source": [
    "def linear_fit(w1, b):\n",
    "    y_pred = w1*X+b\n",
    "    Loss = (y-y_pred)**2\n",
    "    Cost = np.mean(Loss)\n",
    "    fig = plt.figure()\n",
    "    ax = fig.add_subplot(1,1,1)\n",
    "    ax.plot(X, y_pred, label = 'Linear regression (predicted)', color = 'r')\n",
    "    ax.scatter(X, y, label = 'Sales')\n",
    "    ax.set_xlabel('TV')\n",
    "    ax.set_ylabel('Sales')\n",
    "    \n",
    "    ax.set_title('Cost $J$= %.2f'%Cost)\n",
    "    ax.legend()\n",
    "    plt.show()\n",
    "    \n",
    "i_plot = interactive(linear_fit, w1 = (0.0,0.1,0.005), b = (0.0,10.0))\n",
    "i_plot"
   ]
  },
  {
   "cell_type": "markdown",
   "metadata": {},
   "source": [
    "## Linear Regression -- a little more formal intro\n",
    "\n",
    "### Notation\n",
    "\n",
    "$x^{(i)}$ -- Input i, vector of shape (num_features, 1)\n",
    "\n",
    "$y^{(i)}$, $\\hat{y}^{(i)}$ -- output i and predicted output i, vectors of shape (1,1)\n",
    "\n",
    "$W$ -- weights vector of shape (num_features, 1)\n",
    "\n",
    "$b$ -- b coefficient\n",
    "\n",
    "\n",
    "### Forward propagation\n",
    "\n",
    "$\\hat{y}^{(i)} = W^Tx^{(i)}+b$\n",
    "\n",
    "### Loss function\n",
    "\n",
    "$L(\\hat{y}^{(i)}, y^{(i)}) = \\frac{1}{2}(\\hat{y}^{(i)} - y^{(i)})^2$\n",
    "\n",
    "### Cost\n",
    "\n",
    "$J = \\frac{1}{m}\\sum_{i=1}^m L(\\hat{y}^{(i)}, y^{(i)})$\n",
    "\n",
    "### Backward propagation\n",
    "\n",
    "$d\\hat{y}^{(i)} = \\frac{\\partial L}{\\partial \\hat{y}^{(i)}} = \\left(\\hat{y}^{(i)} - y^{(i)}\\right)$\n",
    "\n",
    "$dW^{(i)} = \\frac{\\partial L}{\\partial W^{(i)}} = d\\hat{y}^{(i)} x^{(i)}$\n",
    "\n",
    "$db^{(i)} = d\\hat{y}^{(i)}$\n",
    "\n",
    "### Update equations\n",
    "\n",
    "$dW = \\frac{1}{m} \\sum_{i=1}^{m} dW^{(i)}$\n",
    "\n",
    "$db = \\frac{1}{m} \\sum_{i=1}^{m} db^{(i)}$\n",
    "\n",
    "$W_{t+1} = W_{t} - \\alpha dW$\n",
    "\n",
    "$b_{t+1} = b_{t} - \\alpha db$\n",
    "\n",
    "where $\\alpha$ -- learning rate\n",
    "\n",
    "Let us test the above equations on synthetic data: "
   ]
  },
  {
   "cell_type": "code",
   "execution_count": 269,
   "metadata": {},
   "outputs": [
    {
     "data": {
      "text/plain": [
       "(2, 100)"
      ]
     },
     "execution_count": 269,
     "metadata": {},
     "output_type": "execute_result"
    }
   ],
   "source": [
    "# Make a synthetic dataset\n",
    "X, y = make_regression(n_features = 2, random_state = 10)\n",
    "\n",
    "X = X.T\n",
    "X.shape"
   ]
  },
  {
   "cell_type": "markdown",
   "metadata": {},
   "source": [
    "X is a stack of 2-dimensional vectors (a matrix). See what the data looks like:"
   ]
  },
  {
   "cell_type": "code",
   "execution_count": 270,
   "metadata": {},
   "outputs": [
    {
     "data": {
      "image/png": "[encoded data removed]",
      "text/plain": [
       "<matplotlib.figure.Figure at 0x7fb4adcd3a20>"
      ]
     },
     "metadata": {},
     "output_type": "display_data"
    }
   ],
   "source": [
    "fig = plt.figure(figsize = (10,4))\n",
    "ax = fig.add_subplot(1,2,1)\n",
    "ax.scatter(X[0,:],y)\n",
    "ax.set_xlabel('$X_1$ or X[0,:]')\n",
    "ax.set_ylabel('y')\n",
    "ax = fig.add_subplot(1,2,2)\n",
    "ax.scatter(X[1,:],y)\n",
    "ax.set_xlabel('$X_2$ or X[1,:]')\n",
    "ax.set_ylabel('y')\n",
    "plt.show()"
   ]
  },
  {
   "cell_type": "markdown",
   "metadata": {},
   "source": [
    "### Initialize linear regression\n",
    "\n",
    "At this point, all model parameters ($W$ and $b$) are initialized. In case of linear regression, they can all be set to 0's:"
   ]
  },
  {
   "cell_type": "code",
   "execution_count": 271,
   "metadata": {},
   "outputs": [
    {
     "name": "stdout",
     "output_type": "stream",
     "text": [
      "W: [[ 0.]\n",
      " [ 0.]]\n",
      "b: 0\n"
     ]
    }
   ],
   "source": [
    "# Initialize model parameters\n",
    "def initialize_with_zeros(dim):\n",
    "    W = np.zeros(shape=(dim, 1))\n",
    "    b = 0\n",
    "    return W,b\n",
    "\n",
    "W,b = initialize_with_zeros(2)\n",
    "print('W:',W)\n",
    "print('b:',b)"
   ]
  },
  {
   "cell_type": "markdown",
   "metadata": {},
   "source": [
    "### Propagate\n",
    "\n",
    "For given model parameters $W$ and $b$ as well as the data $X$ and $y$, run forward and backward propagations to compute:\n",
    "\n",
    "$\\hat{y}$, $J$, $\\frac{\\partial J}{\\partial \\hat{y}}$, $\\frac{\\partial J}{\\partial W}$, $\\frac{\\partial J}{\\partial b}$. \n",
    "\n",
    "The last two are the gradients that the function returns:"
   ]
  },
  {
   "cell_type": "code",
   "execution_count": 272,
   "metadata": {},
   "outputs": [
    {
     "name": "stdout",
     "output_type": "stream",
     "text": [
      "{'dW': array([[-88.55315301],\n",
      "       [-63.33512097]]), 'db': -13.103991362317949} 5443.86506746\n"
     ]
    }
   ],
   "source": [
    "# Propagation function\n",
    "def propagate(W, b, X, y):\n",
    "    # Forward propagation\n",
    "    y_hat = np.dot(np.transpose(W),X)+b\n",
    "    cost = np.mean(0.5*(y-y_hat)**2)\n",
    "    \n",
    "    # Backward propagation\n",
    "    dy_hat = y_hat-y\n",
    "    \n",
    "    dW = np.mean(dy_hat*X, axis = 1, keepdims = True)\n",
    "    db = np.mean(dy_hat)\n",
    "    \n",
    "    grads = {'dW':dW,'db':db}\n",
    "    return grads, cost\n",
    "\n",
    "W,b = initialize_with_zeros(X.shape[0])\n",
    "grads,cost = propagate(W,b,X,y)\n",
    "print(grads,cost)"
   ]
  },
  {
   "cell_type": "markdown",
   "metadata": {},
   "source": [
    "### Apply gradient descent to model parameters\n",
    "\n",
    "Now, that we have the function to compute the gradients, apply these to $W$ and $b$:"
   ]
  },
  {
   "cell_type": "code",
   "execution_count": 273,
   "metadata": {},
   "outputs": [
    {
     "name": "stdout",
     "output_type": "stream",
     "text": [
      "Cost after iteration 0: 5443.87\n",
      "Cost after iteration 10: 548.41\n",
      "Cost after iteration 20: 62.43\n",
      "Cost after iteration 30: 8.29\n",
      "Cost after iteration 40: 1.29\n",
      "Cost after iteration 50: 0.23\n",
      "Cost after iteration 60: 0.04\n",
      "Cost after iteration 70: 0.01\n",
      "Cost after iteration 80: 0.00\n",
      "Cost after iteration 90: 0.00\n"
     ]
    }
   ],
   "source": [
    "# Apply gradient descent to find model parameters \n",
    "\n",
    "def optimize(W,b,X,y,num_iterations, learning_rate, print_cost = False):\n",
    "    costs = []\n",
    "    for i in range(num_iterations):\n",
    "        grads, cost = propagate(W,b,X,y)\n",
    "        dW, db = grads['dW'], grads['db']\n",
    "        \n",
    "        W = W - learning_rate*dW\n",
    "        b = b - learning_rate*db\n",
    "        \n",
    "        costs.append(cost)\n",
    "        \n",
    "        if print_cost and i%10 == 0:\n",
    "            print(\"Cost after iteration %d: %.2f\"%(i,cost))\n",
    "            \n",
    "    params = {'W':W,'b':b}\n",
    "    grads = {'dW':dW,'db':db}\n",
    "        \n",
    "    return params, grads, costs\n",
    "\n",
    "params, grads, costs = optimize(W,b,X,y,num_iterations = 100, learning_rate = 0.1, print_cost = True)\n"
   ]
  },
  {
   "cell_type": "code",
   "execution_count": 274,
   "metadata": {},
   "outputs": [
    {
     "data": {
      "image/png": "[encoded data removed]",
      "text/plain": [
       "<matplotlib.figure.Figure at 0x7fb4d00a1ac8>"
      ]
     },
     "metadata": {},
     "output_type": "display_data"
    }
   ],
   "source": [
    "# Let's see how the cost function is changing\n",
    "fig = plt.figure()\n",
    "ax = plt.subplot(111)\n",
    "ax.plot(costs)\n",
    "ax.set_ylabel('$J$')\n",
    "ax.set_xlabel('# iterations')\n",
    "ax.set_title('Cost vs. iterations')\n",
    "plt.show()"
   ]
  },
  {
   "cell_type": "markdown",
   "metadata": {},
   "source": [
    "### Predict function\n",
    "\n",
    "This function computes $\\hat{y}$ based on $X$ and model parameters: "
   ]
  },
  {
   "cell_type": "code",
   "execution_count": 275,
   "metadata": {},
   "outputs": [],
   "source": [
    "# Predict\n",
    "def predict(W,b,X):\n",
    "    y_pred = np.dot(W.T,X)+b\n",
    "    return y_pred\n",
    "    \n",
    "y_pred = predict(params['W'],params['b'],X)"
   ]
  },
  {
   "cell_type": "markdown",
   "metadata": {},
   "source": [
    "### Linear Regression Model function\n",
    "\n",
    "Finally, model function uses the code above to put everything together:"
   ]
  },
  {
   "cell_type": "code",
   "execution_count": 276,
   "metadata": {},
   "outputs": [
    {
     "name": "stdout",
     "output_type": "stream",
     "text": [
      "Cost after iteration 0: 5796.42\n",
      "Train mean squared error: 1000.067\n",
      "Test mean squared error: 868.477\n"
     ]
    }
   ],
   "source": [
    "# Linear regression model\n",
    "\n",
    "def model(X_train, y_train, X_test, y_test, num_iterations = 1000, learning_rate = 0.1, print_cost = False):\n",
    "    # Initialize the model\n",
    "    num_features = X_train.shape[0]\n",
    "    W,b = initialize_with_zeros(num_features)\n",
    "    \n",
    "    # Fit the model\n",
    "    params, grads, costs = optimize(W,b,X_train,y_train,num_iterations, learning_rate, print_cost)\n",
    "    \n",
    "    # Run predictions on the train and test datasets\n",
    "    W,b = params['W'], params['b']\n",
    "    y_pred_test = predict(W,b,X_test)\n",
    "    y_pred_train = predict(W,b,X_train)\n",
    "\n",
    "    print(\"Train mean squared error: %.3f\" % (np.mean((y_pred_train-y_train)**2)))\n",
    "    print(\"Test mean squared error: %.3f\" % (np.mean((y_pred_test-y_test)**2)))\n",
    "    \n",
    "    d = {'costs': costs,\n",
    "        'y_pred_test':y_pred_test,\n",
    "        'y_pred_train':y_pred_train,\n",
    "        'W':W, 'b':b,\n",
    "        'learning_rate':learning_rate,'num_iterations':num_iterations}\n",
    "    return d\n",
    "    \n",
    "X_train, X_test = X[:,:70],X[:,70:] \n",
    "y_train, y_test = y[:70],y[70:] \n",
    "d = model(X_train,y_train,X_test,y_test, num_iterations = 10, print_cost = True)"
   ]
  },
  {
   "cell_type": "markdown",
   "metadata": {},
   "source": [
    "How does the model do on the test data?"
   ]
  },
  {
   "cell_type": "code",
   "execution_count": 277,
   "metadata": {},
   "outputs": [
    {
     "data": {
      "image/png": "[encoded data removed]",
      "text/plain": [
       "<matplotlib.figure.Figure at 0x7fb4d018ab00>"
      ]
     },
     "metadata": {},
     "output_type": "display_data"
    }
   ],
   "source": [
    "# Let's see how the model is doing on the test data\n",
    "y_pred_test = d['y_pred_test']\n",
    "plt.figure(figsize = (10,4))\n",
    "ax = plt.subplot(121)\n",
    "ax.scatter(X_test[0,:],y_test, label = 'y')\n",
    "ax.scatter(X_test[0,:],y_pred_test, label = '$\\hat{y}$',alpha = 0.5)\n",
    "ax.set_xlabel('$X_1$')\n",
    "ax.legend()\n",
    "ax = plt.subplot(122)\n",
    "ax.scatter(X_test[1,:],y_test, label = 'y')\n",
    "ax.scatter(X_test[1,:],y_pred_test, label = '$\\hat{y}$', alpha = 0.5)\n",
    "ax.set_xlabel('$X_2$')\n",
    "ax.legend()\n",
    "plt.show()"
   ]
  },
  {
   "cell_type": "markdown",
   "metadata": {},
   "source": [
    "Try to get a better model by:\n",
    "\n",
    "* Changing num_iterations\n",
    "* Changing learning_rate\n",
    "\n",
    "Explain the model: What do W's and b mean? How can this model be expressed as an equation? Write model equations, using $$\n",
    "\n",
    "## Advertising dataset\n",
    "Apply Linear regression to predict sales based on TV, Radio, and Newspaper in Advertising dataset:"
   ]
  },
  {
   "cell_type": "code",
   "execution_count": 278,
   "metadata": {},
   "outputs": [
    {
     "data": {
      "text/plain": [
       "((3, 200), (1, 200))"
      ]
     },
     "execution_count": 278,
     "metadata": {},
     "output_type": "execute_result"
    }
   ],
   "source": [
    "# Use linear regression to predict the amount of sales in the Advertising dataset. What is the model error? \n",
    "# Express the model as above\n",
    "df = pd.read_csv(\"../data/Advertising.csv\")\n",
    "df.head()\n",
    "X = np.asarray(df[['TV','Radio','Newspaper']]).T # transform the data\n",
    "y = np.asarray(df['Sales']).reshape([1,-1]) # transform the outputs\n",
    "X.shape, y.shape"
   ]
  },
  {
   "cell_type": "code",
   "execution_count": null,
   "metadata": {
    "collapsed": true
   },
   "outputs": [],
   "source": []
  },
  {
   "cell_type": "markdown",
   "metadata": {},
   "source": [
    "## AMZN\n",
    "Apply linear regression to predict AMZN"
   ]
  },
  {
   "cell_type": "code",
   "execution_count": 279,
   "metadata": {},
   "outputs": [
    {
     "data": {
      "text/html": [
       "<div>\n",
       "<style>\n",
       "    .dataframe thead tr:only-child th {\n",
       "        text-align: right;\n",
       "    }\n",
       "\n",
       "    .dataframe thead th {\n",
       "        text-align: left;\n",
       "    }\n",
       "\n",
       "    .dataframe tbody tr th {\n",
       "        vertical-align: top;\n",
       "    }\n",
       "</style>\n",
       "<table border=\"1\" class=\"dataframe\">\n",
       "  <thead>\n",
       "    <tr style=\"text-align: right;\">\n",
       "      <th></th>\n",
       "      <th>Close_1</th>\n",
       "      <th>Close_2</th>\n",
       "      <th>Close_cur</th>\n",
       "      <th>Open_1</th>\n",
       "      <th>Open_2</th>\n",
       "      <th>Open_cur</th>\n",
       "    </tr>\n",
       "  </thead>\n",
       "  <tbody>\n",
       "    <tr>\n",
       "      <th>0</th>\n",
       "      <td>1.958333</td>\n",
       "      <td>1.729167</td>\n",
       "      <td>1.708333</td>\n",
       "      <td>2.437500</td>\n",
       "      <td>1.968750</td>\n",
       "      <td>1.760417</td>\n",
       "    </tr>\n",
       "    <tr>\n",
       "      <th>1</th>\n",
       "      <td>1.729167</td>\n",
       "      <td>1.708333</td>\n",
       "      <td>1.635417</td>\n",
       "      <td>1.968750</td>\n",
       "      <td>1.760417</td>\n",
       "      <td>1.729167</td>\n",
       "    </tr>\n",
       "    <tr>\n",
       "      <th>2</th>\n",
       "      <td>1.708333</td>\n",
       "      <td>1.635417</td>\n",
       "      <td>1.427083</td>\n",
       "      <td>1.760417</td>\n",
       "      <td>1.729167</td>\n",
       "      <td>1.635417</td>\n",
       "    </tr>\n",
       "    <tr>\n",
       "      <th>3</th>\n",
       "      <td>1.635417</td>\n",
       "      <td>1.427083</td>\n",
       "      <td>1.395833</td>\n",
       "      <td>1.729167</td>\n",
       "      <td>1.635417</td>\n",
       "      <td>1.437500</td>\n",
       "    </tr>\n",
       "    <tr>\n",
       "      <th>4</th>\n",
       "      <td>1.427083</td>\n",
       "      <td>1.395833</td>\n",
       "      <td>1.500000</td>\n",
       "      <td>1.635417</td>\n",
       "      <td>1.437500</td>\n",
       "      <td>1.406250</td>\n",
       "    </tr>\n",
       "  </tbody>\n",
       "</table>\n",
       "</div>"
      ],
      "text/plain": [
       "    Close_1   Close_2  Close_cur    Open_1    Open_2  Open_cur\n",
       "0  1.958333  1.729167   1.708333  2.437500  1.968750  1.760417\n",
       "1  1.729167  1.708333   1.635417  1.968750  1.760417  1.729167\n",
       "2  1.708333  1.635417   1.427083  1.760417  1.729167  1.635417\n",
       "3  1.635417  1.427083   1.395833  1.729167  1.635417  1.437500\n",
       "4  1.427083  1.395833   1.500000  1.635417  1.437500  1.406250"
      ]
     },
     "execution_count": 279,
     "metadata": {},
     "output_type": "execute_result"
    }
   ],
   "source": [
    "df = pd.read_csv('../data/AMZN.csv')\n",
    "\n",
    "df_past1 = df.iloc[:-2,[1,4]].values\n",
    "df_past2 = df.iloc[1:-1,[1,4]].values\n",
    "df_curr = df.iloc[2:,[1,4]].values\n",
    "\n",
    "df_regression = pd.DataFrame({\n",
    "    'Open_1':df_past1[:,0],\n",
    "    'Open_2':df_past2[:,0],\n",
    "    'Open_cur':df_curr[:,0],\n",
    "    'Close_1':df_past1[:,1],\n",
    "    'Close_2':df_past2[:,1],\n",
    "    'Close_cur':df_curr[:,1]\n",
    "})\n",
    "\n",
    "df_regression.head()"
   ]
  },
  {
   "cell_type": "code",
   "execution_count": 280,
   "metadata": {},
   "outputs": [
    {
     "data": {
      "text/plain": [
       "((5, 5268), (1, 5268))"
      ]
     },
     "execution_count": 280,
     "metadata": {},
     "output_type": "execute_result"
    }
   ],
   "source": [
    "X = np.asarray(df_regression[['Open_1', 'Open_2', 'Open_cur', 'Close_1', 'Close_2']]).T\n",
    "y = np.asarray(df_regression.Close_cur).reshape([1,-1])\n",
    "X.shape, y.shape"
   ]
  },
  {
   "cell_type": "code",
   "execution_count": 281,
   "metadata": {},
   "outputs": [
    {
     "name": "stdout",
     "output_type": "stream",
     "text": [
      "Train mean squared error: 24.408\n",
      "Test mean squared error: 470.408\n"
     ]
    }
   ],
   "source": [
    "X_train, X_test = X[:,:5000],X[:,5000:]\n",
    "y_train, y_test = y[:,:5000],y[:,5000:]\n",
    "d = model(X_train,y_train,X_test,y_test, num_iterations = 500, learning_rate=0.000001, print_cost = False)"
   ]
  },
  {
   "cell_type": "code",
   "execution_count": 282,
   "metadata": {},
   "outputs": [
    {
     "data": {
      "image/png": "[encoded data removed]",
      "text/plain": [
       "<matplotlib.figure.Figure at 0x7fb4ad5ace10>"
      ]
     },
     "metadata": {},
     "output_type": "display_data"
    }
   ],
   "source": [
    "plt.figure(figsize = (10,5))\n",
    "plt.plot(np.hstack([y_train[:,-10:],y_test]).reshape([-1]), label = 'actual')\n",
    "plt.plot(np.hstack([y_train[:,-10:],d['y_pred_test']]).reshape([-1]), label = 'predicted')\n",
    "plt.axvline(x=10, color = 'gray')\n",
    "plt.xlabel('time')\n",
    "plt.ylabel('AMZN')\n",
    "plt.legend()\n",
    "plt.show()"
   ]
  },
  {
   "cell_type": "markdown",
   "metadata": {},
   "source": [
    "## When Linear Regression fails (classification problems)\n",
    "\n",
    "Consider the dataset below that has statistics of preparation time vs. exam success:"
   ]
  },
  {
   "cell_type": "code",
   "execution_count": 283,
   "metadata": {},
   "outputs": [
    {
     "name": "stdout",
     "output_type": "stream",
     "text": [
      "   Unnamed: 0   hrs  success\n",
      "0           0  12.0      1.0\n",
      "1           1  14.0      1.0\n",
      "2           2   7.0      0.0\n",
      "3           3  15.0      0.0\n",
      "4           4  18.0      1.0\n"
     ]
    },
    {
     "data": {
      "text/plain": [
       "<matplotlib.text.Text at 0x7fb4ade12860>"
      ]
     },
     "execution_count": 283,
     "metadata": {},
     "output_type": "execute_result"
    },
    {
     "data": {
      "image/png": "[encoded data removed]",
      "text/plain": [
       "<matplotlib.figure.Figure at 0x7fb4d031ef98>"
      ]
     },
     "metadata": {},
     "output_type": "display_data"
    }
   ],
   "source": [
    "df_prep_success = pd.read_csv('../data/prep_vs_success.csv')\n",
    "print(df_prep_success.head())\n",
    "fig = plt.figure()\n",
    "ax = plt.subplot(111)\n",
    "ax.scatter(df_prep_success.hrs, df_prep_success.success)\n",
    "ax.set_xlabel('preparation, hours')\n",
    "ax.set_ylabel('success vs. failure')"
   ]
  },
  {
   "cell_type": "code",
   "execution_count": 332,
   "metadata": {},
   "outputs": [
    {
     "name": "stdout",
     "output_type": "stream",
     "text": [
      "Train mean squared error: 0.158\n",
      "Test mean squared error: 0.158\n"
     ]
    }
   ],
   "source": [
    "# Check and see that the linear regression cannot successfully model this data.\n",
    "X = np.asarray(df_prep_success.hrs).reshape([1,-1])\n",
    "y = np.asarray(df_prep_success.success).reshape([1,-1])\n",
    "d = model(X,y,X,y, num_iterations = 500, learning_rate=0.01, print_cost = False)"
   ]
  },
  {
   "cell_type": "code",
   "execution_count": 333,
   "metadata": {},
   "outputs": [
    {
     "data": {
      "text/plain": [
       "<matplotlib.text.Text at 0x7fb4d061ae10>"
      ]
     },
     "execution_count": 333,
     "metadata": {},
     "output_type": "execute_result"
    },
    {
     "data": {
      "image/png": "[encoded data removed]",
      "text/plain": [
       "<matplotlib.figure.Figure at 0x7fb4ce09d898>"
      ]
     },
     "metadata": {},
     "output_type": "display_data"
    }
   ],
   "source": [
    "fig = plt.figure()\n",
    "ax = plt.subplot(111)\n",
    "ax.scatter(df_prep_success.hrs, df_prep_success.success, label = '$y$')\n",
    "ax.scatter(X,d['y_pred_train'], label = '$\\hat{y}$')\n",
    "ax.legend()\n",
    "ax.set_xlabel('preparation, hours')\n",
    "ax.set_ylabel('success vs. failure')"
   ]
  },
  {
   "cell_type": "code",
   "execution_count": 334,
   "metadata": {},
   "outputs": [
    {
     "data": {
      "application/vnd.jupyter.widget-view+json": {
       "model_id": "a9572e7197124036bfbca93ebaf379e2",
       "version_major": 2,
       "version_minor": 0
      },
      "text/plain": [
       "interactive(children=(FloatSlider(value=49.0, description='w1', min=-1.0, step=0.5), FloatSlider(value=-45.0, …"
      ]
     },
     "metadata": {},
     "output_type": "display_data"
    }
   ],
   "source": [
    "def logistic_fit(w1, b):\n",
    "    a = w1*X+b\n",
    "    y_pred = 1/(1+np.exp(-a))\n",
    "    \n",
    "    err = np.abs(y_pred.reshape(-1)-df_prep_success.success) # what are the prediction errors?\n",
    "    success_count = np.sum(err < 0.5) # let us call errors of less than 0.5 'successes'\n",
    "   \n",
    "    fig = plt.figure()\n",
    "    ax = plt.subplot(111)\n",
    "    ax.scatter(df_prep_success.hrs, df_prep_success.success, label = '$y$')\n",
    "    ax.scatter(X,y_pred, label = '$\\hat{y}$', alpha = 0.7)\n",
    "    ax.legend()\n",
    "    ax.set_xlabel('preparation, hours')\n",
    "    ax.set_ylabel('success vs. failure')\n",
    "    \n",
    "    ax.set_title('No. of successful predictions: %d, %.2f%%'%(success_count,success_count/20.0*100.0))\n",
    "    ax.legend()\n",
    "    plt.show()\n",
    "    \n",
    "i_plot = interactive(logistic_fit, w1 = (-1,100,0.5), b = (-100.0,10.0,1.0))\n",
    "i_plot"
   ]
  },
  {
   "cell_type": "markdown",
   "metadata": {},
   "source": [
    "## The Logistic Regression\n",
    "\n",
    "### Forward propagation\n",
    "\n",
    "$a^{(i)} = W^Tx^{(i)}+b$\n",
    "\n",
    "$\\hat{y}^{(i)} = \\sigma\\left(a^{(i)}\\right) = \\frac{1}{1+e^{-a^{(i)}}}$\n",
    "\n",
    "### Loss function\n",
    "\n",
    "$L(\\hat{y}^{(i)}, y^{(i)}) = -y^{(i)} ln\\left(\\hat{y}^{(i)}\\right)-\\left(1-y^{(i)}\\right)ln\\left(1-\\hat{y}^{(i)}\\right)$\n",
    "\n",
    "### Cost\n",
    "\n",
    "$J = \\frac{1}{m}\\sum_{i=1}^m L(\\hat{y}^{(i)}, y^{(i)})$\n",
    "\n",
    "### Backward propagation\n",
    "\n",
    "$d\\hat{y}^{(i)} = \\frac{\\partial L}{\\partial \\hat{y}^{(i)}} = \\frac{1-y^{(i)}}{1-\\hat{y}^{(i)}}-\\frac{y^{(i)}}{\\hat{y}^{(i)}}$\n",
    "\n",
    "$da^{(i)} = \\frac{\\partial L}{\\partial a^{(i)}} = \\frac{\\partial L}{\\partial \\hat{y}^{(i)}} \\frac{\\partial \\hat{y}^{(i)}}{\\partial a^{(i)}} = d\\hat{y}^{(i)} \\hat{y}^{(i)} \\left(1-\\hat{y}^{(i)}\\right) = \\hat{y}^{(i)} - y^{(i)}$\n",
    "\n",
    "$dW^{(i)} = \\frac{\\partial L}{\\partial W^{(i)}} = da^{(i)} x^{(i)}$\n",
    "\n",
    "$db^{(i)} = da^{(i)}$\n",
    "\n",
    "### Update equations\n",
    "\n",
    "$dW = \\frac{1}{m} \\sum_{i=1}^{m} dW^{(i)}$\n",
    "\n",
    "$db = \\frac{1}{m} \\sum_{i=1}^{m} db^{(i)}$\n",
    "\n",
    "$W_{t+1} = W_{t} - \\alpha dW$\n",
    "\n",
    "$b_{t+1} = b_{t} - \\alpha db$"
   ]
  },
  {
   "cell_type": "code",
   "execution_count": 394,
   "metadata": {},
   "outputs": [],
   "source": [
    "# Make a synthetic dataset\n",
    "X, y = make_classification(random_state = 1\n",
    "                           , n_features = 2 # two features\n",
    "                           , n_redundant = 0) # no redundant features\n",
    "X = X.T\n",
    "y = y.reshape([1,-1])"
   ]
  },
  {
   "cell_type": "code",
   "execution_count": 395,
   "metadata": {},
   "outputs": [
    {
     "data": {
      "image/png": "[encoded data removed]",
      "text/plain": [
       "<matplotlib.figure.Figure at 0x7fb4cdd6eb70>"
      ]
     },
     "metadata": {},
     "output_type": "display_data"
    }
   ],
   "source": [
    "# Let's look at the data first\n",
    "fig = plt.figure(figsize = (10,4))\n",
    "ax = plt.subplot(121)\n",
    "ax.scatter(X[0,:],y)\n",
    "ax.set_xlabel('$X_0$')\n",
    "ax.set_ylabel('$y$')\n",
    "ax = plt.subplot(122)\n",
    "ax.scatter(X[1,:],y)\n",
    "ax.set_xlabel('$X_1$')\n",
    "ax.set_ylabel('$y$')\n",
    "plt.show()"
   ]
  },
  {
   "cell_type": "markdown",
   "metadata": {},
   "source": [
    "The code below is built similarly to the code for linear regression:"
   ]
  },
  {
   "cell_type": "code",
   "execution_count": 396,
   "metadata": {},
   "outputs": [
    {
     "name": "stdout",
     "output_type": "stream",
     "text": [
      "(20, 1) 0\n"
     ]
    }
   ],
   "source": [
    "# Initialize model parameters\n",
    "def initialize_with_zeros(dim):\n",
    "    W = np.zeros(shape=(dim,1))\n",
    "    b = 0\n",
    "    return W,b\n",
    "\n",
    "W,b = initialize_with_zeros(20)\n",
    "print(W.shape,b)"
   ]
  },
  {
   "cell_type": "markdown",
   "metadata": {},
   "source": [
    "Add the function to implement sigmoid, i.e. nonlinearity:"
   ]
  },
  {
   "cell_type": "code",
   "execution_count": 397,
   "metadata": {},
   "outputs": [
    {
     "name": "stdout",
     "output_type": "stream",
     "text": [
      "[  4.53978687e-05   1.23394576e-04   3.35350130e-04   9.11051194e-04\n",
      "   2.47262316e-03   6.69285092e-03   1.79862100e-02   4.74258732e-02\n",
      "   1.19202922e-01   2.68941421e-01   5.00000000e-01   7.31058579e-01\n",
      "   8.80797078e-01   9.52574127e-01   9.82013790e-01   9.93307149e-01\n",
      "   9.97527377e-01   9.99088949e-01   9.99664650e-01   9.99876605e-01]\n"
     ]
    }
   ],
   "source": [
    "def sigmoid(x):\n",
    "    return 1/(1+np.exp(-x))\n",
    "\n",
    "x = np.arange(-10,10,1)\n",
    "print(sigmoid(x))"
   ]
  },
  {
   "cell_type": "code",
   "execution_count": 398,
   "metadata": {},
   "outputs": [
    {
     "name": "stdout",
     "output_type": "stream",
     "text": [
      "{'dW': array([[-47.49083627],\n",
      "       [  6.28854069]]), 'db': 0.0} 0.69314718056 (2, 1)\n"
     ]
    }
   ],
   "source": [
    "# Forward propagation function\n",
    "def propagate(W, b, X, y):\n",
    "    # Forward propagation\n",
    "    a = np.dot(W.T,X)+b\n",
    "    y_hat = sigmoid(a)\n",
    "    losses = (-1)*(y*np.log(y_hat)+(1-y)*np.log(1-y_hat))\n",
    "    cost = np.mean(losses)\n",
    "    \n",
    "    # Backward propagation\n",
    "    da = y_hat-y\n",
    "    dW = np.dot(X,da.T)\n",
    "    db = np.mean(da)\n",
    "    \n",
    "    grads = {'dW':dW,'db':db}\n",
    "    return grads, cost\n",
    "\n",
    "W,b = initialize_with_zeros(X.shape[0])\n",
    "grads,cost = propagate(W,b,X,y)\n",
    "print(grads,cost, grads['dW'].shape)"
   ]
  },
  {
   "cell_type": "code",
   "execution_count": 399,
   "metadata": {},
   "outputs": [
    {
     "name": "stdout",
     "output_type": "stream",
     "text": [
      "Cost after iteration 0: 0.69\n",
      "Cost after iteration 10: 0.17\n",
      "Cost after iteration 20: 0.12\n",
      "Cost after iteration 30: 0.10\n",
      "Cost after iteration 40: 0.09\n",
      "Cost after iteration 50: 0.09\n",
      "Cost after iteration 60: 0.08\n",
      "Cost after iteration 70: 0.08\n",
      "Cost after iteration 80: 0.08\n",
      "Cost after iteration 90: 0.08\n"
     ]
    }
   ],
   "source": [
    "# Apply gradient descent to find model parameters \n",
    "\n",
    "def optimize(W,b,X,y,num_iterations, learning_rate, print_cost = False):\n",
    "    costs = []\n",
    "    for i in range(num_iterations):\n",
    "        grads, cost = propagate(W,b,X,y)\n",
    "        dW, db = grads['dW'], grads['db']\n",
    "        \n",
    "        W = W - dW*learning_rate\n",
    "        b = b - db*learning_rate\n",
    "        \n",
    "        costs.append(cost)\n",
    "        \n",
    "        if print_cost and i%10 == 0:\n",
    "            print(\"Cost after iteration %d: %.2f\"%(i,cost))\n",
    "            \n",
    "    params = {'W':W,'b':b}\n",
    "    grads = {'dW':dW,'db':db}\n",
    "        \n",
    "    return params, grads, costs\n",
    "\n",
    "params, grads, costs = optimize(W,b,X,y,num_iterations = 100, learning_rate = 0.01, print_cost = True)\n"
   ]
  },
  {
   "cell_type": "code",
   "execution_count": 400,
   "metadata": {},
   "outputs": [
    {
     "data": {
      "image/png": "[encoded data removed]",
      "text/plain": [
       "<matplotlib.figure.Figure at 0x7fb4adcc3240>"
      ]
     },
     "metadata": {},
     "output_type": "display_data"
    }
   ],
   "source": [
    "# Let's see how the cost function is decreasing\n",
    "fig = plt.figure()\n",
    "ax = plt.subplot(111)\n",
    "ax.plot(costs)\n",
    "ax.set_xlabel('# iterations')\n",
    "ax.set_ylabel('$J$')\n",
    "ax.set_title('Cost vs. iterations')\n",
    "plt.show()"
   ]
  },
  {
   "cell_type": "code",
   "execution_count": 401,
   "metadata": {},
   "outputs": [
    {
     "data": {
      "text/plain": [
       "array([ 0.99686681,  0.99840462,  0.01748314,  0.03021695,  0.00341896])"
      ]
     },
     "execution_count": 401,
     "metadata": {},
     "output_type": "execute_result"
    }
   ],
   "source": [
    "# Predict\n",
    "def predict(W,b,X):\n",
    "    y_pred = sigmoid(np.dot(W.T,X)+b)\n",
    "    return y_pred\n",
    "    \n",
    "y_pred = predict(params['W'],params['b'],X)\n",
    "y_pred[0,:5]"
   ]
  },
  {
   "cell_type": "code",
   "execution_count": 402,
   "metadata": {},
   "outputs": [
    {
     "name": "stdout",
     "output_type": "stream",
     "text": [
      "Cost after iteration 0: 0.69\n",
      "Cost after iteration 10: 0.22\n",
      "Cost after iteration 20: 0.16\n",
      "Cost after iteration 30: 0.14\n",
      "Cost after iteration 40: 0.12\n",
      "Cost after iteration 50: 0.12\n",
      "Cost after iteration 60: 0.11\n",
      "Cost after iteration 70: 0.11\n",
      "Cost after iteration 80: 0.10\n",
      "Cost after iteration 90: 0.10\n",
      "Train accuracy: 93.06%\n",
      "Test accuracy: 95.64%\n"
     ]
    }
   ],
   "source": [
    "# Logistic regression model\n",
    "\n",
    "def model(X_train, y_train, X_test, y_test, num_iterations = 100, learning_rate = 0.1, print_cost = False):\n",
    "    \n",
    "    assert X_train.shape[0] == X_test.shape[0] and X_train.shape[1] == y_train.shape[1]\n",
    "    assert X_test.shape[1] == y_test.shape[1] and y_train.shape[0] == 1 and y_test.shape[0] == 1\n",
    "    \n",
    "    num_features = X_train.shape[0]\n",
    "    W,b = initialize_with_zeros(X_train.shape[0])\n",
    "    \n",
    "    params, grads, costs = optimize(W,b,X_train,y_train,num_iterations,learning_rate,print_cost)\n",
    "    \n",
    "    W,b = params['W'], params['b']\n",
    "    \n",
    "    y_pred_test = predict(W,b,X_test)\n",
    "    y_pred_train = predict(W,b,X_train)\n",
    "\n",
    "    print(\"Train accuracy: %.2f%%\" % (100-np.mean(np.abs(y_pred_train-y_train))*100))\n",
    "    print(\"Test accuracy: %.2f%%\" % (100-np.mean(np.abs(y_pred_test-y_test))*100))\n",
    "    \n",
    "    d = {'costs': costs,\n",
    "        'y_pred_test':y_pred_test,\n",
    "        'y_pred_train':y_pred_train,\n",
    "        'w':W, 'b':b,\n",
    "        'learning_rate':learning_rate,'num_iterations':num_iterations}\n",
    "    return d\n",
    "    \n",
    "X_train, X_test = X[:,:70],X[:,70:] \n",
    "y_train, y_test = y[:,:70],y[:,70:] \n",
    "d = model(X_train,y_train,X_test,y_test, num_iterations = 100, learning_rate = 0.01, print_cost = True)"
   ]
  },
  {
   "cell_type": "code",
   "execution_count": 403,
   "metadata": {},
   "outputs": [
    {
     "data": {
      "image/png": "[encoded data removed]",
      "text/plain": [
       "<matplotlib.figure.Figure at 0x7fb4d057fdd8>"
      ]
     },
     "metadata": {},
     "output_type": "display_data"
    }
   ],
   "source": [
    "# Let's see how the model is doing on test data\n",
    "y_pred_test = d['y_pred_test']\n",
    "\n",
    "fig = plt.figure(figsize = (10,4))\n",
    "ax = fig.add_subplot(1,2,1)\n",
    "ax.scatter(X_test[0,:],y_test, label = 'y')\n",
    "ax.scatter(X_test[0,:],y_pred_test, label = '$\\hat{y}$',alpha = 0.5)\n",
    "ax.legend()\n",
    "ax = fig.add_subplot(1,2,2)\n",
    "ax.scatter(X_test[1,:],y_test, label = 'y')\n",
    "ax.scatter(X_test[1,:],y_pred_test, label = '$\\hat{y}$', alpha = 0.5)\n",
    "ax.legend()\n",
    "plt.show()"
   ]
  },
  {
   "cell_type": "code",
   "execution_count": 404,
   "metadata": {
    "collapsed": true
   },
   "outputs": [],
   "source": [
    "# Apply logistic regression on success vs. fail data"
   ]
  },
  {
   "cell_type": "markdown",
   "metadata": {},
   "source": [
    "## When the logistic regression fails...\n",
    "\n",
    "Logistic regression model can only model linearly separable classes of data. It is unable to do anything with exclusive OR (XOR): "
   ]
  },
  {
   "cell_type": "code",
   "execution_count": 405,
   "metadata": {},
   "outputs": [
    {
     "data": {
      "image/png": "[encoded data removed]",
      "text/plain": [
       "<matplotlib.figure.Figure at 0x7fb4add1aef0>"
      ]
     },
     "metadata": {},
     "output_type": "display_data"
    }
   ],
   "source": [
    "X = np.asarray([[0,0],[0,1],[1,0],[1,1]]).T \n",
    "y = np.asarray([0,1,1,0]).reshape([1,-1])\n",
    "\n",
    "plt.figure()\n",
    "plt.scatter(np.asarray([0,1]), np.asarray([0,1]), c = 'r', label = '$y$ = 0')\n",
    "plt.scatter(np.asarray([0,1]), np.asarray([1,0]), c = 'b', label = '$y$ = 1')\n",
    "plt.legend()\n",
    "plt.title('XOR visualization')\n",
    "plt.show()"
   ]
  },
  {
   "cell_type": "code",
   "execution_count": 406,
   "metadata": {},
   "outputs": [
    {
     "name": "stdout",
     "output_type": "stream",
     "text": [
      "Cost after iteration 0: 0.69\n",
      "Train accuracy: 50.00%\n",
      "Test accuracy: 50.00%\n",
      "[[ 0.5  0.5  0.5  0.5]]\n"
     ]
    }
   ],
   "source": [
    "d = model(X,y,X,y, num_iterations = 10, learning_rate = 0.5, \n",
    "          print_cost = True)\n",
    "print(d['y_pred_test'])"
   ]
  },
  {
   "cell_type": "markdown",
   "metadata": {
    "collapsed": true
   },
   "source": [
    "The logic function above can only be modelled by a combination of two (or more) logistic regressions, which is a topic of the following notebook (artificial neural networks)\n",
    "\n",
    "# Conclusion\n",
    "\n",
    "The code and formulae above explain how the algorithms find the best model parameters. If you do not need anything of the above, you can just use already implemented linear and logistic regressions:\n",
    "\n",
    "```python\n",
    "from sklearn.linear_model import LinearRegression\n",
    "from sklearn.linear_model import LogisticRegression\n",
    "\n",
    "# linear regression\n",
    "lr = LinearRegression()\n",
    "lr.fit(X_train,y_train)\n",
    "y_pred = lr.predict(X_test)\n",
    "\n",
    "# logistic regression\n",
    "logr = LinearRegression()\n",
    "logr.fit(X_train,y_train)\n",
    "y_pred = logr.predict(X_test)\n",
    "```"
   ]
  }
 ],
 "metadata": {
  "kernelspec": {
   "display_name": "Python 3",
   "language": "python",
   "name": "python3"
  },
  "language_info": {
   "codemirror_mode": {
    "name": "ipython",
    "version": 3
   },
   "file_extension": ".py",
   "mimetype": "text/x-python",
   "name": "python",
   "nbconvert_exporter": "python",
   "pygments_lexer": "ipython3",
   "version": "3.5.4"
  }
 },
 "nbformat": 4,
 "nbformat_minor": 2
}
