{
 "cells": [
  {
   "cell_type": "code",
   "execution_count": 231,
   "metadata": {
    "collapsed": true
   },
   "outputs": [],
   "source": [
    "import numpy as np\n",
    "import matplotlib.pyplot as plt\n",
    "import pandas as pd\n",
    "from sklearn.datasets import make_regression, make_classification\n",
    "from ipywidgets import interactive\n",
    "import ipywidgets as widgets\n",
    "\n",
    "%matplotlib inline"
   ]
  },
  {
   "cell_type": "markdown",
   "metadata": {},
   "source": [
    "# Introduction to Data Modeling\n",
    "\n",
    "## Linear Regression -- rather informal introduction\n",
    "\n",
    "The code below is based in part on Andrew Ng deep learning classes on Coursera. \n",
    "\n",
    "Let us make a synthetic dataset of house sale price based on number of bedrooms, sq. footage, and year built:"
   ]
  },
  {
   "cell_type": "code",
   "execution_count": 241,
   "metadata": {},
   "outputs": [
    {
     "name": "stdout",
     "output_type": "stream",
     "text": [
      "[105300, 110300, 115300, 120300, 125300, 130300, 135300, 140300, 145300, 150300, 155300, 160300, 165300, 170300, 175300]\n"
     ]
    },
    {
     "data": {
      "text/plain": [
       "<matplotlib.text.Text at 0x7fb4ac9052e8>"
      ]
     },
     "execution_count": 241,
     "metadata": {},
     "output_type": "execute_result"
    },
    {
     "data": {
      "image/png": "[encoded data removed]",
      "text/plain": [
       "<matplotlib.figure.Figure at 0x7fb4adbdb400>"
      ]
     },
     "metadata": {},
     "output_type": "display_data"
    }
   ],
   "source": [
    "# x1 -- number of bedrooms in a house\n",
    "# x2 -- sq. ft\n",
    "# x3 -- year built\n",
    "W = (15000, 50, -10)\n",
    "b = 30000\n",
    "\n",
    "def predict(x1,x2,x3,W,b):\n",
    "    return W[0]*x1+W[1]*x2+W[2]*x3+b\n",
    "\n",
    "y_pred = []\n",
    "\n",
    "for x2 in range(1000,2500,100):\n",
    "    y_pred.append(predict(3,x2,1970,W,b))\n",
    "\n",
    "print(y_pred)\n",
    "\n",
    "fig = plt.figure()\n",
    "ax = plt.subplot(111)\n",
    "ax.plot(np.arange(1000,2500,100), y_pred, )\n",
    "ax.set_xlabel('Sq. ft')\n",
    "ax.set_ylabel('House price, \\$')\n",
    "ax.set_title('House price vs. sq. ft')"
   ]
  },
  {
   "cell_type": "code",
   "execution_count": 14,
   "metadata": {
    "collapsed": true
   },
   "outputs": [],
   "source": [
    "# Figure out the w1-w3 and b that make the most sense according to your intuition"
   ]
  },
  {
   "cell_type": "markdown",
   "metadata": {},
   "source": [
    "## Advertising dataset\n",
    "\n",
    "This is a more realistic dataset of sales based on advertising on TV, Radio, and newspaper:"
   ]
  },
  {
   "cell_type": "code",
   "execution_count": 237,
   "metadata": {},
   "outputs": [
    {
     "data": {
      "application/vnd.jupyter.widget-view+json": {
       "model_id": "d59c369777f542b6b7e0c93eabce3c6a",
       "version_major": 2,
       "version_minor": 0
      },
      "text/plain": [
       "interactive(children=(FloatSlider(value=0.05, description='w1', max=0.1, step=0.01), FloatSlider(value=5.0, de…"
      ]
     },
     "metadata": {},
     "output_type": "display_data"
    }
   ],
   "source": [
    "df = pd.read_csv('../data/Advertising.csv')\n",
    "X = df.TV\n",
    "y = df.Sales\n",
    "\n",
    "def linear_fit(w1, b):\n",
    "    y_pred = w1*X+b\n",
    "    fig = plt.figure()\n",
    "    ax = fig.add_subplot(1,1,1)\n",
    "    ax.plot(X, y_pred, label = 'Linear regression (predicted)', color = 'r')\n",
    "    ax.scatter(X, y, label = 'Sales')\n",
    "    ax.set_xlabel('TV')\n",
    "    ax.set_ylabel('Sales')\n",
    "    ax.legend()\n",
    "    plt.show()\n",
    "    \n",
    "i_plot = interactive(linear_fit, w1 = (0.0,0.1,0.01), b = (0.0,10.0))\n",
    "i_plot"
   ]
  },
  {
   "cell_type": "markdown",
   "metadata": {},
   "source": [
    "How good is the linear regression? Let us compute the loss and the cost:\n",
    "\n",
    "Loss is the squared error between the predicted $\\hat{y}^{(i)}$ and true data $y^{(i)}$ for row $i$:\n",
    "\n",
    "$L(\\hat{y}^{(i)}, y^{(i)}) = \\frac{1}{2}(\\hat{y}^{(i)} - y^{(i)})^2$\n",
    "\n",
    "Cost -- is the average of losses at each point. Here, the cost is proportional to Mean Squared Error (MSE): \n",
    "\n",
    "$J = \\frac{1}{m}\\sum_{i=1}^m L(\\hat{y}^{(i)}, y^{(i)})$\n",
    "\n",
    "So, let's try again and minimize the cost:"
   ]
  },
  {
   "cell_type": "code",
   "execution_count": 238,
   "metadata": {},
   "outputs": [
    {
     "data": {
      "application/vnd.jupyter.widget-view+json": {
       "model_id": "7f54bf9455594d60af20ab3bdcdf9ea5",
       "version_major": 2,
       "version_minor": 0
      },
      "text/plain": [
       "interactive(children=(FloatSlider(value=0.05, description='w1', max=0.1, step=0.005), FloatSlider(value=5.0, d…"
      ]
     },
     "metadata": {},
     "output_type": "display_data"
    }
   ],
   "source": [
    "def linear_fit(w1, b):\n",
    "    y_pred = w1*X+b\n",
    "    Loss = (y-y_pred)**2\n",
    "    Cost = np.mean(Loss)\n",
    "    fig = plt.figure()\n",
    "    ax = fig.add_subplot(1,1,1)\n",
    "    ax.plot(X, y_pred, label = 'Linear regression (predicted)', color = 'r')\n",
    "    ax.scatter(X, y, label = 'Sales')\n",
    "    ax.set_xlabel('TV')\n",
    "    ax.set_ylabel('Sales')\n",
    "    \n",
    "    ax.set_title('Cost $J$= %.2f'%Cost)\n",
    "    ax.legend()\n",
    "    plt.show()\n",
    "    \n",
    "i_plot = interactive(linear_fit, w1 = (0.0,0.1,0.005), b = (0.0,10.0))\n",
    "i_plot"
   ]
  },
  {
   "cell_type": "markdown",
   "metadata": {},
   "source": [
    "## Linear Regression -- a little more formal intro\n",
    "\n",
    "### Notation\n",
    "\n",
    "$x^{(i)}$ -- Input i, vector of shape (num_features, 1)\n",
    "\n",
    "$y^{(i)}$, $\\hat{y}^{(i)}$ -- output i and predicted output i, vectors of shape (1,1)\n",
    "\n",
    "$W$ -- weights vector of shape (num_features, 1)\n",
    "\n",
    "$b$ -- b coefficient\n",
    "\n",
    "\n",
    "### Forward propagation\n",
    "\n",
    "$\\hat{y}^{(i)} = W^Tx^{(i)}+b$\n",
    "\n",
    "### Loss function\n",
    "\n",
    "$L(\\hat{y}^{(i)}, y^{(i)}) = \\frac{1}{2}(\\hat{y}^{(i)} - y^{(i)})^2$\n",
    "\n",
    "### Cost\n",
    "\n",
    "$J = \\frac{1}{m}\\sum_{i=1}^m L(\\hat{y}^{(i)}, y^{(i)})$\n",
    "\n",
    "### Backward propagation\n",
    "\n",
    "$d\\hat{y}^{(i)} = \\frac{\\partial L}{\\partial \\hat{y}^{(i)}} = \\left(\\hat{y}^{(i)} - y^{(i)}\\right)$\n",
    "\n",
    "$dW^{(i)} = \\frac{\\partial L}{\\partial W^{(i)}} = d\\hat{y}^{(i)} x^{(i)}$\n",
    "\n",
    "$db^{(i)} = d\\hat{y}^{(i)}$\n",
    "\n",
    "### Update equations\n",
    "\n",
    "$dW = \\frac{1}{m} \\sum_{i=1}^{m} dW^{(i)}$\n",
    "\n",
    "$db = \\frac{1}{m} \\sum_{i=1}^{m} db^{(i)}$\n",
    "\n",
    "$W_{t+1} = W_{t} - \\alpha dW$\n",
    "\n",
    "$b_{t+1} = b_{t} - \\alpha db$\n",
    "\n",
    "where $\\alpha$ -- learning rate\n",
    "\n",
    "Let us test the above equations on synthetic data: "
   ]
  },
  {
   "cell_type": "code",
   "execution_count": 240,
   "metadata": {
    "collapsed": true
   },
   "outputs": [],
   "source": [
    "# Make a synthetic dataset\n",
    "X, y = make_regression(n_features = 2, random_state = 10)\n",
    "\n",
    "X = X.T"
   ]
  },
  {
   "cell_type": "code",
   "execution_count": 115,
   "metadata": {},
   "outputs": [
    {
     "data": {
      "image/png": "[encoded data removed]",
      "text/plain": [
       "<matplotlib.figure.Figure at 0x7fb4d05ccba8>"
      ]
     },
     "metadata": {},
     "output_type": "display_data"
    }
   ],
   "source": [
    "# ... and look at the data\n",
    "fig = plt.figure(figsize = (10,4))\n",
    "ax = fig.add_subplot(1,2,1)\n",
    "ax.scatter(X[0,:],y)\n",
    "ax = fig.add_subplot(1,2,2)\n",
    "ax.scatter(X[1,:],y)\n",
    "plt.show()"
   ]
  },
  {
   "cell_type": "markdown",
   "metadata": {},
   "source": [
    "### Initialize linear regression"
   ]
  },
  {
   "cell_type": "code",
   "execution_count": 116,
   "metadata": {},
   "outputs": [
    {
     "name": "stdout",
     "output_type": "stream",
     "text": [
      "(2, 1) 0\n"
     ]
    }
   ],
   "source": [
    "# Initialize model parameters\n",
    "def initialize_with_zeros(dim):\n",
    "    W = np.zeros(shape=(dim, 1))\n",
    "    b = 0\n",
    "    return W,b\n",
    "\n",
    "W,b = initialize_with_zeros(2)\n",
    "print(W.shape,b)"
   ]
  },
  {
   "cell_type": "markdown",
   "metadata": {},
   "source": [
    "### Propagate"
   ]
  },
  {
   "cell_type": "code",
   "execution_count": 117,
   "metadata": {},
   "outputs": [
    {
     "name": "stdout",
     "output_type": "stream",
     "text": [
      "{'dW': array([[-88.55315301],\n",
      "       [-63.33512097]]), 'db': -13.103991362317949} 5443.86506746 (2, 1)\n"
     ]
    }
   ],
   "source": [
    "# Forward propagation function\n",
    "def propagate(W, b, X, y):\n",
    "    # Forward propagation\n",
    "    y_hat = np.dot(np.transpose(W),X)+b\n",
    "    cost = np.mean(0.5*(y-y_hat)**2)\n",
    "    \n",
    "    # Backward propagation\n",
    "    dy_hat = y_hat-y\n",
    "    \n",
    "    dW = np.mean(dy_hat*X, axis = 1, keepdims = True)\n",
    "    db = np.mean(dy_hat)\n",
    "    \n",
    "    grads = {'dW':dW,'db':db}\n",
    "    return grads, cost\n",
    "\n",
    "W,b = initialize_with_zeros(X.shape[0])\n",
    "grads,cost = propagate(W,b,X,y)\n",
    "print(grads,cost, grads['dW'].shape)"
   ]
  },
  {
   "cell_type": "markdown",
   "metadata": {},
   "source": [
    "### Apply gradient descent to model parameters"
   ]
  },
  {
   "cell_type": "code",
   "execution_count": 118,
   "metadata": {},
   "outputs": [
    {
     "name": "stdout",
     "output_type": "stream",
     "text": [
      "Cost after iteration 0: 5443.87\n",
      "Cost after iteration 10: 548.41\n",
      "Cost after iteration 20: 62.43\n",
      "Cost after iteration 30: 8.29\n",
      "Cost after iteration 40: 1.29\n",
      "Cost after iteration 50: 0.23\n",
      "Cost after iteration 60: 0.04\n",
      "Cost after iteration 70: 0.01\n",
      "Cost after iteration 80: 0.00\n",
      "Cost after iteration 90: 0.00\n"
     ]
    }
   ],
   "source": [
    "# Apply gradient descent to find model parameters \n",
    "\n",
    "def optimize(W,b,X,y,num_iterations, learning_rate, print_cost = False):\n",
    "    costs = []\n",
    "    for i in range(num_iterations):\n",
    "        grads, cost = propagate(W,b,X,y)\n",
    "        dW, db = grads['dW'], grads['db']\n",
    "        \n",
    "        W = W - learning_rate*dW\n",
    "        b = b - learning_rate*db\n",
    "        \n",
    "        costs.append(cost)\n",
    "        \n",
    "        if print_cost and i%10 == 0:\n",
    "            print(\"Cost after iteration %d: %.2f\"%(i,cost))\n",
    "            \n",
    "    params = {'W':W,'b':b}\n",
    "    grads = {'dW':dW,'db':db}\n",
    "        \n",
    "    return params, grads, costs\n",
    "\n",
    "params, grads, costs = optimize(W,b,X,y,num_iterations = 100, learning_rate = 0.1, print_cost = True)\n"
   ]
  },
  {
   "cell_type": "code",
   "execution_count": 119,
   "metadata": {},
   "outputs": [
    {
     "data": {
      "image/png": "[encoded data removed]",
      "text/plain": [
       "<matplotlib.figure.Figure at 0x7fb4db27e8d0>"
      ]
     },
     "metadata": {},
     "output_type": "display_data"
    }
   ],
   "source": [
    "# Let's see how the cost function is changing\n",
    "fig = plt.figure()\n",
    "ax = plt.subplot(111)\n",
    "ax.plot(costs)\n",
    "plt.show()"
   ]
  },
  {
   "cell_type": "markdown",
   "metadata": {},
   "source": [
    "### Predict function"
   ]
  },
  {
   "cell_type": "code",
   "execution_count": 120,
   "metadata": {
    "collapsed": true
   },
   "outputs": [],
   "source": [
    "# Predict\n",
    "def predict(W,b,X):\n",
    "    y_pred = np.dot(W.T,X)+b\n",
    "    return y_pred\n",
    "    \n",
    "y_pred = predict(params['W'],params['b'],X)"
   ]
  },
  {
   "cell_type": "code",
   "execution_count": 133,
   "metadata": {},
   "outputs": [
    {
     "name": "stdout",
     "output_type": "stream",
     "text": [
      "Cost after iteration 0: 5796.42\n",
      "Train mean squared error: 1000.067\n",
      "Test mean squared error: 868.477\n"
     ]
    }
   ],
   "source": [
    "# Linear regression model\n",
    "\n",
    "def model(X_train, y_train, X_test, y_test, num_iterations = 1000, learning_rate = 0.1, print_cost = False):\n",
    "    # Initialize the model\n",
    "    num_features = X_train.shape[0]\n",
    "    W,b = initialize_with_zeros(num_features)\n",
    "    \n",
    "    # Fit the model\n",
    "    params, grads, costs = optimize(W,b,X_train,y_train,num_iterations, learning_rate, print_cost)\n",
    "    \n",
    "    # Run predictions on the train and test datasets\n",
    "    W,b = params['W'], params['b']\n",
    "    y_pred_test = predict(W,b,X_test)\n",
    "    y_pred_train = predict(W,b,X_train)\n",
    "\n",
    "    print(\"Train mean squared error: %.3f\" % (np.mean((y_pred_train-y_train)**2)))\n",
    "    print(\"Test mean squared error: %.3f\" % (np.mean((y_pred_test-y_test)**2)))\n",
    "    \n",
    "    d = {'costs': costs,\n",
    "        'y_pred_test':y_pred_test,\n",
    "        'y_pred_train':y_pred_train,\n",
    "        'W':W, 'b':b,\n",
    "        'learning_rate':learning_rate,'num_iterations':num_iterations}\n",
    "    return d\n",
    "    \n",
    "X_train, X_test = X[:,:70],X[:,70:] \n",
    "y_train, y_test = y[:70],y[70:] \n",
    "d = model(X_train,y_train,X_test,y_test, num_iterations = 10, print_cost = True)"
   ]
  },
  {
   "cell_type": "code",
   "execution_count": 135,
   "metadata": {},
   "outputs": [
    {
     "data": {
      "image/png": "[encoded data removed]",
      "text/plain": [
       "<matplotlib.figure.Figure at 0x7fb4d023eda0>"
      ]
     },
     "metadata": {},
     "output_type": "display_data"
    }
   ],
   "source": [
    "# Let's see how the model is doing on the test data\n",
    "y_pred_test = d['y_pred_test']\n",
    "plt.figure(figsize = (10,4))\n",
    "ax = plt.subplot(121)\n",
    "ax.scatter(X_test[0,:],y_test, label = 'y')\n",
    "ax.scatter(X_test[0,:],y_pred_test, label = '$\\hat{y}$',alpha = 0.5)\n",
    "ax.set_xlabel('$X_1$')\n",
    "ax.legend()\n",
    "ax = plt.subplot(122)\n",
    "ax.scatter(X_test[1,:],y_test, label = 'y')\n",
    "ax.scatter(X_test[1,:],y_pred_test, label = '$\\hat{y}$', alpha = 0.5)\n",
    "ax.set_xlabel('$X_2$')\n",
    "ax.legend()\n",
    "plt.show()"
   ]
  },
  {
   "cell_type": "markdown",
   "metadata": {},
   "source": [
    "Try to get a better model by:\n",
    "\n",
    "* Changing num_iterations\n",
    "* Changing learning_rate\n",
    "\n",
    "Explain the model: What do W's and b mean? How can this model be expressed as an equation? Write model equations, using $$\n",
    "\n",
    "## Advertising dataset\n",
    "Apply Linear regression to predict sales based on TV, Radio, and Newspaper in Advertising dataset:"
   ]
  },
  {
   "cell_type": "code",
   "execution_count": 143,
   "metadata": {},
   "outputs": [
    {
     "data": {
      "text/plain": [
       "((3, 200), (1, 200))"
      ]
     },
     "execution_count": 143,
     "metadata": {},
     "output_type": "execute_result"
    }
   ],
   "source": [
    "# Use linear regression to predict the amount of sales in the Advertising dataset. What is the model error? \n",
    "# Express the model as above\n",
    "df = pd.read_csv(\"../data/Advertising.csv\")\n",
    "df.head()\n",
    "X = np.asarray(df[['TV','Radio','Newspaper']]).T # transform the data\n",
    "y = np.asarray(df['Sales']).reshape([1,-1]) # transform the outputs\n",
    "X.shape, y.shape"
   ]
  },
  {
   "cell_type": "code",
   "execution_count": null,
   "metadata": {
    "collapsed": true
   },
   "outputs": [],
   "source": []
  },
  {
   "cell_type": "markdown",
   "metadata": {},
   "source": [
    "## AMZN\n",
    "Apply linear regression to predict AMZN"
   ]
  },
  {
   "cell_type": "code",
   "execution_count": 145,
   "metadata": {},
   "outputs": [
    {
     "data": {
      "text/html": [
       "<div>\n",
       "<style>\n",
       "    .dataframe thead tr:only-child th {\n",
       "        text-align: right;\n",
       "    }\n",
       "\n",
       "    .dataframe thead th {\n",
       "        text-align: left;\n",
       "    }\n",
       "\n",
       "    .dataframe tbody tr th {\n",
       "        vertical-align: top;\n",
       "    }\n",
       "</style>\n",
       "<table border=\"1\" class=\"dataframe\">\n",
       "  <thead>\n",
       "    <tr style=\"text-align: right;\">\n",
       "      <th></th>\n",
       "      <th>Close_1</th>\n",
       "      <th>Close_2</th>\n",
       "      <th>Close_cur</th>\n",
       "      <th>Open_1</th>\n",
       "      <th>Open_2</th>\n",
       "      <th>Open_cur</th>\n",
       "    </tr>\n",
       "  </thead>\n",
       "  <tbody>\n",
       "    <tr>\n",
       "      <th>0</th>\n",
       "      <td>1.958333</td>\n",
       "      <td>1.729167</td>\n",
       "      <td>1.708333</td>\n",
       "      <td>2.437500</td>\n",
       "      <td>1.968750</td>\n",
       "      <td>1.760417</td>\n",
       "    </tr>\n",
       "    <tr>\n",
       "      <th>1</th>\n",
       "      <td>1.729167</td>\n",
       "      <td>1.708333</td>\n",
       "      <td>1.635417</td>\n",
       "      <td>1.968750</td>\n",
       "      <td>1.760417</td>\n",
       "      <td>1.729167</td>\n",
       "    </tr>\n",
       "    <tr>\n",
       "      <th>2</th>\n",
       "      <td>1.708333</td>\n",
       "      <td>1.635417</td>\n",
       "      <td>1.427083</td>\n",
       "      <td>1.760417</td>\n",
       "      <td>1.729167</td>\n",
       "      <td>1.635417</td>\n",
       "    </tr>\n",
       "    <tr>\n",
       "      <th>3</th>\n",
       "      <td>1.635417</td>\n",
       "      <td>1.427083</td>\n",
       "      <td>1.395833</td>\n",
       "      <td>1.729167</td>\n",
       "      <td>1.635417</td>\n",
       "      <td>1.437500</td>\n",
       "    </tr>\n",
       "    <tr>\n",
       "      <th>4</th>\n",
       "      <td>1.427083</td>\n",
       "      <td>1.395833</td>\n",
       "      <td>1.500000</td>\n",
       "      <td>1.635417</td>\n",
       "      <td>1.437500</td>\n",
       "      <td>1.406250</td>\n",
       "    </tr>\n",
       "  </tbody>\n",
       "</table>\n",
       "</div>"
      ],
      "text/plain": [
       "    Close_1   Close_2  Close_cur    Open_1    Open_2  Open_cur\n",
       "0  1.958333  1.729167   1.708333  2.437500  1.968750  1.760417\n",
       "1  1.729167  1.708333   1.635417  1.968750  1.760417  1.729167\n",
       "2  1.708333  1.635417   1.427083  1.760417  1.729167  1.635417\n",
       "3  1.635417  1.427083   1.395833  1.729167  1.635417  1.437500\n",
       "4  1.427083  1.395833   1.500000  1.635417  1.437500  1.406250"
      ]
     },
     "execution_count": 145,
     "metadata": {},
     "output_type": "execute_result"
    }
   ],
   "source": [
    "df = pd.read_csv('../data/AMZN.csv')\n",
    "\n",
    "df_past1 = df.iloc[:-2,[1,4]].values\n",
    "df_past2 = df.iloc[1:-1,[1,4]].values\n",
    "df_curr = df.iloc[2:,[1,4]].values\n",
    "\n",
    "df_regression = pd.DataFrame({\n",
    "    'Open_1':df_past1[:,0],\n",
    "    'Open_2':df_past2[:,0],\n",
    "    'Open_cur':df_curr[:,0],\n",
    "    'Close_1':df_past1[:,1],\n",
    "    'Close_2':df_past2[:,1],\n",
    "    'Close_cur':df_curr[:,1]\n",
    "})\n",
    "\n",
    "df_regression.head()"
   ]
  },
  {
   "cell_type": "code",
   "execution_count": 147,
   "metadata": {},
   "outputs": [
    {
     "data": {
      "text/plain": [
       "((5, 5268), (1, 5268))"
      ]
     },
     "execution_count": 147,
     "metadata": {},
     "output_type": "execute_result"
    }
   ],
   "source": [
    "X = np.asarray(df_regression[['Open_1', 'Open_2', 'Open_cur', 'Close_1', 'Close_2']]).T\n",
    "y = np.asarray(df_regression.Close_cur).reshape([1,-1])\n",
    "X.shape, y.shape"
   ]
  },
  {
   "cell_type": "code",
   "execution_count": 152,
   "metadata": {},
   "outputs": [
    {
     "name": "stdout",
     "output_type": "stream",
     "text": [
      "Train mean squared error: 24.408\n",
      "Test mean squared error: 470.408\n"
     ]
    }
   ],
   "source": [
    "X_train, X_test = X[:,:5000],X[:,5000:]\n",
    "y_train, y_test = y[:,:5000],y[:,5000:]\n",
    "d = model(X_train,y_train,X_test,y_test, num_iterations = 500, learning_rate=0.000001, print_cost = False)"
   ]
  },
  {
   "cell_type": "code",
   "execution_count": 184,
   "metadata": {},
   "outputs": [
    {
     "data": {
      "image/png": "[encoded data removed]",
      "text/plain": [
       "<matplotlib.figure.Figure at 0x7fb4ae2660f0>"
      ]
     },
     "metadata": {},
     "output_type": "display_data"
    }
   ],
   "source": [
    "plt.figure(figsize = (10,5))\n",
    "plt.plot(np.hstack([y_train[:,-10:],y_test]).reshape([-1]), label = 'actual')\n",
    "plt.plot(np.hstack([y_train[:,-10:],d['y_pred_test']]).reshape([-1]), label = 'predicted')\n",
    "plt.axvline(x=10, color = 'gray')\n",
    "plt.legend()\n",
    "plt.show()"
   ]
  },
  {
   "cell_type": "markdown",
   "metadata": {},
   "source": [
    "## When Linear Regression fails\n",
    "\n",
    "Consider the dataset below that has statistics of preparation time vs. exam success:"
   ]
  },
  {
   "cell_type": "code",
   "execution_count": 188,
   "metadata": {},
   "outputs": [
    {
     "name": "stdout",
     "output_type": "stream",
     "text": [
      "   Unnamed: 0   hrs  success\n",
      "0           0  12.0      1.0\n",
      "1           1  14.0      1.0\n",
      "2           2   7.0      0.0\n",
      "3           3  15.0      0.0\n",
      "4           4  18.0      1.0\n"
     ]
    },
    {
     "data": {
      "text/plain": [
       "<matplotlib.text.Text at 0x7fb4ae223278>"
      ]
     },
     "execution_count": 188,
     "metadata": {},
     "output_type": "execute_result"
    },
    {
     "data": {
      "image/png": "[encoded data removed]",
      "text/plain": [
       "<matplotlib.figure.Figure at 0x7fb4ae22f2e8>"
      ]
     },
     "metadata": {},
     "output_type": "display_data"
    }
   ],
   "source": [
    "df_prep_success = pd.read_csv('../data/prep_vs_success.csv')\n",
    "print(df_prep_success.head())\n",
    "fig = plt.figure()\n",
    "ax = plt.subplot(111)\n",
    "ax.scatter(df_prep_success.hrs, df_prep_success.success)\n",
    "ax.set_xlabel('preparation, hours')\n",
    "ax.set_ylabel('success vs. failure')"
   ]
  },
  {
   "cell_type": "code",
   "execution_count": 198,
   "metadata": {},
   "outputs": [
    {
     "name": "stdout",
     "output_type": "stream",
     "text": [
      "Train mean squared error: 0.158\n",
      "Test mean squared error: 0.158\n"
     ]
    }
   ],
   "source": [
    "# Check and see that the linear regression cannot successfully model this data.\n",
    "X = np.asarray(df_prep_success.hrs).reshape([1,-1])\n",
    "y = np.asarray(df_prep_success.success).reshape([1,-1])\n",
    "d = model(X,y,X,y, num_iterations = 500, learning_rate=0.01, print_cost = False)"
   ]
  },
  {
   "cell_type": "code",
   "execution_count": 199,
   "metadata": {},
   "outputs": [
    {
     "data": {
      "text/plain": [
       "<matplotlib.legend.Legend at 0x7fb4d0528518>"
      ]
     },
     "execution_count": 199,
     "metadata": {},
     "output_type": "execute_result"
    },
    {
     "data": {
      "image/png": "[encoded data removed]",
      "text/plain": [
       "<matplotlib.figure.Figure at 0x7fb4ade93a58>"
      ]
     },
     "metadata": {},
     "output_type": "display_data"
    }
   ],
   "source": [
    "fig = plt.figure()\n",
    "ax = plt.subplot(111)\n",
    "ax.scatter(df_prep_success.hrs, df_prep_success.success, label = '$y$')\n",
    "ax.scatter(X,d['y_pred_train'], label = '$\\hat{y}$')\n",
    "ax.legend()"
   ]
  },
  {
   "cell_type": "markdown",
   "metadata": {},
   "source": [
    "## The Logistic Regression\n",
    "\n",
    "### Forward propagation\n",
    "\n",
    "$a^{(i)} = W^Tx^{(i)}+b$\n",
    "\n",
    "$\\hat{y}^{(i)} = \\sigma\\left(a^{(i)}\\right) = \\frac{1}{1+e^{-a^{(i)}}}$\n",
    "\n",
    "### Loss function\n",
    "\n",
    "$L(\\hat{y}^{(i)}, y^{(i)}) = -y^{(i)} ln\\left(\\hat{y}^{(i)}\\right)-\\left(1-y^{(i)}\\right)ln\\left(1-\\hat{y}^{(i)}\\right)$\n",
    "\n",
    "### Cost\n",
    "\n",
    "$J = \\frac{1}{m}\\sum_{i=1}^m L(\\hat{y}^{(i)}, y^{(i)})$\n",
    "\n",
    "### Backward propagation\n",
    "\n",
    "$d\\hat{y}^{(i)} = \\frac{\\partial L}{\\partial \\hat{y}^{(i)}} = \\frac{1-y^{(i)}}{1-\\hat{y}^{(i)}}-\\frac{y^{(i)}}{\\hat{y}^{(i)}}$\n",
    "\n",
    "$da^{(i)} = \\frac{\\partial L}{\\partial a^{(i)}} = \\frac{\\partial L}{\\partial \\hat{y}^{(i)}} \\frac{\\partial \\hat{y}^{(i)}}{\\partial a^{(i)}} = d\\hat{y}^{(i)} \\hat{y}^{(i)} \\left(1-\\hat{y}^{(i)}\\right) = \\hat{y}^{(i)} - y^{(i)}$\n",
    "\n",
    "$dW^{(i)} = \\frac{\\partial L}{\\partial W^{(i)}} = da^{(i)} x^{(i)}$\n",
    "\n",
    "$db^{(i)} = da^{(i)}$\n",
    "\n",
    "### Update equations\n",
    "\n",
    "$dW = \\frac{1}{m} \\sum_{i=1}^{m} dW^{(i)}$\n",
    "\n",
    "$db = \\frac{1}{m} \\sum_{i=1}^{m} db^{(i)}$\n",
    "\n",
    "$W_{t+1} = W_{t} - \\alpha dW$\n",
    "\n",
    "$b_{t+1} = b_{t} - \\alpha db$"
   ]
  },
  {
   "cell_type": "code",
   "execution_count": 212,
   "metadata": {
    "collapsed": true
   },
   "outputs": [],
   "source": [
    "# Make a synthetic dataset\n",
    "X, y = make_classification(random_state = 1)\n",
    "X = X.T\n",
    "y = y.reshape([1,-1])"
   ]
  },
  {
   "cell_type": "code",
   "execution_count": 219,
   "metadata": {},
   "outputs": [
    {
     "data": {
      "image/png": "[encoded data removed]",
      "text/plain": [
       "<matplotlib.figure.Figure at 0x7fb4d00961d0>"
      ]
     },
     "metadata": {},
     "output_type": "display_data"
    }
   ],
   "source": [
    "# Let's look at the data first\n",
    "fig = plt.figure(figsize = (10,4))\n",
    "ax = plt.subplot(121)\n",
    "ax.scatter(X[0,:],y)\n",
    "ax = plt.subplot(122)\n",
    "ax.scatter(X[1,:],y)\n",
    "plt.show()"
   ]
  },
  {
   "cell_type": "code",
   "execution_count": 214,
   "metadata": {},
   "outputs": [
    {
     "name": "stdout",
     "output_type": "stream",
     "text": [
      "(20, 1) 0\n"
     ]
    }
   ],
   "source": [
    "# Initialize model parameters\n",
    "def initialize_with_zeros(dim):\n",
    "    W = np.zeros(shape=(dim,1))\n",
    "    b = 0\n",
    "    return W,b\n",
    "\n",
    "W,b = initialize_with_zeros(20)\n",
    "print(W.shape,b)"
   ]
  },
  {
   "cell_type": "code",
   "execution_count": 215,
   "metadata": {},
   "outputs": [
    {
     "name": "stdout",
     "output_type": "stream",
     "text": [
      "[  4.53978687e-05   1.23394576e-04   3.35350130e-04   9.11051194e-04\n",
      "   2.47262316e-03   6.69285092e-03   1.79862100e-02   4.74258732e-02\n",
      "   1.19202922e-01   2.68941421e-01   5.00000000e-01   7.31058579e-01\n",
      "   8.80797078e-01   9.52574127e-01   9.82013790e-01   9.93307149e-01\n",
      "   9.97527377e-01   9.99088949e-01   9.99664650e-01   9.99876605e-01]\n"
     ]
    }
   ],
   "source": [
    "def sigmoid(x):\n",
    "    return 1/(1+np.exp(-x))\n",
    "\n",
    "x = np.arange(-10,10,1)\n",
    "print(sigmoid(x))"
   ]
  },
  {
   "cell_type": "code",
   "execution_count": 216,
   "metadata": {},
   "outputs": [
    {
     "name": "stdout",
     "output_type": "stream",
     "text": [
      "{'dW': array([[ -6.29471601],\n",
      "       [-46.70389356],\n",
      "       [  3.5235547 ],\n",
      "       [  4.06353926],\n",
      "       [  1.3356513 ],\n",
      "       [ -9.70339034],\n",
      "       [ 11.28384449],\n",
      "       [-14.2863476 ],\n",
      "       [  6.496852  ],\n",
      "       [  0.8415063 ],\n",
      "       [  5.91042449],\n",
      "       [ -1.78381897],\n",
      "       [ -1.93035771],\n",
      "       [  7.23148948],\n",
      "       [ 27.30509545],\n",
      "       [ -1.96785674],\n",
      "       [  3.86328287],\n",
      "       [  2.95265901],\n",
      "       [ -5.05509597],\n",
      "       [  2.35232003]]), 'db': 0.01} 0.69314718056 (20, 1)\n"
     ]
    }
   ],
   "source": [
    "# Forward propagation function\n",
    "def propagate(W, b, X, y):\n",
    "    # Forward propagation\n",
    "    a = np.dot(W.T,X)+b\n",
    "    y_hat = sigmoid(a)\n",
    "    losses = (-1)*(y*np.log(y_hat)+(1-y)*np.log(1-y_hat))\n",
    "    cost = np.mean(losses)\n",
    "    \n",
    "    # Backward propagation\n",
    "    da = y_hat-y\n",
    "    dW = np.dot(X,da.T)\n",
    "    db = np.mean(da)\n",
    "    \n",
    "    grads = {'dW':dW,'db':db}\n",
    "    return grads, cost\n",
    "\n",
    "W,b = initialize_with_zeros(X.shape[0])\n",
    "grads,cost = propagate(W,b,X,y)\n",
    "print(grads,cost, grads['dW'].shape)"
   ]
  },
  {
   "cell_type": "code",
   "execution_count": 217,
   "metadata": {},
   "outputs": [
    {
     "name": "stdout",
     "output_type": "stream",
     "text": [
      "Cost after iteration 0: 0.69\n",
      "Cost after iteration 10: 0.14\n",
      "Cost after iteration 20: 0.10\n",
      "Cost after iteration 30: 0.09\n",
      "Cost after iteration 40: 0.08\n",
      "Cost after iteration 50: 0.07\n",
      "Cost after iteration 60: 0.06\n",
      "Cost after iteration 70: 0.06\n",
      "Cost after iteration 80: 0.06\n",
      "Cost after iteration 90: 0.05\n"
     ]
    }
   ],
   "source": [
    "# Apply gradient descent to find model parameters \n",
    "\n",
    "def optimize(W,b,X,y,num_iterations, learning_rate, print_cost = False):\n",
    "    costs = []\n",
    "    for i in range(num_iterations):\n",
    "        grads, cost = propagate(W,b,X,y)\n",
    "        dW, db = grads['dW'], grads['db']\n",
    "        \n",
    "        W = W - dW*learning_rate\n",
    "        b = b - db*learning_rate\n",
    "        \n",
    "        costs.append(cost)\n",
    "        \n",
    "        if print_cost and i%10 == 0:\n",
    "            print(\"Cost after iteration %d: %.2f\"%(i,cost))\n",
    "            \n",
    "    params = {'W':W,'b':b}\n",
    "    grads = {'dW':dW,'db':db}\n",
    "        \n",
    "    return params, grads, costs\n",
    "\n",
    "params, grads, costs = optimize(W,b,X,y,num_iterations = 100, learning_rate = 0.01, print_cost = True)\n"
   ]
  },
  {
   "cell_type": "code",
   "execution_count": 220,
   "metadata": {},
   "outputs": [
    {
     "data": {
      "image/png": "[encoded data removed]",
      "text/plain": [
       "<matplotlib.figure.Figure at 0x7fb4ae2257f0>"
      ]
     },
     "metadata": {},
     "output_type": "display_data"
    }
   ],
   "source": [
    "# Let's see how the cost function is decreasing\n",
    "fig = plt.figure()\n",
    "ax = plt.subplot(111)\n",
    "ax.plot(costs)\n",
    "plt.show()"
   ]
  },
  {
   "cell_type": "code",
   "execution_count": 221,
   "metadata": {
    "collapsed": true
   },
   "outputs": [],
   "source": [
    "# Predict\n",
    "def predict(W,b,X):\n",
    "    y_pred = sigmoid(np.dot(W.T,X)+b)\n",
    "    return y_pred\n",
    "    \n",
    "y_pred = predict(params['W'],params['b'],X)\n",
    "#print(y_pred)"
   ]
  },
  {
   "cell_type": "code",
   "execution_count": 222,
   "metadata": {},
   "outputs": [
    {
     "name": "stdout",
     "output_type": "stream",
     "text": [
      "Cost after iteration 0: 0.69\n",
      "Cost after iteration 10: 0.17\n",
      "Cost after iteration 20: 0.11\n",
      "Cost after iteration 30: 0.09\n",
      "Cost after iteration 40: 0.08\n",
      "Cost after iteration 50: 0.07\n",
      "Cost after iteration 60: 0.06\n",
      "Cost after iteration 70: 0.06\n",
      "Cost after iteration 80: 0.05\n",
      "Cost after iteration 90: 0.05\n",
      "Train accuracy: 95.79%\n",
      "Test accuracy: 93.90%\n"
     ]
    }
   ],
   "source": [
    "# Logistic regression model\n",
    "\n",
    "def model(X_train, y_train, X_test, y_test, num_iterations = 100, learning_rate = 0.1, print_cost = False):\n",
    "    \n",
    "    assert X_train.shape[0] == X_test.shape[0] and X_train.shape[1] == y_train.shape[1]\n",
    "    assert X_test.shape[1] == y_test.shape[1] and y_train.shape[0] == 1 and y_test.shape[0] == 1\n",
    "    \n",
    "    num_features = X_train.shape[0]\n",
    "    W,b = initialize_with_zeros(X_train.shape[0])\n",
    "    \n",
    "    params, grads, costs = optimize(W,b,X_train,y_train,num_iterations,learning_rate,print_cost)\n",
    "    \n",
    "    W,b = params['W'], params['b']\n",
    "    \n",
    "    y_pred_test = predict(W,b,X_test)\n",
    "    y_pred_train = predict(W,b,X_train)\n",
    "\n",
    "    print(\"Train accuracy: %.2f%%\" % (100-np.mean(np.abs(y_pred_train-y_train))*100))\n",
    "    print(\"Test accuracy: %.2f%%\" % (100-np.mean(np.abs(y_pred_test-y_test))*100))\n",
    "    \n",
    "    d = {'costs': costs,\n",
    "        'y_pred_test':y_pred_test,\n",
    "        'y_pred_train':y_pred_train,\n",
    "        'w':W, 'b':b,\n",
    "        'learning_rate':learning_rate,'num_iterations':num_iterations}\n",
    "    return d\n",
    "    \n",
    "X_train, X_test = X[:,:70],X[:,70:] \n",
    "y_train, y_test = y[:,:70],y[:,70:] \n",
    "d = model(X_train,y_train,X_test,y_test, num_iterations = 100, learning_rate = 0.01, print_cost = True)"
   ]
  },
  {
   "cell_type": "code",
   "execution_count": 223,
   "metadata": {},
   "outputs": [
    {
     "data": {
      "image/png": "[encoded data removed]",
      "text/plain": [
       "<matplotlib.figure.Figure at 0x7fb4d02b5860>"
      ]
     },
     "metadata": {},
     "output_type": "display_data"
    }
   ],
   "source": [
    "# Let's see how the model is doing on test data\n",
    "y_pred_test = d['y_pred_test']\n",
    "\n",
    "fig = plt.figure(figsize = (10,4))\n",
    "ax = fig.add_subplot(1,2,1)\n",
    "ax.scatter(X_test[0,:],y_test, label = 'y')\n",
    "ax.scatter(X_test[0,:],y_pred_test, label = '$\\hat{y}$',alpha = 0.5)\n",
    "ax.legend()\n",
    "ax = fig.add_subplot(1,2,2)\n",
    "ax.scatter(X_test[1,:],y_test, label = 'y')\n",
    "ax.scatter(X_test[1,:],y_pred_test, label = '$\\hat{y}$', alpha = 0.5)\n",
    "ax.legend()\n",
    "plt.show()"
   ]
  },
  {
   "cell_type": "code",
   "execution_count": 224,
   "metadata": {
    "collapsed": true
   },
   "outputs": [],
   "source": [
    "# Apply logistic regression on success vs. fail data"
   ]
  },
  {
   "cell_type": "markdown",
   "metadata": {},
   "source": [
    "## When the logistic regression fails...\n",
    "\n",
    "Logistic regression model cannot do anything with an exclusive 'OR' function:"
   ]
  },
  {
   "cell_type": "code",
   "execution_count": 230,
   "metadata": {},
   "outputs": [
    {
     "name": "stdout",
     "output_type": "stream",
     "text": [
      "(2, 4) (1, 4)\n",
      "Cost after iteration 0: 0.69\n",
      "Cost after iteration 10: 0.69\n",
      "Train accuracy: 50.00%\n",
      "Test accuracy: 50.00%\n",
      "[[ 0.5  0.5  0.5  0.5]]\n"
     ]
    }
   ],
   "source": [
    "X = np.asarray([[0,0],[0,1],[1,0],[1,1]]).T \n",
    "y = np.asarray([0,1,1,0]).reshape([1,-1])\n",
    "\n",
    "print(X.shape,y.shape)\n",
    "\n",
    "d = model(X,y,X,y, num_iterations = 20, learning_rate = 0.1, \n",
    "          print_cost = True)\n",
    "print(d['y_pred_test'])"
   ]
  },
  {
   "cell_type": "code",
   "execution_count": null,
   "metadata": {
    "collapsed": true
   },
   "outputs": [],
   "source": []
  }
 ],
 "metadata": {
  "kernelspec": {
   "display_name": "Python 3",
   "language": "python",
   "name": "python3"
  },
  "language_info": {
   "codemirror_mode": {
    "name": "ipython",
    "version": 3
   },
   "file_extension": ".py",
   "mimetype": "text/x-python",
   "name": "python",
   "nbconvert_exporter": "python",
   "pygments_lexer": "ipython3",
   "version": "3.5.4"
  }
 },
 "nbformat": 4,
 "nbformat_minor": 2
}
