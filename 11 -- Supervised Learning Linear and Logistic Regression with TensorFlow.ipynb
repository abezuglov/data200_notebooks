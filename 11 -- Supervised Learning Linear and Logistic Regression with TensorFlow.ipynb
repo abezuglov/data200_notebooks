{
 "cells": [
  {
   "cell_type": "code",
   "execution_count": 1,
   "metadata": {
    "collapsed": true
   },
   "outputs": [],
   "source": [
    "import numpy as np\n",
    "import matplotlib.pyplot as plt\n",
    "import pandas as pd\n",
    "from sklearn.datasets import make_regression, make_classification\n",
    "import tensorflow as tf\n",
    "%matplotlib inline"
   ]
  },
  {
   "cell_type": "markdown",
   "metadata": {},
   "source": [
    "# Tensorflow\n",
    "* Placeholders -- input and output data\n",
    "* Variables -- updateable parameters of the graph\n",
    "\n",
    "## Computing simple functions with Tensorflow\n",
    "\n",
    "Calculate function: $Y = 2*X$"
   ]
  },
  {
   "cell_type": "code",
   "execution_count": 3,
   "metadata": {},
   "outputs": [
    {
     "name": "stdout",
     "output_type": "stream",
     "text": [
      "[array([  0.,   2.,   4.,   6.,   8.,  10.,  12.,  14.,  16.,  18.], dtype=float32)]\n"
     ]
    }
   ],
   "source": [
    "tf.reset_default_graph()\n",
    "\n",
    "# Part 1: Make the computation graph\n",
    "X_tensor = tf.placeholder(tf.float32, [None], name = 'X') # tensor X with shape None, i.e. one dim array\n",
    "Y_tensor = 2*X_tensor # tensor Y\n",
    "\n",
    "# Part 2: Execute the computation graph\n",
    "X = np.arange(10) # here are some values for X\n",
    "\n",
    "sess = tf.Session() # open a session\n",
    "Y = sess.run( # run session\n",
    "    [Y_tensor], # tensor to evaluate\n",
    "    feed_dict={X_tensor:X}) # values for the placeholders\n",
    "\n",
    "print(Y)"
   ]
  },
  {
   "cell_type": "markdown",
   "metadata": {},
   "source": [
    "Calculate function Z = X + sin(Y)"
   ]
  },
  {
   "cell_type": "code",
   "execution_count": 4,
   "metadata": {},
   "outputs": [
    {
     "name": "stdout",
     "output_type": "stream",
     "text": [
      "[array([ 0.        ,  1.84147096,  2.90929747,  3.14111996,  3.24319744,\n",
      "        4.04107571,  5.72058439,  7.65698671,  8.98935795,  9.41211891], dtype=float32)]\n"
     ]
    }
   ],
   "source": [
    "tf.reset_default_graph()\n",
    "\n",
    "# Part 1: Make the computation graph\n",
    "X_tensor = tf.placeholder(tf.float32, [None], name = 'X') # tensor X with shape None, i.e. one dim array\n",
    "Y_tensor = tf.placeholder(tf.float32, [None], name = 'Y') # tensor X with shape None, i.e. one dim array\n",
    "Z_tensor = X_tensor + tf.sin(Y_tensor)\n",
    "\n",
    "# Part 2: Execute the computation graph\n",
    "X = np.arange(10) # here are some values for X\n",
    "Y = np.arange(10)\n",
    "\n",
    "sess = tf.Session() # open a session\n",
    "Z = sess.run( # run session\n",
    "    [Z_tensor], # tensor to evaluate\n",
    "    feed_dict={X_tensor:X, Y_tensor:Y}) # values for the placeholders\n",
    "\n",
    "print(Z)"
   ]
  },
  {
   "cell_type": "markdown",
   "metadata": {},
   "source": [
    "## Optimization problems with Tensorflow\n",
    "\n",
    "Find the minimum of parabola: $y = x^2-10x+35$\n",
    "\n",
    "... well, if we know Math, the minimum is located at x = 5, y = 10"
   ]
  },
  {
   "cell_type": "code",
   "execution_count": 7,
   "metadata": {},
   "outputs": [
    {
     "name": "stdout",
     "output_type": "stream",
     "text": [
      "Single optimization step: X=1.000, Y=35.000\n"
     ]
    },
    {
     "name": "stderr",
     "output_type": "stream",
     "text": [
      "/opt/anaconda3/envs/jh/lib/python3.5/site-packages/matplotlib/figure.py:403: UserWarning: matplotlib is currently using a non-GUI backend, so cannot show the figure\n",
      "  \"matplotlib is currently using a non-GUI backend, \"\n"
     ]
    },
    {
     "data": {
      "image/png": "[encoded data removed]",
      "text/plain": [
       "<matplotlib.figure.Figure at 0x7f964eb3a630>"
      ]
     },
     "metadata": {},
     "output_type": "display_data"
    }
   ],
   "source": [
    "tf.reset_default_graph()\n",
    "\n",
    "# Part 1: Make the computation graph\n",
    "X_tensor = tf.get_variable(\"X\", [1], initializer = tf.zeros_initializer())\n",
    "Y_tensor = tf.square(X_tensor)-10*X_tensor+35\n",
    "\n",
    "learning_rate = 0.1\n",
    "optimizer = tf.train.GradientDescentOptimizer(learning_rate=learning_rate).minimize(Y_tensor)\n",
    "\n",
    "init = tf.global_variables_initializer()\n",
    "\n",
    "# A single step towards optimization:\n",
    "sess = tf.Session() # open a session\n",
    "sess.run(init)\n",
    "_, X, Y = sess.run( # run session\n",
    "    [optimizer, X_tensor, Y_tensor], # tensors to evaluate\n",
    "    feed_dict={}) # values for the placeholders\n",
    "print(\"Single optimization step: X=%.3f, Y=%.3f\"%(X,Y))\n",
    "\n",
    "# Multiple optimization steps:\n",
    "num_steps = 150\n",
    "\n",
    "sess = tf.Session() # open a session\n",
    "sess.run(init)\n",
    "\n",
    "Xs, Ys = [], []\n",
    "for step in range(num_steps):\n",
    "    _, X, Y = sess.run( # run session\n",
    "        [optimizer, X_tensor, Y_tensor], # tensor to evaluate\n",
    "        feed_dict={}) # values for the placeholders\n",
    "    Xs.append(X)\n",
    "    Ys.append(Y)\n",
    "    #print(\"Step %d: X=%.4f, Y=%.4f\"%(step,X,Y))\n",
    "    \n",
    "fig = plt.figure(figsize = (15,5))\n",
    "ax1 = fig.add_subplot(131)\n",
    "ax1.plot(Xs)\n",
    "ax1.set_xlabel('iteration step')\n",
    "ax1.set_ylabel('X')\n",
    "ax2 = fig.add_subplot(132)\n",
    "ax2.plot(Ys)\n",
    "ax2.set_xlabel('iteration step')\n",
    "ax2.set_ylabel('Y')\n",
    "ax3 = fig.add_subplot(133)\n",
    "ax3.plot(Xs,Ys)\n",
    "ax3.set_xlabel('X')\n",
    "ax3.set_ylabel('Y')\n",
    "fig.show()"
   ]
  },
  {
   "cell_type": "code",
   "execution_count": 142,
   "metadata": {
    "collapsed": true
   },
   "outputs": [],
   "source": [
    "# Find the fastest stable learning_rate and num_steps"
   ]
  },
  {
   "cell_type": "markdown",
   "metadata": {},
   "source": [
    "Copy the code above and find X and Y that minimize $Z = sin\\left(\\sqrt{X^2+Y^2-4X-6Y+13}\\right)$. Below is the visualization of the function:\n"
   ]
  },
  {
   "cell_type": "code",
   "execution_count": 149,
   "metadata": {},
   "outputs": [
    {
     "data": {
      "image/png": "[encoded data removed]",
      "text/plain": [
       "<matplotlib.figure.Figure at 0x7fa33ecde780>"
      ]
     },
     "metadata": {},
     "output_type": "display_data"
    }
   ],
   "source": [
    "from mpl_toolkits.mplot3d import Axes3D\n",
    "import matplotlib.pyplot as plt\n",
    "from matplotlib import cm\n",
    "from matplotlib.ticker import LinearLocator, FormatStrFormatter\n",
    "import numpy as np\n",
    "\n",
    "\n",
    "fig = plt.figure()\n",
    "ax = fig.gca(projection='3d')\n",
    "\n",
    "# Make data.\n",
    "X = np.arange(-5, 5, 0.25)\n",
    "Y = np.arange(-5, 5, 0.25)\n",
    "X, Y = np.meshgrid(X, Y)\n",
    "R = np.sqrt(X**2+Y**2 - 4*X-6*Y+13)\n",
    "Z = np.sin(R)\n",
    "\n",
    "# Plot the surface.\n",
    "surf = ax.plot_surface(X, Y, Z, cmap=cm.coolwarm,\n",
    "                       linewidth=0, antialiased=False)\n",
    "\n",
    "# Customize the z axis.\n",
    "ax.set_zlim(-1.01, 1.01)\n",
    "ax.zaxis.set_major_locator(LinearLocator(10))\n",
    "ax.zaxis.set_major_formatter(FormatStrFormatter('%.02f'))\n",
    "\n",
    "# Add a color bar which maps values to colors.\n",
    "fig.colorbar(surf, shrink=0.5, aspect=5)\n",
    "\n",
    "plt.show()"
   ]
  },
  {
   "cell_type": "code",
   "execution_count": 11,
   "metadata": {},
   "outputs": [
    {
     "name": "stdout",
     "output_type": "stream",
     "text": [
      "Single optimization step: X=0.036, Y=0.054, Z = 0.420\n",
      "Step 0: X=0.0363, Y=0.0544, Z = 0.420\n",
      "Step 1: X=0.0755, Y=0.1133, Z = -0.034\n",
      "Step 2: X=0.1088, Y=0.1631, Z = -0.505\n",
      "Step 3: X=0.1310, Y=0.1965, Z = -0.809\n",
      "Step 4: X=0.1441, Y=0.2161, Z = -0.937\n",
      "Step 5: X=0.1514, Y=0.2271, Z = -0.980\n",
      "Step 6: X=0.1555, Y=0.2332, Z = -0.994\n",
      "Step 7: X=0.1578, Y=0.2366, Z = -0.998\n",
      "Step 8: X=0.1590, Y=0.2385, Z = -0.999\n",
      "Step 9: X=0.1597, Y=0.2396, Z = -1.000\n",
      "Step 10: X=0.1601, Y=0.2402, Z = -1.000\n",
      "Step 11: X=0.1604, Y=0.2405, Z = -1.000\n",
      "Step 12: X=0.1605, Y=0.2407, Z = -1.000\n",
      "Step 13: X=0.1605, Y=0.2408, Z = -1.000\n",
      "Step 14: X=0.1606, Y=0.2409, Z = -1.000\n"
     ]
    },
    {
     "name": "stderr",
     "output_type": "stream",
     "text": [
      "/opt/anaconda3/envs/jh/lib/python3.5/site-packages/matplotlib/figure.py:403: UserWarning: matplotlib is currently using a non-GUI backend, so cannot show the figure\n",
      "  \"matplotlib is currently using a non-GUI backend, \"\n"
     ]
    },
    {
     "data": {
      "image/png": "[encoded data removed]",
      "text/plain": [
       "<matplotlib.figure.Figure at 0x7f964eaff908>"
      ]
     },
     "metadata": {},
     "output_type": "display_data"
    }
   ],
   "source": [
    "tf.reset_default_graph()\n",
    "\n",
    "# Part 1: Make the computation graph\n",
    "X_tensor = tf.get_variable(\"X\", [1], initializer = tf.zeros_initializer())\n",
    "Y_tensor = tf.get_variable(\"Y\", [1], initializer = tf.zeros_initializer())\n",
    "R_tensor = tf.square(X_tensor)+tf.square(Y_tensor) - 4*X_tensor-6*Y_tensor+13\n",
    "Z_tensor = tf.sin(R_tensor)\n",
    "\n",
    "learning_rate = 0.01\n",
    "optimizer = tf.train.GradientDescentOptimizer(learning_rate=learning_rate).minimize(Z_tensor)\n",
    "\n",
    "init = tf.global_variables_initializer()\n",
    "\n",
    "# A single step towards optimization:\n",
    "sess = tf.Session() # open a session\n",
    "sess.run(init)\n",
    "_, X, Y, Z = sess.run( # run session\n",
    "    [optimizer, X_tensor, Y_tensor, Z_tensor], # tensor to evaluate\n",
    "    feed_dict={}) # values for the placeholders\n",
    "print(\"Single optimization step: X=%.3f, Y=%.3f, Z = %.3f\"%(X,Y,Z))\n",
    "\n",
    "# Multiple optimization steps:\n",
    "num_steps = 15\n",
    "\n",
    "sess = tf.Session() # open a session\n",
    "sess.run(init)\n",
    "\n",
    "Xs, Ys, Zs = [], [], []\n",
    "for step in range(num_steps):\n",
    "    _, X, Y, Z = sess.run( # run session\n",
    "        [optimizer, X_tensor, Y_tensor, Z_tensor], # tensor to evaluate\n",
    "        feed_dict={}) # values for the placeholders\n",
    "    Xs.append(X)\n",
    "    Ys.append(Y)\n",
    "    Zs.append(Z)\n",
    "    print(\"Step %d: X=%.4f, Y=%.4f, Z = %.3f\"%(step,X,Y,Z))\n",
    "    \n",
    "fig = plt.figure(figsize = (15,5))\n",
    "ax1 = fig.add_subplot(1,3,1)\n",
    "ax1.plot(Xs)\n",
    "ax1.set_xlabel('iteration step')\n",
    "ax1.set_ylabel('X')\n",
    "ax2 = fig.add_subplot(1,3,2)\n",
    "ax2.plot(Ys)\n",
    "ax2.set_xlabel('iteration step')\n",
    "ax2.set_ylabel('Y')\n",
    "ax3 = fig.add_subplot(1,3,3)\n",
    "ax3.plot(Xs,Ys)\n",
    "ax3.set_xlabel('X')\n",
    "ax3.set_ylabel('Y')\n",
    "fig.show()"
   ]
  },
  {
   "cell_type": "markdown",
   "metadata": {},
   "source": [
    "# Linear and Logistic Regressions with TF\n",
    "\n",
    "## Linear regression"
   ]
  },
  {
   "cell_type": "code",
   "execution_count": 12,
   "metadata": {},
   "outputs": [
    {
     "name": "stdout",
     "output_type": "stream",
     "text": [
      "(2, 100) (1, 100)\n"
     ]
    }
   ],
   "source": [
    "# Make a synthetic dataset\n",
    "X, y = make_regression(n_features = 2)\n",
    "X,y = X.T, y.reshape([1,-1])\n",
    "print(X.shape, y.shape)"
   ]
  },
  {
   "cell_type": "code",
   "execution_count": 13,
   "metadata": {},
   "outputs": [
    {
     "name": "stdout",
     "output_type": "stream",
     "text": [
      "Tensor(\"X:0\", shape=(2, ?), dtype=float32) Tensor(\"y:0\", shape=(1, ?), dtype=float32)\n"
     ]
    }
   ],
   "source": [
    "def create_placeholders(n_features):\n",
    "    X = tf.placeholder(tf.float32, [n_features, None], name = 'X')\n",
    "    y = tf.placeholder(tf.float32, [1, None], name = 'y')\n",
    "    return X,y\n",
    "\n",
    "tf.reset_default_graph()\n",
    "X_tensor, y_tensor = create_placeholders(X.shape[0])\n",
    "print(X_tensor, y_tensor)"
   ]
  },
  {
   "cell_type": "code",
   "execution_count": 14,
   "metadata": {},
   "outputs": [
    {
     "name": "stdout",
     "output_type": "stream",
     "text": [
      "{'W': <tf.Variable 'W:0' shape=(2, 1) dtype=float32_ref>, 'b': <tf.Variable 'b:0' shape=(1,) dtype=float32_ref>}\n"
     ]
    }
   ],
   "source": [
    "def initialize_parameters(n_features):\n",
    "    W = tf.get_variable(\"W\", [n_features, 1], initializer = tf.zeros_initializer())\n",
    "    b = tf.get_variable(\"b\", [1], initializer = tf.zeros_initializer())\n",
    "    parameters = {'W':W,'b':b}\n",
    "    return parameters\n",
    "\n",
    "tf.reset_default_graph()\n",
    "parameters = initialize_parameters(X.shape[0])\n",
    "print(parameters)"
   ]
  },
  {
   "cell_type": "code",
   "execution_count": 16,
   "metadata": {},
   "outputs": [
    {
     "name": "stdout",
     "output_type": "stream",
     "text": [
      "y_hat = Tensor(\"add:0\", shape=(1, ?), dtype=float32)\n"
     ]
    }
   ],
   "source": [
    "def forward_propagation(X_tensor, parameters):\n",
    "    W, b = parameters['W'], parameters['b']\n",
    "    return tf.matmul(tf.transpose(W),X_tensor)+b\n",
    "\n",
    "tf.reset_default_graph()\n",
    "with tf.Session() as sess:\n",
    "    n_features = X.shape[0]\n",
    "    X_tensor, y_tensor = create_placeholders(n_features)\n",
    "    parameters = initialize_parameters(n_features)\n",
    "    y_hat = forward_propagation(X_tensor, parameters)\n",
    "    print(\"y_hat = %s\" %str(y_hat))"
   ]
  },
  {
   "cell_type": "code",
   "execution_count": 17,
   "metadata": {},
   "outputs": [
    {
     "name": "stdout",
     "output_type": "stream",
     "text": [
      "cost = Tensor(\"Mean:0\", shape=(), dtype=float32)\n"
     ]
    }
   ],
   "source": [
    "def compute_cost(y_hat_tensor, y_tensor):\n",
    "    return tf.reduce_mean(tf.losses.mean_squared_error(y_tensor, y_hat_tensor))\n",
    "\n",
    "tf.reset_default_graph()\n",
    "\n",
    "with tf.Session() as sess:\n",
    "    n_features = X.shape[0]\n",
    "    X_tensor, y_tensor = create_placeholders(n_features)\n",
    "    parameters = initialize_parameters(n_features)\n",
    "    y_hat_tensor = forward_propagation(X_tensor, parameters)\n",
    "    cost = compute_cost(y_hat_tensor, y_tensor)\n",
    "    print(\"cost = %s\" %str(cost))"
   ]
  },
  {
   "cell_type": "code",
   "execution_count": 18,
   "metadata": {},
   "outputs": [
    {
     "name": "stdout",
     "output_type": "stream",
     "text": [
      "Iteration 0, cost: 3466.820\n",
      "Iteration 1, cost: 2392.977\n",
      "Iteration 2, cost: 1655.895\n",
      "Iteration 3, cost: 1148.630\n",
      "Iteration 4, cost: 798.645\n",
      "Iteration 5, cost: 556.590\n",
      "Iteration 6, cost: 388.789\n",
      "Iteration 7, cost: 272.199\n",
      "Iteration 8, cost: 191.011\n",
      "Iteration 9, cost: 134.351\n"
     ]
    },
    {
     "data": {
      "image/png": "[encoded data removed]",
      "text/plain": [
       "<matplotlib.figure.Figure at 0x7fa34419cef0>"
      ]
     },
     "metadata": {},
     "output_type": "display_data"
    },
    {
     "name": "stdout",
     "output_type": "stream",
     "text": [
      "Train mean squared error: 94.723\n",
      "Test mean squared error: 119.768\n"
     ]
    }
   ],
   "source": [
    "def model(X_train, y_train, X_test, y_test, num_iterations = 100, learning_rate = 0.1, print_cost = False,\n",
    "         show_plot = True):\n",
    "    tf.reset_default_graph()\n",
    "    \n",
    "    n_features, n_x = X_train.shape\n",
    "    n_y = y_train.shape[0]\n",
    "    \n",
    "    X_tensor, y_tensor = create_placeholders(n_features)\n",
    "    parameters = initialize_parameters(n_features)\n",
    "    y_hat_tensor = forward_propagation(X_tensor, parameters)\n",
    "    cost = compute_cost(y_hat_tensor, y_tensor)\n",
    "    optimizer = tf.train.GradientDescentOptimizer(learning_rate=learning_rate).minimize(cost)\n",
    "    \n",
    "    init = tf.global_variables_initializer()\n",
    "    \n",
    "    costs = []\n",
    "    with tf.Session() as sess:\n",
    "        sess.run(init)\n",
    "        for i in range(num_iterations):\n",
    "            _, c = sess.run([optimizer,cost],feed_dict={\n",
    "                X_tensor:X_train, y_tensor:y_train\n",
    "            })\n",
    "            costs.append(c)\n",
    "            if print_cost and i % 1 == 0:\n",
    "                print(\"Iteration %d, cost: %.3f\" %(i,c))\n",
    "        if show_plot:\n",
    "            fig = plt.figure()\n",
    "            ax = fig.add_subplot(1,1,1)\n",
    "            ax.plot(np.squeeze(costs))\n",
    "            ax.set_xlabel('Iteration')\n",
    "            ax.set_ylabel('Cost')\n",
    "            plt.show()\n",
    "\n",
    "        parameters = sess.run(parameters)\n",
    "        W, b = parameters['W'], parameters['b']\n",
    "        \n",
    "        mse_train = cost.eval({X_tensor:X_train, y_tensor:y_train})\n",
    "        print(\"Train mean squared error: %.3f\"%mse_train)\n",
    "        \n",
    "        mse_test = cost.eval({X_tensor:X_test, y_tensor:y_test})\n",
    "        print(\"Test mean squared error: %.3f\"%mse_test)\n",
    "        \n",
    "        y_pred_test = y_tensor.eval({X_tensor:X_test, y_tensor:y_test})\n",
    "        y_pred_train = y_tensor.eval({X_tensor:X_train, y_tensor:y_train})\n",
    "        \n",
    "        d = {'costs': costs, 'y_pred_test':y_pred_test,'y_pred_train':y_pred_train,\n",
    "             'W':W, 'b':b,'learning_rate':learning_rate,'num_iterations':num_iterations}\n",
    "        \n",
    "        return d\n",
    "    \n",
    "X_train, X_test = X[:,:70],X[:,70:] \n",
    "y_train, y_test = y[:,:70],y[:,70:] \n",
    "parameters = model(X_train,y_train,X_test,y_test, num_iterations = 10, print_cost = True, show_plot = True)\n",
    "#print(parameters)"
   ]
  },
  {
   "cell_type": "code",
   "execution_count": null,
   "metadata": {
    "collapsed": true
   },
   "outputs": [],
   "source": [
    "# Try TensorFlow linear regression on any dataset"
   ]
  },
  {
   "cell_type": "markdown",
   "metadata": {},
   "source": [
    "# A Logistic Regression with TensorFlow"
   ]
  },
  {
   "cell_type": "code",
   "execution_count": 19,
   "metadata": {},
   "outputs": [
    {
     "data": {
      "text/plain": [
       "((2, 100), (1, 100))"
      ]
     },
     "execution_count": 19,
     "metadata": {},
     "output_type": "execute_result"
    }
   ],
   "source": [
    "# Make a synthetic dataset\n",
    "X, y = make_classification(random_state = 1\n",
    "                           , n_features = 2 # two features\n",
    "                           , n_redundant = 0) # no redundant features\n",
    "X = X.T\n",
    "y = y.reshape([1,-1])\n",
    "X.shape,y.shape"
   ]
  },
  {
   "cell_type": "code",
   "execution_count": 20,
   "metadata": {},
   "outputs": [
    {
     "name": "stdout",
     "output_type": "stream",
     "text": [
      "Tensor(\"X:0\", shape=(2, ?), dtype=float32) Tensor(\"y:0\", shape=(1, ?), dtype=float32)\n"
     ]
    }
   ],
   "source": [
    "def create_placeholders(n_features):\n",
    "    X = tf.placeholder(tf.float32, [n_features, None], name = 'X')\n",
    "    y = tf.placeholder(tf.float32, [1, None], name = 'y')\n",
    "    return X,y\n",
    "\n",
    "tf.reset_default_graph()\n",
    "X_tensor, y_tensor = create_placeholders(X.shape[0])\n",
    "print(X_tensor, y_tensor)"
   ]
  },
  {
   "cell_type": "code",
   "execution_count": 21,
   "metadata": {},
   "outputs": [
    {
     "name": "stdout",
     "output_type": "stream",
     "text": [
      "{'W': <tf.Variable 'W:0' shape=(2, 1) dtype=float32_ref>, 'b': <tf.Variable 'b:0' shape=(1,) dtype=float32_ref>}\n"
     ]
    }
   ],
   "source": [
    "def initialize_parameters(n_features):\n",
    "    W = tf.get_variable(\"W\", [n_features, 1], initializer = tf.zeros_initializer(), dtype = tf.float32)\n",
    "    b = tf.get_variable(\"b\", [1], initializer = tf.zeros_initializer(), dtype = tf.float32)\n",
    "    parameters = {'W':W,'b':b}\n",
    "    return parameters\n",
    "\n",
    "tf.reset_default_graph()\n",
    "parameters = initialize_parameters(X.shape[0])\n",
    "print(parameters)"
   ]
  },
  {
   "cell_type": "code",
   "execution_count": 22,
   "metadata": {},
   "outputs": [
    {
     "name": "stdout",
     "output_type": "stream",
     "text": [
      "y_hat = Tensor(\"truediv:0\", shape=(1, ?), dtype=float32)\n"
     ]
    }
   ],
   "source": [
    "def forward_propagation(X_tensor, parameters):\n",
    "    W, b = parameters['W'], parameters['b']\n",
    "    a = tf.matmul(tf.transpose(W),X_tensor)+b\n",
    "    z = 1/(1+tf.exp(-a))\n",
    "    return z\n",
    "\n",
    "tf.reset_default_graph()\n",
    "with tf.Session() as sess:\n",
    "    X_tensor, y_tensor = create_placeholders(2)\n",
    "    parameters = initialize_parameters(2)\n",
    "    y_hat = forward_propagation(X_tensor, parameters)\n",
    "    print(\"y_hat = %s\" %str(y_hat))"
   ]
  },
  {
   "cell_type": "code",
   "execution_count": 23,
   "metadata": {},
   "outputs": [
    {
     "name": "stdout",
     "output_type": "stream",
     "text": [
      "cost = Tensor(\"Mean:0\", shape=(), dtype=float32)\n"
     ]
    }
   ],
   "source": [
    "def compute_cost(y_hat_tensor, y_tensor):\n",
    "    losses = tf.multiply(y_tensor,tf.log(y_hat_tensor))+tf.multiply(1-y_tensor,tf.log(1-y_hat_tensor))\n",
    "    return tf.reduce_mean(-losses)\n",
    "\n",
    "tf.reset_default_graph()\n",
    "\n",
    "with tf.Session() as sess:\n",
    "    X_tensor, y_tensor = create_placeholders(2)\n",
    "    parameters = initialize_parameters(2)\n",
    "    y_hat_tensor = forward_propagation(X_tensor, parameters)\n",
    "    cost = compute_cost(y_hat_tensor, y_tensor)\n",
    "    print(\"cost = %s\" %str(cost))"
   ]
  },
  {
   "cell_type": "code",
   "execution_count": 24,
   "metadata": {},
   "outputs": [
    {
     "name": "stdout",
     "output_type": "stream",
     "text": [
      "accuracy = Tensor(\"mul:0\", shape=(), dtype=float32)\n"
     ]
    }
   ],
   "source": [
    "def compute_accuracy(y_hat_tensor, y_tensor):\n",
    "    matches = tf.equal(tf.round(y_hat_tensor),y_tensor)\n",
    "    accuracy = tf.reduce_mean(tf.cast(matches,dtype = tf.float32))*100\n",
    "    return accuracy\n",
    "\n",
    "tf.reset_default_graph()\n",
    "\n",
    "with tf.Session() as sess:\n",
    "    X_tensor, y_tensor = create_placeholders(2)\n",
    "    parameters = initialize_parameters(2)\n",
    "    y_hat_tensor = forward_propagation(X_tensor, parameters)\n",
    "    accuracy = compute_accuracy(y_hat_tensor, y_tensor)\n",
    "    print(\"accuracy = %s\" %str(accuracy))"
   ]
  },
  {
   "cell_type": "code",
   "execution_count": 28,
   "metadata": {},
   "outputs": [
    {
     "name": "stdout",
     "output_type": "stream",
     "text": [
      "Iteration 0, cost: 0.693\n",
      "Iteration 100, cost: 0.189\n",
      "Iteration 200, cost: 0.135\n",
      "Iteration 300, cost: 0.114\n",
      "Iteration 400, cost: 0.102\n",
      "Iteration 500, cost: 0.095\n",
      "Iteration 600, cost: 0.089\n",
      "Iteration 700, cost: 0.085\n",
      "Iteration 800, cost: 0.082\n",
      "Iteration 900, cost: 0.080\n"
     ]
    },
    {
     "data": {
      "image/png": "[encoded data removed]",
      "text/plain": [
       "<matplotlib.figure.Figure at 0x7fa34410a320>"
      ]
     },
     "metadata": {},
     "output_type": "display_data"
    },
    {
     "name": "stdout",
     "output_type": "stream",
     "text": [
      "Train accuracy: 97.14%\n",
      "Test accuracy: 100.00%\n"
     ]
    }
   ],
   "source": [
    "def model(X_train, y_train, X_test, y_test, num_iterations = 100, learning_rate = 0.1, print_cost = False,\n",
    "         show_plot = True):\n",
    "    \n",
    "    tf.reset_default_graph()\n",
    "    n_features, n_x = X_train.shape\n",
    "    n_y = y_train.shape[0]\n",
    "    \n",
    "    X_tensor, y_tensor = create_placeholders(n_features)\n",
    "    parameters = initialize_parameters(n_features)\n",
    "    y_hat_tensor = forward_propagation(X_tensor, parameters)\n",
    "    cost = compute_cost(y_hat_tensor, y_tensor)\n",
    "    optimizer = tf.train.GradientDescentOptimizer(learning_rate=learning_rate).minimize(cost)\n",
    "    accuracy = compute_accuracy(y_hat_tensor, y_tensor)\n",
    "    \n",
    "    init = tf.global_variables_initializer()\n",
    "    \n",
    "    costs = []\n",
    "    with tf.Session() as sess:\n",
    "        sess.run(init)\n",
    "        for i in range(num_iterations):\n",
    "            _, c = sess.run([optimizer,cost],feed_dict={\n",
    "                X_tensor:X_train, y_tensor:y_train\n",
    "            })\n",
    "            costs.append(c)\n",
    "            if print_cost and i % 100 == 0:\n",
    "                print(\"Iteration %d, cost: %.3f\" %(i,c))\n",
    "        if show_plot:\n",
    "            fig = plt.figure()\n",
    "            ax = fig.add_subplot(1,1,1)\n",
    "            ax.plot(np.squeeze(costs))\n",
    "            ax.set_xlabel('Iteration')\n",
    "            ax.set_ylabel('Cost')\n",
    "            plt.show()\n",
    "\n",
    "        parameters = sess.run(parameters)\n",
    "        W, b = parameters['W'], parameters['b']\n",
    "        \n",
    "        acc_train = accuracy.eval({X_tensor:X_train, y_tensor:y_train})\n",
    "        print(\"Train accuracy: %.2f%%\"%acc_train)\n",
    "        \n",
    "        acc_test = accuracy.eval({X_tensor:X_test, y_tensor:y_test})\n",
    "        print(\"Test accuracy: %.2f%%\"%acc_test)\n",
    "        \n",
    "        y_pred_test = y_tensor.eval({X_tensor:X_test, y_tensor:y_test})\n",
    "        y_pred_train = y_tensor.eval({X_tensor:X_train, y_tensor:y_train})\n",
    "        \n",
    "        d = {'costs': costs, 'y_pred_test':y_pred_test,'y_pred_train':y_pred_train,\n",
    "             'W':W, 'b':b,'learning_rate':learning_rate,'num_iterations':num_iterations}\n",
    "        \n",
    "        return d\n",
    "    \n",
    "X_train, X_test = X[:,:70],X[:,70:] \n",
    "y_train, y_test = y[:,:70],y[:,70:] \n",
    "d = model(X_train,y_train,X_test,y_test, num_iterations = 1000, print_cost = True, show_plot = True)"
   ]
  },
  {
   "cell_type": "code",
   "execution_count": 29,
   "metadata": {},
   "outputs": [
    {
     "data": {
      "image/png": "[encoded data removed]",
      "text/plain": [
       "<matplotlib.figure.Figure at 0x7fa32c042438>"
      ]
     },
     "metadata": {},
     "output_type": "display_data"
    }
   ],
   "source": [
    "# Let's see how the model is doing on test data\n",
    "y_pred_test = d['y_pred_test']\n",
    "\n",
    "fig = plt.figure(figsize = (10,4))\n",
    "ax = fig.add_subplot(1,2,1)\n",
    "ax.scatter(X_test[0,:],y_test, label = 'y')\n",
    "ax.scatter(X_test[0,:],y_pred_test, label = '$\\hat{y}$',alpha = 0.5)\n",
    "ax.set_xlabel('$X_1$')\n",
    "ax.legend()\n",
    "ax = fig.add_subplot(1,2,2)\n",
    "ax.scatter(X_test[1,:],y_test, label = 'y')\n",
    "ax.scatter(X_test[1,:],y_pred_test, label = '$\\hat{y}$', alpha = 0.5)\n",
    "ax.set_xlabel('$X_2$')\n",
    "ax.legend()\n",
    "plt.show()"
   ]
  },
  {
   "cell_type": "code",
   "execution_count": null,
   "metadata": {
    "collapsed": true
   },
   "outputs": [],
   "source": [
    "# Try logistic regression with TensorFlow on any data"
   ]
  }
 ],
 "metadata": {
  "kernelspec": {
   "display_name": "Python 3",
   "language": "python",
   "name": "python3"
  },
  "language_info": {
   "codemirror_mode": {
    "name": "ipython",
    "version": 3
   },
   "file_extension": ".py",
   "mimetype": "text/x-python",
   "name": "python",
   "nbconvert_exporter": "python",
   "pygments_lexer": "ipython3",
   "version": "3.5.4"
  }
 },
 "nbformat": 4,
 "nbformat_minor": 2
}
