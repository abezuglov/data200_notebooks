{
 "cells": [
  {
   "cell_type": "markdown",
   "metadata": {},
   "source": [
    "# Random Walk\n",
    "## Pure Python"
   ]
  },
  {
   "cell_type": "code",
   "execution_count": 135,
   "metadata": {},
   "outputs": [
    {
     "data": {
      "text/plain": [
       "[0, 1, 1, 2, 2, 2, 2, 3, 4, 4, 5]"
      ]
     },
     "execution_count": 135,
     "metadata": {},
     "output_type": "execute_result"
    }
   ],
   "source": [
    "# write a Python function that performs a random walk\n",
    "# Example: [0,1,1,0,-1,-2,-1,-2,-3,-2,...]\n",
    "import random\n",
    "\n",
    "def random_walk(num_steps):\n",
    "    walk = [0]\n",
    "    for step in range(num_steps):\n",
    "        #y = \n",
    "        walk.append(walk[-1]+random.randint(-1,1))\n",
    "    return walk\n",
    "\n",
    "random_walk(10)"
   ]
  },
  {
   "cell_type": "code",
   "execution_count": 136,
   "metadata": {},
   "outputs": [
    {
     "name": "stdout",
     "output_type": "stream",
     "text": [
      "41.3 ms ± 951 µs per loop (mean ± std. dev. of 7 runs, 10 loops each)\n"
     ]
    }
   ],
   "source": [
    "# let us see how fast it works\n",
    "\n",
    "%timeit random_walk(10000)"
   ]
  },
  {
   "cell_type": "markdown",
   "metadata": {},
   "source": [
    "# NumPy ndarray\n",
    "## Creating arrays"
   ]
  },
  {
   "cell_type": "code",
   "execution_count": 138,
   "metadata": {
    "collapsed": true
   },
   "outputs": [],
   "source": [
    "import numpy as np\n",
    "import matplotlib.pyplot as plt\n",
    "%matplotlib inline"
   ]
  },
  {
   "cell_type": "code",
   "execution_count": 144,
   "metadata": {
    "collapsed": true
   },
   "outputs": [],
   "source": [
    "# constructing arrays\n",
    "arr1 = np.asarray([1,2,3,4],dtype = np.float32)\n",
    "arr2 = np.zeros(100,dtype = np.int)\n",
    "arr3 = np.ones(10, dtype = np.int64)\n",
    "arr4 = np.random.randint(-10,11,100) #min -10, max 10 (inclusive), count\n",
    "arr5 = np.arange(0,10,0.1,dtype = np.float16) # from, to, step"
   ]
  },
  {
   "cell_type": "code",
   "execution_count": 145,
   "metadata": {},
   "outputs": [
    {
     "data": {
      "text/plain": [
       "array([ 0.        ,  0.09997559,  0.19995117,  0.29980469,  0.39990234,\n",
       "        0.5       ,  0.59960938,  0.69970703,  0.79980469,  0.89990234,\n",
       "        1.        ,  1.09960938,  1.19921875,  1.29980469,  1.39941406,\n",
       "        1.5       ,  1.59960938,  1.69921875,  1.79980469,  1.89941406,\n",
       "        2.        ,  2.09960938,  2.19921875,  2.29882812,  2.3984375 ,\n",
       "        2.5       ,  2.59960938,  2.69921875,  2.79882812,  2.8984375 ,\n",
       "        3.        ,  3.09960938,  3.19921875,  3.29882812,  3.3984375 ,\n",
       "        3.5       ,  3.59960938,  3.69921875,  3.79882812,  3.8984375 ,\n",
       "        4.        ,  4.09765625,  4.19921875,  4.30078125,  4.3984375 ,\n",
       "        4.5       ,  4.59765625,  4.69921875,  4.796875  ,  4.8984375 ,\n",
       "        5.        ,  5.09765625,  5.19921875,  5.296875  ,  5.3984375 ,\n",
       "        5.5       ,  5.59765625,  5.69921875,  5.796875  ,  5.8984375 ,\n",
       "        6.        ,  6.09765625,  6.19921875,  6.296875  ,  6.3984375 ,\n",
       "        6.5       ,  6.59765625,  6.69921875,  6.796875  ,  6.8984375 ,\n",
       "        7.        ,  7.09765625,  7.19921875,  7.296875  ,  7.3984375 ,\n",
       "        7.5       ,  7.59765625,  7.69921875,  7.796875  ,  7.8984375 ,\n",
       "        8.        ,  8.1015625 ,  8.1953125 ,  8.296875  ,  8.3984375 ,\n",
       "        8.5       ,  8.6015625 ,  8.6953125 ,  8.796875  ,  8.8984375 ,\n",
       "        9.        ,  9.1015625 ,  9.1953125 ,  9.296875  ,  9.3984375 ,\n",
       "        9.5       ,  9.59375   ,  9.6953125 ,  9.796875  ,  9.8984375 ], dtype=float16)"
      ]
     },
     "execution_count": 145,
     "metadata": {},
     "output_type": "execute_result"
    }
   ],
   "source": [
    "arr5"
   ]
  },
  {
   "cell_type": "markdown",
   "metadata": {},
   "source": [
    "## In memory representation\n",
    "\n",
    "![NDarray](https://i.stack.imgur.com/EeBUb.png)"
   ]
  },
  {
   "cell_type": "code",
   "execution_count": 78,
   "metadata": {},
   "outputs": [
    {
     "name": "stdout",
     "output_type": "stream",
     "text": [
      "Shape:  (4,)\n",
      "ndim:  1\n",
      "strides:  (4,)\n",
      "dtype:  float32\n"
     ]
    }
   ],
   "source": [
    "print(\"Shape: \",arr1.shape)\n",
    "print(\"ndim: \",arr1.ndim)\n",
    "print(\"strides: \",arr1.strides)\n",
    "print(\"dtype: \",arr1.dtype)"
   ]
  },
  {
   "cell_type": "code",
   "execution_count": 79,
   "metadata": {
    "collapsed": true
   },
   "outputs": [],
   "source": [
    "# Check other arrays: arr2, arr3, ..."
   ]
  },
  {
   "cell_type": "markdown",
   "metadata": {},
   "source": [
    "* What happens when it changes its shape?\n",
    "* What happens when it transposes?"
   ]
  },
  {
   "cell_type": "markdown",
   "metadata": {},
   "source": [
    "# Random walk optimization"
   ]
  },
  {
   "cell_type": "code",
   "execution_count": 150,
   "metadata": {
    "collapsed": true
   },
   "outputs": [],
   "source": [
    "# Can we make the random walk code run faster? \n",
    "def random_walk_numpy(num_steps):\n",
    "    walk = np.zeros(num_steps)\n",
    "    y = np.random.randint(-1,2,num_steps)\n",
    "    for step in range(1,num_steps):\n",
    "        walk[step] = walk[step-1]+y[step]\n",
    "    return walk"
   ]
  },
  {
   "cell_type": "code",
   "execution_count": 152,
   "metadata": {},
   "outputs": [
    {
     "name": "stdout",
     "output_type": "stream",
     "text": [
      "9.76 ms ± 72.7 µs per loop (mean ± std. dev. of 7 runs, 100 loops each)\n"
     ]
    }
   ],
   "source": [
    "%timeit random_walk_numpy(10000)"
   ]
  },
  {
   "cell_type": "code",
   "execution_count": 154,
   "metadata": {
    "collapsed": true
   },
   "outputs": [],
   "source": [
    "# Can we make the random walk code run faster? \n",
    "def random_walk_numpy2(num_steps):\n",
    "    y = np.random.randint(-1,2,num_steps)\n",
    "    walk  = np.cumsum(y)\n",
    "    return walk"
   ]
  },
  {
   "cell_type": "code",
   "execution_count": 155,
   "metadata": {},
   "outputs": [
    {
     "name": "stdout",
     "output_type": "stream",
     "text": [
      "246 µs ± 1.17 µs per loop (mean ± std. dev. of 7 runs, 1000 loops each)\n"
     ]
    }
   ],
   "source": [
    "%timeit random_walk_numpy2(10000)"
   ]
  },
  {
   "cell_type": "markdown",
   "metadata": {},
   "source": [
    "# Arithmetic operations"
   ]
  },
  {
   "cell_type": "code",
   "execution_count": 285,
   "metadata": {},
   "outputs": [
    {
     "data": {
      "text/plain": [
       "array([ 4.,  4.,  4.,  4.,  4.,  4.,  4.,  4.,  4.,  4.,  4.,  4.,  4.,\n",
       "        4.,  4.,  4.,  4.,  4.,  4.,  4.,  4.,  4.,  4.,  4.,  4.,  4.,\n",
       "        4.,  4.,  4.,  4.,  4.,  4.,  4.,  4.,  4.,  4.,  4.,  4.,  4.,\n",
       "        4.,  4.,  4.,  4.,  4.,  4.,  4.,  4.,  4.,  4.,  4.,  4.,  4.,\n",
       "        4.,  4.,  4.,  4.,  4.,  4.,  4.,  4.,  4.,  4.,  4.,  4.,  4.,\n",
       "        4.,  4.,  4.,  4.,  4.,  4.,  4.,  4.,  4.,  4.,  4.,  4.,  4.,\n",
       "        4.,  4.,  4.,  4.,  4.,  4.,  4.,  4.,  4.,  4.,  4.,  4.,  4.,\n",
       "        4.,  4.,  4.,  4.,  4.,  4.,  4.,  4.,  4.])"
      ]
     },
     "execution_count": 285,
     "metadata": {},
     "output_type": "execute_result"
    }
   ],
   "source": [
    "# How to make an array of 100 '4's?\n",
    "arr = np.zeros(100)+4\n",
    "arr = np.ones(100)*4"
   ]
  },
  {
   "cell_type": "code",
   "execution_count": 286,
   "metadata": {},
   "outputs": [
    {
     "name": "stdout",
     "output_type": "stream",
     "text": [
      "6.42 µs ± 15.7 ns per loop (mean ± std. dev. of 7 runs, 100000 loops each)\n"
     ]
    }
   ],
   "source": [
    "# Measure time to make that array\n",
    "%timeit np.zeros(100)+4"
   ]
  },
  {
   "cell_type": "code",
   "execution_count": 287,
   "metadata": {},
   "outputs": [
    {
     "name": "stdout",
     "output_type": "stream",
     "text": [
      "10.9 µs ± 88 ns per loop (mean ± std. dev. of 7 runs, 100000 loops each)\n"
     ]
    }
   ],
   "source": [
    "%timeit np.ones(100)*4"
   ]
  },
  {
   "cell_type": "code",
   "execution_count": 292,
   "metadata": {},
   "outputs": [
    {
     "data": {
      "text/plain": [
       "array([  2,   4,   6,   8,  10,  12,  14,  16,  18,  20,  22,  24,  26,\n",
       "        28,  30,  32,  34,  36,  38,  40,  42,  44,  46,  48,  50,  52,\n",
       "        54,  56,  58,  60,  62,  64,  66,  68,  70,  72,  74,  76,  78,\n",
       "        80,  82,  84,  86,  88,  90,  92,  94,  96,  98, 100, 102, 104,\n",
       "       106, 108, 110, 112, 114, 116, 118, 120, 122, 124, 126, 128, 130,\n",
       "       132, 134, 136, 138, 140, 142, 144, 146, 148, 150, 152, 154, 156,\n",
       "       158, 160, 162, 164, 166, 168, 170, 172, 174, 176, 178, 180, 182,\n",
       "       184, 186, 188, 190, 192, 194, 196, 198, 200])"
      ]
     },
     "execution_count": 292,
     "metadata": {},
     "output_type": "execute_result"
    }
   ],
   "source": [
    "# Make an array of the first 100 even numbers: [2,4,6,8,...]\n",
    "arr = np.arange(1,101)*2\n",
    "arr"
   ]
  },
  {
   "cell_type": "code",
   "execution_count": 294,
   "metadata": {},
   "outputs": [
    {
     "data": {
      "text/plain": [
       "array([   1,    4,    9,   16,   25,   36,   49,   64,   81,  100,  121,\n",
       "        144,  169,  196,  225,  256,  289,  324,  361,  400,  441,  484,\n",
       "        529,  576,  625,  676,  729,  784,  841,  900,  961, 1024, 1089,\n",
       "       1156, 1225, 1296, 1369, 1444, 1521, 1600, 1681, 1764, 1849, 1936,\n",
       "       2025, 2116, 2209, 2304, 2401, 2500])"
      ]
     },
     "execution_count": 294,
     "metadata": {},
     "output_type": "execute_result"
    }
   ],
   "source": [
    "# Make an array of 50 squares: [1,4,9,16,25,...]\n",
    "arr = np.arange(1,51)\n",
    "arr = arr*arr\n",
    "arr"
   ]
  },
  {
   "cell_type": "code",
   "execution_count": 296,
   "metadata": {},
   "outputs": [
    {
     "name": "stdout",
     "output_type": "stream",
     "text": [
      "20 ns ± 0.629 ns per loop (mean ± std. dev. of 7 runs, 10000000 loops each)\n"
     ]
    }
   ],
   "source": [
    "# Measure time to create this array\n",
    "%timeit 'arr = np.arange(1,51);arr = arr*arr'"
   ]
  },
  {
   "cell_type": "markdown",
   "metadata": {},
   "source": [
    "# Temporary copies"
   ]
  },
  {
   "cell_type": "code",
   "execution_count": 298,
   "metadata": {},
   "outputs": [
    {
     "name": "stdout",
     "output_type": "stream",
     "text": [
      "1.7 ms ± 48.1 µs per loop (mean ± std. dev. of 7 runs, 1000 loops each)\n"
     ]
    }
   ],
   "source": [
    "# \n",
    "X = np.arange(1,100000)\n",
    "Y = np.arange(1,100000)*2\n",
    "%timeit Z = X*X+Y*Y\n"
   ]
  },
  {
   "cell_type": "code",
   "execution_count": 301,
   "metadata": {},
   "outputs": [
    {
     "name": "stdout",
     "output_type": "stream",
     "text": [
      "20.7 ns ± 0.0866 ns per loop (mean ± std. dev. of 7 runs, 100000000 loops each)\n"
     ]
    }
   ],
   "source": [
    "% timeit 'Z = np.add(np.multiply(X,X, out = X),np.multiply(Y,Y,out = Y))'"
   ]
  },
  {
   "cell_type": "markdown",
   "metadata": {},
   "source": [
    "# Array reshaping"
   ]
  },
  {
   "cell_type": "code",
   "execution_count": 309,
   "metadata": {},
   "outputs": [
    {
     "data": {
      "text/plain": [
       "array([ 1,  2,  3,  4,  5,  6,  7,  8,  9, 10, 11, 12])"
      ]
     },
     "execution_count": 309,
     "metadata": {},
     "output_type": "execute_result"
    }
   ],
   "source": [
    "arr = np.array([1,2,3,4,5,6,7,8,9,10,11,12])\n",
    "arr"
   ]
  },
  {
   "cell_type": "code",
   "execution_count": 310,
   "metadata": {},
   "outputs": [
    {
     "name": "stdout",
     "output_type": "stream",
     "text": [
      "(12,)\n",
      "1\n"
     ]
    }
   ],
   "source": [
    "print(arr.shape)\n",
    "print(arr.ndim)"
   ]
  },
  {
   "cell_type": "code",
   "execution_count": 312,
   "metadata": {},
   "outputs": [
    {
     "data": {
      "text/plain": [
       "array([[ 1,  2,  3,  4,  5,  6],\n",
       "       [ 7,  8,  9, 10, 11, 12]])"
      ]
     },
     "execution_count": 312,
     "metadata": {},
     "output_type": "execute_result"
    }
   ],
   "source": [
    "arr.reshape([2,6])"
   ]
  },
  {
   "cell_type": "code",
   "execution_count": 314,
   "metadata": {},
   "outputs": [
    {
     "data": {
      "text/plain": [
       "(12,)"
      ]
     },
     "execution_count": 314,
     "metadata": {},
     "output_type": "execute_result"
    }
   ],
   "source": [
    "arr.shape"
   ]
  },
  {
   "cell_type": "code",
   "execution_count": 317,
   "metadata": {},
   "outputs": [
    {
     "data": {
      "text/plain": [
       "array([[[ 1,  2,  3],\n",
       "        [ 4,  5,  6]],\n",
       "\n",
       "       [[ 7,  8,  9],\n",
       "        [10, 11, 12]]])"
      ]
     },
     "execution_count": 317,
     "metadata": {},
     "output_type": "execute_result"
    }
   ],
   "source": [
    "arr.reshape([2,2,3])"
   ]
  },
  {
   "cell_type": "code",
   "execution_count": 323,
   "metadata": {},
   "outputs": [
    {
     "data": {
      "text/plain": [
       "array([[ 1,  2,  3,  4],\n",
       "       [ 5,  6,  7,  8],\n",
       "       [ 9, 10, 11, 12]])"
      ]
     },
     "execution_count": 323,
     "metadata": {},
     "output_type": "execute_result"
    }
   ],
   "source": [
    "arr.reshape([3,-1]) # 3 rows and whatever needed # of columns"
   ]
  },
  {
   "cell_type": "code",
   "execution_count": 325,
   "metadata": {},
   "outputs": [
    {
     "ename": "ValueError",
     "evalue": "cannot reshape array of size 12 into shape (4,newaxis,2)",
     "output_type": "error",
     "traceback": [
      "\u001b[0;31m---------------------------------------------------------------------------\u001b[0m",
      "\u001b[0;31mValueError\u001b[0m                                Traceback (most recent call last)",
      "\u001b[0;32m<ipython-input-325-6d2a48727b44>\u001b[0m in \u001b[0;36m<module>\u001b[0;34m()\u001b[0m\n\u001b[0;32m----> 1\u001b[0;31m \u001b[0marr\u001b[0m\u001b[0;34m.\u001b[0m\u001b[0mreshape\u001b[0m\u001b[0;34m(\u001b[0m\u001b[0;34m[\u001b[0m\u001b[0;36m4\u001b[0m\u001b[0;34m,\u001b[0m\u001b[0;34m-\u001b[0m\u001b[0;36m1\u001b[0m\u001b[0;34m,\u001b[0m\u001b[0;36m2\u001b[0m\u001b[0;34m]\u001b[0m\u001b[0;34m)\u001b[0m\u001b[0;34m\u001b[0m\u001b[0m\n\u001b[0m",
      "\u001b[0;31mValueError\u001b[0m: cannot reshape array of size 12 into shape (4,newaxis,2)"
     ]
    }
   ],
   "source": [
    "arr.reshape([4,-1,2])"
   ]
  },
  {
   "cell_type": "code",
   "execution_count": 328,
   "metadata": {},
   "outputs": [
    {
     "data": {
      "text/plain": [
       "array([[ 1,  2,  3,  4,  5,  6],\n",
       "       [ 7,  8,  9, 10, 11, 12]])"
      ]
     },
     "execution_count": 328,
     "metadata": {},
     "output_type": "execute_result"
    }
   ],
   "source": [
    "arr2 = arr.reshape([2,-1])\n",
    "arr2"
   ]
  },
  {
   "cell_type": "code",
   "execution_count": 331,
   "metadata": {},
   "outputs": [
    {
     "data": {
      "text/plain": [
       "array([[ 1,  2,  0,  4,  5,  6],\n",
       "       [ 7,  8,  9, 10, 11, 12]])"
      ]
     },
     "execution_count": 331,
     "metadata": {},
     "output_type": "execute_result"
    }
   ],
   "source": [
    "arr2[0,2] = 0\n",
    "arr2"
   ]
  },
  {
   "cell_type": "code",
   "execution_count": 332,
   "metadata": {},
   "outputs": [
    {
     "data": {
      "text/plain": [
       "array([ 1,  2,  0,  4,  5,  6,  7,  8,  9, 10, 11, 12])"
      ]
     },
     "execution_count": 332,
     "metadata": {},
     "output_type": "execute_result"
    }
   ],
   "source": [
    "arr # arr has changed as well!!!, arr is a view, the data is shared"
   ]
  },
  {
   "cell_type": "markdown",
   "metadata": {},
   "source": [
    "# Array slicing"
   ]
  },
  {
   "cell_type": "code",
   "execution_count": 335,
   "metadata": {},
   "outputs": [
    {
     "data": {
      "text/plain": [
       "array([4, 5, 6])"
      ]
     },
     "execution_count": 335,
     "metadata": {},
     "output_type": "execute_result"
    }
   ],
   "source": [
    "arr[3:6]"
   ]
  },
  {
   "cell_type": "code",
   "execution_count": 337,
   "metadata": {},
   "outputs": [
    {
     "data": {
      "text/plain": [
       "array([10, 11, 12])"
      ]
     },
     "execution_count": 337,
     "metadata": {},
     "output_type": "execute_result"
    }
   ],
   "source": [
    "arr[-3:]"
   ]
  },
  {
   "cell_type": "code",
   "execution_count": 338,
   "metadata": {},
   "outputs": [
    {
     "data": {
      "text/plain": [
       "array([ 2,  4,  6,  8, 10])"
      ]
     },
     "execution_count": 338,
     "metadata": {},
     "output_type": "execute_result"
    }
   ],
   "source": [
    "arr[1:-1:2]"
   ]
  },
  {
   "cell_type": "markdown",
   "metadata": {},
   "source": [
    "# A checkerboard"
   ]
  },
  {
   "cell_type": "code",
   "execution_count": 344,
   "metadata": {},
   "outputs": [
    {
     "data": {
      "text/plain": [
       "array([   1.,    0.,    2.,    0.,    3.,    0.,    4.,    0.,    5.,\n",
       "          0.,    6.,    0.,    7.,    0.,    8.,    0.,    9.,    0.,\n",
       "         10.,    0.,   11.,    0.,   12.,    0.,   13.,    0.,   14.,\n",
       "          0.,   15.,    0.,   16.,    0.,   17.,    0.,   18.,    0.,\n",
       "         19.,    0.,   20.,    0.,   21.,    0.,   22.,    0.,   23.,\n",
       "          0.,   24.,    0.,   25.,    0.,   26.,    0.,   27.,    0.,\n",
       "         28.,    0.,   29.,    0.,   30.,    0.,   31.,    0.,   32.,\n",
       "          0.,   33.,    0.,   34.,    0.,   35.,    0.,   36.,    0.,\n",
       "         37.,    0.,   38.,    0.,   39.,    0.,   40.,    0.,   41.,\n",
       "          0.,   42.,    0.,   43.,    0.,   44.,    0.,   45.,    0.,\n",
       "         46.,    0.,   47.,    0.,   48.,    0.,   49.,    0.,   50.,\n",
       "          0.,   51.,    0.,   52.,    0.,   53.,    0.,   54.,    0.,\n",
       "         55.,    0.,   56.,    0.,   57.,    0.,   58.,    0.,   59.,\n",
       "          0.,   60.,    0.,   61.,    0.,   62.,    0.,   63.,    0.,\n",
       "         64.,    0.,   65.,    0.,   66.,    0.,   67.,    0.,   68.,\n",
       "          0.,   69.,    0.,   70.,    0.,   71.,    0.,   72.,    0.,\n",
       "         73.,    0.,   74.,    0.,   75.,    0.,   76.,    0.,   77.,\n",
       "          0.,   78.,    0.,   79.,    0.,   80.,    0.,   81.,    0.,\n",
       "         82.,    0.,   83.,    0.,   84.,    0.,   85.,    0.,   86.,\n",
       "          0.,   87.,    0.,   88.,    0.,   89.,    0.,   90.,    0.,\n",
       "         91.,    0.,   92.,    0.,   93.,    0.,   94.,    0.,   95.,\n",
       "          0.,   96.,    0.,   97.,    0.,   98.,    0.,   99.,    0.,\n",
       "        100.,    0.])"
      ]
     },
     "execution_count": 344,
     "metadata": {},
     "output_type": "execute_result"
    }
   ],
   "source": [
    "# make an array containing [1,0,2,0,3,0,4,0,...,0,100]\n",
    "# Do NOT use the loops!\n",
    "a = np.arange(1,101)\n",
    "a\n",
    "a2 = np.zeros(200)\n",
    "a2[0::2] = a\n",
    "a2"
   ]
  },
  {
   "cell_type": "code",
   "execution_count": 355,
   "metadata": {},
   "outputs": [
    {
     "data": {
      "text/plain": [
       "array([[ 255.,    0.,  255.,    0.,  255.,    0.,  255.,    0.],\n",
       "       [   0.,  255.,    0.,  255.,    0.,  255.,    0.,  255.],\n",
       "       [ 255.,    0.,  255.,    0.,  255.,    0.,  255.,    0.],\n",
       "       [   0.,  255.,    0.,  255.,    0.,  255.,    0.,  255.],\n",
       "       [ 255.,    0.,  255.,    0.,  255.,    0.,  255.,    0.],\n",
       "       [   0.,  255.,    0.,  255.,    0.,  255.,    0.,  255.],\n",
       "       [ 255.,    0.,  255.,    0.,  255.,    0.,  255.,    0.],\n",
       "       [   0.,  255.,    0.,  255.,    0.,  255.,    0.,  255.]])"
      ]
     },
     "execution_count": 355,
     "metadata": {},
     "output_type": "execute_result"
    }
   ],
   "source": [
    "checkerboard = np.zeros([8,8])\n",
    "checkerboard[0::2,0::2] = 255\n",
    "checkerboard[1::2,1::2] = 255\n",
    "checkerboard"
   ]
  },
  {
   "cell_type": "code",
   "execution_count": 357,
   "metadata": {},
   "outputs": [
    {
     "data": {
      "image/png": "[encoded data removed]",
      "text/plain": [
       "<matplotlib.figure.Figure at 0x7f2538bed710>"
      ]
     },
     "metadata": {},
     "output_type": "display_data"
    }
   ],
   "source": [
    "# visualize the checkerboard\n",
    "plt.imshow(checkerboard, cmap = plt.cm.gray)\n",
    "plt.xticks(np.arange(8),['a','b','c','d','e','f','g','h'])\n",
    "plt.yticks(np.arange(8),np.arange(8,0,-1))\n",
    "plt.title('Checkerboard')\n",
    "plt.show()"
   ]
  },
  {
   "cell_type": "markdown",
   "metadata": {},
   "source": [
    "# Shapes & Strides revisited"
   ]
  },
  {
   "cell_type": "code",
   "execution_count": 382,
   "metadata": {},
   "outputs": [
    {
     "data": {
      "text/plain": [
       "array([[-24,   0,   0],\n",
       "       [  0,   0,   0],\n",
       "       [  0,   0,   0]], dtype=int8)"
      ]
     },
     "execution_count": 382,
     "metadata": {},
     "output_type": "execute_result"
    }
   ],
   "source": [
    "arr = np.zeros([3,3],dtype = np.int8)\n",
    "arr[0,0] = 1000\n",
    "arr\n",
    "#arr"
   ]
  },
  {
   "cell_type": "code",
   "execution_count": 373,
   "metadata": {},
   "outputs": [
    {
     "data": {
      "text/plain": [
       "(3, 3)"
      ]
     },
     "execution_count": 373,
     "metadata": {},
     "output_type": "execute_result"
    }
   ],
   "source": [
    "arr.shape"
   ]
  },
  {
   "cell_type": "code",
   "execution_count": 376,
   "metadata": {},
   "outputs": [
    {
     "data": {
      "text/plain": [
       "(24, 8)"
      ]
     },
     "execution_count": 376,
     "metadata": {},
     "output_type": "execute_result"
    }
   ],
   "source": [
    "arr.strides"
   ]
  }
 ],
 "metadata": {
  "kernelspec": {
   "display_name": "Python 3",
   "language": "python",
   "name": "python3"
  },
  "language_info": {
   "codemirror_mode": {
    "name": "ipython",
    "version": 3
   },
   "file_extension": ".py",
   "mimetype": "text/x-python",
   "name": "python",
   "nbconvert_exporter": "python",
   "pygments_lexer": "ipython3",
   "version": "3.5.4"
  }
 },
 "nbformat": 4,
 "nbformat_minor": 2
}
