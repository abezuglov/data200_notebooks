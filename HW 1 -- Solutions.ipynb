{
 "cells": [
  {
   "cell_type": "markdown",
   "metadata": {},
   "source": [
    "# Problem 1"
   ]
  },
  {
   "cell_type": "code",
   "execution_count": 17,
   "metadata": {
    "collapsed": true
   },
   "outputs": [],
   "source": [
    "import numpy as np\n",
    "import random"
   ]
  },
  {
   "cell_type": "code",
   "execution_count": 19,
   "metadata": {},
   "outputs": [
    {
     "data": {
      "text/plain": [
       "(50.121, 26, 66)"
      ]
     },
     "execution_count": 19,
     "metadata": {},
     "output_type": "execute_result"
    }
   ],
   "source": [
    "# pure Python implementation of the walk\n",
    "def drunkard_walk_py(steps = 100, simulations = 1000):\n",
    "    min_dist = 100\n",
    "    max_dist = 0\n",
    "    avg_dist = 0\n",
    "    for sim in range(simulations):\n",
    "        dist = 0\n",
    "        for step in range(steps):\n",
    "            dist += random.randint(0,1)\n",
    "        avg_dist += dist\n",
    "        min_dist = min(dist,min_dist)\n",
    "        max_dist = max(dist,max_dist)\n",
    "    avg_dist /= simulations\n",
    "    return avg_dist, min_dist, max_dist\n",
    "\n",
    "drunkard_walk_py()"
   ]
  },
  {
   "cell_type": "code",
   "execution_count": 20,
   "metadata": {},
   "outputs": [
    {
     "name": "stdout",
     "output_type": "stream",
     "text": [
      "391 ms ± 6.26 ms per loop (mean ± std. dev. of 7 runs, 1 loop each)\n"
     ]
    }
   ],
   "source": [
    "%timeit drunkard_walk_py()"
   ]
  },
  {
   "cell_type": "markdown",
   "metadata": {},
   "source": [
    "# Problem 2"
   ]
  },
  {
   "cell_type": "code",
   "execution_count": 23,
   "metadata": {},
   "outputs": [
    {
     "data": {
      "text/plain": [
       "(50.134999999999998, 32, 71)"
      ]
     },
     "execution_count": 23,
     "metadata": {},
     "output_type": "execute_result"
    }
   ],
   "source": [
    "# pure Python implementation of the walk\n",
    "def drunkard_walk_numpy(steps = 100, simulations = 1000):\n",
    "    min_dist = 100\n",
    "    max_dist = 0\n",
    "    avg_dist = 0\n",
    "    for sim in range(simulations):\n",
    "        walk = np.random.randint(0,2,steps)\n",
    "        dist = np.sum(walk) \n",
    "        avg_dist += dist\n",
    "        min_dist = min(dist,min_dist)\n",
    "        max_dist = max(dist,max_dist)\n",
    "    avg_dist /= simulations\n",
    "    return avg_dist, min_dist, max_dist\n",
    "\n",
    "drunkard_walk_numpy()"
   ]
  },
  {
   "cell_type": "code",
   "execution_count": 24,
   "metadata": {},
   "outputs": [
    {
     "name": "stdout",
     "output_type": "stream",
     "text": [
      "20.3 ms ± 87.7 µs per loop (mean ± std. dev. of 7 runs, 10 loops each)\n"
     ]
    }
   ],
   "source": [
    "%timeit drunkard_walk_numpy()"
   ]
  },
  {
   "cell_type": "markdown",
   "metadata": {},
   "source": [
    "Numpy implementation is ~20 times faster"
   ]
  },
  {
   "cell_type": "markdown",
   "metadata": {},
   "source": [
    "# Extra credit problem"
   ]
  },
  {
   "cell_type": "code",
   "execution_count": 25,
   "metadata": {},
   "outputs": [
    {
     "data": {
      "text/plain": [
       "(50.045000000000002, 33, 64)"
      ]
     },
     "execution_count": 25,
     "metadata": {},
     "output_type": "execute_result"
    }
   ],
   "source": [
    "def drunkard_walk_extra(steps = 100, simulations = 1000):\n",
    "    walks = np.random.randint(0,2,[steps, simulations])\n",
    "    dist = np.sum(walks, axis = 0)\n",
    "    min_dist = np.min(dist)\n",
    "    max_dist = np.max(dist)\n",
    "    avg_dist = np.mean(dist)\n",
    "    return avg_dist, min_dist, max_dist\n",
    "\n",
    "drunkard_walk_extra()"
   ]
  },
  {
   "cell_type": "code",
   "execution_count": 26,
   "metadata": {},
   "outputs": [
    {
     "name": "stdout",
     "output_type": "stream",
     "text": [
      "1.38 ms ± 6.14 µs per loop (mean ± std. dev. of 7 runs, 1000 loops each)\n"
     ]
    }
   ],
   "source": [
    "%timeit drunkard_walk_extra()"
   ]
  },
  {
   "cell_type": "markdown",
   "metadata": {},
   "source": [
    "NumPy implementation, without Python loops is ~20 times as fast as the previous (Problem 2). It is ~400 times as fast as pure Python.  "
   ]
  },
  {
   "cell_type": "markdown",
   "metadata": {},
   "source": [
    "# Remarks & Comments"
   ]
  },
  {
   "cell_type": "code",
   "execution_count": 28,
   "metadata": {},
   "outputs": [
    {
     "data": {
      "text/plain": [
       "49937"
      ]
     },
     "execution_count": 28,
     "metadata": {},
     "output_type": "execute_result"
    }
   ],
   "source": [
    "# Calling array's method sum without specifying axis (incorrect)\n",
    "arr = np.random.randint(0,2,[1000,100])\n",
    "arr.sum()"
   ]
  },
  {
   "cell_type": "code",
   "execution_count": null,
   "metadata": {},
   "outputs": [],
   "source": [
    "arr.sum(axis = 1) # eliminate axis = 1, correct"
   ]
  },
  {
   "cell_type": "code",
   "execution_count": 31,
   "metadata": {},
   "outputs": [
    {
     "data": {
      "text/plain": [
       "array([496, 507, 499, 510, 511, 486, 495, 476, 490, 484, 519, 514, 507,\n",
       "       496, 496, 474, 489, 502, 488, 521, 487, 496, 512, 482, 509, 510,\n",
       "       508, 493, 508, 515, 487, 484, 477, 495, 503, 508, 504, 501, 502,\n",
       "       518, 502, 491, 488, 500, 510, 501, 502, 491, 490, 524, 532, 475,\n",
       "       489, 490, 499, 496, 496, 485, 500, 483, 525, 468, 478, 483, 496,\n",
       "       498, 493, 503, 498, 490, 517, 512, 513, 502, 499, 507, 516, 532,\n",
       "       528, 504, 517, 485, 475, 484, 523, 502, 527, 504, 498, 465, 516,\n",
       "       525, 481, 487, 491, 500, 498, 484, 504, 506])"
      ]
     },
     "execution_count": 31,
     "metadata": {},
     "output_type": "execute_result"
    }
   ],
   "source": [
    "# Using Python sum function:\n",
    "sum(arr) # accidentally incorrect, since it sums over the first axis (incorrect)"
   ]
  },
  {
   "cell_type": "code",
   "execution_count": 33,
   "metadata": {},
   "outputs": [
    {
     "ename": "TypeError",
     "evalue": "sum() takes no keyword arguments",
     "output_type": "error",
     "traceback": [
      "\u001b[0;31m---------------------------------------------------------------------------\u001b[0m",
      "\u001b[0;31mTypeError\u001b[0m                                 Traceback (most recent call last)",
      "\u001b[0;32m<ipython-input-33-f5a3c0601b5c>\u001b[0m in \u001b[0;36m<module>\u001b[0;34m()\u001b[0m\n\u001b[0;32m----> 1\u001b[0;31m \u001b[0msum\u001b[0m\u001b[0;34m(\u001b[0m\u001b[0marr\u001b[0m\u001b[0;34m,\u001b[0m \u001b[0maxis\u001b[0m \u001b[0;34m=\u001b[0m \u001b[0;36m1\u001b[0m\u001b[0;34m)\u001b[0m \u001b[0;31m# this should have been the solution, but it is not possible\u001b[0m\u001b[0;34m\u001b[0m\u001b[0m\n\u001b[0m",
      "\u001b[0;31mTypeError\u001b[0m: sum() takes no keyword arguments"
     ]
    }
   ],
   "source": [
    "sum(arr, axis = 1) # this should have been the solution, but it is not possible (correct, but won't work)"
   ]
  },
  {
   "cell_type": "code",
   "execution_count": null,
   "metadata": {},
   "outputs": [],
   "source": [
    "sum(arr.T) # transpose the array first, then use sum function (correct, but maybe less efficient)"
   ]
  },
  {
   "cell_type": "code",
   "execution_count": null,
   "metadata": {},
   "outputs": [],
   "source": [
    "del avgArray # what if avgArray does not exist\n",
    "#avgArray = np.zeros(1000) # not needed\n",
    "# avgArray[:] = np.sum(arr, axis = 1) # indices are not needed\n",
    "avgArray = np.sum(arr, axis = 1) # this is sufficient\n",
    "avgArray"
   ]
  },
  {
   "cell_type": "code",
   "execution_count": 76,
   "metadata": {},
   "outputs": [
    {
     "ename": "AttributeError",
     "evalue": "module 'numpy' has no attribute 'atan'",
     "output_type": "error",
     "traceback": [
      "\u001b[0;31m---------------------------------------------------------------------------\u001b[0m",
      "\u001b[0;31mAttributeError\u001b[0m                            Traceback (most recent call last)",
      "\u001b[0;32m<ipython-input-76-d2afd5e03246>\u001b[0m in \u001b[0;36m<module>\u001b[0;34m()\u001b[0m\n\u001b[0;32m----> 1\u001b[0;31m \u001b[0mnp\u001b[0m\u001b[0;34m.\u001b[0m\u001b[0matan\u001b[0m\u001b[0;34m(\u001b[0m\u001b[0;36m10\u001b[0m\u001b[0;34m,\u001b[0m\u001b[0;36m10\u001b[0m\u001b[0;34m)\u001b[0m\u001b[0;34m\u001b[0m\u001b[0m\n\u001b[0m",
      "\u001b[0;31mAttributeError\u001b[0m: module 'numpy' has no attribute 'atan'"
     ]
    }
   ],
   "source": [
    "np.atan(10,10)"
   ]
  }
 ],
 "metadata": {
  "kernelspec": {
   "display_name": "Python 3",
   "language": "python",
   "name": "python3"
  },
  "language_info": {
   "codemirror_mode": {
    "name": "ipython",
    "version": 3
   },
   "file_extension": ".py",
   "mimetype": "text/x-python",
   "name": "python",
   "nbconvert_exporter": "python",
   "pygments_lexer": "ipython3",
   "version": "3.5.4"
  }
 },
 "nbformat": 4,
 "nbformat_minor": 2
}
