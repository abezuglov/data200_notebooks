{
 "cells": [
  {
   "cell_type": "markdown",
   "metadata": {},
   "source": [
    "# Problem 1"
   ]
  },
  {
   "cell_type": "code",
   "execution_count": 19,
   "metadata": {
    "collapsed": true
   },
   "outputs": [],
   "source": [
    "import numpy as np\n",
    "import matplotlib.pyplot as plt\n",
    "import random\n",
    "%matplotlib inline"
   ]
  },
  {
   "cell_type": "code",
   "execution_count": 20,
   "metadata": {},
   "outputs": [
    {
     "data": {
      "text/plain": [
       "array([[0, 0, 1],\n",
       "       [1, 0, 1],\n",
       "       [0, 1, 1]])"
      ]
     },
     "execution_count": 20,
     "metadata": {},
     "output_type": "execute_result"
    }
   ],
   "source": [
    "# The function will return a glider turned randomly\n",
    "def get_glider():\n",
    "    glider = np.asarray([[0,1,0],[1,0,0],[1,1,1]])\n",
    "    for r in range(random.randint(0,3)):\n",
    "        glider = np.rot90(glider)\n",
    "        \n",
    "    if random.randint(0,1):\n",
    "        glider = np.transpose(glider)\n",
    "    return glider\n",
    "\n",
    "get_glider()"
   ]
  },
  {
   "cell_type": "code",
   "execution_count": 25,
   "metadata": {
    "collapsed": true
   },
   "outputs": [],
   "source": [
    "side = 100\n",
    "matrix = np.zeros([side+2,side+2])\n",
    "for g in range(20):\n",
    "    x = random.randint(1,side+2-3) # side + 2 -- size, -3 glider size\n",
    "    y = random.randint(1,side+2-3)\n",
    "    while matrix[x:x+3,y:y+3].sum() > 0:\n",
    "        x = random.randint(1,side+2-3) # side + 2 -- size, -3 glider size\n",
    "        y = random.randint(1,side+2-3)\n",
    "    matrix[x:x+3,y:y+3] = get_glider()"
   ]
  },
  {
   "cell_type": "code",
   "execution_count": 29,
   "metadata": {},
   "outputs": [
    {
     "data": {
      "image/png": "[encoded data removed]",
      "text/plain": [
       "<matplotlib.figure.Figure at 0x7fbf648ef4a8>"
      ]
     },
     "metadata": {},
     "output_type": "display_data"
    }
   ],
   "source": [
    "fig = plt.figure(figsize = (5,5))\n",
    "im = plt.imshow(matrix, cmap = plt.cm.gray)\n",
    "plt.show()"
   ]
  },
  {
   "cell_type": "code",
   "execution_count": 30,
   "metadata": {},
   "outputs": [
    {
     "data": {
      "text/html": [
       "<video alt=\"test\" controls>\n",
       "    <source src=\"data:video/mp4;base64,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\" type=\"video/mp4\" /></video>"
      ],
      "text/plain": [
       "<IPython.core.display.HTML object>"
      ]
     },
     "execution_count": 30,
     "metadata": {},
     "output_type": "execute_result"
    }
   ],
   "source": [
    "def update(frame):\n",
    "    global matrix\n",
    "    global im\n",
    "    N = matrix[:-2,1:-1]+matrix[2:,1:-1]+matrix[1:-1,2:]+matrix[1:-1,:-2]+matrix[:-2,:-2]+matrix[2:,:-2]+matrix[2:,2:]+matrix[:-2,2:]\n",
    "    kill_cells = (N < 2) | (N > 3)\n",
    "    resurrect_cells = N == 3\n",
    "    cells = matrix[1:-1,1:-1]\n",
    "    cells[kill_cells] = 0\n",
    "    cells[resurrect_cells] = 1\n",
    "    im.set_data(cells)\n",
    "    \n",
    "from matplotlib.animation import FuncAnimation\n",
    "\n",
    "anim = FuncAnimation(fig, update, interval = 10, frames = 30)\n",
    "anim.save('gliders.mp4', fps = 30)\n",
    "\n",
    "import io\n",
    "import base64\n",
    "from IPython.display import HTML\n",
    "\n",
    "video = io.open('gliders.mp4','r+b').read()\n",
    "encoded = base64.b64encode(video)\n",
    "HTML(data='''<video alt=\"test\" controls>\n",
    "    <source src=\"data:video/mp4;base64,{0}\" type=\"video/mp4\" /></video>'''.format(encoded.decode('ascii')))"
   ]
  },
  {
   "cell_type": "markdown",
   "metadata": {},
   "source": [
    "# Problem 3"
   ]
  },
  {
   "cell_type": "code",
   "execution_count": 32,
   "metadata": {},
   "outputs": [
    {
     "data": {
      "text/plain": [
       "(16103, 6)"
      ]
     },
     "execution_count": 32,
     "metadata": {},
     "output_type": "execute_result"
    }
   ],
   "source": [
    "arr = np.load('./hurr_data_full.npy')\n",
    "arr.shape"
   ]
  },
  {
   "cell_type": "code",
   "execution_count": 40,
   "metadata": {},
   "outputs": [
    {
     "data": {
      "text/plain": [
       "array([  69.44401466,   71.56497832,   66.80146601, ...,  119.74484767,\n",
       "        112.38014798,   92.72626649])"
      ]
     },
     "execution_count": 40,
     "metadata": {},
     "output_type": "execute_result"
    }
   ],
   "source": [
    "direction = np.arctan2(arr[:,3],arr[:,2])\n",
    "direction/np.pi*180"
   ]
  },
  {
   "cell_type": "markdown",
   "metadata": {},
   "source": [
    "# Extra credit\n",
    "\n",
    "The idea here is to rotate model errors (arr[:,4:6]) by hurricane direction. The result is the new coordinate system aligned with the direction of the hurricane.\n",
    "\n",
    "Practically, this is achieved by translating model errors to complex plane:\n",
    "\n",
    "$error = error_{lat}*J+error_{lon}$\n",
    "\n",
    "Then turning them by direction $\\phi$\n",
    "\n",
    "$error_{aligned} = error * e^{J*\\phi}$\n",
    "\n",
    "$error_{across} = error_{aligned}.real$\n",
    "\n",
    "$error_{along} = error_{aligned}.imag$\n"
   ]
  },
  {
   "cell_type": "code",
   "execution_count": 41,
   "metadata": {
    "collapsed": true
   },
   "outputs": [],
   "source": [
    "error = arr[:,4]*1.j+arr[:,5]\n",
    "aligned_error = error*np.exp(direction*1.j)"
   ]
  },
  {
   "cell_type": "code",
   "execution_count": 44,
   "metadata": {},
   "outputs": [
    {
     "data": {
      "text/plain": [
       "(array([ 1.57981165,  0.83436341,  0.60304649, ..., -0.48484654,\n",
       "         0.402468  ,  0.40930231]),\n",
       " array([ 0.50770162,  0.52624281,  0.50913893, ...,  1.93446691,\n",
       "         1.66675647,  0.98777192]))"
      ]
     },
     "execution_count": 44,
     "metadata": {},
     "output_type": "execute_result"
    }
   ],
   "source": [
    "along_track = aligned_error.imag\n",
    "across_track = aligned_error.real\n",
    "along_track,across_track"
   ]
  },
  {
   "cell_type": "markdown",
   "metadata": {},
   "source": [
    "# Quiz 3"
   ]
  },
  {
   "cell_type": "code",
   "execution_count": null,
   "metadata": {
    "collapsed": true
   },
   "outputs": [],
   "source": [
    "[[ 0.  0.  0.  0.  0.]\n",
    " [ 0.  1.  2.  3.  0.]\n",
    " [ 0.  4.  5.  6.  0.]\n",
    " [ 0.  0.  0.  0.  0.]]"
   ]
  },
  {
   "cell_type": "code",
   "execution_count": 15,
   "metadata": {},
   "outputs": [
    {
     "data": {
      "text/plain": [
       "array([[ 0.,  0.,  0.,  0.,  0.],\n",
       "       [ 0.,  1.,  2.,  3.,  0.],\n",
       "       [ 0.,  4.,  5.,  6.,  0.],\n",
       "       [ 0.,  0.,  0.,  0.,  0.]])"
      ]
     },
     "execution_count": 15,
     "metadata": {},
     "output_type": "execute_result"
    }
   ],
   "source": [
    "import numpy as np\n",
    "\n",
    "arr = np.zeros([4,5])\n",
    "arr1 = np.arange(1,7).reshape([2,3])\n",
    "arr[1:-1,1:-1] = arr1\n",
    "arr"
   ]
  }
 ],
 "metadata": {
  "kernelspec": {
   "display_name": "Python 3",
   "language": "python",
   "name": "python3"
  },
  "language_info": {
   "codemirror_mode": {
    "name": "ipython",
    "version": 3
   },
   "file_extension": ".py",
   "mimetype": "text/x-python",
   "name": "python",
   "nbconvert_exporter": "python",
   "pygments_lexer": "ipython3",
   "version": "3.5.4"
  }
 },
 "nbformat": 4,
 "nbformat_minor": 2
}
