{
 "cells": [
  {
   "cell_type": "markdown",
   "metadata": {},
   "source": [
    "# Obtaining Data -- Intro to Web Scraping\n",
    "## Pandas DataFrame"
   ]
  },
  {
   "cell_type": "markdown",
   "metadata": {},
   "source": [
    "We will be using Python lists and dictionaries. If you do not remember these, please refresh.\n",
    "\n",
    "Let us make a list of dictionaries that stores the rows of the following table:\n",
    "\n",
    "| Fruit | Amount | Calories |\n",
    "| --------\n",
    "| Bananas | 1 medium | 105 |\n",
    "| Blackberries | 100 berries | 100 |\n",
    "| Blueberries | 125 berries | 97 |\n",
    "\n",
    "\n",
    "```python\n",
    "l = [{'Fruit':'Bananas','Amount':'1 medium','Calories':105},...]\n",
    "```"
   ]
  },
  {
   "cell_type": "code",
   "execution_count": 178,
   "metadata": {},
   "outputs": [
    {
     "data": {
      "text/plain": [
       "[{'Amount': '1 medium', 'Calories': 105, 'Fruit': 'Bananas'},\n",
       " {'Amount': '100 berries', 'Calories': 100, 'Fruit': 'Blackberries'},\n",
       " {'Amount': '125 berries', 'Calories': 97, 'Fruit': 'Blueberries'},\n",
       " {'Amount': '1 thing', 'Calories': 200, 'Fruit': 'Pineapple'}]"
      ]
     },
     "execution_count": 178,
     "metadata": {},
     "output_type": "execute_result"
    }
   ],
   "source": [
    "# l is a list of dictionaries that represents our table\n",
    "l = [\n",
    "    {'Fruit':'Bananas','Amount':'1 medium','Calories':105}\n",
    "    ,{'Fruit':'Blackberries','Amount':'100 berries','Calories':100}\n",
    "    ,{'Fruit':'Blueberries','Amount':'125 berries','Calories':97}\n",
    "    ,{'Fruit':'Pineapple','Amount':'1 thing','Calories':200}\n",
    "    ]\n",
    "l"
   ]
  },
  {
   "cell_type": "markdown",
   "metadata": {},
   "source": [
    "### Creating a DataFrame from a list of dictionaries:"
   ]
  },
  {
   "cell_type": "code",
   "execution_count": 186,
   "metadata": {},
   "outputs": [
    {
     "data": {
      "text/html": [
       "<div>\n",
       "<style>\n",
       "    .dataframe thead tr:only-child th {\n",
       "        text-align: right;\n",
       "    }\n",
       "\n",
       "    .dataframe thead th {\n",
       "        text-align: left;\n",
       "    }\n",
       "\n",
       "    .dataframe tbody tr th {\n",
       "        vertical-align: top;\n",
       "    }\n",
       "</style>\n",
       "<table border=\"1\" class=\"dataframe\">\n",
       "  <thead>\n",
       "    <tr style=\"text-align: right;\">\n",
       "      <th></th>\n",
       "      <th>Amount</th>\n",
       "      <th>Calories</th>\n",
       "      <th>Fruit</th>\n",
       "    </tr>\n",
       "  </thead>\n",
       "  <tbody>\n",
       "    <tr>\n",
       "      <th>0</th>\n",
       "      <td>1 medium</td>\n",
       "      <td>105</td>\n",
       "      <td>Bananas</td>\n",
       "    </tr>\n",
       "    <tr>\n",
       "      <th>1</th>\n",
       "      <td>100 berries</td>\n",
       "      <td>100</td>\n",
       "      <td>Blackberries</td>\n",
       "    </tr>\n",
       "    <tr>\n",
       "      <th>2</th>\n",
       "      <td>125 berries</td>\n",
       "      <td>97</td>\n",
       "      <td>Blueberries</td>\n",
       "    </tr>\n",
       "    <tr>\n",
       "      <th>3</th>\n",
       "      <td>1 thing</td>\n",
       "      <td>200</td>\n",
       "      <td>Pineapple</td>\n",
       "    </tr>\n",
       "  </tbody>\n",
       "</table>\n",
       "</div>"
      ],
      "text/plain": [
       "        Amount  Calories         Fruit\n",
       "0     1 medium       105       Bananas\n",
       "1  100 berries       100  Blackberries\n",
       "2  125 berries        97   Blueberries\n",
       "3      1 thing       200     Pineapple"
      ]
     },
     "execution_count": 186,
     "metadata": {},
     "output_type": "execute_result"
    }
   ],
   "source": [
    "# Create a DataFrame to \n",
    "import pandas as pd\n",
    "\n",
    "df = pd.DataFrame(l)\n",
    "df"
   ]
  },
  {
   "cell_type": "code",
   "execution_count": 187,
   "metadata": {},
   "outputs": [
    {
     "data": {
      "text/html": [
       "<div>\n",
       "<style>\n",
       "    .dataframe thead tr:only-child th {\n",
       "        text-align: right;\n",
       "    }\n",
       "\n",
       "    .dataframe thead th {\n",
       "        text-align: left;\n",
       "    }\n",
       "\n",
       "    .dataframe tbody tr th {\n",
       "        vertical-align: top;\n",
       "    }\n",
       "</style>\n",
       "<table border=\"1\" class=\"dataframe\">\n",
       "  <thead>\n",
       "    <tr style=\"text-align: right;\">\n",
       "      <th></th>\n",
       "      <th>Amount</th>\n",
       "      <th>Calories</th>\n",
       "    </tr>\n",
       "    <tr>\n",
       "      <th>Fruit</th>\n",
       "      <th></th>\n",
       "      <th></th>\n",
       "    </tr>\n",
       "  </thead>\n",
       "  <tbody>\n",
       "    <tr>\n",
       "      <th>Bananas</th>\n",
       "      <td>1 medium</td>\n",
       "      <td>105</td>\n",
       "    </tr>\n",
       "    <tr>\n",
       "      <th>Blackberries</th>\n",
       "      <td>100 berries</td>\n",
       "      <td>100</td>\n",
       "    </tr>\n",
       "    <tr>\n",
       "      <th>Blueberries</th>\n",
       "      <td>125 berries</td>\n",
       "      <td>97</td>\n",
       "    </tr>\n",
       "    <tr>\n",
       "      <th>Pineapple</th>\n",
       "      <td>1 thing</td>\n",
       "      <td>200</td>\n",
       "    </tr>\n",
       "  </tbody>\n",
       "</table>\n",
       "</div>"
      ],
      "text/plain": [
       "                   Amount  Calories\n",
       "Fruit                              \n",
       "Bananas          1 medium       105\n",
       "Blackberries  100 berries       100\n",
       "Blueberries   125 berries        97\n",
       "Pineapple         1 thing       200"
      ]
     },
     "execution_count": 187,
     "metadata": {},
     "output_type": "execute_result"
    }
   ],
   "source": [
    "# let us remove the first column (index)\n",
    "df.set_index('Fruit')"
   ]
  },
  {
   "cell_type": "markdown",
   "metadata": {},
   "source": [
    "### Convert Pandas DataFrame to NumPy array:"
   ]
  },
  {
   "cell_type": "code",
   "execution_count": 188,
   "metadata": {},
   "outputs": [
    {
     "data": {
      "text/plain": [
       "array([['1 medium', 105, 'Bananas'],\n",
       "       ['100 berries', 100, 'Blackberries'],\n",
       "       ['125 berries', 97, 'Blueberries'],\n",
       "       ['1 thing', 200, 'Pineapple']], dtype=object)"
      ]
     },
     "execution_count": 188,
     "metadata": {},
     "output_type": "execute_result"
    }
   ],
   "source": [
    "import numpy as np\n",
    "\n",
    "arr = np.asarray(df)\n",
    "arr # Note that the column names are lost"
   ]
  },
  {
   "cell_type": "code",
   "execution_count": 189,
   "metadata": {},
   "outputs": [
    {
     "data": {
      "text/plain": [
       "dtype('O')"
      ]
     },
     "execution_count": 189,
     "metadata": {},
     "output_type": "execute_result"
    }
   ],
   "source": [
    "arr.dtype # the type of data is 'O', these are Python objects"
   ]
  },
  {
   "cell_type": "code",
   "execution_count": 190,
   "metadata": {},
   "outputs": [
    {
     "data": {
      "text/plain": [
       "(8, 32)"
      ]
     },
     "execution_count": 190,
     "metadata": {},
     "output_type": "execute_result"
    }
   ],
   "source": [
    "arr.strides # 8 bytes per object"
   ]
  },
  {
   "cell_type": "code",
   "execution_count": 191,
   "metadata": {},
   "outputs": [
    {
     "data": {
      "text/plain": [
       "96"
      ]
     },
     "execution_count": 191,
     "metadata": {},
     "output_type": "execute_result"
    }
   ],
   "source": [
    "arr.nbytes # the total size is 96 bytes (12 objects * 8 bytes)"
   ]
  },
  {
   "cell_type": "code",
   "execution_count": 197,
   "metadata": {},
   "outputs": [
    {
     "data": {
      "text/plain": [
       "array([['1 ', '10', 'Ba'],\n",
       "       ['10', '10', 'Bl'],\n",
       "       ['12', '97', 'Bl'],\n",
       "       ['1 ', '20', 'Pi']],\n",
       "      dtype='<U2')"
      ]
     },
     "execution_count": 197,
     "metadata": {},
     "output_type": "execute_result"
    }
   ],
   "source": [
    "# Let's convert these to native NumPy data fields, for instance a Unicode string:\n",
    "arr.astype('U2') # Unicode string, up to 30 chars long"
   ]
  },
  {
   "cell_type": "code",
   "execution_count": 198,
   "metadata": {},
   "outputs": [
    {
     "data": {
      "text/plain": [
       "96"
      ]
     },
     "execution_count": 198,
     "metadata": {},
     "output_type": "execute_result"
    }
   ],
   "source": [
    "arr.astype('U2').nbytes"
   ]
  },
  {
   "cell_type": "markdown",
   "metadata": {},
   "source": [
    "### Convert NumPy array to Pandas DataFrame"
   ]
  },
  {
   "cell_type": "code",
   "execution_count": 202,
   "metadata": {},
   "outputs": [
    {
     "data": {
      "text/html": [
       "<div>\n",
       "<style>\n",
       "    .dataframe thead tr:only-child th {\n",
       "        text-align: right;\n",
       "    }\n",
       "\n",
       "    .dataframe thead th {\n",
       "        text-align: left;\n",
       "    }\n",
       "\n",
       "    .dataframe tbody tr th {\n",
       "        vertical-align: top;\n",
       "    }\n",
       "</style>\n",
       "<table border=\"1\" class=\"dataframe\">\n",
       "  <thead>\n",
       "    <tr style=\"text-align: right;\">\n",
       "      <th></th>\n",
       "      <th>0</th>\n",
       "      <th>1</th>\n",
       "    </tr>\n",
       "  </thead>\n",
       "  <tbody>\n",
       "    <tr>\n",
       "      <th>0</th>\n",
       "      <td>1</td>\n",
       "      <td>1</td>\n",
       "    </tr>\n",
       "    <tr>\n",
       "      <th>1</th>\n",
       "      <td>1</td>\n",
       "      <td>1</td>\n",
       "    </tr>\n",
       "    <tr>\n",
       "      <th>2</th>\n",
       "      <td>1</td>\n",
       "      <td>0</td>\n",
       "    </tr>\n",
       "    <tr>\n",
       "      <th>3</th>\n",
       "      <td>0</td>\n",
       "      <td>0</td>\n",
       "    </tr>\n",
       "    <tr>\n",
       "      <th>4</th>\n",
       "      <td>0</td>\n",
       "      <td>1</td>\n",
       "    </tr>\n",
       "    <tr>\n",
       "      <th>5</th>\n",
       "      <td>0</td>\n",
       "      <td>0</td>\n",
       "    </tr>\n",
       "    <tr>\n",
       "      <th>6</th>\n",
       "      <td>0</td>\n",
       "      <td>1</td>\n",
       "    </tr>\n",
       "    <tr>\n",
       "      <th>7</th>\n",
       "      <td>1</td>\n",
       "      <td>1</td>\n",
       "    </tr>\n",
       "  </tbody>\n",
       "</table>\n",
       "</div>"
      ],
      "text/plain": [
       "   0  1\n",
       "0  1  1\n",
       "1  1  1\n",
       "2  1  0\n",
       "3  0  0\n",
       "4  0  1\n",
       "5  0  0\n",
       "6  0  1\n",
       "7  1  1"
      ]
     },
     "execution_count": 202,
     "metadata": {},
     "output_type": "execute_result"
    }
   ],
   "source": [
    "two_walks = np.random.randint(0,2,[100,2])\n",
    "df = pd.DataFrame(two_walks)\n",
    "df.head(8) # show only the first x rows of the dataframe"
   ]
  },
  {
   "cell_type": "code",
   "execution_count": 203,
   "metadata": {},
   "outputs": [
    {
     "data": {
      "text/plain": [
       "(100, 2)"
      ]
     },
     "execution_count": 203,
     "metadata": {},
     "output_type": "execute_result"
    }
   ],
   "source": [
    "df.shape"
   ]
  },
  {
   "cell_type": "code",
   "execution_count": 209,
   "metadata": {},
   "outputs": [
    {
     "data": {
      "text/html": [
       "<div>\n",
       "<style>\n",
       "    .dataframe thead tr:only-child th {\n",
       "        text-align: right;\n",
       "    }\n",
       "\n",
       "    .dataframe thead th {\n",
       "        text-align: left;\n",
       "    }\n",
       "\n",
       "    .dataframe tbody tr th {\n",
       "        vertical-align: top;\n",
       "    }\n",
       "</style>\n",
       "<table border=\"1\" class=\"dataframe\">\n",
       "  <thead>\n",
       "    <tr style=\"text-align: right;\">\n",
       "      <th></th>\n",
       "      <th>walk1</th>\n",
       "      <th>walk2</th>\n",
       "      <th>walk3</th>\n",
       "      <th>walk4</th>\n",
       "      <th>walk5</th>\n",
       "      <th>walk6</th>\n",
       "      <th>walk7</th>\n",
       "      <th>walk8</th>\n",
       "      <th>walk9</th>\n",
       "      <th>walk10</th>\n",
       "      <th>...</th>\n",
       "      <th>walk91</th>\n",
       "      <th>walk92</th>\n",
       "      <th>walk93</th>\n",
       "      <th>walk94</th>\n",
       "      <th>walk95</th>\n",
       "      <th>walk96</th>\n",
       "      <th>walk97</th>\n",
       "      <th>walk98</th>\n",
       "      <th>walk99</th>\n",
       "      <th>walk100</th>\n",
       "    </tr>\n",
       "  </thead>\n",
       "  <tbody>\n",
       "    <tr>\n",
       "      <th>0</th>\n",
       "      <td>0</td>\n",
       "      <td>0</td>\n",
       "      <td>1</td>\n",
       "      <td>1</td>\n",
       "      <td>0</td>\n",
       "      <td>1</td>\n",
       "      <td>0</td>\n",
       "      <td>1</td>\n",
       "      <td>1</td>\n",
       "      <td>1</td>\n",
       "      <td>...</td>\n",
       "      <td>1</td>\n",
       "      <td>1</td>\n",
       "      <td>0</td>\n",
       "      <td>0</td>\n",
       "      <td>1</td>\n",
       "      <td>1</td>\n",
       "      <td>1</td>\n",
       "      <td>1</td>\n",
       "      <td>1</td>\n",
       "      <td>0</td>\n",
       "    </tr>\n",
       "    <tr>\n",
       "      <th>1</th>\n",
       "      <td>0</td>\n",
       "      <td>1</td>\n",
       "      <td>1</td>\n",
       "      <td>0</td>\n",
       "      <td>0</td>\n",
       "      <td>0</td>\n",
       "      <td>1</td>\n",
       "      <td>0</td>\n",
       "      <td>1</td>\n",
       "      <td>0</td>\n",
       "      <td>...</td>\n",
       "      <td>0</td>\n",
       "      <td>0</td>\n",
       "      <td>0</td>\n",
       "      <td>1</td>\n",
       "      <td>0</td>\n",
       "      <td>0</td>\n",
       "      <td>0</td>\n",
       "      <td>1</td>\n",
       "      <td>0</td>\n",
       "      <td>1</td>\n",
       "    </tr>\n",
       "    <tr>\n",
       "      <th>2</th>\n",
       "      <td>0</td>\n",
       "      <td>0</td>\n",
       "      <td>0</td>\n",
       "      <td>1</td>\n",
       "      <td>1</td>\n",
       "      <td>1</td>\n",
       "      <td>1</td>\n",
       "      <td>0</td>\n",
       "      <td>1</td>\n",
       "      <td>0</td>\n",
       "      <td>...</td>\n",
       "      <td>0</td>\n",
       "      <td>0</td>\n",
       "      <td>0</td>\n",
       "      <td>1</td>\n",
       "      <td>1</td>\n",
       "      <td>1</td>\n",
       "      <td>1</td>\n",
       "      <td>0</td>\n",
       "      <td>1</td>\n",
       "      <td>0</td>\n",
       "    </tr>\n",
       "    <tr>\n",
       "      <th>3</th>\n",
       "      <td>1</td>\n",
       "      <td>0</td>\n",
       "      <td>1</td>\n",
       "      <td>1</td>\n",
       "      <td>0</td>\n",
       "      <td>0</td>\n",
       "      <td>0</td>\n",
       "      <td>0</td>\n",
       "      <td>1</td>\n",
       "      <td>0</td>\n",
       "      <td>...</td>\n",
       "      <td>0</td>\n",
       "      <td>1</td>\n",
       "      <td>1</td>\n",
       "      <td>1</td>\n",
       "      <td>0</td>\n",
       "      <td>1</td>\n",
       "      <td>1</td>\n",
       "      <td>0</td>\n",
       "      <td>0</td>\n",
       "      <td>1</td>\n",
       "    </tr>\n",
       "    <tr>\n",
       "      <th>4</th>\n",
       "      <td>1</td>\n",
       "      <td>0</td>\n",
       "      <td>0</td>\n",
       "      <td>1</td>\n",
       "      <td>0</td>\n",
       "      <td>0</td>\n",
       "      <td>0</td>\n",
       "      <td>0</td>\n",
       "      <td>0</td>\n",
       "      <td>1</td>\n",
       "      <td>...</td>\n",
       "      <td>1</td>\n",
       "      <td>1</td>\n",
       "      <td>0</td>\n",
       "      <td>1</td>\n",
       "      <td>0</td>\n",
       "      <td>0</td>\n",
       "      <td>1</td>\n",
       "      <td>1</td>\n",
       "      <td>1</td>\n",
       "      <td>0</td>\n",
       "    </tr>\n",
       "  </tbody>\n",
       "</table>\n",
       "<p>5 rows × 100 columns</p>\n",
       "</div>"
      ],
      "text/plain": [
       "   walk1  walk2  walk3  walk4  walk5  walk6  walk7  walk8  walk9  walk10  \\\n",
       "0      0      0      1      1      0      1      0      1      1       1   \n",
       "1      0      1      1      0      0      0      1      0      1       0   \n",
       "2      0      0      0      1      1      1      1      0      1       0   \n",
       "3      1      0      1      1      0      0      0      0      1       0   \n",
       "4      1      0      0      1      0      0      0      0      0       1   \n",
       "\n",
       "    ...     walk91  walk92  walk93  walk94  walk95  walk96  walk97  walk98  \\\n",
       "0   ...          1       1       0       0       1       1       1       1   \n",
       "1   ...          0       0       0       1       0       0       0       1   \n",
       "2   ...          0       0       0       1       1       1       1       0   \n",
       "3   ...          0       1       1       1       0       1       1       0   \n",
       "4   ...          1       1       0       1       0       0       1       1   \n",
       "\n",
       "   walk99  walk100  \n",
       "0       1        0  \n",
       "1       0        1  \n",
       "2       1        0  \n",
       "3       0        1  \n",
       "4       1        0  \n",
       "\n",
       "[5 rows x 100 columns]"
      ]
     },
     "execution_count": 209,
     "metadata": {},
     "output_type": "execute_result"
    }
   ],
   "source": [
    "# Let us add the column names:\n",
    "col_names = ['walk'+str(x+1) for x in range(100)]\n",
    "df = pd.DataFrame(np.random.randint(0,2,[100,100]), columns = col_names)\n",
    "df.head()"
   ]
  },
  {
   "cell_type": "code",
   "execution_count": 210,
   "metadata": {},
   "outputs": [
    {
     "data": {
      "text/plain": [
       "(100, 100)"
      ]
     },
     "execution_count": 210,
     "metadata": {},
     "output_type": "execute_result"
    }
   ],
   "source": [
    "df.shape"
   ]
  },
  {
   "cell_type": "markdown",
   "metadata": {},
   "source": [
    "### Convert a Dictionary of Lists to Pandas DataFrame"
   ]
  },
  {
   "cell_type": "code",
   "execution_count": 59,
   "metadata": {},
   "outputs": [
    {
     "data": {
      "text/html": [
       "<div>\n",
       "<style>\n",
       "    .dataframe thead tr:only-child th {\n",
       "        text-align: right;\n",
       "    }\n",
       "\n",
       "    .dataframe thead th {\n",
       "        text-align: left;\n",
       "    }\n",
       "\n",
       "    .dataframe tbody tr th {\n",
       "        vertical-align: top;\n",
       "    }\n",
       "</style>\n",
       "<table border=\"1\" class=\"dataframe\">\n",
       "  <thead>\n",
       "    <tr style=\"text-align: right;\">\n",
       "      <th></th>\n",
       "      <th>walk1</th>\n",
       "      <th>walk2</th>\n",
       "    </tr>\n",
       "  </thead>\n",
       "  <tbody>\n",
       "    <tr>\n",
       "      <th>0</th>\n",
       "      <td>0</td>\n",
       "      <td>0</td>\n",
       "    </tr>\n",
       "    <tr>\n",
       "      <th>1</th>\n",
       "      <td>1</td>\n",
       "      <td>0</td>\n",
       "    </tr>\n",
       "    <tr>\n",
       "      <th>2</th>\n",
       "      <td>1</td>\n",
       "      <td>1</td>\n",
       "    </tr>\n",
       "    <tr>\n",
       "      <th>3</th>\n",
       "      <td>1</td>\n",
       "      <td>1</td>\n",
       "    </tr>\n",
       "    <tr>\n",
       "      <th>4</th>\n",
       "      <td>1</td>\n",
       "      <td>1</td>\n",
       "    </tr>\n",
       "  </tbody>\n",
       "</table>\n",
       "</div>"
      ],
      "text/plain": [
       "   walk1  walk2\n",
       "0      0      0\n",
       "1      1      0\n",
       "2      1      1\n",
       "3      1      1\n",
       "4      1      1"
      ]
     },
     "execution_count": 59,
     "metadata": {},
     "output_type": "execute_result"
    }
   ],
   "source": [
    "walk1 = np.random.randint(0,2,100)\n",
    "walk2 = np.random.randint(0,2,100)\n",
    "random_walks = {'walk1':walk1, 'walk2':walk2}\n",
    "df = pd.DataFrame(random_walks)\n",
    "df.head()"
   ]
  },
  {
   "cell_type": "code",
   "execution_count": 25,
   "metadata": {},
   "outputs": [
    {
     "data": {
      "text/html": [
       "<div>\n",
       "<style>\n",
       "    .dataframe thead tr:only-child th {\n",
       "        text-align: right;\n",
       "    }\n",
       "\n",
       "    .dataframe thead th {\n",
       "        text-align: left;\n",
       "    }\n",
       "\n",
       "    .dataframe tbody tr th {\n",
       "        vertical-align: top;\n",
       "    }\n",
       "</style>\n",
       "<table border=\"1\" class=\"dataframe\">\n",
       "  <thead>\n",
       "    <tr style=\"text-align: right;\">\n",
       "      <th></th>\n",
       "      <th>Amount</th>\n",
       "      <th>Calories</th>\n",
       "    </tr>\n",
       "    <tr>\n",
       "      <th>Fruit</th>\n",
       "      <th></th>\n",
       "      <th></th>\n",
       "    </tr>\n",
       "  </thead>\n",
       "  <tbody>\n",
       "    <tr>\n",
       "      <th>Bananas</th>\n",
       "      <td>1 medium</td>\n",
       "      <td>105</td>\n",
       "    </tr>\n",
       "    <tr>\n",
       "      <th>Blackberries</th>\n",
       "      <td>100 berries</td>\n",
       "      <td>100</td>\n",
       "    </tr>\n",
       "  </tbody>\n",
       "</table>\n",
       "</div>"
      ],
      "text/plain": [
       "                   Amount Calories\n",
       "Fruit                             \n",
       "Bananas          1 medium      105\n",
       "Blackberries  100 berries      100"
      ]
     },
     "execution_count": 25,
     "metadata": {},
     "output_type": "execute_result"
    }
   ],
   "source": [
    "df2 = pd.DataFrame(arr, columns = ['Amount','Calories','Fruit']).set_index('Fruit')\n",
    "df2"
   ]
  },
  {
   "cell_type": "markdown",
   "metadata": {},
   "source": [
    "In summary:\n",
    "\n",
    "* We will store and operate with data using Pandas DataFrames (and NumPy arrays for the modeling)\n",
    "* DataFrame can be created from:\n",
    "    * list of dictionaries\n",
    "    * dictionary of lists\n",
    "    * ndarray"
   ]
  },
  {
   "cell_type": "markdown",
   "metadata": {},
   "source": [
    "## Web Scraping\n",
    "### Requests Library -- pull data"
   ]
  },
  {
   "cell_type": "code",
   "execution_count": 1,
   "metadata": {},
   "outputs": [],
   "source": [
    "import requests"
   ]
  },
  {
   "cell_type": "code",
   "execution_count": 2,
   "metadata": {},
   "outputs": [
    {
     "data": {
      "text/plain": [
       "<Response [200]>"
      ]
     },
     "execution_count": 2,
     "metadata": {},
     "output_type": "execute_result"
    }
   ],
   "source": [
    "# get a resource:\n",
    "requests.get(\"http://www.bvu.edu\")"
   ]
  },
  {
   "cell_type": "code",
   "execution_count": 3,
   "metadata": {},
   "outputs": [
    {
     "data": {
      "text/plain": [
       "requests.models.Response"
      ]
     },
     "execution_count": 3,
     "metadata": {},
     "output_type": "execute_result"
    }
   ],
   "source": [
    "p = requests.get(\"http://www.bvu.edu\")\n",
    "type(p)"
   ]
  },
  {
   "cell_type": "code",
   "execution_count": 4,
   "metadata": {},
   "outputs": [
    {
     "data": {
      "text/plain": [
       "b'<!DOCTYPE html>\\n<html lang=\"en\" dir=\"ltr\" prefix=\"content: http://purl.org/rss/1.0/modules/content/  dc: http://purl.org/dc/terms/  foaf: http://xmlns.com/foaf/0.1/  og: http://ogp.me/ns#  rdfs: http://www.w3.org/2000/01/rdf-schema#  schema: http://schema.org/  sioc: http://rdfs.org/sioc/ns#  sioct: http://rdfs.org/sioc/types#  skos: http://www.w3.org/2004/02/skos/core#  xsd: http://www.w3.org/2001/XMLSchema# \">\\n  <head>\\n    <meta charset=\"utf-8\" />\\n<meta name=\"title\" content=\"Buena Vista University | Buena Vista University\" />\\n<link rel=\"shortlink\" href=\"https://www.bvu.edu/\" />\\n<link rel=\"canonical\" href=\"https://www.bvu.edu/\" />\\n<meta name=\"description\" content=\"Our college in Iowa has both a rich history and a strong grasp on today&#039;s student needs. Explore the site to learn what Buena Vista University has to offer!\" />\\n<meta name=\"Generator\" content=\"Drupal 8 (https://www.drupal.org)\" />\\n<meta name=\"MobileOptimized\" content=\"width\" />\\n<meta name=\"HandheldFriendly\" content=\"true\" />\\n<meta name=\"viewport\" content=\"width=device-width, initial-scale=1.0\" />\\n<link rel=\"shortcut icon\" href=\"/core/misc/favicon.ico\" type=\"image/vnd.microsoft.icon\" />\\n<link rel=\"revision\" href=\"/\" />\\n\\n    <title>Buena Vista University | Buena Vista University</title>\\n\\n    <link rel=\"apple-touch-icon\" sizes=\"180x180\" href=\"/themes/bvu/assets/img/favicon/apple-touch-icon.png\">\\n    <link rel=\"icon\" type=\"image/png\" sizes=\"32x32\" href=\"/themes/bvu/assets/img/favicon/favicon-32x32.png\">\\n    <link rel=\"icon\" type=\"image/png\" sizes=\"16x16\" href=\"/themes/bvu/assets/img/favicon/favicon-16x16.png\">\\n    <link rel=\"manifest\" href=\"/themes/bvu/assets/img/favicon/site.webmanifest\">\\n    <link rel=\"mask-icon\" href=\"/themes/bvu/assets/img/favicon/safari-pinned-tab.svg\" color=\"#0a2443\">\\n    <link rel=\"shortcut icon\" href=\"/themes/bvu/assets/img/favicon/favicon.ico\">\\n    <meta name=\"msapplication-TileColor\" content=\"#2b5797\">\\n    <meta name=\"msapplication-config\" content=\"/themes/bvu/assets/img/favicon/browserconfig.xml\">\\n    <meta name=\"theme-color\" content=\"#ffffff\">\\n\\n    <link rel=\"stylesheet\" href=\"/sites/default/files/css/css_qhoKAeTvvXV1E00SkMyrTZZF8TlKuRDE1v7TF2hZTaI.css?ptqb0r\" media=\"all\" />\\n<link rel=\"stylesheet\" href=\"//fonts.googleapis.com/css?family=Arvo:400,400i,700,700i|Oswald:400,500,600,700|Roboto:400,400i,700,700i\" media=\"all\" />\\n<link rel=\"stylesheet\" href=\"/sites/default/files/css/css_f5bYQDX5ZuR44dceC1gjs46o6yeDFdEphZ45BqSzuQQ.css?ptqb0r\" media=\"all\" />\\n\\n    \\n<!--[if lte IE 8]>\\n<script src=\"/sites/default/files/js/js_VtafjXmRvoUgAzqzYTA3Wrjkx9wcWhjP0G4ZnnqRamA.js\"></script>\\n<![endif]-->\\n\\n\\n    <script>\\n(function() {\\n  var cx = \\'016448524809240731120:iha30iylkje\\';\\n  var gcse = document.createElement(\\'script\\'); gcse.type = \\'text/javascript\\'; gcse.async = true;\\n  gcse.src = \\'https://cse.google.com/cse.js?cx=\\' + cx;\\n  var s = document.getElementsByTagName(\\'script\\')[0]; s.parentNode.insertBefore(gcse, s);\\n})();\\n</script>\\n\\n  </head>\\n  <body>\\n\\n  <!-- Start Visual Website Optimizer Asynchronous Code -->\\n  <script type=\\'text/javascript\\'>\\n  var _vwo_code=(function(){\\n  var account_id=401455,\\n  settings_tolerance=2000,\\n  library_tolerance=2500,\\n  use_existing_jquery=false,\\n  /* DO NOT EDIT BELOW THIS LINE */\\n  f=false,d=document;return{use_existing_jquery:function(){return use_existing_jquery;},library_tolerance:function(){return library_tolerance;},finish:function(){if(!f){f=true;var a=d.getElementById(\\'_vis_opt_path_hides\\');if(a)a.parentNode.removeChild(a);}},finished:function(){return f;},load:function(a){var b=d.createElement(\\'script\\');b.src=a;b.type=\\'text/javascript\\';b.innerText;b.onerror=function(){_vwo_code.finish();};d.getElementsByTagName(\\'head\\')[0].appendChild(b);},init:function(){settings_timer=setTimeout(\\'_vwo_code.finish()\\',settings_tolerance);var a=d.createElement(\\'style\\'),b=\\'body{opacity:0 !important;filter:alpha(opacity=0) !important;background:none !important;}\\',h=d.getElementsByTagName(\\'head\\')[0];a.setAttribute(\\'id\\',\\'_vis_opt_path_hides\\');a.setAttribute(\\'type\\',\\'text/css\\');if(a.styleSheet)a.styleSheet.cssText=b;else a.appendChild(d.createTextNode(b));h.appendChild(a);this.load(\\'//dev.visualwebsiteoptimizer.com/j.php?a=\\'+account_id+\\'&u=\\'+encodeURIComponent(d.URL)+\\'&r=\\'+Math.random());return settings_timer;}};}());_vwo_settings_timer=_vwo_code.init();\\n  </script>\\n  <!-- End Visual Website Optimizer Asynchronous Code -->\\n\\n  <!-- Google Tag Manager -->\\n  <noscript><iframe title=\"Tag Manager\" src=\"//www.googletagmanager.com/ns.html?id=GTM-TGBM3N\"\\n  height=\"0\" width=\"0\" style=\"display:none;visibility:hidden\"></iframe></noscript>\\n  <script>(function(w,d,s,l,i){w[l]=w[l]||[];w[l].push({\\'gtm.start\\':\\n  new Date().getTime(),event:\\'gtm.js\\'});var f=d.getElementsByTagName(s)[0],\\n  j=d.createElement(s),dl=l!=\\'dataLayer\\'?\\'&l=\\'+l:\\'\\';j.async=true;j.src=\\n  \\'//www.googletagmanager.com/gtm.js?id=\\'+i+dl;f.parentNode.insertBefore(j,f);\\n  })(window,document,\\'script\\',\\'dataLayer\\',\\'GTM-TGBM3N\\');</script>\\n  <!-- End Google Tag Manager -->\\n        <a href=\"#main-content\" class=\"visually-hidden focusable\">\\n      Skip to main content\\n    </a>\\n    \\n      <div class=\"dialog-off-canvas-main-canvas\" data-off-canvas-main-canvas>\\n    \\n<!--Sidewinder/Push Search-->\\n<div id=\"push-nav\" class=\"push-nav\">\\n\\t<div class=\"push-navigation-wrapper\">\\n\\t\\t<div class=\"push-col-block\">\\n\\t\\t <div class=\"percent-row narrow\">\\n\\t\\t\\t\\t<!--Global Search-->\\n\\t\\t\\t\\t<div class=\"push-nav__search\">\\n\\t\\t\\t\\t\\t<h2>Site Search</h2>\\n\\t\\t\\t\\t\\t<gcse:searchbox-only resultsUrl=\"/search-results\" queryParameterName=\"as_q\"></gcse:searchbox-only>\\n\\n\\t\\t\\t\\t</div>\\n\\t\\t\\t\\t<!--END Global Search-->\\n\\n\\t\\t\\t\\t<!--Close Btn-->\\n\\t\\t\\t\\t<div class=\"push-close\">\\n\\t\\t\\t\\t\\t<a href=\"#\" title=\"\" class=\"push-nav-trigger\"><i class=\"fas fa-window-close\" aria-hidden=\"true\"></i></a>\\n\\t\\t\\t\\t</div>\\n\\t\\t\\t\\t<!--END Close Btn-->\\n\\t\\t\\t</div>\\n\\t\\t</div>\\n\\t</div>\\n\\t<!--Background Image-->\\n\\t<div class=\"push-nav__BG\" style=\"background-image: url(/themes/bvu/assets/img/campus-from-afar.jpg)\"></div>\\n\\t<!--END Background Image-->\\n</div>\\n<!--END Sidewinder/Push Search-->\\n\\n<div class=\"page page--home \">\\n  <div class=\"skip-link\">\\n    <a href=\"#main-menu\" class=\"element-invisible element-focusable\">Skip to main site navigation</a>\\n    <a href=\"#main-content\" class=\"element-invisible element-focusable\">Skip to main content</a>\\n  </div>\\n\\n  <!--Navigation/Top Bar-->\\n  <header class=\"cf\">\\n    <!--Main Nav-->\\n    <div class=\"header-wrapper\">\\n      <div class=\"percent-row relative\">\\n        <div class=\"column\">\\n          <!--Header Logo Region-->\\n          <div class=\"headerLogo\">\\n                          <a href=\"/\" title=\"\">\\n                <svg x=\"0px\" y=\"0px\" viewBox=\"0 0 419.5 87.2\" style=\"enable-background:new 0 0 419.5 87.2;\">\\n  <g class=\"word-mark\">\\n    <path d=\"M146.1,2.9L146,27.7c0,7-5.8,10.5-12.2,10.5c-6.4,0-12.6-3.4-12.6-10.5V2.9h-3.8c-0.5,0-1.1-0.4-1.1-1.1\\n      c0-0.7,0.5-1.1,1.1-1.1c0.8,0,1.9,0.2,5.6,0.2h1.8c3.7,0,4.9-0.2,5.6-0.2c0.5,0,1.1,0.4,1.1,1.1c0,0.7-0.6,1.1-1.1,1.1h-3.8v25.8\\n      c0,4.6,3.7,6.8,8.4,6.8c5.3,0,8.4-3.3,8.4-7.8V2.9h-4.4c-0.5,0-1.1-0.4-1.1-1.1c0-0.7,0.5-1.1,1.1-1.1c0.8,0,2,0.2,5.6,0.2\\n      c4,0,5.1-0.2,5.9-0.2c0.5,0,1.1,0.4,1.1,1.1c0,0.7-0.6,1.1-1.1,1.1H146.1z\"/>\\n    <path d=\"M181.9,36.6c0,0.6-0.4,1.2-1,1.2c-0.6,0-2.3-0.2-3.3-0.2L161,37.4c-3.7,0-4.9,0.2-5.6,0.2\\n      c-0.6,0-1.1-0.4-1.1-1.1c0-0.7,0.5-1.1,1.1-1.1h3.8V2.9h-3.8c-0.5,0-1.1-0.4-1.1-1.1c0-0.7,0.5-1.1,1.1-1.1c0.8,0,1.9,0.2,5.6,0.2\\n      l15.1-0.1c1,0,2.7-0.3,3.2-0.3c0.7,0,1.1,0.6,1.1,1.2v1.7c0,2.3,0.3,6.1,0.3,6.7c0,0.6-0.4,1.1-1.1,1.1c-0.6,0-1.2-0.4-1.2-1.1\\n      c0-4.5-1.4-7-4.8-7h-9.1v14.3h5.5c1.7,0,2.9-1.2,2.9-4c0-0.4,0.2-1.1,0.9-1.1c0.8,0,1,0.6,1,1.1c0,0.5-0.1,1.5-0.1,5.2\\n      c0,3.6,0.1,4.7,0.1,5.2c0,0.4-0.2,1.1-1,1.1c-0.8,0-0.9-0.8-0.9-1.1c0-2.8-1.2-4-2.9-4h-5.5v15.5h10.5c3.4,0,4.8-2.5,4.8-7\\n      c0-0.6,0.5-1.1,1.1-1.1c0.7,0,1.1,0.5,1.1,1.1c0,0.6-0.3,4.4-0.3,6.6V36.6z\"/>\\n    <path d=\"M216.6,2.9l-0.3,32.9c0,1.2-0.4,2.1-1.4,2.1c-1,0-1.4-0.6-1.9-1.3L194.5,8.1v27.3h4.4c0.4,0,1.1,0.4,1.1,1.1\\n      c0,0.7-0.6,1.1-1.1,1.1c-0.8,0-1.9-0.2-5.6-0.2c-3.9,0-5.1,0.2-5.9,0.2c-0.5,0-1.1-0.4-1.1-1.1c0-0.7,0.6-1.1,1.1-1.1h4.3l0.2-32.5\\n      h-4.5c-0.4,0-1.1-0.4-1.1-1.1c0-0.7,0.6-1.1,1.1-1.1c0.8,0,2,0.2,5.6,0.2l1.7-0.1c1.3,0,1.8,0.8,2.9,2.3L213.6,28V2.9h-4.5\\n      c-0.5,0-1.1-0.3-1.1-1.1c0-0.8,0.6-1.1,1.1-1.1c0.7,0,1.9,0.2,5.6,0.2c4,0,5.1-0.2,5.9-0.2c0.6,0,1.1,0.4,1.1,1.1\\n      c0,0.7-0.5,1.1-1.1,1.1H216.6z\"/>\\n    <path d=\"M93.4,37.4c-3.7,0-4.9,0.2-5.6,0.2c-0.6,0-1.1-0.4-1.1-1.1c0-0.7,0.5-1.1,1.1-1.1h3.8V2.9h-3.8\\n      c-0.5,0-1.1-0.4-1.1-1.1c0-0.7,0.5-1.1,1.1-1.1c0.8,0,1.9,0.2,5.6,0.2c1.7,0,2.4,0,3,0l2.3,0c9.3,0,14.3,3.8,14.3,9.1\\n      c0,3.6-2.9,6.4-6,7.8c4.9,1.4,8.6,5,8.6,9.7c0,6.3-5,10.3-14.4,10.3C97.4,37.6,96.7,37.4,93.4,37.4z M97,3v14.4h0.7\\n      c6.1,0,9.5-1.6,9.5-7.7c0-4.7-2.1-6.7-8.9-6.7H97z M97,19.7v15.6h4.1c6.5,0,8.6-2.1,8.6-7.7c0-4.7-3-7.9-9.1-7.9H97z\"/>\\n    <path d=\"M252.1,37.4h-1.6c-3.7,0-4.9,0.2-5.6,0.2c-0.6,0-1.1-0.4-1.1-1.1c0-0.7,0.5-1.1,1.1-1.1h3.2l-3.5-9.3h-13.1\\n      l-3.6,9.3h4.5c0.4,0,1.1,0.4,1.1,1.1c0,0.7-0.6,1.1-1.1,1.1c-0.8,0-2-0.2-5.6-0.2c-4,0-5.1,0.2-5.9,0.2c-0.5,0-1.1-0.4-1.1-1.1\\n      c0-0.7,0.6-1.1,1.1-1.1h4.1l13.7-34.7c0.2-0.3,0.3-0.4,0.4-0.5c0.2-0.2,0.5-0.2,0.7-0.2c0.7,0,1,0.3,1.1,0.8l13,34.6h3.9\\n      c0.4,0,1.1,0.4,1.1,1.1c0,0.7-0.6,1.1-1.1,1.1C257,37.6,255.8,37.4,252.1,37.4z M232.5,23.7h11.3l-5.5-14.8L232.5,23.7z\"/>\\n    <path d=\"M299.1,2.9l-13.6,34.7c-0.2,0.3-0.3,0.4-0.4,0.5c-0.2,0.2-0.5,0.2-0.8,0.2c-0.6,0-1-0.2-1.1-0.8L270.3,2.9\\n      h-3.9c-0.4,0-1.1-0.4-1.1-1.1c0-0.7,0.6-1.1,1.1-1.1c0.8,0,1.9,0.2,5.6,0.2h1.6c3.6,0,4.8-0.2,5.6-0.2c0.6,0,1.1,0.4,1.1,1.1\\n      c0,0.7-0.5,1.1-1.1,1.1h-3.3l9.9,26.5l10.2-26.5h-4.4c-0.5,0-1.1-0.4-1.1-1.1c0-0.7,0.5-1.1,1.1-1.1c0.8,0,1.9,0.2,5.6,0.2\\n      c4,0,5.2-0.2,5.9-0.2c0.5,0,1.1,0.4,1.1,1.1c0,0.7-0.7,1.1-1.1,1.1H299.1z\"/>\\n    <path d=\"M316.5,37.4h-1.8c-3.7,0-4.9,0.2-5.7,0.2c-0.5,0-1.1-0.4-1.1-1.1c0-0.7,0.6-1.1,1.1-1.1h3.8V2.9h-3.8\\n      c-0.4,0-1.1-0.4-1.1-1.1c0-0.7,0.6-1.1,1.1-1.1c0.8,0,1.9,0.2,5.7,0.2h1.8c3.7,0,4.9-0.2,5.6-0.2c0.6,0,1.1,0.4,1.1,1.1\\n      c0,0.7-0.5,1.1-1.1,1.1h-3.8v32.5h3.8c0.5,0,1.1,0.4,1.1,1.1c0,0.7-0.5,1.1-1.1,1.1C321.4,37.6,320.2,37.4,316.5,37.4z\"/>\\n    <path d=\"M331.3,35c-0.5,0.3-1,0.9-1,1.8c0,0.3,0,0.5-0.1,0.6c-0.2,0.3-0.5,0.5-0.9,0.5c-1.1,0-1.1-0.9-1.1-1.1V26.5\\n      c0-0.5,0.3-1.1,1.1-1.1c1,0,1.1,0.8,1.1,1.1c0,5.1,4.2,9.1,9.1,9.1c4.7,0,7.5-2.3,7.5-6.8c0-3.8-3.2-5.7-6.6-6.6l-2.2-0.6\\n      c-6.6-1.9-10-5.8-10-11.2c0-6.2,5.6-10,10.9-10c3.2,0,5.5,1.1,7.1,2.6c0.4-0.2,0.8-0.6,0.8-1.4c0-0.3,0-0.5,0.1-0.6\\n      c0.2-0.3,0.5-0.5,0.9-0.5c1.1,0,1.1,0.8,1.1,1.1v8.8c0,0.5-0.2,1.2-1.1,1.2c-0.4,0-0.7-0.2-0.9-0.5c-0.1-0.1-0.1-0.3-0.1-0.4l0-0.3\\n      c0-3-2.5-7.7-7.8-7.7c-4.2,0-6.8,2.7-6.8,6.7c0,3.5,2.9,5.2,5.8,6.1l2.8,0.8c5.7,1.6,10.8,4.8,10.8,11c0,6.6-5.3,10.7-11.9,10.7\\n      C335.9,38.1,333,36.5,331.3,35z\"/>\\n    <path d=\"M381.9,10c0-4.5-1.4-7-4.8-7h-5.5v32.4h3.5c0.4,0,1.1,0.4,1.1,1.1c0,0.7-0.6,1.1-1.1,1.1\\n      c-0.8,0-1.7-0.2-5.3-0.2H368c-3.7,0-4.5,0.2-5.3,0.2c-0.6,0-1.1-0.4-1.1-1.1c0-0.7,0.5-1.1,1.1-1.1h3.5V3h-5.5\\n      c-3.4,0-4.8,2.5-4.8,7c0,0.6-0.4,1.1-1.1,1.1c-0.7,0-1.1-0.5-1.1-1.1c0-0.6,0.3-4.4,0.3-6.7V1.7c0-0.7,0.4-1.2,1.1-1.2\\n      c0.5,0,2.2,0.3,3.2,0.3c0,0,8.3,0.2,10.6,0.1c2.4,0,10.6-0.1,10.6-0.1c1,0,2.8-0.3,3.3-0.3c0.7,0,1.1,0.6,1.1,1.2v1.7\\n      c0,2.3,0.3,6.1,0.3,6.7c0,0.5-0.4,1.1-1.1,1.1C382.5,11.1,381.9,10.7,381.9,10z\"/>\\n    <path d=\"M412.8,37.4h-1.6c-3.7,0-4.9,0.2-5.6,0.2c-0.6,0-1.1-0.4-1.1-1.1c0-0.7,0.5-1.1,1.1-1.1h3.2l-3.5-9.3h-13.1\\n      l-3.6,9.3h4.5c0.4,0,1.1,0.4,1.1,1.1c0,0.7-0.6,1.1-1.1,1.1c-0.8,0-2-0.2-5.6-0.2c-4,0-5.1,0.2-5.9,0.2c-0.5,0-1.1-0.4-1.1-1.1\\n      c0-0.7,0.6-1.1,1.1-1.1h4.1l13.7-34.7c0.2-0.3,0.3-0.4,0.4-0.5c0.2-0.2,0.5-0.2,0.7-0.2c0.7,0,1,0.3,1.1,0.8l13,34.6h3.9\\n      c0.4,0,1.1,0.4,1.1,1.1c0,0.7-0.6,1.1-1.1,1.1C417.6,37.6,416.5,37.4,412.8,37.4z M393.1,23.7h11.3l-5.5-14.8L393.1,23.7z\"/>\\n    <path d=\"M108.8,47.1l-0.1,18.5c0,5.2-4.3,7.8-9.1,7.8c-4.7,0-9.4-2.5-9.4-7.8V47.1h-2.8c-0.4,0-0.8-0.3-0.8-0.8\\n      c0-0.5,0.4-0.8,0.8-0.8c0.6,0,1.4,0.1,4.1,0.1H93c2.7,0,3.6-0.1,4.2-0.1c0.4,0,0.8,0.3,0.8,0.8c0,0.5-0.5,0.8-0.8,0.8h-2.8v19.2\\n      c0,3.4,2.8,5,6.3,5c4,0,6.2-2.5,6.2-5.8V47.1h-3.3c-0.4,0-0.8-0.3-0.8-0.8c0-0.5,0.4-0.8,0.8-0.8c0.6,0,1.5,0.1,4.2,0.1\\n      c3,0,3.8-0.1,4.4-0.1c0.4,0,0.8,0.3,0.8,0.8c0,0.5-0.5,0.8-0.8,0.8H108.8z\"/>\\n    <path d=\"M148.6,47.1l-0.3,24.5c0,0.9-0.3,1.5-1,1.5c-0.7,0-1.1-0.5-1.4-1L132.1,51v20.3h3.3c0.3,0,0.8,0.3,0.8,0.8\\n      c0,0.5-0.4,0.8-0.8,0.8c-0.6,0-1.4-0.1-4.2-0.1c-2.9,0-3.8,0.1-4.4,0.1c-0.4,0-0.8-0.3-0.8-0.8c0-0.5,0.5-0.8,0.8-0.8h3.2l0.2-24.2\\n      h-3.4c-0.3,0-0.8-0.3-0.8-0.8c0-0.5,0.4-0.8,0.8-0.8c0.6,0,1.5,0.1,4.2,0.1l1.2,0c0.9,0,1.4,0.6,2.1,1.7l12,18.5V47.1h-3.3\\n      c-0.3,0-0.8-0.2-0.8-0.8c0-0.6,0.5-0.8,0.8-0.8c0.5,0,1.4,0.1,4.1,0.1c3,0,3.8-0.1,4.4-0.1c0.4,0,0.8,0.3,0.8,0.8\\n      c0,0.5-0.4,0.8-0.8,0.8H148.6z\"/>\\n    <path d=\"M173.4,72.7H172c-2.8,0-3.6,0.1-4.2,0.1c-0.4,0-0.8-0.3-0.8-0.8c0-0.5,0.5-0.8,0.8-0.8h2.8V47h-2.8\\n      c-0.3,0-0.8-0.3-0.8-0.8c0-0.5,0.4-0.8,0.8-0.8c0.6,0,1.4,0.1,4.2,0.1h1.3c2.7,0,3.6-0.1,4.1-0.1c0.4,0,0.8,0.3,0.8,0.8\\n      c0,0.5-0.4,0.8-0.8,0.8h-2.8v24.2h2.8c0.4,0,0.8,0.3,0.8,0.8c0,0.5-0.4,0.8-0.8,0.8C177,72.9,176.1,72.7,173.4,72.7z\"/>\\n    <path d=\"M215.7,47.1l-10.1,25.8c-0.1,0.2-0.2,0.3-0.3,0.4c-0.2,0.1-0.4,0.2-0.6,0.2c-0.4,0-0.7-0.2-0.8-0.6l-9.6-25.7\\n      h-2.9c-0.3,0-0.8-0.3-0.8-0.8c0-0.5,0.4-0.8,0.8-0.8c0.6,0,1.4,0.1,4.2,0.1h1.2c2.7,0,3.6-0.1,4.2-0.1c0.4,0,0.8,0.3,0.8,0.8\\n      c0,0.5-0.4,0.8-0.8,0.8h-2.4l7.4,19.7l7.6-19.7h-3.3c-0.4,0-0.8-0.3-0.8-0.8c0-0.5,0.4-0.8,0.8-0.8c0.6,0,1.4,0.1,4.1,0.1\\n      c3,0,3.9-0.1,4.4-0.1c0.4,0,0.8,0.3,0.8,0.8c0,0.5-0.5,0.8-0.8,0.8H215.7z\"/>\\n    <path d=\"M251.3,72.2c0,0.5-0.3,0.9-0.7,0.9c-0.4,0-1.7-0.2-2.4-0.2l-12.3-0.1c-2.8,0-3.6,0.1-4.2,0.1\\n      c-0.4,0-0.8-0.3-0.8-0.8c0-0.5,0.4-0.8,0.8-0.8h2.8V47.1h-2.8c-0.4,0-0.8-0.3-0.8-0.8c0-0.5,0.4-0.8,0.8-0.8c0.6,0,1.4,0.1,4.2,0.1\\n      l11.3-0.1c0.7,0,2-0.2,2.4-0.2c0.5,0,0.8,0.4,0.8,0.9v1.2c0,1.7,0.2,4.5,0.2,5c0,0.4-0.3,0.8-0.8,0.8c-0.5,0-0.9-0.3-0.9-0.8\\n      c0-3.4-1.1-5.2-3.5-5.2h-6.7v10.6h4.1c1.3,0,2.2-0.9,2.2-3c0-0.3,0.2-0.8,0.7-0.8c0.6,0,0.7,0.5,0.7,0.8c0,0.4,0,1.1,0,3.8\\n      c0,2.7,0,3.5,0,3.8c0,0.3-0.1,0.8-0.7,0.8c-0.6,0-0.7-0.6-0.7-0.8c0-2.1-0.9-3-2.2-3h-4.1v11.6h7.8c2.5,0,3.5-1.8,3.5-5.2\\n      c0-0.5,0.4-0.8,0.8-0.8c0.5,0,0.8,0.4,0.8,0.8c0,0.4-0.2,3.3-0.2,4.9V72.2z\"/>\\n    <path d=\"M306.2,71c-0.3,0.2-0.7,0.7-0.7,1.3c0,0.2,0,0.4-0.1,0.5c-0.1,0.2-0.3,0.4-0.7,0.4c-0.8,0-0.8-0.7-0.8-0.8\\n      v-7.6c0-0.4,0.2-0.8,0.8-0.8c0.8,0,0.8,0.6,0.8,0.8c0,3.8,3.2,6.8,6.8,6.8c3.5,0,5.5-1.7,5.5-5.1c0-2.8-2.4-4.2-4.9-4.9l-1.7-0.5\\n      c-4.9-1.4-7.5-4.3-7.5-8.3c0-4.6,4.1-7.4,8.1-7.4c2.4,0,4.1,0.8,5.3,1.9c0.3-0.1,0.6-0.4,0.6-1c0-0.2,0-0.3,0.1-0.5\\n      c0.1-0.2,0.4-0.4,0.7-0.4c0.8,0,0.8,0.6,0.8,0.8v6.6c0,0.4-0.2,0.9-0.8,0.9c-0.3,0-0.5-0.1-0.7-0.4c-0.1-0.1-0.1-0.2-0.1-0.3l0-0.2\\n      c0-2.2-1.8-5.7-5.8-5.7c-3.1,0-5.1,2-5.1,5c0,2.6,2.1,3.9,4.3,4.5l2,0.6c4.3,1.2,8,3.6,8,8.2c0,4.9-3.9,8-8.9,8\\n      C309.7,73.3,307.5,72.2,306.2,71z\"/>\\n    <path d=\"M342.3,72.8H341c-2.8,0-3.6,0.1-4.2,0.1c-0.4,0-0.8-0.3-0.8-0.8c0-0.5,0.5-0.8,0.8-0.8h2.8V47.2h-2.8\\n      c-0.3,0-0.8-0.3-0.8-0.8c0-0.5,0.4-0.8,0.8-0.8c0.6,0,1.4,0.1,4.2,0.1h1.3c2.7,0,3.6-0.1,4.2-0.1c0.4,0,0.8,0.3,0.8,0.8\\n      c0,0.5-0.4,0.8-0.8,0.8h-2.8v24.2h2.8c0.4,0,0.8,0.3,0.8,0.8c0,0.5-0.4,0.8-0.8,0.8C346,73,345.1,72.8,342.3,72.8z\"/>\\n    <path d=\"M380.5,52.5c0-3.4-1.1-5.2-3.5-5.2h-4.1v24.1h2.6c0.3,0,0.8,0.3,0.8,0.8c0,0.5-0.4,0.8-0.8,0.8\\n      c-0.6,0-1.2-0.1-4-0.1h-1.3c-2.8,0-3.3,0.1-3.9,0.1c-0.4,0-0.8-0.3-0.8-0.8c0-0.5,0.4-0.8,0.8-0.8h2.6V47.3h-4.1\\n      c-2.5,0-3.5,1.8-3.5,5.2c0,0.4-0.3,0.8-0.8,0.8c-0.5,0-0.8-0.4-0.8-0.8c0-0.4,0.2-3.3,0.2-5v-1.2c0-0.5,0.3-0.9,0.8-0.9\\n      c0.4,0,1.6,0.2,2.4,0.2c0,0,6.1,0.1,7.9,0.1c1.8,0,7.9-0.1,7.9-0.1c0.8,0,2.1-0.2,2.4-0.2c0.5,0,0.8,0.4,0.8,0.9v1.2\\n      c0,1.7,0.2,4.5,0.2,5c0,0.4-0.3,0.8-0.8,0.8C381,53.3,380.5,53,380.5,52.5z\"/>\\n    <path d=\"M417.1,45.3c-0.6,0-1.5,0.1-4.2,0.1h-1.3c-2.7,0-3.6-0.1-4.1-0.1c-0.4,0-0.8,0.3-0.8,0.8\\n      c0,0.5,0.4,0.8,0.8,0.8h2.8h1.1l-2.5,5l-3.7,7.1l-2.6-5.2l-3.3-6.9h2.6c0.3,0,0.8-0.3,0.8-0.8c0-0.5-0.4-0.8-0.8-0.8\\n      c-0.6,0-1.5,0.1-4.2,0.1h-1.3c-2.7,0-3.6-0.1-4.1-0.1c-0.4,0-0.8,0.3-0.8,0.8c0,0.5,0.4,0.8,0.8,0.8h2.8h0.3l7.1,14.5l0,10.1\\n      l-2.9,0c-0.3,0-0.8,0.3-0.8,0.8c0,0.5,0.4,0.8,0.8,0.8c0.6,0,1.4-0.1,4.2-0.1h1.3c2.7,0,3.6,0.1,4.1,0.1c0.4,0,0.8-0.3,0.8-0.8\\n      c0-0.5-0.4-0.8-0.8-0.8l-2.9,0.1l0.1-10.4l0,0c0.2-0.6,0.9-2.2,2.9-6.1c0.7-1.4,4-8,4.1-8.2h0.8h2.8c0.3,0,0.8-0.3,0.8-0.8\\n      C417.9,45.6,417.4,45.3,417.1,45.3z\"/>\\n    <path d=\"M290.2,71.4h-2.6c-1.8-3.5-2.5-5.8-5.4-11.6c-0.2-0.4-0.1-0.3-0.2-0.5c2.7-1.1,5-3.1,5.1-7.1\\n      c0-2-1.3-4.6-3.3-5.7c-1.9-1-4.4-1.3-7-1.3c-0.5,0-0.9,0-1.3,0c0,0,0,0,0,0l-0.2,0h0l0,0l-5.1,0c-2.8,0-3.7-0.1-4.3-0.1\\n      c-0.4,0-0.8,0.3-0.8,0.8c0,0.5,0.4,0.8,0.8,0.8h2.9v24.5h-2.1c-0.3,0-0.8,0.3-0.8,0.8c0,0.5,0.4,0.8,0.8,0.8c0.6,0,1.5-0.1,4.5-0.1\\n      c2.8,0,3.7,0.1,4.3,0.1c0.4,0,0.8-0.3,0.8-0.8c0-0.5-0.5-0.8-0.8-0.8H273l0-11.3l2.9,0c0,0,0,0,0.1,0c0,0,0,0,0.1,0l0.2,0\\n      c0,0,0,0,0,0c1.1,0,1.8-0.1,2.1,0.1c0.2,0.1,0.6,0.8,0.8,1.2c0.9,2.1,1.4,3,2.4,5.3c1.3,2.9,1.8,4.2,2.1,4.8h-2.2\\n      c-0.3,0-0.8,0.3-0.8,0.8c0,0.6,0.4,0.8,0.8,0.8c0.6,0,1.5-0.1,4.5-0.1c2.8,0,3.7,0.1,4.3,0.1c0.4,0,0.8-0.3,0.8-0.8\\n      C291,71.7,290.5,71.4,290.2,71.4z M281.3,57.5c-1.2,0.9-3.1,0.7-4.6,0.8c-0.4,0-1,0-1.5,0v0l-2.3,0l0-11.2h3l0,0c0.3,0,0.8,0,1.1,0\\n      c4.7,0,6.4,2.8,6.4,5.5C283.4,55.4,282.5,56.6,281.3,57.5z\"/>\\n  </g>\\n  <g class=\"mark\">\\n    <path d=\"M9.8,29l0,38.7c0,0,0,0,0,0c1.3-0.3,2.6-0.6,3.9-0.8c0,0,0,0,0,0V28.4c0-6.8-2.8-8.5-4-10c0,0,0,0,0,0l0-3\\n      c0,0,0,0,0,0l54-9.7l0.6-0.1l0,3.2c0,0,0,0,0,0c-2.1,1.6-5.9,4.7-6.5,10c0,0,0,0,0,0v3.6l0,19.7l-0.1,22.8c0,0,0,0,0,0\\n      c3.9,0.3,7.8,0.8,11.4,1.4c0,0,0,0,0,0V55l0-8.2l0-19.7v-3.6c0,0,0,0,0,0c0.6-5.3,4.4-8.4,6.5-10c0,0,0,0,0,0l0-3.2c0,0,0,0,0,0\\n      l-8-9.7c0,0,0,0,0,0L5.1,12.4c0,0,0,0,0,0l0,7.4c0,0,0,0,0,0C9.8,23.6,9.8,26.4,9.8,29z\"/>\\n    <path d=\"M41.3,64.2L41.3,64.2c-3.5-1-8.2-1.5-10.7-1.6V48.7h0c0,0,0,0,0-0.1c0-5.2,4-10.4,9.9-10.4\\n      c1.2,0,1.8,0.4,2.2,0.7c0,0,0.1,0,0.1-0.1c-0.4-0.6-1.3-1.5-2.3-2.3c0,0,0,0,0,0c-0.3-0.2-0.6-0.4-0.9-0.6c0,0-0.1,0-0.1-0.1\\n      c-0.3-0.2-0.6-0.3-0.9-0.5c-0.1,0-0.1-0.1-0.1-0.1c-0.3-0.1-0.6-0.2-0.8-0.3c-0.1,0-0.1-0.1-0.2-0.1c-0.3-0.1-0.5-0.2-0.8-0.2\\n      c-0.1,0-0.2-0.1-0.3-0.1c-0.3-0.1-0.6-0.1-0.8-0.1c-0.1,0-0.2,0-0.3,0c-0.4,0-0.8-0.1-1.1-0.1c-6,0-10.9,5.1-10.9,11.4\\n      c0,0,0,0,0,0.1h0v16.3v2.6v0.7C28.8,64.7,34.9,64.3,41.3,64.2z\"/>\\n  </g>\\n  <g class=\"swoosh\">\\n    <path d=\"M45.5,75.7c11.8-1.5,23.3-2,34.1-1.7c0.5,0,0.9-0.4,0.9-0.9v0c0-0.4-0.3-0.8-0.7-0.9c-10.7-2.3-23-3.5-36-3.5\\n      c-16.3,0-31.4,2-43.8,5.4c0,0-0.1,0-0.1,0.1l0,12.6c0,0.1,0.1,0.1,0.1,0.1C13.6,81.7,29,77.8,45.5,75.7z\"/>\\n  </g>\\n</svg>\\n              </a>\\n                      </div>\\n          <!--END Header Logo Region-->\\n\\n          <!--Mobile Btn Set-->\\n          <div class=\"mobileBtnWrapper\">\\n            <div class=\"mobileBtnWrapper__icon\">\\n              <span></span>\\n              <span></span>\\n              <span></span>\\n              <span></span>\\n              <span></span>\\n              <span></span>\\n            </div>\\n          </div>\\n          <!--END Mobile Btn Set-->\\n\\n          <div class=\"main-menu-container\">\\n            <nav id=\"main-menu\" class=\"navigation menuContainer\" role=\"navigation\">\\n              <h2 class=\"visually-hidden\">Main Menu</h2><ul class=\"menu\"><li class=\"menu-item--expanded li--level-one\"><a href=\"/admissions\" data-drupal-link-system-path=\"node/151\">Admissions</a><ul class=\"menu\"><li class=\"li--level-two\"><a href=\"/admissions\" data-drupal-link-system-path=\"node/151\">First-Year Students</a></li><li class=\"li--level-two\"><a href=\"/admissions/transfer-students\" data-drupal-link-system-path=\"node/17611\">Transfer Students</a></li><li class=\"li--level-two\"><a href=\"/degree-completion\" data-drupal-link-system-path=\"node/716\">Degree Completion</a></li><li class=\"li--level-two\"><a href=\"/graduate\" data-drupal-link-system-path=\"node/116\">Graduate</a></li><li class=\"li--level-two\"><a href=\"/online\" data-drupal-link-system-path=\"node/121\">Online</a></li><li class=\"menu-item--collapsed li--level-two\"><a href=\"/admissions/financial-assistance\" data-drupal-link-system-path=\"node/17786\">Financial Assistance</a></li></ul></li><li class=\"menu-item--expanded li--level-one\"><a href=\"/about\" data-drupal-link-system-path=\"node/156\">About BVU</a><ul class=\"menu\"><li class=\"menu-item--collapsed li--level-two\"><a href=\"/about/news\" data-drupal-link-system-path=\"node/21\">News</a></li><li class=\"li--level-two\"><a href=\"http://events.bvu.edu\" title=\"University events and happenings\">Campus Calendar</a></li><li class=\"menu-item--collapsed li--level-two\"><a href=\"/about/consumer-information\" data-drupal-link-system-path=\"node/1041\">Consumer Information</a></li><li class=\"menu-item--collapsed li--level-two\"><a href=\"/about/president\" data-drupal-link-system-path=\"node/731\">Office of the President</a></li><li class=\"menu-item--collapsed li--level-two\"><a href=\"/about/only-at-bvu\" data-drupal-link-system-path=\"node/1121\">Only at BVU</a></li><li class=\"li--level-two\"><a href=\"/about/camps\" data-drupal-link-system-path=\"node/1036\">Camps at BVU</a></li></ul></li><li class=\"menu-item--expanded li--level-one\"><a href=\"/academics\" data-drupal-link-system-path=\"node/161\">Academics</a><ul class=\"menu\"><li class=\"li--level-two\"><a href=\"/academics/programs-majors\" data-drupal-link-system-path=\"node/146\">Programs &amp; Majors</a></li><li class=\"menu-item--collapsed li--level-two\"><a href=\"/academics/global-engagement\" data-drupal-link-system-path=\"node/18706\">Global Engagement</a></li><li class=\"li--level-two\"><a href=\"/academics/honors\" data-drupal-link-system-path=\"node/18771\">Honors Program</a></li><li class=\"li--level-two\"><a href=\"/academics/agriculture-institute\" data-drupal-link-system-path=\"node/21286\">Institute for Agriculture, Food and Resource Management</a></li><li class=\"li--level-two\"><a href=\"/academics/january-interim\" data-drupal-link-system-path=\"node/18601\">January Interim</a></li><li class=\"li--level-two\"><a href=\"/academics/internships-career-prep\" data-drupal-link-system-path=\"node/18606\">Internships and Career Prep</a></li><li class=\"menu-item--collapsed li--level-two\"><a href=\"/academics/rotc\" data-drupal-link-system-path=\"node/18741\">Army ROTC</a></li><li class=\"menu-item--collapsed li--level-two\"><a href=\"/academics/bvu-schools\" data-drupal-link-system-path=\"node/18866\">Academic Schools</a></li></ul></li><li class=\"menu-item--expanded li--level-one\"><a href=\"/campus-life\" data-drupal-link-system-path=\"node/18376\">Campus Life</a><ul class=\"menu\"><li class=\"menu-item--collapsed li--level-two\"><a href=\"/campus-life/living-arrangements\" data-drupal-link-system-path=\"node/18096\">Living Arrangements</a></li><li class=\"menu-item--collapsed li--level-two\"><a href=\"/campus-life/getting-involved\" data-drupal-link-system-path=\"node/18381\">Getting Involved</a></li><li class=\"li--level-two\"><a href=\"/campus-life/health-wellness\" data-drupal-link-system-path=\"node/18386\">Health and Wellness</a></li><li class=\"menu-item--collapsed li--level-two\"><a href=\"/campus-life/storm-lake\" data-drupal-link-system-path=\"node/18391\">Storm Lake</a></li><li class=\"li--level-two\"><a href=\"/campus-life/student-success\" data-drupal-link-system-path=\"node/18396\">Student Success</a></li></ul></li><li class=\"menu-item--expanded li--level-one\"><a href=\"https://www.bvuathletics.com/\">Athletics</a><ul class=\"menu\"><li class=\"li--level-two\"><a href=\"http://bvuathletics.com/camps/camps_and_clinics\">Camps and Clinics</a></li><li class=\"li--level-two\"><a href=\"https://www.bvuathletics.com/landing/index\">Headlines and Results</a></li><li class=\"li--level-two\"><a href=\"http://bvuathletics.com/recruits/why_bvu_athletics\">Recruit Me!</a></li><li class=\"li--level-two\"><a href=\"http://bvuathletics.com/information/map\">Visitor&#039;s Guide</a></li><li class=\"li--level-two\"><a href=\"https://portal.stretchinternet.com/bvu/\">Watch Live</a></li></ul></li><li class=\"menu-item--expanded li--level-one\"><a href=\"http://alumni.bvu.edu\">Alumni</a><ul class=\"menu\"><li class=\"li--level-two\"><a href=\"https://alumni.bvu.edu/alumni-association\">Alumni Association</a></li><li class=\"li--level-two\"><a href=\"https://alumni.bvu.edu/alumnidirectory\">Alumni Directory</a></li><li class=\"li--level-two\"><a href=\"https://alumni.bvu.edu/news\">Alumni News</a></li><li class=\"li--level-two\"><a href=\"https://alumni.bvu.edu/events\">Events</a></li><li class=\"li--level-two\"><a href=\"https://alumni.bvu.edu/gear-and-apparel\">Gear and Apparel</a></li><li class=\"li--level-two\"><a href=\"https://alumni.bvu.edu/alumni-resources\">Resources</a></li><li class=\"li--level-two\"><a href=\"https://alumni.bvu.edu/alumnitraditions\">Traditions</a></li></ul></li><li class=\"menu-item--expanded li--level-one\"><a href=\"http://support.bvu.edu\">Support BVU</a><ul class=\"menu\"><li class=\"li--level-two\"><a href=\"https://support.bvu.edu/honoring-our-donors\">Honoring Our Donors</a></li><li class=\"li--level-two\"><a href=\"https://support.bvu.edu/howtogive\">How to Give</a></li><li class=\"li--level-two\"><a href=\"https://support.bvu.edu/make-a-gift\">Make a Gift Online</a></li><li class=\"li--level-two\"><a href=\"https://support.bvu.edu/where-to-give\">Where to Give</a></li></ul></li></ul>\\n\\n\\t\\t\\t  \\t\\t\\t  \\t \\t\\t\\t<!--Search Panel Toggle-->\\n              <div class=\"menuContainer__search\">\\n              \\t<a href=\"/\" title=\"\" class=\"push-nav-trigger\">\\n              \\t\\t<span>Site Search</span>\\n              \\t\\t<i class=\"fas fa-search\"></i>\\n              \\t</a>\\n              </div>\\n              <!--END Search Panel Toggle-->\\t\\t\\t  \\n              \\n                          </nav>\\n          </div>\\n        </div>\\n      </div>\\n    </div>\\n    <!--END Main Nav-->\\n\\n          <!--Feature Nav-->\\n      <div class=\"secondary-nav\">\\n        <div class=\"row percent-row\">\\n          <div class=\"column\">\\n            <!--Social Icons--><div class=\"secondary-nav__social\"><ul><li><a href=\"https://www.facebook.com/buenavistauniversity\" target=\"_blank\"><i class=\"fab fa-facebook-f\"></i><span class=\"show-for-sr\">Facebook</span></a></li><li><a href=\"https://twitter.com/buenavistauniv\" target=\"_blank\"><i class=\"fab fa-twitter\"></i><span class=\"show-for-sr\">Twitter</span></a></li><li><a href=\"https://www.youtube.com/user/BuenaVistaUniversity\" target=\"_blank\"><i class=\"fab fa-youtube\"></i><span class=\"show-for-sr\">Youtube</span></a></li><li><a href=\"https://www.instagram.com/buenavistauniversity\" target=\"_blank\"><i class=\"fab fa-instagram\"></i><span class=\"show-for-sr\">Instagram</span></a></li></ul></div><!--END Social Icons--><!--Drop Down Nav--><div class=\"drop-menu\"><span>Information for...</span><ul class=\"drop-menu__list\"><li><a href=\"/students\">Students</a></li><li><a href=\"/facultystaff\">Faculty/Staff</a></li><li><a href=\"/bv/family-association\">Families</a></li><li><a href=\"https://directory.bvu.edu/ADPhonebook\">Directory</a></li><li><a href=\"/a-z-indez\">A-Z Index</a></li></ul></div><!--END Drop Down Nav-->\\n          </div>\\n        </div>\\n      </div>\\n      <!--END Feature Nav-->\\n        <section id=\"alert-wrapper\" class=\"alert--site-wide\"></section>\\n\\n  </header>\\n  <!--END Navigation/Top Bar-->\\n\\n  <main id=\"main-content\" class=\"main-content bvu-homepage\">\\n\\t\\t\\t\\t\\t<div class=\"highlighted\"></div>\\n\\t\\t          <section class=\"hero__box-overlay\"><!--Content Region--><div class=\"hero__box-overlay--wrapper pt-120 pb-120 percent-row\"><div class=\"hero__box-overlay__container\"><h1>            We\\'re With You All the Way\\n      </h1><!--Optional Lead--><div class=\"hero__box-overlay__lead\"><p>            Make your life what you want it to be - we&#039;re unshakeably committed to getting you there. With guaranteed internships, abundant scholarships and grants, professors who truly care about your success, and experiences that will literally change everything, we&#039;re with you all the way.\\n      </p></div><!--END Optional Lead--><!--Optional CTA Btn Set--><ul class=\"hero__box-overlay__btns\"><li><a href=\"/visit\" class=\"btn\">\\n    Visit\\n  </a></li><li><a href=\"/deposit\" class=\"btn\">\\n    Make Your Deposit\\n  </a></li><li><a href=\"/apply\" class=\"btn\">\\n    Apply\\n  </a></li></ul><!--END Optional CTA Btn Set--></div></div><!--END Content Region--><!--Panel Image--><div class=\"hero__box-overlay__image\"><!--Image Background--><img src=\"/sites/default/files/styles/width_1440/public/2018-06/campus-sunset-aerial-sw-min_0.jpg?itok=iaDdQ6Y4\" width=\"1440\" height=\"810\" alt=\"Thumbnail\" title=\"BVU Campus Sunset\" typeof=\"foaf:Image\" /><!--END Image Background--></div><!--END Panel Image--></section><section class=\"program-teaser mt-100 mb-100\"><h2 class=\"program-teaser__title\">            Find Your Academic Program\\n      </h2><div class=\"views-element-container\"><div class=\"js-view-dom-id-77befa1e07611dca46c9ed797d1219a81e9e22aed83d05dce31c5a71d01a7a2b\"><form class=\"views-exposed-form bef-exposed-form\" data-drupal-selector=\"views-exposed-form-program-home-programs-embed\" action=\"/\" method=\"get\" id=\"views-exposed-form-program-home-programs-embed\" accept-charset=\"UTF-8\"><h3 class=\"program-teaser__secondary-title\">First Year Programs: It All Starts Here</h3><div class=\"program-teaser__form-container\"><div id=\"edit-program-audience\"><div data-drupal-selector=\"edit-program-audience\" class=\"form-radios\"><div class=\"js-form-item form-item js-form-type-radio form-item-program-audience js-form-item-program-audience\"><input data-drupal-selector=\"edit-program-audience-156\" type=\"radio\" id=\"edit-program-audience-156\" name=\"program_audience\" value=\"156\" checked=\"checked\" class=\"form-radio\" /><label for=\"edit-program-audience-156\" class=\"option\">First Year</label></div><div class=\"js-form-item form-item js-form-type-radio form-item-program-audience js-form-item-program-audience\"><input data-drupal-selector=\"edit-program-audience-161\" type=\"radio\" id=\"edit-program-audience-161\" name=\"program_audience\" value=\"161\" class=\"form-radio\" /><label for=\"edit-program-audience-161\" class=\"option\">Degree Completion</label></div><div class=\"js-form-item form-item js-form-type-radio form-item-program-audience js-form-item-program-audience\"><input data-drupal-selector=\"edit-program-audience-166\" type=\"radio\" id=\"edit-program-audience-166\" name=\"program_audience\" value=\"166\" class=\"form-radio\" /><label for=\"edit-program-audience-166\" class=\"option\">Graduate</label></div><div class=\"js-form-item form-item js-form-type-radio form-item-program-audience js-form-item-program-audience\"><input data-drupal-selector=\"edit-program-audience-171\" type=\"radio\" id=\"edit-program-audience-171\" name=\"program_audience\" value=\"171\" class=\"form-radio\" /><label for=\"edit-program-audience-171\" class=\"option\">Online</label></div></div></div><div class=\"fieldset-wrapper__search\"><div class=\"fieldset-wrapper__search--wrapper\"><div class=\"js-form-item form-item js-form-type-textfield form-item-keywords js-form-item-keywords\"><label for=\"edit-keywords\">Keywords</label><input placeholder=\"Search for Your Program\" data-drupal-selector=\"edit-keywords\" type=\"text\" id=\"edit-keywords\" name=\"keywords\" value=\"\" size=\"30\" maxlength=\"128\" class=\"form-text\" /></div><div data-drupal-selector=\"edit-actions\" class=\"form-actions js-form-wrapper form-wrapper\" id=\"edit-actions\"><input data-drupal-selector=\"edit-submit-program\" type=\"submit\" id=\"edit-submit-program\" value=\"Go\" class=\"button js-form-submit form-submit\" /></div></div></div></div></form><div class=\"offset-slider-row\"><section class=\"offset-slider\"><div class=\"offset-slider__wrap offset-slider--unlimited\"><article class=\"offset-slider__item\"><a href=\"/academics/programs/accounting\" class=\"offset-slider__item--wrapper\"><div><h2><span>Accounting</span></h2><ul class=\"program-terms\"><li>\\n          Major\\n        </li><li>\\n          Minor\\n        </li></ul></div></a></article><article class=\"offset-slider__item\"><a href=\"/academics/programs/agricultural-business\" class=\"offset-slider__item--wrapper\"><div><h2><span>Agricultural Business</span></h2><ul class=\"program-terms\"><li>\\n          Major\\n        </li></ul></div></a></article><article class=\"offset-slider__item\"><a href=\"/academics/programs/agricultural-science\" class=\"offset-slider__item--wrapper\"><div><h2><span>Agricultural Science</span></h2><ul class=\"program-terms\"><li>\\n          Major\\n        </li></ul></div></a></article><article class=\"offset-slider__item\"><a href=\"/academics/programs/agricultural-studies\" class=\"offset-slider__item--wrapper\"><div><h2><span>Agricultural Studies: Bachelor of Applied Science</span></h2><ul class=\"program-terms\"><li>\\n          Major\\n        </li></ul></div></a></article><article class=\"offset-slider__item\"><a href=\"/academics/programs/animation\" class=\"offset-slider__item--wrapper\"><div><h2><span>Animation</span></h2><ul class=\"program-terms\"><li>\\n          Major\\n        </li><li>\\n          Minor\\n        </li></ul></div></a></article><article class=\"offset-slider__item\"><a href=\"/academics/programs/art-education\" class=\"offset-slider__item--wrapper\"><div><h2><span>Art Education</span></h2><ul class=\"program-terms\"><li>\\n          Major\\n        </li><li>\\n          Certificate\\n        </li></ul></div></a></article><article class=\"offset-slider__item\"><a href=\"/academics/programs/art-therapy\" class=\"offset-slider__item--wrapper\"><div><h2><span>Art Therapy</span></h2><ul class=\"program-terms\"><li>\\n          Major\\n        </li></ul></div></a></article><article class=\"offset-slider__item\"><a href=\"/academics/programs/arts-management\" class=\"offset-slider__item--wrapper\"><div><h2><span>Arts Management</span></h2><ul class=\"program-terms\"><li>\\n          Major\\n        </li></ul><ul class=\"program-tracks\"><li>            Music, Theatre, Visual Art\\n      </li></ul></div></a></article><article class=\"offset-slider__item\"><a href=\"/academics/programs/biochemistry\" class=\"offset-slider__item--wrapper\"><div><h2><span>Biochemistry</span></h2><ul class=\"program-terms\"><li>\\n          Major\\n        </li></ul></div></a></article><article class=\"offset-slider__item\"><a href=\"/academics/programs/biology\" class=\"offset-slider__item--wrapper\"><div><h2><span>Biology</span></h2><ul class=\"program-terms\"><li>\\n          Major\\n        </li><li>\\n          Minor\\n        </li><li>\\n          Certificate\\n        </li></ul></div></a></article><article class=\"offset-slider__item\"><a href=\"/academics/programs/biomedical-sciences\" class=\"offset-slider__item--wrapper\"><div><h2><span>Biomedical Sciences</span></h2><ul class=\"program-terms\"><li>\\n          Major\\n        </li></ul><ul class=\"program-tracks\"><li>            Health Sciences, Chiropractic, Dentistry, Medical Technology, Medicine, Mortuary Science, Optometry, Osteopathy, Pharmacy, Physical Therapy, Physician&#039;s Assistant, Podiatry, Veterinary\\n      </li></ul></div></a></article><article class=\"offset-slider__item\"><a href=\"/academics/programs/business\" class=\"offset-slider__item--wrapper\"><div><h2><span>Business</span></h2><ul class=\"program-terms\"><li>\\n          Major\\n        </li><li>\\n          Minor\\n        </li></ul><ul class=\"program-tracks\"><li>            Agricultural Business, Financial Decision Making, Management, Marketing, Sport Business\\n      </li></ul></div></a></article><article class=\"offset-slider__item\"><a href=\"/academics/programs/chemistry\" class=\"offset-slider__item--wrapper\"><div><h2><span>Chemistry</span></h2><ul class=\"program-terms\"><li>\\n          Major\\n        </li><li>\\n          Minor\\n        </li><li>\\n          Certificate\\n        </li></ul></div></a></article><article class=\"offset-slider__item\"><a href=\"/academics/programs/communication-studies\" class=\"offset-slider__item--wrapper\"><div><h2><span>Communication Studies</span></h2><ul class=\"program-terms\"><li>\\n          Major\\n        </li><li>\\n          Minor\\n        </li><li>\\n          Certificate\\n        </li></ul></div></a></article><article class=\"offset-slider__item\"><a href=\"/academics/programs/computer-science\" class=\"offset-slider__item--wrapper\"><div><h2><span>Computer Science</span></h2><ul class=\"program-terms\"><li>\\n          Major\\n        </li><li>\\n          Minor\\n        </li></ul><ul class=\"program-tracks\"><li>            Systems, Informational Technology (IT), Mathematics \\n      </li></ul></div></a></article><article class=\"offset-slider__item\"><a href=\"/academics/programs/corporate-mathematics\" class=\"offset-slider__item--wrapper\"><div><h2><span>Corporate Mathematics</span></h2><ul class=\"program-terms\"><li>\\n          Major\\n        </li></ul></div></a></article><article class=\"offset-slider__item\"><a href=\"/academics/programs/criminology-criminal-justice\" class=\"offset-slider__item--wrapper\"><div><h2><span>Criminology and Criminal Justice</span></h2><ul class=\"program-terms\"><li>\\n          Major\\n        </li><li>\\n          Minor\\n        </li></ul></div></a></article><article class=\"offset-slider__item\"><a href=\"/academics/programs/digital-media\" class=\"offset-slider__item--wrapper\"><div><h2><span>Digital Media</span></h2><ul class=\"program-terms\"><li>\\n          Major\\n        </li><li>\\n          Minor\\n        </li></ul><ul class=\"program-tracks\"><li>            Communication, Design, Performance, Music Production, Digital Media Programming, Business\\n      </li></ul></div></a></article><article class=\"offset-slider__item\"><a href=\"/academics/programs/endorsements\" class=\"offset-slider__item--wrapper\"><div><h2><span>Education Endorsements</span></h2><ul class=\"program-terms\"><li>\\n          Endorsement\\n        </li></ul></div></a></article><article class=\"offset-slider__item\"><a href=\"/academics/programs/educational-studies\" class=\"offset-slider__item--wrapper\"><div><h2><span>Educational Studies</span></h2><ul class=\"program-terms\"><li>\\n          Major\\n        </li><li>\\n          Minor\\n        </li></ul></div></a></article><article class=\"offset-slider__item\"><a href=\"/academics/programs/elementary-education\" class=\"offset-slider__item--wrapper\"><div><h2><span>Elementary Education</span></h2><ul class=\"program-terms\"><li>\\n          Major\\n        </li></ul></div></a></article><article class=\"offset-slider__item\"><a href=\"/academics/programs/english\" class=\"offset-slider__item--wrapper\"><div><h2><span>English</span></h2><ul class=\"program-terms\"><li>\\n          Major\\n        </li><li>\\n          Minor\\n        </li><li>\\n          Certificate\\n        </li></ul></div></a></article><article class=\"offset-slider__item\"><a href=\"/academics/programs/environmental-science\" class=\"offset-slider__item--wrapper\"><div><h2><span>Environmental Science</span></h2><ul class=\"program-terms\"><li>\\n          Major\\n        </li><li>\\n          Minor\\n        </li></ul></div></a></article><article class=\"offset-slider__item\"><a href=\"/academics/programs/exploratory\" class=\"offset-slider__item--wrapper\"><div><h2><span>Exploratory Program</span></h2></div></a></article><article class=\"offset-slider__item\"><a href=\"/academics/programs/gender-womens-studies\" class=\"offset-slider__item--wrapper\"><div><h2><span>Gender and Women Studies</span></h2><ul class=\"program-terms\"><li>\\n          Minor\\n        </li></ul></div></a></article><article class=\"offset-slider__item\"><a href=\"/academics/programs/graphic-design\" class=\"offset-slider__item--wrapper\"><div><h2><span>Graphic Design</span></h2><ul class=\"program-terms\"><li>\\n          Major\\n        </li><li>\\n          Minor\\n        </li></ul></div></a></article><article class=\"offset-slider__item\"><a href=\"/academics/programs/health-education-exercise-science\" class=\"offset-slider__item--wrapper\"><div><h2><span>Health Education/Exercise Science</span></h2><ul class=\"program-terms\"><li>\\n          Minor\\n        </li><li>\\n          Certificate\\n        </li></ul></div></a></article><article class=\"offset-slider__item\"><a href=\"/academics/programs/history\" class=\"offset-slider__item--wrapper\"><div><h2><span>History</span></h2><ul class=\"program-terms\"><li>\\n          Major\\n        </li><li>\\n          Minor\\n        </li><li>\\n          Certificate\\n        </li></ul></div></a></article><article class=\"offset-slider__item\"><a href=\"/academics/programs/kinesiology-exercise-science\" class=\"offset-slider__item--wrapper\"><div><h2><span>Kinesiology and Exercise Science</span></h2><ul class=\"program-terms\"><li>\\n          Major\\n        </li></ul></div></a></article><article class=\"offset-slider__item\"><a href=\"/academics/programs/mathematics\" class=\"offset-slider__item--wrapper\"><div><h2><span>Mathematics</span></h2><ul class=\"program-terms\"><li>\\n          Major\\n        </li><li>\\n          Minor\\n        </li><li>\\n          Certificate\\n        </li></ul></div></a></article><article class=\"offset-slider__item\"><a href=\"/academics/programs/music\" class=\"offset-slider__item--wrapper\"><div><h2><span>Music</span></h2><ul class=\"program-terms\"><li>\\n          Major\\n        </li><li>\\n          Minor\\n        </li><li>\\n          Certificate\\n        </li></ul><ul class=\"program-tracks\"><li>            Instrumental, Vocal\\n      </li></ul></div></a></article><article class=\"offset-slider__item\"><a href=\"/academics/programs/music-production\" class=\"offset-slider__item--wrapper\"><div><h2><span>Music Production and Technology</span></h2><ul class=\"program-terms\"><li>\\n          Major\\n        </li><li>\\n          Minor\\n        </li></ul><ul class=\"program-tracks\"><li>            Film Scoring/Audio for Video Games, Business\\n      </li></ul></div></a></article><article class=\"offset-slider__item\"><a href=\"/first-year/programs/physical-education-and-coaching\" class=\"offset-slider__item--wrapper\"><div><h2><span>Physical Education and Coaching</span></h2><ul class=\"program-terms\"><li>\\n          Major\\n        </li><li>\\n          Minor\\n        </li><li>\\n          Endorsement\\n        </li><li>\\n          Certificate\\n        </li></ul></div></a></article><article class=\"offset-slider__item\"><a href=\"/academics/programs/physics\" class=\"offset-slider__item--wrapper\"><div><h2><span>Physics</span></h2><ul class=\"program-terms\"><li>\\n          Major\\n        </li><li>\\n          Minor\\n        </li><li>\\n          Certificate\\n        </li></ul></div></a></article><article class=\"offset-slider__item\"><a href=\"/first-year/programs/political-science\" class=\"offset-slider__item--wrapper\"><div><h2><span>Political Science</span></h2><ul class=\"program-terms\"><li>\\n          Major\\n        </li><li>\\n          Minor\\n        </li><li>\\n          Certificate\\n        </li></ul><ul class=\"program-tracks\"><li>            Public Administration, Politics and Policy, Legal Studies\\n      </li></ul></div></a></article><article class=\"offset-slider__item\"><a href=\"/academics/programs/pre-engineering\" class=\"offset-slider__item--wrapper\"><div><h2><span>Pre-Engineering</span></h2></div></a></article><article class=\"offset-slider__item\"><a href=\"/academics/programs/pre-law\" class=\"offset-slider__item--wrapper\"><div><h2><span>Pre-Law</span></h2><ul class=\"program-terms\"><li>\\n          Major\\n        </li></ul></div></a></article><article class=\"offset-slider__item\"><a href=\"/academics/programs/psychology\" class=\"offset-slider__item--wrapper\"><div><h2><span>Psychology</span></h2><ul class=\"program-terms\"><li>\\n          Major\\n        </li><li>\\n          Minor\\n        </li><li>\\n          Certificate\\n        </li></ul></div></a></article><article class=\"offset-slider__item\"><a href=\"/academics/programs/rehab-health-sciences\" class=\"offset-slider__item--wrapper\"><div><h2><span>Rehabilitation Health Sciences</span></h2><ul class=\"program-terms\"><li>\\n          Major\\n        </li></ul></div></a></article><article class=\"offset-slider__item\"><a href=\"/academics/programs/scientific-illustration\" class=\"offset-slider__item--wrapper\"><div><h2><span>Scientific Illustration</span></h2><ul class=\"program-terms\"><li>\\n          Major\\n        </li></ul></div></a></article><article class=\"offset-slider__item\"><a href=\"/academics/programs/secondary-education\" class=\"offset-slider__item--wrapper\"><div><h2><span>Secondary Education</span></h2><ul class=\"program-terms\"><li>\\n          Major\\n        </li><li>\\n          Endorsement\\n        </li><li>\\n          Certificate\\n        </li></ul><ul class=\"program-tracks\"><li>            English Language Arts, Social Science, All Science\\n      </li></ul></div></a></article><article class=\"offset-slider__item\"><a href=\"/first-year/programs/social-innovation\" class=\"offset-slider__item--wrapper\"><div><h2><span>Social Innovation</span></h2><ul class=\"program-terms\"><li>\\n          Minor\\n        </li></ul></div></a></article><article class=\"offset-slider__item\"><a href=\"/academics/programs/social-work\" class=\"offset-slider__item--wrapper\"><div><h2><span>Social Work</span></h2><ul class=\"program-terms\"><li>\\n          Major\\n        </li></ul></div></a></article><article class=\"offset-slider__item\"><a href=\"/academics/programs/spanish\" class=\"offset-slider__item--wrapper\"><div><h2><span>Spanish</span></h2><ul class=\"program-terms\"><li>\\n          Major\\n        </li><li>\\n          Minor\\n        </li><li>\\n          Certificate\\n        </li></ul></div></a></article><article class=\"offset-slider__item\"><a href=\"/academics/programs/special-education\" class=\"offset-slider__item--wrapper\"><div><h2><span>Special Education</span></h2><ul class=\"program-terms\"><li>\\n          Major\\n        </li><li>\\n          Certificate\\n        </li></ul></div></a></article><article class=\"offset-slider__item\"><a href=\"/academics/programs/strategic-public-relations\" class=\"offset-slider__item--wrapper\"><div><h2><span>Strategic Public Relations</span></h2><ul class=\"program-terms\"><li>\\n          Major\\n        </li></ul><ul class=\"program-tracks\"><li>            Event Planning, Nonprofit and Advocacy Communication, Creative Design, Sports Communication\\n      </li></ul></div></a></article><article class=\"offset-slider__item\"><a href=\"/academics/programs/studio-art\" class=\"offset-slider__item--wrapper\"><div><h2><span>Studio Art</span></h2><ul class=\"program-terms\"><li>\\n          Major\\n        </li><li>\\n          Minor\\n        </li></ul></div></a></article><article class=\"offset-slider__item\"><a href=\"/academics/programs/theatre-media-performance\" class=\"offset-slider__item--wrapper\"><div><h2><span>Theatre and Media Performance</span></h2><ul class=\"program-terms\"><li>\\n          Major\\n        </li><li>\\n          Minor\\n        </li></ul></div></a></article><article class=\"offset-slider__item\"><a href=\"/academics/programs/writing-studies\" class=\"offset-slider__item--wrapper\"><div><h2><span>Writing Studies</span></h2><ul class=\"program-terms\"><li>\\n          Minor\\n        </li></ul></div></a></article></div></section></div></div></div></section><section class=\"icon-boxes icon-boxes--navy-background pt-100 pb-100\"><div class=\"sequence-anim-parent icon-boxes--wrapper\"><!--Ind Icon Box--><div class=\"icon-boxes__ind-box sequence-anim-item fade-up-in\"><div class=\"icon-boxes__ind-box--wrapper equalize\"><div class=\"icon-boxes__ind-box__icon\"><i class=\"fal fa-rocket\"></i></div><div class=\"icon-boxes__ind-box__title\">            The BVU Experience\\n      </div><div class=\"icon-boxes__ind-box__description\"><p>            No other college will take you further, embrace your talents, and amplify your strengths like Buena Vista University.\\n      </p></div><a href=\"/landing/experience\" class=\"btn\">\\n    Learn More\\n  </a></div></div><!--END Ind Icon Box--><!--Ind Icon Box--><div class=\"icon-boxes__ind-box sequence-anim-item fade-up-in\"><div class=\"icon-boxes__ind-box--wrapper equalize\"><div class=\"icon-boxes__ind-box__icon\"><i class=\"fal fa-check-square\"></i></div><div class=\"icon-boxes__ind-box__title\">            Degree Completion\\n      </div><div class=\"icon-boxes__ind-box__description\"><p>            BVU&#039;s 16 locations in Iowa provide different class formats in more than 50 programs that fit into your daily life.\\n      </p></div><a href=\"/degree-completion\" class=\"btn\">\\n    Learn More\\n  </a></div></div><!--END Ind Icon Box--><!--Ind Icon Box--><div class=\"icon-boxes__ind-box sequence-anim-item fade-up-in\"><div class=\"icon-boxes__ind-box--wrapper equalize\"><div class=\"icon-boxes__ind-box__icon\"><i class=\"fal fa-lightbulb\"></i></div><div class=\"icon-boxes__ind-box__title\">            Signature Programs\\n      </div><div class=\"icon-boxes__ind-box__description\"><p>            We may offer nearly 90 majors, minors, and other programs at BVU, but there are a few things we&#039;re just really good at.\\n      </p></div><a href=\"/landing/signature\" class=\"btn\">\\n    Learn More\\n  </a></div></div><!--END Ind Icon Box--><!--Ind Icon Box--><div class=\"icon-boxes__ind-box sequence-anim-item fade-up-in\"><div class=\"icon-boxes__ind-box--wrapper equalize\"><div class=\"icon-boxes__ind-box__icon\"><i class=\"fal fa-map-marked-alt\"></i></div><div class=\"icon-boxes__ind-box__title\">            Exploratory Program\\n      </div><div class=\"icon-boxes__ind-box__description\"><p>            Our unique exploratory program lets you discover your true interests and passions before choosing a career path.\\n      </p></div><a href=\"/academics/programs/exploratory\" class=\"btn\">\\n    Learn More\\n  </a></div></div><!--END Ind Icon Box--></div></section><section class=\"news-feature pt-100 pb-100 news-feature--reveal news-feature--checkBG\"><div class=\"news-feature--wrapper\"><h2>            Happening at BVU\\n      </h2><div class=\"sequence-anim-parent news-feature__container\"><article class=\"news-feature__ind-element sequence-anim-item fade-up-in\"><a href=\"/news/buena-vista-university-host-drum-corps-international-tour-event\"><div class=\"news-feature__ind-element__description\"><div class=\"news-feature__ind-element__description--wrapper\"><h3><span>Buena Vista University to Host Drum Corps International Tour Event </span></h3><div class=\"news-feature__ind-element__description__date\"><time datetime=\"2019-06-04T12:00:00Z\">June 4, 2019</time></div></div></div><img src=\"/sites/default/files/styles/width_600/public/2019-04/dci-thumb-2019.jpg?itok=F4HyQkHB\" width=\"600\" height=\"400\" alt=\"Group of trumpet players at DCI event\" typeof=\"foaf:Image\" /></a></article><article class=\"news-feature__ind-element sequence-anim-item fade-up-in\"><a href=\"/news/beavers-claim-tournament-championship-victory-over-coe\"><div class=\"news-feature__ind-element__description\"><div class=\"news-feature__ind-element__description--wrapper\"><h3><span>Beavers Claim Tournament Championship with Victory Over Coe</span></h3><div class=\"news-feature__ind-element__description__date\"><time datetime=\"2019-05-13T12:00:00Z\">May 13, 2019</time></div></div></div><img src=\"/sites/default/files/styles/width_600/public/2019-05/baseball-conf-champs-2019-thumb.jpg?itok=HHChZFJa\" width=\"600\" height=\"400\" alt=\"Baseball players celebrate after a tournament win\" typeof=\"foaf:Image\" /></a></article><article class=\"news-feature__ind-element sequence-anim-item fade-up-in\"><a href=\"/news/class-2019-graduates-bvu\"><div class=\"news-feature__ind-element__description\"><div class=\"news-feature__ind-element__description--wrapper\"><h3><span>Class of 2019 Graduates from BVU</span></h3><div class=\"news-feature__ind-element__description__date\"><time datetime=\"2019-05-25T12:00:00Z\">May 25, 2019</time></div></div></div><img src=\"/sites/default/files/styles/width_600/public/2019-05/commencement-2019-thumb.jpg?itok=1DndiL5I\" width=\"600\" height=\"400\" alt=\"Grads walk through Victory Arch\" typeof=\"foaf:Image\" /></a></article><article class=\"news-feature__ind-element sequence-anim-item fade-up-in\"><a href=\"/news/bvu-students-play-role-msnbc-broadcast\"><div class=\"news-feature__ind-element__description\"><div class=\"news-feature__ind-element__description--wrapper\"><h3><span>BVU Students Play Role in MSNBC Broadcast</span></h3><div class=\"news-feature__ind-element__description__date\"><time datetime=\"2019-06-21T12:00:00Z\">June 21, 2019</time></div></div></div><img src=\"/sites/default/files/styles/width_600/public/2019-06/msnbc-students-thumb-2019.jpg?itok=N0EQwkyS\" width=\"600\" height=\"400\" alt=\"Students in an NBC News live truck\" typeof=\"foaf:Image\" /></a></article><article class=\"news-feature__ind-element sequence-anim-item fade-up-in\"><a href=\"/news/spikes-and-mics-beaver-baseball-players-show-talent-diamond-studio\"><div class=\"news-feature__ind-element__description\"><div class=\"news-feature__ind-element__description--wrapper\"><h3><span>Spikes and Mics: Beaver Baseball Players Show Talent on the Diamond, in the Studio</span></h3><div class=\"news-feature__ind-element__description__date\"><time datetime=\"2019-06-07T12:00:00Z\">June 7, 2019</time></div></div></div><img src=\"/sites/default/files/styles/width_600/public/2019-06/guy-tannenbaum-nick-henrichs-thumb.jpg?itok=zqhZ2EfI\" width=\"600\" height=\"400\" alt=\"Guy Tannenbaum and Nick Henrichs\" typeof=\"foaf:Image\" /></a></article><article class=\"news-feature__ind-element sequence-anim-item fade-up-in\"><a href=\"/news/backman-earns-bvus-prestigious-wythe-award\"><div class=\"news-feature__ind-element__description\"><div class=\"news-feature__ind-element__description--wrapper\"><h3><span>Backman Earns BVU\\xe2\\x80\\x99s Prestigious Wythe Award</span></h3><div class=\"news-feature__ind-element__description__date\"><time datetime=\"2019-05-24T12:00:00Z\">May 24, 2019</time></div></div></div><img src=\"/sites/default/files/styles/width_600/public/2019-05/backman-wythe-thumb.jpg?itok=yc2crCx7\" width=\"600\" height=\"400\" alt=\"Backman Wythe thumb\" typeof=\"foaf:Image\" /></a></article><article class=\"news-feature__ind-element sequence-anim-item fade-up-in\"><a href=\"/news/bvu-grad-kept-goal-within-sight\"><div class=\"news-feature__ind-element__description\"><div class=\"news-feature__ind-element__description--wrapper\"><h3><span>BVU Grad Kept Goal Within Sight</span></h3><div class=\"news-feature__ind-element__description__date\"><time datetime=\"2019-06-11T12:00:00Z\">June 11, 2019</time></div></div></div><img src=\"/sites/default/files/styles/width_600/public/2019-06/stangl-graduation-diploma-thumb.jpg?itok=dBGDNqya\" width=\"600\" height=\"400\" alt=\"A graduate and her guide dog walk across stage\" typeof=\"foaf:Image\" /></a></article><article class=\"news-feature__ind-element sequence-anim-item fade-up-in\"><a href=\"/news/bvu-senior-year-shares-award-his-mom\"><div class=\"news-feature__ind-element__description\"><div class=\"news-feature__ind-element__description--wrapper\"><h3><span>BVU Senior of the Year Shares Award with His Mom</span></h3><div class=\"news-feature__ind-element__description__date\"><time datetime=\"2019-05-16T12:00:00Z\">May 16, 2019</time></div></div></div><img src=\"/sites/default/files/styles/width_600/public/2019-05/alan-maldonado-thumb.jpg?itok=b-J6Akkn\" width=\"600\" height=\"400\" alt=\"Alan Maldonado\" typeof=\"foaf:Image\" /></a></article><article class=\"news-feature__ind-element sequence-anim-item fade-up-in\"><a href=\"/news/bvu-alum-earns-education-service-award\"><div class=\"news-feature__ind-element__description\"><div class=\"news-feature__ind-element__description--wrapper\"><h3><span>BVU Alum Earns Education for Service Award</span></h3><div class=\"news-feature__ind-element__description__date\"><time datetime=\"2019-05-29T12:00:00Z\">May 29, 2019</time></div></div></div><img src=\"/sites/default/files/styles/width_600/public/2019-05/farmer-hanson-ed-service-thumb-may-2019.jpg?itok=o16UyOa9\" width=\"600\" height=\"400\" alt=\"Dr. Ashley Farmer Hanson and her award\" typeof=\"foaf:Image\" /></a></article><article class=\"news-feature__ind-element sequence-anim-item fade-up-in\"><a href=\"/news/bvu-concert-choir-earns-finalist-nod-american-prize-competition\"><div class=\"news-feature__ind-element__description\"><div class=\"news-feature__ind-element__description--wrapper\"><h3><span>BVU Concert Choir Earns Finalist Nod in American Prize Competition</span></h3><div class=\"news-feature__ind-element__description__date\"><time datetime=\"2019-05-21T12:00:00Z\">May 21, 2019</time></div></div></div><img src=\"/sites/default/files/styles/width_600/public/2019-05/choir_thumb.jpg?itok=a_JDf9Sw\" width=\"600\" height=\"400\" alt=\"BVU Concert Choir performing\" typeof=\"foaf:Image\" /></a></article><article class=\"news-feature__ind-element sequence-anim-item fade-up-in\"><a href=\"/news/cap-and-crown-graduation-signals-crowning-achievement-vietnam-native\"><div class=\"news-feature__ind-element__description\"><div class=\"news-feature__ind-element__description--wrapper\"><h3><span>Cap and &#039;Crown:&#039; Graduation Signals a Crowning Achievement for Vietnam Native</span></h3><div class=\"news-feature__ind-element__description__date\"><time datetime=\"2019-06-11T12:00:00Z\">June 11, 2019</time></div></div></div><img src=\"/sites/default/files/styles/width_600/public/2019-06/be-dao-thumb.jpg?itok=lXXpGafF\" width=\"600\" height=\"400\" alt=\"Be Dao in front of Victory Arch\" typeof=\"foaf:Image\" /></a></article><article class=\"news-feature__ind-element sequence-anim-item fade-up-in\"><a href=\"/news/bvu-thrower-aims-career-cyber-security\"><div class=\"news-feature__ind-element__description\"><div class=\"news-feature__ind-element__description--wrapper\"><h3><span>BVU Thrower Aims for Career in Cyber Security</span></h3><div class=\"news-feature__ind-element__description__date\"><time datetime=\"2019-05-13T12:00:00Z\">May 13, 2019</time></div></div></div><img src=\"/sites/default/files/styles/width_600/public/2019-05/drew-beall-thumb.jpg?itok=GyKICoUr\" width=\"600\" height=\"400\" alt=\"Drew Beall practicing at track and field\" typeof=\"foaf:Image\" /></a></article></div></div></section><section class=\"sequence-anim-parent checkerboard-panel checkerboard-panel--blue-solid  \"><div class=\"checkerboard-panel__image compat-object-fit-container sequence-anim-item fade-left-in\"><img src=\"/sites/default/files/styles/width_1200/public/2018-07/stem-prof-and-student.jpg?itok=koA_OhO-\" width=\"1200\" height=\"800\" alt=\"Thumbnail\" title=\"STEM professor and student checkerboard\" typeof=\"foaf:Image\" /></div><div class=\"checkerboard-panel__content sequence-anim-item fade-right-in\"><div class=\"checkerboard-panel__content--wrapper\"><h2>            Academics\\n      </h2><div class=\"checkerboard-panel__content__text\"><p><strong>Learn Without Compromise</strong></p><p>At BVU, you\\'ll see what it\\xe2\\x80\\x99s like to have a truly personal learning experience, whether you\\'re a first-year, transfer, or graduate student. Choose from more than 90 enriching academic programs and reap the benefits of one-on-one attention from expert faculty.</p><blockquote><p>\"It\\'s a great feeling knowing that someone who I look up to, and has given me so much confidence, truly believes in my abilities.\"</p></blockquote><a href=\"/academics\" class=\"btn\">\\n    Academics\\n  </a></div></div></div></section><section class=\"full-image-stats\"><!--Panel Image--><div class=\"full-image-stats__image\"><img src=\"/sites/default/files/styles/width_1440/public/2018-07/homepage-log-rolling-2018.jpg?itok=j7-MR9Kp\" width=\"1440\" height=\"1080\" alt=\"Thumbnail\" title=\"Storm Lake Log Rolling Sunset\" typeof=\"foaf:Image\" /><div class=\"full-image-stats__image__overlay\"></div></div><!--END Panel Image--><!--Content Region--><div class=\"full-image-stats--wrapper pt-100 pb-100 percent-row\"><h2>            Life in Storm Lake\\n      </h2><!--Optional Lead--><div class=\"full-image-stats__lead\"><p>Stunning beauty surrounds our bustling campus. Need a respite from your busy schedule of student activities, athletics, and engaging classes? Calm your mind on a paddle board, grab a coffee and relax on our lush lawn with a new friend, or take a spin on a pair of ice skates from the rec house.</p></div><!--END Optional Lead--><!--Optional CTA Btn Set--><ul class=\"full-image-stats__btns\"><li><a href=\"/campus-life/storm-lake\" class=\"btn\">\\n    About Storm Lake\\n  </a></li><li><a href=\"/visit\" class=\"btn\">\\n    Visit Campus\\n  </a></li><li><a href=\"/request\" class=\"btn\">\\n    Request Information\\n  </a></li></ul><!--END Optional CTA Btn Set--></div><!--END Content Region--></section><section class=\"sequence-anim-parent checkerboard-panel checkerboard-panel--blue-solid  \"><div class=\"checkerboard-panel__image compat-object-fit-container sequence-anim-item fade-left-in\"><img src=\"/sites/default/files/styles/width_1200/public/2018-06/happy-grad-2018-min_0.jpg?itok=LU8ucIur\" width=\"1200\" height=\"833\" alt=\"Thumbnail\" title=\"BVU Happy Graduate\" typeof=\"foaf:Image\" /></div><div class=\"checkerboard-panel__content sequence-anim-item fade-right-in\"><div class=\"checkerboard-panel__content--wrapper\"><h2>            Our True Promise\\n      </h2><div class=\"checkerboard-panel__content__text\"><p>With BVU in their corner, nearly all the Class of 2018 landed in a job or graduate school within six months after graduation. That\\'s right, just about everyone. There aren\\'t many sure bets in life, but a BVU degree keeps bucking that trend.</p><a href=\"/outcomes\" class=\"btn\">\\n    TRUE PROMISE &amp; OUTCOMES\\n  </a></div></div></div></section><section class=\"full-image-stats\"><!--Panel Image--><div class=\"full-image-stats__image\"><img src=\"/sites/default/files/styles/width_1440/public/2018-06/homepage-swing-min_0.jpg?itok=yTOU1wyj\" width=\"1440\" height=\"959\" alt=\"Thumbnail\" title=\"Swing in front of the arch\" typeof=\"foaf:Image\" /><div class=\"full-image-stats__image__overlay\"></div></div><!--END Panel Image--><!--Content Region--><div class=\"full-image-stats--wrapper pt-100 pb-100 percent-row\"><h2>            Let&#039;s Make it Happen\\n      </h2><!--Optional Lead--><div class=\"full-image-stats__lead\"><p>With an education that\\'s affordable, practical, and personal, you can confidently flip the impossible into a reality. Whether your goals reach near or far, whether you\\'re just starting out or reinventing it all from the ground up\\xe2\\x80\\x94we\\'ll take the leap with you.</p></div><!--END Optional Lead--><!--Optional Stats--><div class=\"full-image-stats__counters\"><!--Ind Stats--><div class=\"full-image-stats__counters__ind-element\"><!--Icon--><div class=\"full-image-stats__counters__ind-element__icon\"><i class=\"fal fa-graduation-cap\"></i></div><!--END Icon--><!--Stat--><div class=\"full-image-stats__counters__ind-element__counter statistic\"><div class=\"full-image-stats__counters__ind-element__counter__number timer\"\\n        data-from=\"0\"\\n        data-to=\"98\"></div><div class=\"full-image-stats__counters__ind-element__counter__suffix\">            %\\n      </div></div><!--END Stat--><!--Description--><div class=\"full-image-stats__counters__ind-element__description\"><p>Students land a job or enter graduate school within six months of graduation</p></div><!--END Description--></div><!--Ind Stats--><!--Ind Stats--><div class=\"full-image-stats__counters__ind-element\"><!--Icon--><div class=\"full-image-stats__counters__ind-element__icon\"><i class=\"fal fa-check-circle\"></i></div><!--END Icon--><!--Stat--><div class=\"full-image-stats__counters__ind-element__counter statistic\"><div class=\"full-image-stats__counters__ind-element__counter__number timer\"\\n        data-from=\"0\"\\n        data-to=\"100\"></div><div class=\"full-image-stats__counters__ind-element__counter__suffix\">            %\\n      </div></div><!--END Stat--><!--Description--><div class=\"full-image-stats__counters__ind-element__description\"><p>Applicants receiving financial aid</p></div><!--END Description--></div><!--Ind Stats--><!--Ind Stats--><div class=\"full-image-stats__counters__ind-element\"><!--Icon--><div class=\"full-image-stats__counters__ind-element__icon\"><i class=\"fal fa-book\"></i></div><!--END Icon--><!--Stat--><div class=\"full-image-stats__counters__ind-element__counter statistic\"><div class=\"full-image-stats__counters__ind-element__counter__number timer\"\\n        data-from=\"0\"\\n        data-to=\"90\"></div><div class=\"full-image-stats__counters__ind-element__counter__suffix\">            +\\n      </div></div><!--END Stat--><!--Description--><div class=\"full-image-stats__counters__ind-element__description\"><p>Areas of study</p></div><!--END Description--></div><!--Ind Stats--></div><!--END Optional Stats--><!--Optional CTA Btn Set--><ul class=\"full-image-stats__btns\"><li><a href=\"/visit\" class=\"btn\">\\n    Visit Campus\\n  </a></li><li><a href=\"/apply\" class=\"btn\">\\n    Apply\\n  </a></li><li><a href=\"/deposit\" class=\"btn\">\\n    Make your deposit\\n  </a></li></ul><!--END Optional CTA Btn Set--></div><!--END Content Region--></section><section class=\"news-and-events\"><div class=\"percent-row\"><div class=\"columns\"><div class=\"news-and-events--wrapper\"><div class=\"news-and-events__ind-col news-and-events__ind-col--news\"><h2 class=\"news-and-events__col-title\">News</h2><div class=\"views-element-container\"><div class=\"js-view-dom-id-7d634e70dbce1acca2bb9eb1346a1e7755893ea51b2ccb11bfd7ab5eacf45e18\"><article><h2><a href=\"/news/bvu-students-play-role-msnbc-broadcast\" title=\"\"><span>BVU Students Play Role in MSNBC Broadcast</span></a></h2><div class=\"publish-date\"><time datetime=\"2019-06-21T12:00:00Z\">June 21, 2019</time></div><p>            Buena Vista University students London VanHorbeck, Morgan Krull, and Dalton Walker joined Jerry Johnson, assistant professor of digital media, in executing a live remote for MSNBC from Lage...\\n      </p><a href=\"/news/bvu-students-play-role-msnbc-broadcast\" title=\"\" class=\"inline-btn\">Read More</a></article><article><h2><a href=\"/news/biology-major-serves-sea-cucumber-culture-florida\" title=\"\"><span>Biology Major Serves up Sea Cucumber Culture in Florida</span></a></h2><div class=\"publish-date\"><time datetime=\"2019-06-19T12:00:00Z\">June 19, 2019</time></div><p>            Tonia Henning spends the summer before her senior year at Buena Vista University diving into the world of sea cucumbers. \\xe2\\x80\\x9cI\\xe2\\x80\\x99m seeing if they can grow in water from an aquaculture system,\\xe2\\x80\\x9d says Henning...\\n      </p><a href=\"/news/biology-major-serves-sea-cucumber-culture-florida\" title=\"\" class=\"inline-btn\">Read More</a></article></div></div><a href=\"/about/news\" title=\"\" class=\"btn\">View all News</a></div><div class=\"news-and-events__ind-col news-and-events__ind-col--events\"><h2 class=\"news-and-events__col-title\">Events</h2><script type=\"text/javascript\" src=\"https://code.jquery.com/jquery-1.11.0.min.js\"></script><script type=\"text/javascript\" src=\"https://events.bvu.edu/Scripts/core.js\"></script><script type=\"text/javascript\">\\n    ActiveData.Events(\\n        \"https://events.bvu.edu/handlers/query.ashx?id=d8c5cb0c5660489babb291226d205b86&tenant=&site=\",\\n        function (response) {$(\"#86122be83efc48068145cfabe8735b4e\").append(response.data);}\\n    );\\n</script><div id=\"86122be83efc48068145cfabe8735b4e\"></div><a href=\"http://events.bvu.edu\" class=\"btn\">\\n    View all Events\\n  </a></div><div class=\"news-and-events__ind-col news-and-events__ind-col--athletics\"><h2 class=\"news-and-events__col-title\">Athletics</h2><p><strong>Alive with Beaver Spirit</strong></p><p>Lifelong competitor? Total rookie? There\\'s a place for you in the BVU athletics family. With student-athletes making up one-third of our student body, you\\'ll either be competing or cheering for one of our 20+ athletic\\xc2\\xa0teams. We also offer intramural sports and fitness training options for athletes at any level.</p><p><a class=\"btn\" href=\"http://bvuathletics.com\">Explore Beaver Athletics</a></p></div></div></div></div></section>\\n      </main><!-- /.main-content -->\\n\\n  <footer class=\"l-footer pt-100 pb-100\">\\n    <div class=\"percent-row\">\\n\\n\\t\\t<div>\\n                  <!--Upper Region-->\\n          <div class=\"l-footer__upper-region\">\\n\\t\\t\\t\\t\\t\\t            \\t<!--Col 1--><div class=\"l-footer__upper-region__col-one\"><h3>Buena Vista University</h3><div class=\"l-footer__upper-region__col-one--wrapper\"><div class=\"l-footer__upper-region__col-one__left\"><div class=\"l-footer__upper-region__col-one__meta\"><p>610 West 4th St.<br />\\nStorm Lake, IA 50588<br />\\n800.383.9600<br /><a href=\"mailto:admissions@bvu.edu\">admissions@bvu.edu</a></p></div><div class=\"l-footer__upper-region__col-one__meta-links\"><ul class=\"cheveron-list\"><li><a href=\"/about/contact-us\">Contact Us</a></li><li><a href=\"/about/campus-map\">Campus Map</a></li><li><a href=\"/about/mission-and-vision\">Mission &amp; Vision</a></li><li><a href=\"/about/consumer-information#accreditation\">Accreditation</a></li><li><a href=\"/privacy-policy\">Privacy Policy</a></li><li><a href=\"/title-ix\">Title IX</a></li><li><a href=\"/bv/campus-security/campus-security-and-fire-safety-report\">Annual Campus Security Report</a></li></ul></div></div><div class=\"l-footer__upper-region__col-one__right\"><ul class=\"check-list\"><li><a href=\"/apply\">Apply to BVU</a></li><li><a href=\"/admissions/financial-assistance\">Financial Assistance</a></li><li><a href=\"/admissions/financial-assistance/calculator\">Scholarship Calculator</a></li><li><a href=\"http://www.virtually-anywhere.net/tour/buenavista\">Virtual Tour</a></li><li><a href=\"/visit/\">Schedule a Visit</a></li><li><a href=\"/request\">Request Information</a></li><li><a href=\"https://support.bvu.edu/make-a-gift\">Make a Gift</a></li></ul></div></div></div><!--END Col 1--><!--Col 2--><div class=\"l-footer__upper-region__col-two\"><h3>            Academics\\n      </h3><ul class=\"cheveron-list\"><li><a href=\"/academics/programs-majors\">Programs &amp; Majors</a></li><li><a href=\"/academics/bvu-schools\">Academic Schools</a></li><li><a href=\"/academics/internships-career-prep\">Internships &amp; Careers</a></li><li><a href=\"/academics/global-engagement\">Global Engagement</a></li><li><a href=\"/academics/agriculture-institute\">Institute for Agriculture, Food and Resource Management</a></li><li><a href=\"/fine-arts\">Fine Arts</a></li><li><a href=\"/academics/rotc\">Army ROTC</a></li><li><a href=\"/degree-completion\">Degree Completion</a></li><li><a href=\"/online\">Online Programs</a></li><li><a href=\"/graduate/programs\">Graduate Programs</a></li><li><a href=\"/academics/calendar\">Academic Calendar</a></li><li><a href=\"/bv/academic-resources/catalog\">Academic Catalog</a></li></ul></div><!--END Col 2--><!--Col 3--><div class=\"l-footer__upper-region__col-three\"><h3>            Resources\\n      </h3><ul class=\"cheveron-list\"><li><a href=\"http://beavernet.bvu.edu/\">BeaverNet</a></li><li><a href=\"http://events.bvu.edu\">Calendar</a></li><li><a href=\"/about/camps\">Camps at BVU</a></li><li><a href=\"http://canvas.bvu.edu/\">Canvas</a></li><li><a href=\"/career\">Career and Personal Development</a></li><li><a href=\"/bv/cae\">Center for Academic Excellence</a></li><li><a href=\"/commencement\">Commencement</a></li><li><a href=\"http://mail.bvu.edu\">E-Mail Access</a></li><li><a href=\"/bv/human-resources/job-openings\">Job Openings</a></li><li><a href=\"/library\">Library</a></li><li><a href=\"/bv/2fix\">Information Technology</a></li><li><a href=\"https://www.studentclearinghouse.org/secure_area/Transcript/login.asp?FICEcode=00184700\">Transcript Request</a></li><li><a href=\"/tltc\">Teaching and Learning with Technology Center</a></li></ul></div><!--END Col 3-->\\n\\t\\t\\t\\t\\t\\t          </div>\\n\\n          <!--END Upper Region-->\\n        \\t\\n\\n\\n                  <!--Lower Region-->\\n          <div class=\"l-footer__lower-region\">\\n            <div class=\"l-footer__lower-region__nav\">\\n\\t\\t\\t\\t\\t\\t\\t              \\t<h2 class=\"visually-hidden\">Main Menu</h2><ul class=\"menu\"><li class=\"menu-item--collapsed li--level-one\"><a href=\"/admissions\" data-drupal-link-system-path=\"node/151\">Admissions</a></li><li class=\"menu-item--collapsed li--level-one\"><a href=\"/about\" data-drupal-link-system-path=\"node/156\">About BVU</a></li><li class=\"menu-item--collapsed li--level-one\"><a href=\"/academics\" data-drupal-link-system-path=\"node/161\">Academics</a></li><li class=\"menu-item--collapsed li--level-one\"><a href=\"/campus-life\" data-drupal-link-system-path=\"node/18376\">Campus Life</a></li><li class=\"menu-item--collapsed li--level-one\"><a href=\"https://www.bvuathletics.com/\">Athletics</a></li><li class=\"menu-item--collapsed li--level-one\"><a href=\"http://alumni.bvu.edu\">Alumni</a></li><li class=\"menu-item--collapsed li--level-one\"><a href=\"http://support.bvu.edu\">Support BVU</a></li></ul>\\n\\t\\t\\t\\t\\t\\t\\t\\t            </div>\\n          </div>\\n          <!--END Lower Region-->\\n              </div>\\n    </div>\\n  </footer>\\n</div>\\n\\n  </div>\\n\\n    \\n    <script type=\"application/json\" data-drupal-selector=\"drupal-settings-json\">{\"path\":{\"baseUrl\":\"\\\\/\",\"scriptPath\":null,\"pathPrefix\":\"\",\"currentPath\":\"node\\\\/1\",\"currentPathIsAdmin\":false,\"isFront\":true,\"currentLanguage\":\"en\"},\"pluralDelimiter\":\"\\\\u0003\",\"ajaxPageState\":{\"libraries\":\"better_exposed_filters\\\\/general,bvu\\\\/component-full-image-stats-section,bvu\\\\/global,bvu\\\\/home-program-finder,core\\\\/html5shiv,fontawesome\\\\/fontawesome.webfonts.shim,oho_alert\\\\/oho_alert,paragraphs\\\\/drupal.paragraphs.unpublished,system\\\\/base,views\\\\/views.ajax,views\\\\/views.module\",\"theme\":\"bvu\",\"theme_token\":null},\"ajaxTrustedUrl\":{\"\\\\/\":true},\"views\":{\"ajax_path\":\"\\\\/views\\\\/ajax\",\"ajaxViews\":{\"views_dom_id:77befa1e07611dca46c9ed797d1219a81e9e22aed83d05dce31c5a71d01a7a2b\":{\"view_name\":\"program\",\"view_display_id\":\"home_programs_embed\",\"view_args\":\"\",\"view_path\":\"\\\\/\",\"view_base_path\":null,\"view_dom_id\":\"77befa1e07611dca46c9ed797d1219a81e9e22aed83d05dce31c5a71d01a7a2b\",\"pager_element\":0}}},\"user\":{\"uid\":0,\"permissionsHash\":\"fd265ee5e0975564ec293c95360daf15ceb426ff9ca20f8f057a59b4eab8d88f\"}}</script>\\n<script src=\"/sites/default/files/js/js_rOzte_wJJ9GotmmVh8CxgoBvnZbmzIKubWij-WkKPWQ.js\"></script>\\n\\n  </body>\\n</html>\\n'"
      ]
     },
     "execution_count": 4,
     "metadata": {},
     "output_type": "execute_result"
    }
   ],
   "source": [
    "p.content"
   ]
  },
  {
   "cell_type": "code",
   "execution_count": 5,
   "metadata": {},
   "outputs": [
    {
     "name": "stdout",
     "output_type": "stream",
     "text": [
      "b'<!DOCTYPE html>\\n<html>\\n    <head>\\n        <title>A simple example page</title>\\n    </head>\\n    <body>\\n        <p>Here is some simple content for this page.</p>\\n    </body>\\n</html>'\n"
     ]
    }
   ],
   "source": [
    "# Another simple page:\n",
    "p = requests.get(\"http://dataquestio.github.io/web-scraping-pages/simple.html\")\n",
    "print(p.content)"
   ]
  },
  {
   "cell_type": "markdown",
   "metadata": {},
   "source": [
    "### BeautifulSoup -- parse HTML"
   ]
  },
  {
   "cell_type": "code",
   "execution_count": 6,
   "metadata": {},
   "outputs": [
    {
     "ename": "ModuleNotFoundError",
     "evalue": "No module named 'bs4'",
     "output_type": "error",
     "traceback": [
      "\u001b[0;31m---------------------------------------------------------------------------\u001b[0m",
      "\u001b[0;31mModuleNotFoundError\u001b[0m                       Traceback (most recent call last)",
      "\u001b[0;32m<ipython-input-6-f33cf0cb8fd3>\u001b[0m in \u001b[0;36m<module>\u001b[0;34m\u001b[0m\n\u001b[0;32m----> 1\u001b[0;31m \u001b[0;32mfrom\u001b[0m \u001b[0mbs4\u001b[0m \u001b[0;32mimport\u001b[0m \u001b[0mBeautifulSoup\u001b[0m\u001b[0;34m\u001b[0m\u001b[0;34m\u001b[0m\u001b[0m\n\u001b[0m",
      "\u001b[0;31mModuleNotFoundError\u001b[0m: No module named 'bs4'"
     ]
    }
   ],
   "source": [
    "from bs4 import BeautifulSoup"
   ]
  },
  {
   "cell_type": "code",
   "execution_count": 213,
   "metadata": {},
   "outputs": [
    {
     "name": "stdout",
     "output_type": "stream",
     "text": [
      "<!DOCTYPE html>\n",
      "<html>\n",
      " <head>\n",
      "  <title>\n",
      "   A simple example page\n",
      "  </title>\n",
      " </head>\n",
      " <body>\n",
      "  <p>\n",
      "   Here is some simple content for this page.\n",
      "  </p>\n",
      " </body>\n",
      "</html>\n"
     ]
    }
   ],
   "source": [
    "b = BeautifulSoup(p.content, \"html.parser\") # create the object\n",
    "print(b.prettify()) # nice formatting"
   ]
  },
  {
   "cell_type": "markdown",
   "metadata": {},
   "source": [
    "## Using BeautifulSoup\n",
    "\n",
    "### Cheatsheet\n",
    "```python\n",
    "b = BeautifulSoup(p.content, \"html.parser\")\n",
    "```\n",
    "| Method/property | Description |\n",
    "| ---| --- |\n",
    "| b.children | Iterator to children |\n",
    "| b.find_all(class = '...') | Iterator to classes with name '...' |\n",
    "| b.find_all(id = '...') | Iterator to id '...' |\n",
    "\n",
    "\n",
    "### Children"
   ]
  },
  {
   "cell_type": "code",
   "execution_count": 214,
   "metadata": {},
   "outputs": [
    {
     "data": {
      "text/plain": [
       "<list_iterator at 0x7fee68104780>"
      ]
     },
     "execution_count": 214,
     "metadata": {},
     "output_type": "execute_result"
    }
   ],
   "source": [
    "b.children"
   ]
  },
  {
   "cell_type": "code",
   "execution_count": 215,
   "metadata": {},
   "outputs": [
    {
     "name": "stdout",
     "output_type": "stream",
     "text": [
      "html\n",
      "\n",
      "\n",
      "<html>\n",
      "<head>\n",
      "<title>A simple example page</title>\n",
      "</head>\n",
      "<body>\n",
      "<p>Here is some simple content for this page.</p>\n",
      "</body>\n",
      "</html>\n"
     ]
    }
   ],
   "source": [
    "for c in b.children:\n",
    "    print(c)"
   ]
  },
  {
   "cell_type": "code",
   "execution_count": 216,
   "metadata": {},
   "outputs": [
    {
     "data": {
      "text/plain": [
       "3"
      ]
     },
     "execution_count": 216,
     "metadata": {},
     "output_type": "execute_result"
    }
   ],
   "source": [
    "len(list(b.children)) # there are three items in the list"
   ]
  },
  {
   "cell_type": "code",
   "execution_count": 220,
   "metadata": {},
   "outputs": [
    {
     "data": {
      "text/plain": [
       "'html'"
      ]
     },
     "execution_count": 220,
     "metadata": {},
     "output_type": "execute_result"
    }
   ],
   "source": [
    "l = list(b.children)\n",
    "l[0] # explore what they are"
   ]
  },
  {
   "cell_type": "code",
   "execution_count": 221,
   "metadata": {},
   "outputs": [
    {
     "data": {
      "text/plain": [
       "<html>\n",
       "<head>\n",
       "<title>A simple example page</title>\n",
       "</head>\n",
       "<body>\n",
       "<p>Here is some simple content for this page.</p>\n",
       "</body>\n",
       "</html>"
      ]
     },
     "execution_count": 221,
     "metadata": {},
     "output_type": "execute_result"
    }
   ],
   "source": [
    "# Print children of l[2]\n",
    "l[2]"
   ]
  },
  {
   "cell_type": "code",
   "execution_count": 222,
   "metadata": {},
   "outputs": [
    {
     "data": {
      "text/plain": [
       "['\\n', <head>\n",
       " <title>A simple example page</title>\n",
       " </head>, '\\n', <body>\n",
       " <p>Here is some simple content for this page.</p>\n",
       " </body>, '\\n']"
      ]
     },
     "execution_count": 222,
     "metadata": {},
     "output_type": "execute_result"
    }
   ],
   "source": [
    "l2 = list(l[2].children)\n",
    "l2"
   ]
  },
  {
   "cell_type": "code",
   "execution_count": 223,
   "metadata": {},
   "outputs": [
    {
     "data": {
      "text/plain": [
       "<body>\n",
       "<p>Here is some simple content for this page.</p>\n",
       "</body>"
      ]
     },
     "execution_count": 223,
     "metadata": {},
     "output_type": "execute_result"
    }
   ],
   "source": [
    "l2[3]"
   ]
  },
  {
   "cell_type": "markdown",
   "metadata": {},
   "source": [
    "We can use children to go as deep in HTML as needed.\n",
    "\n",
    "### Find"
   ]
  },
  {
   "cell_type": "code",
   "execution_count": 224,
   "metadata": {},
   "outputs": [
    {
     "data": {
      "text/plain": [
       "<html>\n",
       "<head>\n",
       "<title>A simple example page</title>\n",
       "</head>\n",
       "<body>\n",
       "<p>Here is some simple content for this page.</p>\n",
       "</body>\n",
       "</html>"
      ]
     },
     "execution_count": 224,
     "metadata": {},
     "output_type": "execute_result"
    }
   ],
   "source": [
    "l[2]"
   ]
  },
  {
   "cell_type": "code",
   "execution_count": 225,
   "metadata": {},
   "outputs": [
    {
     "data": {
      "text/plain": [
       "<title>A simple example page</title>"
      ]
     },
     "execution_count": 225,
     "metadata": {},
     "output_type": "execute_result"
    }
   ],
   "source": [
    "l[2].find('title')"
   ]
  },
  {
   "cell_type": "code",
   "execution_count": 112,
   "metadata": {},
   "outputs": [
    {
     "data": {
      "text/plain": [
       "<head>\n",
       "<title>A simple example page</title>\n",
       "</head>"
      ]
     },
     "execution_count": 112,
     "metadata": {},
     "output_type": "execute_result"
    }
   ],
   "source": [
    "# try searching for 'head', 'body', and 'p'\n",
    "l[2].find(...)"
   ]
  },
  {
   "cell_type": "markdown",
   "metadata": {},
   "source": [
    "### Text"
   ]
  },
  {
   "cell_type": "code",
   "execution_count": 116,
   "metadata": {},
   "outputs": [
    {
     "data": {
      "text/plain": [
       "'\\nA simple example page\\n'"
      ]
     },
     "execution_count": 116,
     "metadata": {},
     "output_type": "execute_result"
    }
   ],
   "source": [
    "# once you found what you need, use text to get the text:\n",
    "l[2].find('head').text"
   ]
  },
  {
   "cell_type": "code",
   "execution_count": 118,
   "metadata": {},
   "outputs": [
    {
     "data": {
      "text/plain": [
       "'A simple example page'"
      ]
     },
     "execution_count": 118,
     "metadata": {},
     "output_type": "execute_result"
    }
   ],
   "source": [
    "# strip optionally\n",
    "l[2].find('head').text.strip()"
   ]
  },
  {
   "cell_type": "code",
   "execution_count": 120,
   "metadata": {
    "collapsed": true
   },
   "outputs": [],
   "source": [
    "# What happens if you call text on l[2], i.e. the complete HTML page?"
   ]
  },
  {
   "cell_type": "markdown",
   "metadata": {},
   "source": [
    "### Another web page"
   ]
  },
  {
   "cell_type": "code",
   "execution_count": 226,
   "metadata": {},
   "outputs": [
    {
     "name": "stdout",
     "output_type": "stream",
     "text": [
      "<html>\n",
      " <head>\n",
      "  <title>\n",
      "   A simple example page\n",
      "  </title>\n",
      " </head>\n",
      " <body>\n",
      "  <div>\n",
      "   <p class=\"inner-text first-item\" id=\"first\">\n",
      "    First paragraph.\n",
      "   </p>\n",
      "   <p class=\"inner-text\">\n",
      "    Second paragraph.\n",
      "   </p>\n",
      "  </div>\n",
      "  <p class=\"outer-text first-item\" id=\"second\">\n",
      "   <b>\n",
      "    First outer paragraph.\n",
      "   </b>\n",
      "  </p>\n",
      "  <p class=\"outer-text\">\n",
      "   <b>\n",
      "    Second outer paragraph.\n",
      "   </b>\n",
      "  </p>\n",
      " </body>\n",
      "</html>\n"
     ]
    }
   ],
   "source": [
    "p = requests.get(\"http://dataquestio.github.io/web-scraping-pages/ids_and_classes.html\")\n",
    "\n",
    "b = BeautifulSoup(p.content, \"html.parser\")\n",
    "print(b.prettify())"
   ]
  },
  {
   "cell_type": "code",
   "execution_count": 227,
   "metadata": {},
   "outputs": [
    {
     "data": {
      "text/plain": [
       "<html>\n",
       "<head>\n",
       "<title>A simple example page</title>\n",
       "</head>\n",
       "<body>\n",
       "<div>\n",
       "<p class=\"inner-text first-item\" id=\"first\">\n",
       "                First paragraph.\n",
       "            </p>\n",
       "<p class=\"inner-text\">\n",
       "                Second paragraph.\n",
       "            </p>\n",
       "</div>\n",
       "<p class=\"outer-text first-item\" id=\"second\">\n",
       "<b>\n",
       "                First outer paragraph.\n",
       "            </b>\n",
       "</p>\n",
       "<p class=\"outer-text\">\n",
       "<b>\n",
       "                Second outer paragraph.\n",
       "            </b>\n",
       "</p>\n",
       "</body>\n",
       "</html>"
      ]
     },
     "execution_count": 227,
     "metadata": {},
     "output_type": "execute_result"
    }
   ],
   "source": [
    "l = list(b.children)\n",
    "l[0]"
   ]
  },
  {
   "cell_type": "code",
   "execution_count": 229,
   "metadata": {},
   "outputs": [
    {
     "data": {
      "text/plain": [
       "<p class=\"inner-text first-item\" id=\"first\">\n",
       "                First paragraph.\n",
       "            </p>"
      ]
     },
     "execution_count": 229,
     "metadata": {},
     "output_type": "execute_result"
    }
   ],
   "source": [
    "l[0].find(class_ = 'inner-text')"
   ]
  },
  {
   "cell_type": "code",
   "execution_count": 230,
   "metadata": {},
   "outputs": [
    {
     "data": {
      "text/plain": [
       "<p class=\"outer-text first-item\" id=\"second\">\n",
       "<b>\n",
       "                First outer paragraph.\n",
       "            </b>\n",
       "</p>"
      ]
     },
     "execution_count": 230,
     "metadata": {},
     "output_type": "execute_result"
    }
   ],
   "source": [
    "l[0].find(id=\"second\")"
   ]
  },
  {
   "cell_type": "markdown",
   "metadata": {},
   "source": [
    "### Find_all"
   ]
  },
  {
   "cell_type": "code",
   "execution_count": 138,
   "metadata": {},
   "outputs": [
    {
     "name": "stdout",
     "output_type": "stream",
     "text": [
      "First paragraph.\n",
      "Second paragraph.\n"
     ]
    }
   ],
   "source": [
    "for c in l[0].find_all(class_ = 'inner-text'):\n",
    "    print(c.text.strip())"
   ]
  },
  {
   "cell_type": "code",
   "execution_count": 145,
   "metadata": {},
   "outputs": [
    {
     "data": {
      "text/plain": [
       "[<p class=\"inner-text first-item\" id=\"first\">\n",
       "                 First paragraph.\n",
       "             </p>]"
      ]
     },
     "execution_count": 145,
     "metadata": {},
     "output_type": "execute_result"
    }
   ],
   "source": [
    "# try .find_all(id = \"first\")"
   ]
  },
  {
   "cell_type": "code",
   "execution_count": 149,
   "metadata": {},
   "outputs": [
    {
     "data": {
      "text/plain": [
       "[<p class=\"outer-text first-item\" id=\"second\">\n",
       " <b>\n",
       "                 First outer paragraph.\n",
       "             </b>\n",
       " </p>, <p class=\"outer-text\">\n",
       " <b>\n",
       "                 Second outer paragraph.\n",
       "             </b>\n",
       " </p>]"
      ]
     },
     "execution_count": 149,
     "metadata": {},
     "output_type": "execute_result"
    }
   ],
   "source": [
    "b.find_all(class_ = 'outer-text')"
   ]
  },
  {
   "cell_type": "markdown",
   "metadata": {},
   "source": [
    "### Get"
   ]
  },
  {
   "cell_type": "code",
   "execution_count": 153,
   "metadata": {},
   "outputs": [
    {
     "data": {
      "text/plain": [
       "[<p class=\"inner-text first-item\" id=\"first\">\n",
       "                 First paragraph.\n",
       "             </p>, <p class=\"inner-text\">\n",
       "                 Second paragraph.\n",
       "             </p>, <p class=\"outer-text first-item\" id=\"second\">\n",
       " <b>\n",
       "                 First outer paragraph.\n",
       "             </b>\n",
       " </p>, <p class=\"outer-text\">\n",
       " <b>\n",
       "                 Second outer paragraph.\n",
       "             </b>\n",
       " </p>]"
      ]
     },
     "execution_count": 153,
     "metadata": {},
     "output_type": "execute_result"
    }
   ],
   "source": [
    "b.find_all('p')"
   ]
  },
  {
   "cell_type": "code",
   "execution_count": 155,
   "metadata": {},
   "outputs": [
    {
     "data": {
      "text/plain": [
       "['First paragraph.',\n",
       " 'Second paragraph.',\n",
       " 'First outer paragraph.',\n",
       " 'Second outer paragraph.']"
      ]
     },
     "execution_count": 155,
     "metadata": {},
     "output_type": "execute_result"
    }
   ],
   "source": [
    "# text will return the text b/w the tags\n",
    "[t.text.strip() for t in b.find_all('p')]"
   ]
  },
  {
   "cell_type": "code",
   "execution_count": 156,
   "metadata": {},
   "outputs": [
    {
     "data": {
      "text/plain": [
       "[['inner-text', 'first-item'],\n",
       " ['inner-text'],\n",
       " ['outer-text', 'first-item'],\n",
       " ['outer-text']]"
      ]
     },
     "execution_count": 156,
     "metadata": {},
     "output_type": "execute_result"
    }
   ],
   "source": [
    "# get will return the attributes within the tags\n",
    "[t.get('class') for t in b.find_all('p')]"
   ]
  },
  {
   "cell_type": "markdown",
   "metadata": {},
   "source": [
    "## Practice Time\n",
    "Let us see who sells snow throwers on Craigslist in Fort Dodge\n",
    "\n",
    "NB: Do not forget to check https://craigslist.org/robots.txt"
   ]
  },
  {
   "cell_type": "code",
   "execution_count": 381,
   "metadata": {
    "collapsed": true
   },
   "outputs": [],
   "source": [
    "url = 'https://fortdodge.craigslist.org/d/free-stuff/search/zip'\n",
    "p = requests.get(url)\n",
    "b = BeautifulSoup(p.content, \"html.parser\")"
   ]
  },
  {
   "cell_type": "code",
   "execution_count": 382,
   "metadata": {
    "collapsed": true
   },
   "outputs": [],
   "source": [
    "rows = b.find_all(class_ = 'result-row')"
   ]
  },
  {
   "cell_type": "code",
   "execution_count": null,
   "metadata": {
    "collapsed": true
   },
   "outputs": [],
   "source": [
    "for r in rows:\n",
    "    try:\n",
    "        caption = r.find(class_ = 'result-title hdrlnk').text\n",
    "        location = r.find(class_ = 'result-hood').text\n",
    "    except:\n",
    "        pass\n",
    "    print(caption,location)"
   ]
  },
  {
   "cell_type": "markdown",
   "metadata": {},
   "source": [
    "## Everything from Craigslist in Ft. Dodge area"
   ]
  },
  {
   "cell_type": "code",
   "execution_count": 388,
   "metadata": {
    "collapsed": true
   },
   "outputs": [],
   "source": [
    "url = 'https://fortdodge.craigslist.org/search/sss?'\n",
    "p = requests.get(url)\n",
    "b = BeautifulSoup(p.content, \"html.parser\")\n",
    "rows = b.find_all(class_ = 'result-row')"
   ]
  },
  {
   "cell_type": "code",
   "execution_count": 399,
   "metadata": {},
   "outputs": [
    {
     "name": "stdout",
     "output_type": "stream",
     "text": [
      "2019 PJ TRAILERS 102X25 GOOSENECK DECKOVER FLATBED LOPRO TRAILER  (Holt) $11000 2019-03-06 10:51\n"
     ]
    }
   ],
   "source": [
    "caption = rows[0].find(class_ = 'result-title hdrlnk').text\n",
    "location = rows[0].find(class_ = 'result-hood').text\n",
    "price = rows[0].find(class_ = 'result-price').text\n",
    "posted = rows[0].find(class_ = 'result-date').get('datetime')\n",
    "print(caption,location,price,posted)"
   ]
  },
  {
   "cell_type": "code",
   "execution_count": 403,
   "metadata": {
    "collapsed": true
   },
   "outputs": [],
   "source": [
    "l = []\n",
    "for r in rows:\n",
    "    caption = r.find(class_ = 'result-title hdrlnk').text\n",
    "    try:\n",
    "        location = r.find(class_ = 'result-hood').text\n",
    "    except:\n",
    "        location = None\n",
    "    try:\n",
    "        price = r.find(class_ = 'result-price').text\n",
    "    except:\n",
    "        price = None\n",
    "    posted = r.find(class_ = 'result-date').get('datetime')\n",
    "    d = dict(zip(['caption','location','price','posted'],\n",
    "                [caption,location,price,posted]))\n",
    "    l.append(d)"
   ]
  },
  {
   "cell_type": "code",
   "execution_count": null,
   "metadata": {
    "collapsed": true
   },
   "outputs": [],
   "source": [
    "def scrape_url(url):\n",
    "    p = requests.get(url)\n",
    "    b = BeautifulSoup(p.content, \"html.parser\")\n",
    "    rows = b.find_all(class_ = 'result-row')\n",
    "    \n",
    "    l = []\n",
    "    for r in rows:\n",
    "        caption = r.find(class_ = 'result-title hdrlnk').text\n",
    "        try:\n",
    "            location = r.find(class_ = 'result-hood').text\n",
    "        except:\n",
    "            location = None\n",
    "        try:\n",
    "            price = r.find(class_ = 'result-price').text\n",
    "        except:\n",
    "            price = None\n",
    "        posted = r.find(class_ = 'result-date').get('datetime')\n",
    "        d = dict(zip(['caption','location','price','posted'],\n",
    "                    [caption,location,price,posted]))\n",
    "        l.append(d)\n",
    "    return l\n",
    "\n",
    "scrape_url('https://fortdodge.craigslist.org/search/sss?')"
   ]
  },
  {
   "cell_type": "code",
   "execution_count": 414,
   "metadata": {
    "collapsed": true
   },
   "outputs": [],
   "source": [
    "import time"
   ]
  },
  {
   "cell_type": "code",
   "execution_count": 409,
   "metadata": {},
   "outputs": [
    {
     "name": "stdout",
     "output_type": "stream",
     "text": [
      "Processed 0, total 120 \n",
      "Processed 120, total 240 \n",
      "Processed 240, total 360 \n",
      "Processed 360, total 480 \n",
      "Processed 480, total 600 \n",
      "Processed 600, total 720 \n",
      "Processed 720, total 840 \n",
      "Processed 840, total 960 \n",
      "Processed 960, total 1080 \n",
      "Processed 1080, total 1200 \n",
      "Processed 1200, total 1320 \n",
      "Processed 1320, total 1440 \n",
      "Processed 1440, total 1560 \n",
      "Processed 1560, total 1680 \n",
      "Processed 1680, total 1744 \n"
     ]
    }
   ],
   "source": [
    "l = []\n",
    "for st in range(0,1750,120):\n",
    "    url = 'https://fortdodge.craigslist.org/search/sss?s=%d'%st\n",
    "    l = l + scrape_url(url)\n",
    "    print('Processed %d, total %d '%(st,len(l)))\n",
    "    sleep(2)"
   ]
  },
  {
   "cell_type": "code",
   "execution_count": 411,
   "metadata": {},
   "outputs": [
    {
     "data": {
      "text/plain": [
       "(1744, 4)"
      ]
     },
     "execution_count": 411,
     "metadata": {},
     "output_type": "execute_result"
    }
   ],
   "source": [
    "df = pd.DataFrame(l)\n",
    "df.shape"
   ]
  },
  {
   "cell_type": "code",
   "execution_count": null,
   "metadata": {
    "collapsed": true
   },
   "outputs": [],
   "source": [
    "df.groupby('location').count()"
   ]
  },
  {
   "cell_type": "markdown",
   "metadata": {},
   "source": [
    "## Indeed.com"
   ]
  },
  {
   "cell_type": "code",
   "execution_count": 554,
   "metadata": {
    "collapsed": true
   },
   "outputs": [],
   "source": [
    "url = 'https://www.indeed.com/jobs?q=data+scientist&l=Iowa+City%2C+IA'\n",
    "p = requests.get(url)\n",
    "b = BeautifulSoup(p.content, \"html.parser\")"
   ]
  },
  {
   "cell_type": "code",
   "execution_count": 567,
   "metadata": {},
   "outputs": [
    {
     "data": {
      "text/plain": [
       "<div class=\"jobsearch-SerpJobCard row sjlast result\" data-ci=\"267672326\" data-empn=\"7937733348923960\" data-jk=\"018c9eb8199e624c\" data-tu=\"\" id=\"pj_018c9eb8199e624c\">\n",
       "<a class=\"jobtitle turnstileLink\" data-tn-element=\"jobTitle\" href=\"/pagead/clk?mo=r&amp;ad=-6NYlbfkN0Ay34pLxNpM2b2APydG9FPHc7HhqjeNrk9_gDXaaFM3GgPuMqNnt0SwtRdFxrty7Yxz5N_-XsSGo7EwB9Pr_KR9iclF_5NCD_eV6r2hA8lFXPFKfQygebkgmzDyVLARwyyO1sfOfPsQfBabP9UefcLyCfTS8SKTR1X3oXZK3ag7p3EFNzmfeHVYPKHKHlQ9EPFql1UEeuzX7JGqz5o-tsDA5es_9P3gCnsRRpkuZoDFnvbEcupQ4CLi7IYGEFu8Sou7FnzqAyY-6yFVBeHnW-O7cV29i2hEsLg2oDmHstICw0pJ6jHmp5ZNM6Qx-RCZxtGZEQ_-DUZPayrSYDugbJq7MpGIl-n3Rg0z3OoFMhQ-YhxsulYZrDXFVXmLO9mnev00c9vDwbW_TQWFwp7lMVZX6id0dsT4mlxAWjQO0JGgnO9GaCrsZ2lLrrjrx5j2rRKhfpFCX9W6E_qxTL8F44Gf-nWGgT1K43YuFT3uos9GFQ==&amp;vjs=3&amp;p=4&amp;sk=&amp;fvj=1\" id=\"sja4\" onclick=\"setRefineByCookie([]); sjoc('sja4',1); convCtr('SJ')\" onmousedown=\"sjomd('sja4'); clk('sja4');\" rel=\"noopener nofollow\" target=\"_blank\" title=\"Life Insurance Agent (Remote) - Free leads / No marketing costs\">Life Insurance Agent (Remote) - Free leads / No marketing co...</a>\n",
       "<br/>\n",
       "<div class=\"sjcl\"><div>\n",
       "<span class=\"company\">\n",
       "<a class=\"turnstileLink\" data-tn-element=\"companyName\" href=\"/cmp/Assurance-7b737553\" onmousedown=\"this.href = appendParamsOnce(this.href, 'from=SERP&amp;campaignid=serp-linkcompanyname&amp;fromjk=018c9eb8199e624c&amp;jcid=863bd584681e871f')\" rel=\"noopener\" target=\"_blank\">\n",
       "        ASSURANCE</a></span>\n",
       "<a class=\"ratingsLabel\" data-tn-element=\"reviewStars\" data-tn-variant=\"cmplinktst2\" href=\"/cmp/Assurance-7b737553/reviews\" onmousedown=\"this.href = appendParamsOnce(this.href, '?campaignid=cmplinktst2&amp;from=SERP&amp;jt=Life+Insurance+Agent+%28Remote%29+-+Free+leads+%5C%2F+No+marketing+costs&amp;fromjk=018c9eb8199e624c&amp;jcid=863bd584681e871f');\" rel=\"noopener\" target=\"_blank\" title=\"Assurance reviews\">\n",
       "<span class=\"ratings\"><span class=\"rating\" style=\"width:43.2px\"><!-- --></span></span>\n",
       "<span class=\"slNoUnderline\">40 reviews</span></a>\n",
       "</div><div class=\"location\">United States</div></div>\n",
       "<div class=\"recJobLoc\" data-rc-loc=\"United States\" id=\"recJobLoc_018c9eb8199e624c\" style=\"display: none\">\n",
       "</div>\n",
       "<div class=\"paddedSummary\">\n",
       "<table border=\"0\" cellpadding=\"0\" cellspacing=\"0\" width=\"100%\"><tr><td class=\"snip\">\n",
       "<div class=\"salarySnippet\">\n",
       "<span class=\"salary no-wrap\">\n",
       "                $50,000 - $125,000 a year</span>\n",
       "</div>\n",
       "<span class=\"summary\">\n",
       "                            Our team of engineers, <b>data</b> <b>scientists</b>, marketers, architects, and designers are building systems using advanced science to make humans better....</span>\n",
       "</td></tr></table>\n",
       "</div>\n",
       "<div class=\"sjCapt\">\n",
       "<div class=\"result-link-bar-container\">\n",
       "<div class=\"result-link-bar\"><span class=\" sponsoredGray \">Sponsored</span> - <span class=\"tt_set\" id=\"tt_set_13\"><a class=\"sl resultLink save-job-link \" href=\"#\" id=\"sj_018c9eb8199e624c\" onclick=\"changeJobState('018c9eb8199e624c', 'save', 'linkbar', true, ''); return false;\" title=\"Save this job to my.indeed\">save job</a></span><div class=\"edit_note_content\" id=\"editsaved2_018c9eb8199e624c\" style=\"display:none;\"></div><script>if (!window['sj_result_018c9eb8199e624c']) {window['sj_result_018c9eb8199e624c'] = {};}window['sj_result_018c9eb8199e624c']['showSource'] = false; window['sj_result_018c9eb8199e624c']['source'] = \"Indeed\"; window['sj_result_018c9eb8199e624c']['loggedIn'] = false; window['sj_result_018c9eb8199e624c']['showMyJobsLinks'] = false;window['sj_result_018c9eb8199e624c']['undoAction'] = \"unsave\";window['sj_result_018c9eb8199e624c']['jobKey'] = \"018c9eb8199e624c\"; window['sj_result_018c9eb8199e624c']['myIndeedAvailable'] = true; window['sj_result_018c9eb8199e624c']['showMoreActionsLink'] = window['sj_result_018c9eb8199e624c']['showMoreActionsLink'] || false; window['sj_result_018c9eb8199e624c']['resultNumber'] = 13; window['sj_result_018c9eb8199e624c']['jobStateChangedToSaved'] = false; window['sj_result_018c9eb8199e624c']['searchState'] = \"q=data scientist&amp;l=Iowa+City%2C+IA\"; window['sj_result_018c9eb8199e624c']['basicPermaLink'] = \"https://www.indeed.com\"; window['sj_result_018c9eb8199e624c']['saveJobFailed'] = false; window['sj_result_018c9eb8199e624c']['removeJobFailed'] = false; window['sj_result_018c9eb8199e624c']['requestPending'] = false; window['sj_result_018c9eb8199e624c']['notesEnabled'] = false; window['sj_result_018c9eb8199e624c']['currentPage'] = \"serp\"; window['sj_result_018c9eb8199e624c']['sponsored'] = true;window['sj_result_018c9eb8199e624c']['showSponsor'] = true;window['sj_result_018c9eb8199e624c']['reportJobButtonEnabled'] = false; window['sj_result_018c9eb8199e624c']['showMyJobsHired'] = false; window['sj_result_018c9eb8199e624c']['showSaveForSponsored'] = true; window['sj_result_018c9eb8199e624c']['showJobAge'] = true;</script></div></div>\n",
       "<div class=\"tab-container\">\n",
       "<div class=\"sign-in-container result-tab\"></div>\n",
       "<div class=\"tellafriend-container result-tab email_job_content\"></div>\n",
       "</div>\n",
       "</div>\n",
       "</div>"
      ]
     },
     "execution_count": 567,
     "metadata": {},
     "output_type": "execute_result"
    }
   ],
   "source": [
    "rows = b.find_all(class_ = 'jobsearch-SerpJobCard')\n",
    "rows[3]"
   ]
  },
  {
   "cell_type": "code",
   "execution_count": 572,
   "metadata": {},
   "outputs": [
    {
     "data": {
      "text/plain": [
       "'Cedar Rapids, IA 52401'"
      ]
     },
     "execution_count": 572,
     "metadata": {},
     "output_type": "execute_result"
    }
   ],
   "source": [
    "rows = b.find_all(class_ = 'jobsearch-SerpJobCard')\n",
    "rows[1].find(class_='location').text.strip()"
   ]
  },
  {
   "cell_type": "code",
   "execution_count": 574,
   "metadata": {
    "collapsed": true
   },
   "outputs": [],
   "source": [
    "\n",
    "column_names = ['job_title','company','job_desc','salary','location']\n",
    "l = []\n",
    "for r in rows:\n",
    "    try:\n",
    "        job_title = r.find(class_='jobtitle turnstileLink').get('title').strip()\n",
    "    except:\n",
    "        job_title = None\n",
    "    company = r.find(class_='company').text.strip()\n",
    "    job_desc = r.find(class_='summary').text.strip()\n",
    "    try:\n",
    "        salary = r.find(class_='salary no-wrap').text.strip()\n",
    "    except:\n",
    "        salary = None\n",
    "    location = r.find(class_='location').text.strip()\n",
    "    d = dict(zip(column_names,[job_title,company,job_desc,salary,location]))\n",
    "    l.append(d)"
   ]
  },
  {
   "cell_type": "code",
   "execution_count": null,
   "metadata": {
    "collapsed": true
   },
   "outputs": [],
   "source": [
    "def get_jobs(url):\n",
    "    p = requests.get(url)\n",
    "    b = BeautifulSoup(p.content, \"html.parser\")\n",
    "    column_names = ['job_title','company','job_desc','salary','location']\n",
    "    l = []\n",
    "    for r in b.find_all(class_ = 'jobsearch-SerpJobCard'):\n",
    "        try:\n",
    "            job_title = r.find(class_='jobtitle turnstileLink').get('title').strip()\n",
    "        except:\n",
    "            job_title = None\n",
    "        company = r.find(class_='company').text.strip()\n",
    "        job_desc = r.find(class_='summary').text.strip()\n",
    "        try:\n",
    "            salary = r.find(class_='salary no-wrap').text.strip()\n",
    "        except:\n",
    "            salary = None\n",
    "        location = r.find(class_='location').text.strip()\n",
    "        d = dict(zip(column_names,[job_title,company,job_desc,salary,location]))\n",
    "        l.append(d)\n",
    "    return l\n",
    "\n",
    "get_jobs('https://www.indeed.com/jobs?q=data+scientist&l=Iowa+City%2C+IA')"
   ]
  },
  {
   "cell_type": "code",
   "execution_count": 579,
   "metadata": {},
   "outputs": [
    {
     "name": "stdout",
     "output_type": "stream",
     "text": [
      "https://www.indeed.com/jobs?q=data+scientist&l=Iowa+City,+IA&start=0\n",
      "https://www.indeed.com/jobs?q=data+scientist&l=Iowa+City,+IA&start=10\n",
      "https://www.indeed.com/jobs?q=data+scientist&l=Iowa+City,+IA&start=20\n",
      "https://www.indeed.com/jobs?q=data+scientist&l=Iowa+City,+IA&start=30\n",
      "https://www.indeed.com/jobs?q=data+scientist&l=Iowa+City,+IA&start=40\n"
     ]
    }
   ],
   "source": [
    "url = 'https://www.indeed.com/jobs?q=data+scientist&l=Iowa+City,+IA&start=%d'\n",
    "\n",
    "l = []\n",
    "for page in range(0,41,10):\n",
    "    print(url%page)\n",
    "    l = l + get_jobs(url%page)\n",
    "    sleep(2)"
   ]
  },
  {
   "cell_type": "markdown",
   "metadata": {},
   "source": [
    "## Pandas DataFrame and saving it to CSV"
   ]
  },
  {
   "cell_type": "code",
   "execution_count": 581,
   "metadata": {
    "collapsed": true
   },
   "outputs": [],
   "source": [
    "import pandas as pd"
   ]
  },
  {
   "cell_type": "code",
   "execution_count": 597,
   "metadata": {},
   "outputs": [
    {
     "data": {
      "text/html": [
       "<div>\n",
       "<style>\n",
       "    .dataframe thead tr:only-child th {\n",
       "        text-align: right;\n",
       "    }\n",
       "\n",
       "    .dataframe thead th {\n",
       "        text-align: left;\n",
       "    }\n",
       "\n",
       "    .dataframe tbody tr th {\n",
       "        vertical-align: top;\n",
       "    }\n",
       "</style>\n",
       "<table border=\"1\" class=\"dataframe\">\n",
       "  <thead>\n",
       "    <tr style=\"text-align: right;\">\n",
       "      <th></th>\n",
       "      <th>company</th>\n",
       "      <th>job_desc</th>\n",
       "      <th>location</th>\n",
       "      <th>salary</th>\n",
       "    </tr>\n",
       "    <tr>\n",
       "      <th>job_title</th>\n",
       "      <th></th>\n",
       "      <th></th>\n",
       "      <th></th>\n",
       "      <th></th>\n",
       "    </tr>\n",
       "  </thead>\n",
       "  <tbody>\n",
       "    <tr>\n",
       "      <th>Data Scientist (Tier-1 school education; 3-5+ years US work experience)</th>\n",
       "      <td>Confidential Client (Full time)</td>\n",
       "      <td>A fast growing startup is looking for several ...</td>\n",
       "      <td>United States</td>\n",
       "      <td>None</td>\n",
       "    </tr>\n",
       "    <tr>\n",
       "      <th>Actuarial Analyst</th>\n",
       "      <td>Cedar Rapids</td>\n",
       "      <td>Knowledge of SAS, R, and data visualization so...</td>\n",
       "      <td>Cedar Rapids, IA 52401</td>\n",
       "      <td>None</td>\n",
       "    </tr>\n",
       "    <tr>\n",
       "      <th>Life Insurance Agent (Remote) - No marketing costs</th>\n",
       "      <td>ASSURANCE</td>\n",
       "      <td>Our team of engineers, data scientists, market...</td>\n",
       "      <td>United States</td>\n",
       "      <td>$50,000 - $125,000 a year</td>\n",
       "    </tr>\n",
       "    <tr>\n",
       "      <th>NaN</th>\n",
       "      <td>United Fire Group</td>\n",
       "      <td>Research, analyze and understand complex regul...</td>\n",
       "      <td>Cedar Rapids, IA</td>\n",
       "      <td>None</td>\n",
       "    </tr>\n",
       "    <tr>\n",
       "      <th>NaN</th>\n",
       "      <td>College Raptor</td>\n",
       "      <td>Please send a resume and a cover letter explai...</td>\n",
       "      <td>Iowa City, IA</td>\n",
       "      <td>None</td>\n",
       "    </tr>\n",
       "  </tbody>\n",
       "</table>\n",
       "</div>"
      ],
      "text/plain": [
       "                                                                            company  \\\n",
       "job_title                                                                             \n",
       "Data Scientist (Tier-1 school education; 3-5+ y...  Confidential Client (Full time)   \n",
       "Actuarial Analyst                                                      Cedar Rapids   \n",
       "Life Insurance Agent (Remote) - No marketing costs                        ASSURANCE   \n",
       "NaN                                                               United Fire Group   \n",
       "NaN                                                                  College Raptor   \n",
       "\n",
       "                                                                                             job_desc  \\\n",
       "job_title                                                                                               \n",
       "Data Scientist (Tier-1 school education; 3-5+ y...  A fast growing startup is looking for several ...   \n",
       "Actuarial Analyst                                   Knowledge of SAS, R, and data visualization so...   \n",
       "Life Insurance Agent (Remote) - No marketing costs  Our team of engineers, data scientists, market...   \n",
       "NaN                                                 Research, analyze and understand complex regul...   \n",
       "NaN                                                 Please send a resume and a cover letter explai...   \n",
       "\n",
       "                                                                  location  \\\n",
       "job_title                                                                    \n",
       "Data Scientist (Tier-1 school education; 3-5+ y...           United States   \n",
       "Actuarial Analyst                                   Cedar Rapids, IA 52401   \n",
       "Life Insurance Agent (Remote) - No marketing costs           United States   \n",
       "NaN                                                       Cedar Rapids, IA   \n",
       "NaN                                                          Iowa City, IA   \n",
       "\n",
       "                                                                       salary  \n",
       "job_title                                                                      \n",
       "Data Scientist (Tier-1 school education; 3-5+ y...                       None  \n",
       "Actuarial Analyst                                                        None  \n",
       "Life Insurance Agent (Remote) - No marketing costs  $50,000 - $125,000 a year  \n",
       "NaN                                                                      None  \n",
       "NaN                                                                      None  "
      ]
     },
     "execution_count": 597,
     "metadata": {},
     "output_type": "execute_result"
    }
   ],
   "source": [
    "df = pd.DataFrame(l) # Make a dataframe\n",
    "df.set_index('job_title', inplace = True)\n",
    "df.to_csv('jobs.csv')\n",
    "df.head()"
   ]
  },
  {
   "cell_type": "code",
   "execution_count": 598,
   "metadata": {},
   "outputs": [
    {
     "name": "stdout",
     "output_type": "stream",
     "text": [
      "job_title,company,job_desc,location,salary\r\n",
      "Data Scientist (Tier-1 school education; 3-5+ years US work experience),Confidential Client (Full time),\"A fast growing startup is looking for several data scientist that have used classification, time series analysis, regression, association rules mining, and...\",United States,\r\n"
     ]
    }
   ],
   "source": [
    "%cat jobs.csv | head -2"
   ]
  },
  {
   "cell_type": "code",
   "execution_count": 600,
   "metadata": {},
   "outputs": [
    {
     "data": {
      "text/html": [
       "<div>\n",
       "<style>\n",
       "    .dataframe thead tr:only-child th {\n",
       "        text-align: right;\n",
       "    }\n",
       "\n",
       "    .dataframe thead th {\n",
       "        text-align: left;\n",
       "    }\n",
       "\n",
       "    .dataframe tbody tr th {\n",
       "        vertical-align: top;\n",
       "    }\n",
       "</style>\n",
       "<table border=\"1\" class=\"dataframe\">\n",
       "  <thead>\n",
       "    <tr style=\"text-align: right;\">\n",
       "      <th></th>\n",
       "      <th>company</th>\n",
       "      <th>job_desc</th>\n",
       "      <th>location</th>\n",
       "      <th>salary</th>\n",
       "    </tr>\n",
       "    <tr>\n",
       "      <th>job_title</th>\n",
       "      <th></th>\n",
       "      <th></th>\n",
       "      <th></th>\n",
       "      <th></th>\n",
       "    </tr>\n",
       "  </thead>\n",
       "  <tbody>\n",
       "    <tr>\n",
       "      <th>Data Scientist (Tier-1 school education; 3-5+ years US work experience)</th>\n",
       "      <td>Confidential Client (Full time)</td>\n",
       "      <td>A fast growing startup is looking for several ...</td>\n",
       "      <td>United States</td>\n",
       "      <td>NaN</td>\n",
       "    </tr>\n",
       "    <tr>\n",
       "      <th>Actuarial Analyst</th>\n",
       "      <td>Cedar Rapids</td>\n",
       "      <td>Knowledge of SAS, R, and data visualization so...</td>\n",
       "      <td>Cedar Rapids, IA 52401</td>\n",
       "      <td>NaN</td>\n",
       "    </tr>\n",
       "    <tr>\n",
       "      <th>Life Insurance Agent (Remote) - No marketing costs</th>\n",
       "      <td>ASSURANCE</td>\n",
       "      <td>Our team of engineers, data scientists, market...</td>\n",
       "      <td>United States</td>\n",
       "      <td>$50,000 - $125,000 a year</td>\n",
       "    </tr>\n",
       "    <tr>\n",
       "      <th>NaN</th>\n",
       "      <td>United Fire Group</td>\n",
       "      <td>Research, analyze and understand complex regul...</td>\n",
       "      <td>Cedar Rapids, IA</td>\n",
       "      <td>NaN</td>\n",
       "    </tr>\n",
       "    <tr>\n",
       "      <th>NaN</th>\n",
       "      <td>College Raptor</td>\n",
       "      <td>Please send a resume and a cover letter explai...</td>\n",
       "      <td>Iowa City, IA</td>\n",
       "      <td>NaN</td>\n",
       "    </tr>\n",
       "  </tbody>\n",
       "</table>\n",
       "</div>"
      ],
      "text/plain": [
       "                                                                            company  \\\n",
       "job_title                                                                             \n",
       "Data Scientist (Tier-1 school education; 3-5+ y...  Confidential Client (Full time)   \n",
       "Actuarial Analyst                                                      Cedar Rapids   \n",
       "Life Insurance Agent (Remote) - No marketing costs                        ASSURANCE   \n",
       "NaN                                                               United Fire Group   \n",
       "NaN                                                                  College Raptor   \n",
       "\n",
       "                                                                                             job_desc  \\\n",
       "job_title                                                                                               \n",
       "Data Scientist (Tier-1 school education; 3-5+ y...  A fast growing startup is looking for several ...   \n",
       "Actuarial Analyst                                   Knowledge of SAS, R, and data visualization so...   \n",
       "Life Insurance Agent (Remote) - No marketing costs  Our team of engineers, data scientists, market...   \n",
       "NaN                                                 Research, analyze and understand complex regul...   \n",
       "NaN                                                 Please send a resume and a cover letter explai...   \n",
       "\n",
       "                                                                  location  \\\n",
       "job_title                                                                    \n",
       "Data Scientist (Tier-1 school education; 3-5+ y...           United States   \n",
       "Actuarial Analyst                                   Cedar Rapids, IA 52401   \n",
       "Life Insurance Agent (Remote) - No marketing costs           United States   \n",
       "NaN                                                       Cedar Rapids, IA   \n",
       "NaN                                                          Iowa City, IA   \n",
       "\n",
       "                                                                       salary  \n",
       "job_title                                                                      \n",
       "Data Scientist (Tier-1 school education; 3-5+ y...                        NaN  \n",
       "Actuarial Analyst                                                         NaN  \n",
       "Life Insurance Agent (Remote) - No marketing costs  $50,000 - $125,000 a year  \n",
       "NaN                                                                       NaN  \n",
       "NaN                                                                       NaN  "
      ]
     },
     "execution_count": 600,
     "metadata": {},
     "output_type": "execute_result"
    }
   ],
   "source": [
    "df2 = pd.read_csv('./data/jobs.csv', index_col = 'job_title')\n",
    "df2.head()"
   ]
  },
  {
   "cell_type": "markdown",
   "metadata": {},
   "source": [
    "## Data Preprocessing in Pandas\n",
    "\n",
    "### Here is a brief summary of regular expressions\n",
    "\n",
    "The data to extract will be placed into groups (). For instance, \"() () ()\" extracts three groups\n",
    "\n",
    "* \\w -- any word character\n",
    "* [A-D] -- uppercase A,B,C, and D\n",
    "* \\w* -- one or many word characters\n",
    "* \\w+ -- more than one word character\n",
    "* \\w{5} -- exactly five word characters\n",
    "* [\\w ]{10} -- exactly 10 characters or spaces\n",
    "* [0-9] -- one digit\n",
    "* ,\\s\\*(\\w\\w) -- , zero or more spaces and exactly two characters to extract state: \", IA\""
   ]
  },
  {
   "cell_type": "code",
   "execution_count": 495,
   "metadata": {},
   "outputs": [
    {
     "data": {
      "text/html": [
       "<div>\n",
       "<style>\n",
       "    .dataframe thead tr:only-child th {\n",
       "        text-align: right;\n",
       "    }\n",
       "\n",
       "    .dataframe thead th {\n",
       "        text-align: left;\n",
       "    }\n",
       "\n",
       "    .dataframe tbody tr th {\n",
       "        vertical-align: top;\n",
       "    }\n",
       "</style>\n",
       "<table border=\"1\" class=\"dataframe\">\n",
       "  <thead>\n",
       "    <tr style=\"text-align: right;\">\n",
       "      <th></th>\n",
       "      <th>company</th>\n",
       "      <th>job_desc</th>\n",
       "      <th>job_title</th>\n",
       "      <th>location</th>\n",
       "      <th>salary</th>\n",
       "    </tr>\n",
       "  </thead>\n",
       "  <tbody>\n",
       "    <tr>\n",
       "      <th>0</th>\n",
       "      <td>Novateur Research Solutions, LLC</td>\n",
       "      <td>Novateur Research Solutions is looking for res...</td>\n",
       "      <td>Machine Learning Research Scientist (US Citize...</td>\n",
       "      <td>United States</td>\n",
       "      <td>None</td>\n",
       "    </tr>\n",
       "    <tr>\n",
       "      <th>1</th>\n",
       "      <td>Cedar Rapids</td>\n",
       "      <td>Knowledge of SAS, R, and data visualization so...</td>\n",
       "      <td>Actuarial Analyst</td>\n",
       "      <td>Cedar Rapids, IA 52401</td>\n",
       "      <td>None</td>\n",
       "    </tr>\n",
       "    <tr>\n",
       "      <th>2</th>\n",
       "      <td>ASSURANCE</td>\n",
       "      <td>Our team of engineers, data scientists, market...</td>\n",
       "      <td>Life Insurance Agent (Remote) - Free leads / N...</td>\n",
       "      <td>United States</td>\n",
       "      <td>$50,000 - $125,000 a year</td>\n",
       "    </tr>\n",
       "    <tr>\n",
       "      <th>3</th>\n",
       "      <td>College Raptor</td>\n",
       "      <td>Please send a resume and a cover letter explai...</td>\n",
       "      <td>Data Scientist and Algorithm Engineer</td>\n",
       "      <td>Iowa City, IA</td>\n",
       "      <td>None</td>\n",
       "    </tr>\n",
       "    <tr>\n",
       "      <th>4</th>\n",
       "      <td>United Fire Group</td>\n",
       "      <td>Research, analyze and understand complex regul...</td>\n",
       "      <td>Statistical Reporting Analyst</td>\n",
       "      <td>Cedar Rapids, IA</td>\n",
       "      <td>None</td>\n",
       "    </tr>\n",
       "  </tbody>\n",
       "</table>\n",
       "</div>"
      ],
      "text/plain": [
       "                            company  \\\n",
       "0  Novateur Research Solutions, LLC   \n",
       "1                      Cedar Rapids   \n",
       "2                         ASSURANCE   \n",
       "3                    College Raptor   \n",
       "4                 United Fire Group   \n",
       "\n",
       "                                            job_desc  \\\n",
       "0  Novateur Research Solutions is looking for res...   \n",
       "1  Knowledge of SAS, R, and data visualization so...   \n",
       "2  Our team of engineers, data scientists, market...   \n",
       "3  Please send a resume and a cover letter explai...   \n",
       "4  Research, analyze and understand complex regul...   \n",
       "\n",
       "                                           job_title                location  \\\n",
       "0  Machine Learning Research Scientist (US Citize...           United States   \n",
       "1                                  Actuarial Analyst  Cedar Rapids, IA 52401   \n",
       "2  Life Insurance Agent (Remote) - Free leads / N...           United States   \n",
       "3              Data Scientist and Algorithm Engineer           Iowa City, IA   \n",
       "4                      Statistical Reporting Analyst        Cedar Rapids, IA   \n",
       "\n",
       "                      salary  \n",
       "0                       None  \n",
       "1                       None  \n",
       "2  $50,000 - $125,000 a year  \n",
       "3                       None  \n",
       "4                       None  "
      ]
     },
     "execution_count": 495,
     "metadata": {},
     "output_type": "execute_result"
    }
   ],
   "source": [
    "df.head()"
   ]
  },
  {
   "cell_type": "code",
   "execution_count": null,
   "metadata": {
    "collapsed": true
   },
   "outputs": [],
   "source": [
    "zip_code = df['location'].str.extract('([0-9]{5})')\n",
    "zip_code"
   ]
  },
  {
   "cell_type": "code",
   "execution_count": null,
   "metadata": {
    "collapsed": true
   },
   "outputs": [],
   "source": [
    "state = df['location'].str.extract(', ([A-Z]{2})')\n",
    "state"
   ]
  },
  {
   "cell_type": "code",
   "execution_count": null,
   "metadata": {
    "collapsed": true
   },
   "outputs": [],
   "source": [
    "town = df['location'].str.extract('([\\w ]+),')\n",
    "town"
   ]
  },
  {
   "cell_type": "code",
   "execution_count": null,
   "metadata": {
    "collapsed": true
   },
   "outputs": [],
   "source": [
    "df['salary'].str.extract('(\\$\\d+,\\d+) - (\\$\\d+,\\d+) ([\\w ]+)')"
   ]
  }
 ],
 "metadata": {
  "kernelspec": {
   "display_name": "Python 3",
   "language": "python",
   "name": "python3"
  },
  "language_info": {
   "codemirror_mode": {
    "name": "ipython",
    "version": 3
   },
   "file_extension": ".py",
   "mimetype": "text/x-python",
   "name": "python",
   "nbconvert_exporter": "python",
   "pygments_lexer": "ipython3",
   "version": "3.7.3"
  }
 },
 "nbformat": 4,
 "nbformat_minor": 2
}
