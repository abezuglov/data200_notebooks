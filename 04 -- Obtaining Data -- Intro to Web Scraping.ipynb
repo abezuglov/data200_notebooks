{
 "cells": [
  {
   "cell_type": "markdown",
   "metadata": {},
   "source": [
    "# Obtaining Data -- Intro to Web Scraping\n",
    "## Pandas DataFrame"
   ]
  },
  {
   "cell_type": "markdown",
   "metadata": {},
   "source": [
    "We will be using Python lists and dictionaries. If you do not remember these, please refresh.\n",
    "\n",
    "Let us make a list of dictionaries that stores the rows of the following table:\n",
    "\n",
    "| Fruit | Amount | Calories |\n",
    "| --------\n",
    "| Bananas | 1 medium | 105 |\n",
    "| Blackberries | 100 berries | 100 |\n",
    "| Blueberries | 125 berries | 97 |\n",
    "\n",
    "\n",
    "```python\n",
    "l = [{'Fruit':'Bananas','Amount':'1 medium','Calories':105},...]\n",
    "```"
   ]
  },
  {
   "cell_type": "code",
   "execution_count": 178,
   "metadata": {},
   "outputs": [
    {
     "data": {
      "text/plain": [
       "[{'Amount': '1 medium', 'Calories': 105, 'Fruit': 'Bananas'},\n",
       " {'Amount': '100 berries', 'Calories': 100, 'Fruit': 'Blackberries'},\n",
       " {'Amount': '125 berries', 'Calories': 97, 'Fruit': 'Blueberries'},\n",
       " {'Amount': '1 thing', 'Calories': 200, 'Fruit': 'Pineapple'}]"
      ]
     },
     "execution_count": 178,
     "metadata": {},
     "output_type": "execute_result"
    }
   ],
   "source": [
    "# l is a list of dictionaries that represents our table\n",
    "l = [\n",
    "    {'Fruit':'Bananas','Amount':'1 medium','Calories':105}\n",
    "    ,{'Fruit':'Blackberries','Amount':'100 berries','Calories':100}\n",
    "    ,{'Fruit':'Blueberries','Amount':'125 berries','Calories':97}\n",
    "    ,{'Fruit':'Pineapple','Amount':'1 thing','Calories':200}\n",
    "    ]\n",
    "l"
   ]
  },
  {
   "cell_type": "markdown",
   "metadata": {},
   "source": [
    "### Creating a DataFrame from a list of dictionaries:"
   ]
  },
  {
   "cell_type": "code",
   "execution_count": 186,
   "metadata": {},
   "outputs": [
    {
     "data": {
      "text/html": [
       "<div>\n",
       "<style>\n",
       "    .dataframe thead tr:only-child th {\n",
       "        text-align: right;\n",
       "    }\n",
       "\n",
       "    .dataframe thead th {\n",
       "        text-align: left;\n",
       "    }\n",
       "\n",
       "    .dataframe tbody tr th {\n",
       "        vertical-align: top;\n",
       "    }\n",
       "</style>\n",
       "<table border=\"1\" class=\"dataframe\">\n",
       "  <thead>\n",
       "    <tr style=\"text-align: right;\">\n",
       "      <th></th>\n",
       "      <th>Amount</th>\n",
       "      <th>Calories</th>\n",
       "      <th>Fruit</th>\n",
       "    </tr>\n",
       "  </thead>\n",
       "  <tbody>\n",
       "    <tr>\n",
       "      <th>0</th>\n",
       "      <td>1 medium</td>\n",
       "      <td>105</td>\n",
       "      <td>Bananas</td>\n",
       "    </tr>\n",
       "    <tr>\n",
       "      <th>1</th>\n",
       "      <td>100 berries</td>\n",
       "      <td>100</td>\n",
       "      <td>Blackberries</td>\n",
       "    </tr>\n",
       "    <tr>\n",
       "      <th>2</th>\n",
       "      <td>125 berries</td>\n",
       "      <td>97</td>\n",
       "      <td>Blueberries</td>\n",
       "    </tr>\n",
       "    <tr>\n",
       "      <th>3</th>\n",
       "      <td>1 thing</td>\n",
       "      <td>200</td>\n",
       "      <td>Pineapple</td>\n",
       "    </tr>\n",
       "  </tbody>\n",
       "</table>\n",
       "</div>"
      ],
      "text/plain": [
       "        Amount  Calories         Fruit\n",
       "0     1 medium       105       Bananas\n",
       "1  100 berries       100  Blackberries\n",
       "2  125 berries        97   Blueberries\n",
       "3      1 thing       200     Pineapple"
      ]
     },
     "execution_count": 186,
     "metadata": {},
     "output_type": "execute_result"
    }
   ],
   "source": [
    "# Create a DataFrame to \n",
    "import pandas as pd\n",
    "\n",
    "df = pd.DataFrame(l)\n",
    "df"
   ]
  },
  {
   "cell_type": "code",
   "execution_count": 187,
   "metadata": {},
   "outputs": [
    {
     "data": {
      "text/html": [
       "<div>\n",
       "<style>\n",
       "    .dataframe thead tr:only-child th {\n",
       "        text-align: right;\n",
       "    }\n",
       "\n",
       "    .dataframe thead th {\n",
       "        text-align: left;\n",
       "    }\n",
       "\n",
       "    .dataframe tbody tr th {\n",
       "        vertical-align: top;\n",
       "    }\n",
       "</style>\n",
       "<table border=\"1\" class=\"dataframe\">\n",
       "  <thead>\n",
       "    <tr style=\"text-align: right;\">\n",
       "      <th></th>\n",
       "      <th>Amount</th>\n",
       "      <th>Calories</th>\n",
       "    </tr>\n",
       "    <tr>\n",
       "      <th>Fruit</th>\n",
       "      <th></th>\n",
       "      <th></th>\n",
       "    </tr>\n",
       "  </thead>\n",
       "  <tbody>\n",
       "    <tr>\n",
       "      <th>Bananas</th>\n",
       "      <td>1 medium</td>\n",
       "      <td>105</td>\n",
       "    </tr>\n",
       "    <tr>\n",
       "      <th>Blackberries</th>\n",
       "      <td>100 berries</td>\n",
       "      <td>100</td>\n",
       "    </tr>\n",
       "    <tr>\n",
       "      <th>Blueberries</th>\n",
       "      <td>125 berries</td>\n",
       "      <td>97</td>\n",
       "    </tr>\n",
       "    <tr>\n",
       "      <th>Pineapple</th>\n",
       "      <td>1 thing</td>\n",
       "      <td>200</td>\n",
       "    </tr>\n",
       "  </tbody>\n",
       "</table>\n",
       "</div>"
      ],
      "text/plain": [
       "                   Amount  Calories\n",
       "Fruit                              \n",
       "Bananas          1 medium       105\n",
       "Blackberries  100 berries       100\n",
       "Blueberries   125 berries        97\n",
       "Pineapple         1 thing       200"
      ]
     },
     "execution_count": 187,
     "metadata": {},
     "output_type": "execute_result"
    }
   ],
   "source": [
    "# let us remove the first column (index)\n",
    "df.set_index('Fruit')"
   ]
  },
  {
   "cell_type": "markdown",
   "metadata": {},
   "source": [
    "### Convert Pandas DataFrame to NumPy array:"
   ]
  },
  {
   "cell_type": "code",
   "execution_count": 188,
   "metadata": {},
   "outputs": [
    {
     "data": {
      "text/plain": [
       "array([['1 medium', 105, 'Bananas'],\n",
       "       ['100 berries', 100, 'Blackberries'],\n",
       "       ['125 berries', 97, 'Blueberries'],\n",
       "       ['1 thing', 200, 'Pineapple']], dtype=object)"
      ]
     },
     "execution_count": 188,
     "metadata": {},
     "output_type": "execute_result"
    }
   ],
   "source": [
    "import numpy as np\n",
    "\n",
    "arr = np.asarray(df)\n",
    "arr # Note that the column names are lost"
   ]
  },
  {
   "cell_type": "code",
   "execution_count": 189,
   "metadata": {},
   "outputs": [
    {
     "data": {
      "text/plain": [
       "dtype('O')"
      ]
     },
     "execution_count": 189,
     "metadata": {},
     "output_type": "execute_result"
    }
   ],
   "source": [
    "arr.dtype # the type of data is 'O', these are Python objects"
   ]
  },
  {
   "cell_type": "code",
   "execution_count": 190,
   "metadata": {},
   "outputs": [
    {
     "data": {
      "text/plain": [
       "(8, 32)"
      ]
     },
     "execution_count": 190,
     "metadata": {},
     "output_type": "execute_result"
    }
   ],
   "source": [
    "arr.strides # 8 bytes per object"
   ]
  },
  {
   "cell_type": "code",
   "execution_count": 191,
   "metadata": {},
   "outputs": [
    {
     "data": {
      "text/plain": [
       "96"
      ]
     },
     "execution_count": 191,
     "metadata": {},
     "output_type": "execute_result"
    }
   ],
   "source": [
    "arr.nbytes # the total size is 96 bytes (12 objects * 8 bytes)"
   ]
  },
  {
   "cell_type": "code",
   "execution_count": 197,
   "metadata": {},
   "outputs": [
    {
     "data": {
      "text/plain": [
       "array([['1 ', '10', 'Ba'],\n",
       "       ['10', '10', 'Bl'],\n",
       "       ['12', '97', 'Bl'],\n",
       "       ['1 ', '20', 'Pi']],\n",
       "      dtype='<U2')"
      ]
     },
     "execution_count": 197,
     "metadata": {},
     "output_type": "execute_result"
    }
   ],
   "source": [
    "# Let's convert these to native NumPy data fields, for instance a Unicode string:\n",
    "arr.astype('U2') # Unicode string, up to 30 chars long"
   ]
  },
  {
   "cell_type": "code",
   "execution_count": 198,
   "metadata": {},
   "outputs": [
    {
     "data": {
      "text/plain": [
       "96"
      ]
     },
     "execution_count": 198,
     "metadata": {},
     "output_type": "execute_result"
    }
   ],
   "source": [
    "arr.astype('U2').nbytes"
   ]
  },
  {
   "cell_type": "markdown",
   "metadata": {},
   "source": [
    "### Convert NumPy array to Pandas DataFrame"
   ]
  },
  {
   "cell_type": "code",
   "execution_count": 202,
   "metadata": {},
   "outputs": [
    {
     "data": {
      "text/html": [
       "<div>\n",
       "<style>\n",
       "    .dataframe thead tr:only-child th {\n",
       "        text-align: right;\n",
       "    }\n",
       "\n",
       "    .dataframe thead th {\n",
       "        text-align: left;\n",
       "    }\n",
       "\n",
       "    .dataframe tbody tr th {\n",
       "        vertical-align: top;\n",
       "    }\n",
       "</style>\n",
       "<table border=\"1\" class=\"dataframe\">\n",
       "  <thead>\n",
       "    <tr style=\"text-align: right;\">\n",
       "      <th></th>\n",
       "      <th>0</th>\n",
       "      <th>1</th>\n",
       "    </tr>\n",
       "  </thead>\n",
       "  <tbody>\n",
       "    <tr>\n",
       "      <th>0</th>\n",
       "      <td>1</td>\n",
       "      <td>1</td>\n",
       "    </tr>\n",
       "    <tr>\n",
       "      <th>1</th>\n",
       "      <td>1</td>\n",
       "      <td>1</td>\n",
       "    </tr>\n",
       "    <tr>\n",
       "      <th>2</th>\n",
       "      <td>1</td>\n",
       "      <td>0</td>\n",
       "    </tr>\n",
       "    <tr>\n",
       "      <th>3</th>\n",
       "      <td>0</td>\n",
       "      <td>0</td>\n",
       "    </tr>\n",
       "    <tr>\n",
       "      <th>4</th>\n",
       "      <td>0</td>\n",
       "      <td>1</td>\n",
       "    </tr>\n",
       "    <tr>\n",
       "      <th>5</th>\n",
       "      <td>0</td>\n",
       "      <td>0</td>\n",
       "    </tr>\n",
       "    <tr>\n",
       "      <th>6</th>\n",
       "      <td>0</td>\n",
       "      <td>1</td>\n",
       "    </tr>\n",
       "    <tr>\n",
       "      <th>7</th>\n",
       "      <td>1</td>\n",
       "      <td>1</td>\n",
       "    </tr>\n",
       "  </tbody>\n",
       "</table>\n",
       "</div>"
      ],
      "text/plain": [
       "   0  1\n",
       "0  1  1\n",
       "1  1  1\n",
       "2  1  0\n",
       "3  0  0\n",
       "4  0  1\n",
       "5  0  0\n",
       "6  0  1\n",
       "7  1  1"
      ]
     },
     "execution_count": 202,
     "metadata": {},
     "output_type": "execute_result"
    }
   ],
   "source": [
    "two_walks = np.random.randint(0,2,[100,2])\n",
    "df = pd.DataFrame(two_walks)\n",
    "df.head(8) # show only the first x rows of the dataframe"
   ]
  },
  {
   "cell_type": "code",
   "execution_count": 203,
   "metadata": {},
   "outputs": [
    {
     "data": {
      "text/plain": [
       "(100, 2)"
      ]
     },
     "execution_count": 203,
     "metadata": {},
     "output_type": "execute_result"
    }
   ],
   "source": [
    "df.shape"
   ]
  },
  {
   "cell_type": "code",
   "execution_count": 209,
   "metadata": {},
   "outputs": [
    {
     "data": {
      "text/html": [
       "<div>\n",
       "<style>\n",
       "    .dataframe thead tr:only-child th {\n",
       "        text-align: right;\n",
       "    }\n",
       "\n",
       "    .dataframe thead th {\n",
       "        text-align: left;\n",
       "    }\n",
       "\n",
       "    .dataframe tbody tr th {\n",
       "        vertical-align: top;\n",
       "    }\n",
       "</style>\n",
       "<table border=\"1\" class=\"dataframe\">\n",
       "  <thead>\n",
       "    <tr style=\"text-align: right;\">\n",
       "      <th></th>\n",
       "      <th>walk1</th>\n",
       "      <th>walk2</th>\n",
       "      <th>walk3</th>\n",
       "      <th>walk4</th>\n",
       "      <th>walk5</th>\n",
       "      <th>walk6</th>\n",
       "      <th>walk7</th>\n",
       "      <th>walk8</th>\n",
       "      <th>walk9</th>\n",
       "      <th>walk10</th>\n",
       "      <th>...</th>\n",
       "      <th>walk91</th>\n",
       "      <th>walk92</th>\n",
       "      <th>walk93</th>\n",
       "      <th>walk94</th>\n",
       "      <th>walk95</th>\n",
       "      <th>walk96</th>\n",
       "      <th>walk97</th>\n",
       "      <th>walk98</th>\n",
       "      <th>walk99</th>\n",
       "      <th>walk100</th>\n",
       "    </tr>\n",
       "  </thead>\n",
       "  <tbody>\n",
       "    <tr>\n",
       "      <th>0</th>\n",
       "      <td>0</td>\n",
       "      <td>0</td>\n",
       "      <td>1</td>\n",
       "      <td>1</td>\n",
       "      <td>0</td>\n",
       "      <td>1</td>\n",
       "      <td>0</td>\n",
       "      <td>1</td>\n",
       "      <td>1</td>\n",
       "      <td>1</td>\n",
       "      <td>...</td>\n",
       "      <td>1</td>\n",
       "      <td>1</td>\n",
       "      <td>0</td>\n",
       "      <td>0</td>\n",
       "      <td>1</td>\n",
       "      <td>1</td>\n",
       "      <td>1</td>\n",
       "      <td>1</td>\n",
       "      <td>1</td>\n",
       "      <td>0</td>\n",
       "    </tr>\n",
       "    <tr>\n",
       "      <th>1</th>\n",
       "      <td>0</td>\n",
       "      <td>1</td>\n",
       "      <td>1</td>\n",
       "      <td>0</td>\n",
       "      <td>0</td>\n",
       "      <td>0</td>\n",
       "      <td>1</td>\n",
       "      <td>0</td>\n",
       "      <td>1</td>\n",
       "      <td>0</td>\n",
       "      <td>...</td>\n",
       "      <td>0</td>\n",
       "      <td>0</td>\n",
       "      <td>0</td>\n",
       "      <td>1</td>\n",
       "      <td>0</td>\n",
       "      <td>0</td>\n",
       "      <td>0</td>\n",
       "      <td>1</td>\n",
       "      <td>0</td>\n",
       "      <td>1</td>\n",
       "    </tr>\n",
       "    <tr>\n",
       "      <th>2</th>\n",
       "      <td>0</td>\n",
       "      <td>0</td>\n",
       "      <td>0</td>\n",
       "      <td>1</td>\n",
       "      <td>1</td>\n",
       "      <td>1</td>\n",
       "      <td>1</td>\n",
       "      <td>0</td>\n",
       "      <td>1</td>\n",
       "      <td>0</td>\n",
       "      <td>...</td>\n",
       "      <td>0</td>\n",
       "      <td>0</td>\n",
       "      <td>0</td>\n",
       "      <td>1</td>\n",
       "      <td>1</td>\n",
       "      <td>1</td>\n",
       "      <td>1</td>\n",
       "      <td>0</td>\n",
       "      <td>1</td>\n",
       "      <td>0</td>\n",
       "    </tr>\n",
       "    <tr>\n",
       "      <th>3</th>\n",
       "      <td>1</td>\n",
       "      <td>0</td>\n",
       "      <td>1</td>\n",
       "      <td>1</td>\n",
       "      <td>0</td>\n",
       "      <td>0</td>\n",
       "      <td>0</td>\n",
       "      <td>0</td>\n",
       "      <td>1</td>\n",
       "      <td>0</td>\n",
       "      <td>...</td>\n",
       "      <td>0</td>\n",
       "      <td>1</td>\n",
       "      <td>1</td>\n",
       "      <td>1</td>\n",
       "      <td>0</td>\n",
       "      <td>1</td>\n",
       "      <td>1</td>\n",
       "      <td>0</td>\n",
       "      <td>0</td>\n",
       "      <td>1</td>\n",
       "    </tr>\n",
       "    <tr>\n",
       "      <th>4</th>\n",
       "      <td>1</td>\n",
       "      <td>0</td>\n",
       "      <td>0</td>\n",
       "      <td>1</td>\n",
       "      <td>0</td>\n",
       "      <td>0</td>\n",
       "      <td>0</td>\n",
       "      <td>0</td>\n",
       "      <td>0</td>\n",
       "      <td>1</td>\n",
       "      <td>...</td>\n",
       "      <td>1</td>\n",
       "      <td>1</td>\n",
       "      <td>0</td>\n",
       "      <td>1</td>\n",
       "      <td>0</td>\n",
       "      <td>0</td>\n",
       "      <td>1</td>\n",
       "      <td>1</td>\n",
       "      <td>1</td>\n",
       "      <td>0</td>\n",
       "    </tr>\n",
       "  </tbody>\n",
       "</table>\n",
       "<p>5 rows × 100 columns</p>\n",
       "</div>"
      ],
      "text/plain": [
       "   walk1  walk2  walk3  walk4  walk5  walk6  walk7  walk8  walk9  walk10  \\\n",
       "0      0      0      1      1      0      1      0      1      1       1   \n",
       "1      0      1      1      0      0      0      1      0      1       0   \n",
       "2      0      0      0      1      1      1      1      0      1       0   \n",
       "3      1      0      1      1      0      0      0      0      1       0   \n",
       "4      1      0      0      1      0      0      0      0      0       1   \n",
       "\n",
       "    ...     walk91  walk92  walk93  walk94  walk95  walk96  walk97  walk98  \\\n",
       "0   ...          1       1       0       0       1       1       1       1   \n",
       "1   ...          0       0       0       1       0       0       0       1   \n",
       "2   ...          0       0       0       1       1       1       1       0   \n",
       "3   ...          0       1       1       1       0       1       1       0   \n",
       "4   ...          1       1       0       1       0       0       1       1   \n",
       "\n",
       "   walk99  walk100  \n",
       "0       1        0  \n",
       "1       0        1  \n",
       "2       1        0  \n",
       "3       0        1  \n",
       "4       1        0  \n",
       "\n",
       "[5 rows x 100 columns]"
      ]
     },
     "execution_count": 209,
     "metadata": {},
     "output_type": "execute_result"
    }
   ],
   "source": [
    "# Let us add the column names:\n",
    "col_names = ['walk'+str(x+1) for x in range(100)]\n",
    "df = pd.DataFrame(np.random.randint(0,2,[100,100]), columns = col_names)\n",
    "df.head()"
   ]
  },
  {
   "cell_type": "code",
   "execution_count": 210,
   "metadata": {},
   "outputs": [
    {
     "data": {
      "text/plain": [
       "(100, 100)"
      ]
     },
     "execution_count": 210,
     "metadata": {},
     "output_type": "execute_result"
    }
   ],
   "source": [
    "df.shape"
   ]
  },
  {
   "cell_type": "markdown",
   "metadata": {},
   "source": [
    "### Convert a Dictionary of Lists to Pandas DataFrame"
   ]
  },
  {
   "cell_type": "code",
   "execution_count": 59,
   "metadata": {},
   "outputs": [
    {
     "data": {
      "text/html": [
       "<div>\n",
       "<style>\n",
       "    .dataframe thead tr:only-child th {\n",
       "        text-align: right;\n",
       "    }\n",
       "\n",
       "    .dataframe thead th {\n",
       "        text-align: left;\n",
       "    }\n",
       "\n",
       "    .dataframe tbody tr th {\n",
       "        vertical-align: top;\n",
       "    }\n",
       "</style>\n",
       "<table border=\"1\" class=\"dataframe\">\n",
       "  <thead>\n",
       "    <tr style=\"text-align: right;\">\n",
       "      <th></th>\n",
       "      <th>walk1</th>\n",
       "      <th>walk2</th>\n",
       "    </tr>\n",
       "  </thead>\n",
       "  <tbody>\n",
       "    <tr>\n",
       "      <th>0</th>\n",
       "      <td>0</td>\n",
       "      <td>0</td>\n",
       "    </tr>\n",
       "    <tr>\n",
       "      <th>1</th>\n",
       "      <td>1</td>\n",
       "      <td>0</td>\n",
       "    </tr>\n",
       "    <tr>\n",
       "      <th>2</th>\n",
       "      <td>1</td>\n",
       "      <td>1</td>\n",
       "    </tr>\n",
       "    <tr>\n",
       "      <th>3</th>\n",
       "      <td>1</td>\n",
       "      <td>1</td>\n",
       "    </tr>\n",
       "    <tr>\n",
       "      <th>4</th>\n",
       "      <td>1</td>\n",
       "      <td>1</td>\n",
       "    </tr>\n",
       "  </tbody>\n",
       "</table>\n",
       "</div>"
      ],
      "text/plain": [
       "   walk1  walk2\n",
       "0      0      0\n",
       "1      1      0\n",
       "2      1      1\n",
       "3      1      1\n",
       "4      1      1"
      ]
     },
     "execution_count": 59,
     "metadata": {},
     "output_type": "execute_result"
    }
   ],
   "source": [
    "walk1 = np.random.randint(0,2,100)\n",
    "walk2 = np.random.randint(0,2,100)\n",
    "random_walks = {'walk1':walk1, 'walk2':walk2}\n",
    "df = pd.DataFrame(random_walks)\n",
    "df.head()"
   ]
  },
  {
   "cell_type": "code",
   "execution_count": 25,
   "metadata": {},
   "outputs": [
    {
     "data": {
      "text/html": [
       "<div>\n",
       "<style>\n",
       "    .dataframe thead tr:only-child th {\n",
       "        text-align: right;\n",
       "    }\n",
       "\n",
       "    .dataframe thead th {\n",
       "        text-align: left;\n",
       "    }\n",
       "\n",
       "    .dataframe tbody tr th {\n",
       "        vertical-align: top;\n",
       "    }\n",
       "</style>\n",
       "<table border=\"1\" class=\"dataframe\">\n",
       "  <thead>\n",
       "    <tr style=\"text-align: right;\">\n",
       "      <th></th>\n",
       "      <th>Amount</th>\n",
       "      <th>Calories</th>\n",
       "    </tr>\n",
       "    <tr>\n",
       "      <th>Fruit</th>\n",
       "      <th></th>\n",
       "      <th></th>\n",
       "    </tr>\n",
       "  </thead>\n",
       "  <tbody>\n",
       "    <tr>\n",
       "      <th>Bananas</th>\n",
       "      <td>1 medium</td>\n",
       "      <td>105</td>\n",
       "    </tr>\n",
       "    <tr>\n",
       "      <th>Blackberries</th>\n",
       "      <td>100 berries</td>\n",
       "      <td>100</td>\n",
       "    </tr>\n",
       "  </tbody>\n",
       "</table>\n",
       "</div>"
      ],
      "text/plain": [
       "                   Amount Calories\n",
       "Fruit                             \n",
       "Bananas          1 medium      105\n",
       "Blackberries  100 berries      100"
      ]
     },
     "execution_count": 25,
     "metadata": {},
     "output_type": "execute_result"
    }
   ],
   "source": [
    "df2 = pd.DataFrame(arr, columns = ['Amount','Calories','Fruit']).set_index('Fruit')\n",
    "df2"
   ]
  },
  {
   "cell_type": "markdown",
   "metadata": {},
   "source": [
    "In summary:\n",
    "\n",
    "* We will store and operate with data using Pandas DataFrames (and NumPy arrays for the modeling)\n",
    "* DataFrame can be created from:\n",
    "    * list of dictionaries\n",
    "    * dictionary of lists\n",
    "    * ndarray"
   ]
  },
  {
   "cell_type": "markdown",
   "metadata": {},
   "source": [
    "## Web Scraping\n",
    "### Requests Library -- pull data"
   ]
  },
  {
   "cell_type": "code",
   "execution_count": 61,
   "metadata": {
    "collapsed": true
   },
   "outputs": [],
   "source": [
    "import requests"
   ]
  },
  {
   "cell_type": "code",
   "execution_count": 62,
   "metadata": {},
   "outputs": [
    {
     "data": {
      "text/plain": [
       "<Response [200]>"
      ]
     },
     "execution_count": 62,
     "metadata": {},
     "output_type": "execute_result"
    }
   ],
   "source": [
    "# get a resource:\n",
    "requests.get(\"http://www.bvu.edu\")"
   ]
  },
  {
   "cell_type": "code",
   "execution_count": 64,
   "metadata": {},
   "outputs": [
    {
     "data": {
      "text/plain": [
       "requests.models.Response"
      ]
     },
     "execution_count": 64,
     "metadata": {},
     "output_type": "execute_result"
    }
   ],
   "source": [
    "p = requests.get(\"http://www.bvu.edu\")\n",
    "type(p)"
   ]
  },
  {
   "cell_type": "code",
   "execution_count": null,
   "metadata": {
    "collapsed": true
   },
   "outputs": [],
   "source": [
    "p.content"
   ]
  },
  {
   "cell_type": "code",
   "execution_count": 211,
   "metadata": {},
   "outputs": [
    {
     "name": "stdout",
     "output_type": "stream",
     "text": [
      "b'<!DOCTYPE html>\\n<html>\\n    <head>\\n        <title>A simple example page</title>\\n    </head>\\n    <body>\\n        <p>Here is some simple content for this page.</p>\\n    </body>\\n</html>'\n"
     ]
    }
   ],
   "source": [
    "# Another simple page:\n",
    "p = requests.get(\"http://dataquestio.github.io/web-scraping-pages/simple.html\")\n",
    "print(p.content)"
   ]
  },
  {
   "cell_type": "markdown",
   "metadata": {},
   "source": [
    "### BeautifulSoup -- parse HTML"
   ]
  },
  {
   "cell_type": "code",
   "execution_count": 212,
   "metadata": {
    "collapsed": true
   },
   "outputs": [],
   "source": [
    "from bs4 import BeautifulSoup"
   ]
  },
  {
   "cell_type": "code",
   "execution_count": 213,
   "metadata": {},
   "outputs": [
    {
     "name": "stdout",
     "output_type": "stream",
     "text": [
      "<!DOCTYPE html>\n",
      "<html>\n",
      " <head>\n",
      "  <title>\n",
      "   A simple example page\n",
      "  </title>\n",
      " </head>\n",
      " <body>\n",
      "  <p>\n",
      "   Here is some simple content for this page.\n",
      "  </p>\n",
      " </body>\n",
      "</html>\n"
     ]
    }
   ],
   "source": [
    "b = BeautifulSoup(p.content, \"html.parser\") # create the object\n",
    "print(b.prettify()) # nice formatting"
   ]
  },
  {
   "cell_type": "markdown",
   "metadata": {},
   "source": [
    "## Using BeautifulSoup\n",
    "\n",
    "### Cheatsheet\n",
    "```python\n",
    "b = BeautifulSoup(p.content, \"html.parser\")\n",
    "```\n",
    "| Method/property | Description |\n",
    "| ---| --- |\n",
    "| b.children | Iterator to children |\n",
    "| b.find_all(class = '...') | Iterator to classes with name '...' |\n",
    "| b.find_all(id = '...') | Iterator to id '...' |\n",
    "\n",
    "\n",
    "### Children"
   ]
  },
  {
   "cell_type": "code",
   "execution_count": 214,
   "metadata": {},
   "outputs": [
    {
     "data": {
      "text/plain": [
       "<list_iterator at 0x7fee68104780>"
      ]
     },
     "execution_count": 214,
     "metadata": {},
     "output_type": "execute_result"
    }
   ],
   "source": [
    "b.children"
   ]
  },
  {
   "cell_type": "code",
   "execution_count": 215,
   "metadata": {},
   "outputs": [
    {
     "name": "stdout",
     "output_type": "stream",
     "text": [
      "html\n",
      "\n",
      "\n",
      "<html>\n",
      "<head>\n",
      "<title>A simple example page</title>\n",
      "</head>\n",
      "<body>\n",
      "<p>Here is some simple content for this page.</p>\n",
      "</body>\n",
      "</html>\n"
     ]
    }
   ],
   "source": [
    "for c in b.children:\n",
    "    print(c)"
   ]
  },
  {
   "cell_type": "code",
   "execution_count": 216,
   "metadata": {},
   "outputs": [
    {
     "data": {
      "text/plain": [
       "3"
      ]
     },
     "execution_count": 216,
     "metadata": {},
     "output_type": "execute_result"
    }
   ],
   "source": [
    "len(list(b.children)) # there are three items in the list"
   ]
  },
  {
   "cell_type": "code",
   "execution_count": 220,
   "metadata": {},
   "outputs": [
    {
     "data": {
      "text/plain": [
       "'html'"
      ]
     },
     "execution_count": 220,
     "metadata": {},
     "output_type": "execute_result"
    }
   ],
   "source": [
    "l = list(b.children)\n",
    "l[0] # explore what they are"
   ]
  },
  {
   "cell_type": "code",
   "execution_count": 221,
   "metadata": {},
   "outputs": [
    {
     "data": {
      "text/plain": [
       "<html>\n",
       "<head>\n",
       "<title>A simple example page</title>\n",
       "</head>\n",
       "<body>\n",
       "<p>Here is some simple content for this page.</p>\n",
       "</body>\n",
       "</html>"
      ]
     },
     "execution_count": 221,
     "metadata": {},
     "output_type": "execute_result"
    }
   ],
   "source": [
    "# Print children of l[2]\n",
    "l[2]"
   ]
  },
  {
   "cell_type": "code",
   "execution_count": 222,
   "metadata": {},
   "outputs": [
    {
     "data": {
      "text/plain": [
       "['\\n', <head>\n",
       " <title>A simple example page</title>\n",
       " </head>, '\\n', <body>\n",
       " <p>Here is some simple content for this page.</p>\n",
       " </body>, '\\n']"
      ]
     },
     "execution_count": 222,
     "metadata": {},
     "output_type": "execute_result"
    }
   ],
   "source": [
    "l2 = list(l[2].children)\n",
    "l2"
   ]
  },
  {
   "cell_type": "code",
   "execution_count": 223,
   "metadata": {},
   "outputs": [
    {
     "data": {
      "text/plain": [
       "<body>\n",
       "<p>Here is some simple content for this page.</p>\n",
       "</body>"
      ]
     },
     "execution_count": 223,
     "metadata": {},
     "output_type": "execute_result"
    }
   ],
   "source": [
    "l2[3]"
   ]
  },
  {
   "cell_type": "markdown",
   "metadata": {},
   "source": [
    "We can use children to go as deep in HTML as needed.\n",
    "\n",
    "### Find"
   ]
  },
  {
   "cell_type": "code",
   "execution_count": 224,
   "metadata": {},
   "outputs": [
    {
     "data": {
      "text/plain": [
       "<html>\n",
       "<head>\n",
       "<title>A simple example page</title>\n",
       "</head>\n",
       "<body>\n",
       "<p>Here is some simple content for this page.</p>\n",
       "</body>\n",
       "</html>"
      ]
     },
     "execution_count": 224,
     "metadata": {},
     "output_type": "execute_result"
    }
   ],
   "source": [
    "l[2]"
   ]
  },
  {
   "cell_type": "code",
   "execution_count": 225,
   "metadata": {},
   "outputs": [
    {
     "data": {
      "text/plain": [
       "<title>A simple example page</title>"
      ]
     },
     "execution_count": 225,
     "metadata": {},
     "output_type": "execute_result"
    }
   ],
   "source": [
    "l[2].find('title')"
   ]
  },
  {
   "cell_type": "code",
   "execution_count": 112,
   "metadata": {},
   "outputs": [
    {
     "data": {
      "text/plain": [
       "<head>\n",
       "<title>A simple example page</title>\n",
       "</head>"
      ]
     },
     "execution_count": 112,
     "metadata": {},
     "output_type": "execute_result"
    }
   ],
   "source": [
    "# try searching for 'head', 'body', and 'p'\n",
    "l[2].find(...)"
   ]
  },
  {
   "cell_type": "markdown",
   "metadata": {},
   "source": [
    "### Text"
   ]
  },
  {
   "cell_type": "code",
   "execution_count": 116,
   "metadata": {},
   "outputs": [
    {
     "data": {
      "text/plain": [
       "'\\nA simple example page\\n'"
      ]
     },
     "execution_count": 116,
     "metadata": {},
     "output_type": "execute_result"
    }
   ],
   "source": [
    "# once you found what you need, use text to get the text:\n",
    "l[2].find('head').text"
   ]
  },
  {
   "cell_type": "code",
   "execution_count": 118,
   "metadata": {},
   "outputs": [
    {
     "data": {
      "text/plain": [
       "'A simple example page'"
      ]
     },
     "execution_count": 118,
     "metadata": {},
     "output_type": "execute_result"
    }
   ],
   "source": [
    "# strip optionally\n",
    "l[2].find('head').text.strip()"
   ]
  },
  {
   "cell_type": "code",
   "execution_count": 120,
   "metadata": {
    "collapsed": true
   },
   "outputs": [],
   "source": [
    "# What happens if you call text on l[2], i.e. the complete HTML page?"
   ]
  },
  {
   "cell_type": "markdown",
   "metadata": {},
   "source": [
    "### Another web page"
   ]
  },
  {
   "cell_type": "code",
   "execution_count": 226,
   "metadata": {},
   "outputs": [
    {
     "name": "stdout",
     "output_type": "stream",
     "text": [
      "<html>\n",
      " <head>\n",
      "  <title>\n",
      "   A simple example page\n",
      "  </title>\n",
      " </head>\n",
      " <body>\n",
      "  <div>\n",
      "   <p class=\"inner-text first-item\" id=\"first\">\n",
      "    First paragraph.\n",
      "   </p>\n",
      "   <p class=\"inner-text\">\n",
      "    Second paragraph.\n",
      "   </p>\n",
      "  </div>\n",
      "  <p class=\"outer-text first-item\" id=\"second\">\n",
      "   <b>\n",
      "    First outer paragraph.\n",
      "   </b>\n",
      "  </p>\n",
      "  <p class=\"outer-text\">\n",
      "   <b>\n",
      "    Second outer paragraph.\n",
      "   </b>\n",
      "  </p>\n",
      " </body>\n",
      "</html>\n"
     ]
    }
   ],
   "source": [
    "p = requests.get(\"http://dataquestio.github.io/web-scraping-pages/ids_and_classes.html\")\n",
    "\n",
    "b = BeautifulSoup(p.content, \"html.parser\")\n",
    "print(b.prettify())"
   ]
  },
  {
   "cell_type": "code",
   "execution_count": 227,
   "metadata": {},
   "outputs": [
    {
     "data": {
      "text/plain": [
       "<html>\n",
       "<head>\n",
       "<title>A simple example page</title>\n",
       "</head>\n",
       "<body>\n",
       "<div>\n",
       "<p class=\"inner-text first-item\" id=\"first\">\n",
       "                First paragraph.\n",
       "            </p>\n",
       "<p class=\"inner-text\">\n",
       "                Second paragraph.\n",
       "            </p>\n",
       "</div>\n",
       "<p class=\"outer-text first-item\" id=\"second\">\n",
       "<b>\n",
       "                First outer paragraph.\n",
       "            </b>\n",
       "</p>\n",
       "<p class=\"outer-text\">\n",
       "<b>\n",
       "                Second outer paragraph.\n",
       "            </b>\n",
       "</p>\n",
       "</body>\n",
       "</html>"
      ]
     },
     "execution_count": 227,
     "metadata": {},
     "output_type": "execute_result"
    }
   ],
   "source": [
    "l = list(b.children)\n",
    "l[0]"
   ]
  },
  {
   "cell_type": "code",
   "execution_count": 229,
   "metadata": {},
   "outputs": [
    {
     "data": {
      "text/plain": [
       "<p class=\"inner-text first-item\" id=\"first\">\n",
       "                First paragraph.\n",
       "            </p>"
      ]
     },
     "execution_count": 229,
     "metadata": {},
     "output_type": "execute_result"
    }
   ],
   "source": [
    "l[0].find(class_ = 'inner-text')"
   ]
  },
  {
   "cell_type": "code",
   "execution_count": 230,
   "metadata": {},
   "outputs": [
    {
     "data": {
      "text/plain": [
       "<p class=\"outer-text first-item\" id=\"second\">\n",
       "<b>\n",
       "                First outer paragraph.\n",
       "            </b>\n",
       "</p>"
      ]
     },
     "execution_count": 230,
     "metadata": {},
     "output_type": "execute_result"
    }
   ],
   "source": [
    "l[0].find(id=\"second\")"
   ]
  },
  {
   "cell_type": "markdown",
   "metadata": {},
   "source": [
    "### Find_all"
   ]
  },
  {
   "cell_type": "code",
   "execution_count": 138,
   "metadata": {},
   "outputs": [
    {
     "name": "stdout",
     "output_type": "stream",
     "text": [
      "First paragraph.\n",
      "Second paragraph.\n"
     ]
    }
   ],
   "source": [
    "for c in l[0].find_all(class_ = 'inner-text'):\n",
    "    print(c.text.strip())"
   ]
  },
  {
   "cell_type": "code",
   "execution_count": 145,
   "metadata": {},
   "outputs": [
    {
     "data": {
      "text/plain": [
       "[<p class=\"inner-text first-item\" id=\"first\">\n",
       "                 First paragraph.\n",
       "             </p>]"
      ]
     },
     "execution_count": 145,
     "metadata": {},
     "output_type": "execute_result"
    }
   ],
   "source": [
    "# try .find_all(id = \"first\")"
   ]
  },
  {
   "cell_type": "code",
   "execution_count": 149,
   "metadata": {},
   "outputs": [
    {
     "data": {
      "text/plain": [
       "[<p class=\"outer-text first-item\" id=\"second\">\n",
       " <b>\n",
       "                 First outer paragraph.\n",
       "             </b>\n",
       " </p>, <p class=\"outer-text\">\n",
       " <b>\n",
       "                 Second outer paragraph.\n",
       "             </b>\n",
       " </p>]"
      ]
     },
     "execution_count": 149,
     "metadata": {},
     "output_type": "execute_result"
    }
   ],
   "source": [
    "b.find_all(class_ = 'outer-text')"
   ]
  },
  {
   "cell_type": "markdown",
   "metadata": {},
   "source": [
    "### Get"
   ]
  },
  {
   "cell_type": "code",
   "execution_count": 153,
   "metadata": {},
   "outputs": [
    {
     "data": {
      "text/plain": [
       "[<p class=\"inner-text first-item\" id=\"first\">\n",
       "                 First paragraph.\n",
       "             </p>, <p class=\"inner-text\">\n",
       "                 Second paragraph.\n",
       "             </p>, <p class=\"outer-text first-item\" id=\"second\">\n",
       " <b>\n",
       "                 First outer paragraph.\n",
       "             </b>\n",
       " </p>, <p class=\"outer-text\">\n",
       " <b>\n",
       "                 Second outer paragraph.\n",
       "             </b>\n",
       " </p>]"
      ]
     },
     "execution_count": 153,
     "metadata": {},
     "output_type": "execute_result"
    }
   ],
   "source": [
    "b.find_all('p')"
   ]
  },
  {
   "cell_type": "code",
   "execution_count": 155,
   "metadata": {},
   "outputs": [
    {
     "data": {
      "text/plain": [
       "['First paragraph.',\n",
       " 'Second paragraph.',\n",
       " 'First outer paragraph.',\n",
       " 'Second outer paragraph.']"
      ]
     },
     "execution_count": 155,
     "metadata": {},
     "output_type": "execute_result"
    }
   ],
   "source": [
    "# text will return the text b/w the tags\n",
    "[t.text.strip() for t in b.find_all('p')]"
   ]
  },
  {
   "cell_type": "code",
   "execution_count": 156,
   "metadata": {},
   "outputs": [
    {
     "data": {
      "text/plain": [
       "[['inner-text', 'first-item'],\n",
       " ['inner-text'],\n",
       " ['outer-text', 'first-item'],\n",
       " ['outer-text']]"
      ]
     },
     "execution_count": 156,
     "metadata": {},
     "output_type": "execute_result"
    }
   ],
   "source": [
    "# get will return the attributes within the tags\n",
    "[t.get('class') for t in b.find_all('p')]"
   ]
  },
  {
   "cell_type": "markdown",
   "metadata": {},
   "source": [
    "## Practice Time\n",
    "Let us see who sells snow throwers on Craigslist in Fort Dodge\n",
    "\n",
    "NB: Do not forget to check https://craigslist.org/robots.txt"
   ]
  },
  {
   "cell_type": "code",
   "execution_count": 381,
   "metadata": {
    "collapsed": true
   },
   "outputs": [],
   "source": [
    "url = 'https://fortdodge.craigslist.org/d/free-stuff/search/zip'\n",
    "p = requests.get(url)\n",
    "b = BeautifulSoup(p.content, \"html.parser\")"
   ]
  },
  {
   "cell_type": "code",
   "execution_count": 382,
   "metadata": {
    "collapsed": true
   },
   "outputs": [],
   "source": [
    "rows = b.find_all(class_ = 'result-row')"
   ]
  },
  {
   "cell_type": "code",
   "execution_count": null,
   "metadata": {
    "collapsed": true
   },
   "outputs": [],
   "source": [
    "for r in rows:\n",
    "    try:\n",
    "        caption = r.find(class_ = 'result-title hdrlnk').text\n",
    "        location = r.find(class_ = 'result-hood').text\n",
    "    except:\n",
    "        pass\n",
    "    print(caption,location)"
   ]
  },
  {
   "cell_type": "markdown",
   "metadata": {},
   "source": [
    "## Everything from Craigslist in Ft. Dodge area"
   ]
  },
  {
   "cell_type": "code",
   "execution_count": 388,
   "metadata": {
    "collapsed": true
   },
   "outputs": [],
   "source": [
    "url = 'https://fortdodge.craigslist.org/search/sss?'\n",
    "p = requests.get(url)\n",
    "b = BeautifulSoup(p.content, \"html.parser\")\n",
    "rows = b.find_all(class_ = 'result-row')"
   ]
  },
  {
   "cell_type": "code",
   "execution_count": 399,
   "metadata": {},
   "outputs": [
    {
     "name": "stdout",
     "output_type": "stream",
     "text": [
      "2019 PJ TRAILERS 102X25 GOOSENECK DECKOVER FLATBED LOPRO TRAILER  (Holt) $11000 2019-03-06 10:51\n"
     ]
    }
   ],
   "source": [
    "caption = rows[0].find(class_ = 'result-title hdrlnk').text\n",
    "location = rows[0].find(class_ = 'result-hood').text\n",
    "price = rows[0].find(class_ = 'result-price').text\n",
    "posted = rows[0].find(class_ = 'result-date').get('datetime')\n",
    "print(caption,location,price,posted)"
   ]
  },
  {
   "cell_type": "code",
   "execution_count": 403,
   "metadata": {
    "collapsed": true
   },
   "outputs": [],
   "source": [
    "l = []\n",
    "for r in rows:\n",
    "    caption = r.find(class_ = 'result-title hdrlnk').text\n",
    "    try:\n",
    "        location = r.find(class_ = 'result-hood').text\n",
    "    except:\n",
    "        location = None\n",
    "    try:\n",
    "        price = r.find(class_ = 'result-price').text\n",
    "    except:\n",
    "        price = None\n",
    "    posted = r.find(class_ = 'result-date').get('datetime')\n",
    "    d = dict(zip(['caption','location','price','posted'],\n",
    "                [caption,location,price,posted]))\n",
    "    l.append(d)"
   ]
  },
  {
   "cell_type": "code",
   "execution_count": null,
   "metadata": {
    "collapsed": true
   },
   "outputs": [],
   "source": [
    "def scrape_url(url):\n",
    "    p = requests.get(url)\n",
    "    b = BeautifulSoup(p.content, \"html.parser\")\n",
    "    rows = b.find_all(class_ = 'result-row')\n",
    "    \n",
    "    l = []\n",
    "    for r in rows:\n",
    "        caption = r.find(class_ = 'result-title hdrlnk').text\n",
    "        try:\n",
    "            location = r.find(class_ = 'result-hood').text\n",
    "        except:\n",
    "            location = None\n",
    "        try:\n",
    "            price = r.find(class_ = 'result-price').text\n",
    "        except:\n",
    "            price = None\n",
    "        posted = r.find(class_ = 'result-date').get('datetime')\n",
    "        d = dict(zip(['caption','location','price','posted'],\n",
    "                    [caption,location,price,posted]))\n",
    "        l.append(d)\n",
    "    return l\n",
    "\n",
    "scrape_url('https://fortdodge.craigslist.org/search/sss?')"
   ]
  },
  {
   "cell_type": "code",
   "execution_count": 414,
   "metadata": {
    "collapsed": true
   },
   "outputs": [],
   "source": [
    "import time"
   ]
  },
  {
   "cell_type": "code",
   "execution_count": 409,
   "metadata": {},
   "outputs": [
    {
     "name": "stdout",
     "output_type": "stream",
     "text": [
      "Processed 0, total 120 \n",
      "Processed 120, total 240 \n",
      "Processed 240, total 360 \n",
      "Processed 360, total 480 \n",
      "Processed 480, total 600 \n",
      "Processed 600, total 720 \n",
      "Processed 720, total 840 \n",
      "Processed 840, total 960 \n",
      "Processed 960, total 1080 \n",
      "Processed 1080, total 1200 \n",
      "Processed 1200, total 1320 \n",
      "Processed 1320, total 1440 \n",
      "Processed 1440, total 1560 \n",
      "Processed 1560, total 1680 \n",
      "Processed 1680, total 1744 \n"
     ]
    }
   ],
   "source": [
    "l = []\n",
    "for st in range(0,1750,120):\n",
    "    url = 'https://fortdodge.craigslist.org/search/sss?s=%d'%st\n",
    "    l = l + scrape_url(url)\n",
    "    print('Processed %d, total %d '%(st,len(l)))\n",
    "    sleep(2)"
   ]
  },
  {
   "cell_type": "code",
   "execution_count": 411,
   "metadata": {},
   "outputs": [
    {
     "data": {
      "text/plain": [
       "(1744, 4)"
      ]
     },
     "execution_count": 411,
     "metadata": {},
     "output_type": "execute_result"
    }
   ],
   "source": [
    "df = pd.DataFrame(l)\n",
    "df.shape"
   ]
  },
  {
   "cell_type": "code",
   "execution_count": null,
   "metadata": {
    "collapsed": true
   },
   "outputs": [],
   "source": [
    "df.groupby('location').count()"
   ]
  },
  {
   "cell_type": "markdown",
   "metadata": {},
   "source": [
    "## Indeed.com"
   ]
  },
  {
   "cell_type": "code",
   "execution_count": 554,
   "metadata": {
    "collapsed": true
   },
   "outputs": [],
   "source": [
    "url = 'https://www.indeed.com/jobs?q=data+scientist&l=Iowa+City%2C+IA'\n",
    "p = requests.get(url)\n",
    "b = BeautifulSoup(p.content, \"html.parser\")"
   ]
  },
  {
   "cell_type": "code",
   "execution_count": 567,
   "metadata": {},
   "outputs": [
    {
     "data": {
      "text/plain": [
       "<div class=\"jobsearch-SerpJobCard row sjlast result\" data-ci=\"267672326\" data-empn=\"7937733348923960\" data-jk=\"018c9eb8199e624c\" data-tu=\"\" id=\"pj_018c9eb8199e624c\">\n",
       "<a class=\"jobtitle turnstileLink\" data-tn-element=\"jobTitle\" href=\"/pagead/clk?mo=r&amp;ad=-6NYlbfkN0Ay34pLxNpM2b2APydG9FPHc7HhqjeNrk9_gDXaaFM3GgPuMqNnt0SwtRdFxrty7Yxz5N_-XsSGo7EwB9Pr_KR9iclF_5NCD_eV6r2hA8lFXPFKfQygebkgmzDyVLARwyyO1sfOfPsQfBabP9UefcLyCfTS8SKTR1X3oXZK3ag7p3EFNzmfeHVYPKHKHlQ9EPFql1UEeuzX7JGqz5o-tsDA5es_9P3gCnsRRpkuZoDFnvbEcupQ4CLi7IYGEFu8Sou7FnzqAyY-6yFVBeHnW-O7cV29i2hEsLg2oDmHstICw0pJ6jHmp5ZNM6Qx-RCZxtGZEQ_-DUZPayrSYDugbJq7MpGIl-n3Rg0z3OoFMhQ-YhxsulYZrDXFVXmLO9mnev00c9vDwbW_TQWFwp7lMVZX6id0dsT4mlxAWjQO0JGgnO9GaCrsZ2lLrrjrx5j2rRKhfpFCX9W6E_qxTL8F44Gf-nWGgT1K43YuFT3uos9GFQ==&amp;vjs=3&amp;p=4&amp;sk=&amp;fvj=1\" id=\"sja4\" onclick=\"setRefineByCookie([]); sjoc('sja4',1); convCtr('SJ')\" onmousedown=\"sjomd('sja4'); clk('sja4');\" rel=\"noopener nofollow\" target=\"_blank\" title=\"Life Insurance Agent (Remote) - Free leads / No marketing costs\">Life Insurance Agent (Remote) - Free leads / No marketing co...</a>\n",
       "<br/>\n",
       "<div class=\"sjcl\"><div>\n",
       "<span class=\"company\">\n",
       "<a class=\"turnstileLink\" data-tn-element=\"companyName\" href=\"/cmp/Assurance-7b737553\" onmousedown=\"this.href = appendParamsOnce(this.href, 'from=SERP&amp;campaignid=serp-linkcompanyname&amp;fromjk=018c9eb8199e624c&amp;jcid=863bd584681e871f')\" rel=\"noopener\" target=\"_blank\">\n",
       "        ASSURANCE</a></span>\n",
       "<a class=\"ratingsLabel\" data-tn-element=\"reviewStars\" data-tn-variant=\"cmplinktst2\" href=\"/cmp/Assurance-7b737553/reviews\" onmousedown=\"this.href = appendParamsOnce(this.href, '?campaignid=cmplinktst2&amp;from=SERP&amp;jt=Life+Insurance+Agent+%28Remote%29+-+Free+leads+%5C%2F+No+marketing+costs&amp;fromjk=018c9eb8199e624c&amp;jcid=863bd584681e871f');\" rel=\"noopener\" target=\"_blank\" title=\"Assurance reviews\">\n",
       "<span class=\"ratings\"><span class=\"rating\" style=\"width:43.2px\"><!-- --></span></span>\n",
       "<span class=\"slNoUnderline\">40 reviews</span></a>\n",
       "</div><div class=\"location\">United States</div></div>\n",
       "<div class=\"recJobLoc\" data-rc-loc=\"United States\" id=\"recJobLoc_018c9eb8199e624c\" style=\"display: none\">\n",
       "</div>\n",
       "<div class=\"paddedSummary\">\n",
       "<table border=\"0\" cellpadding=\"0\" cellspacing=\"0\" width=\"100%\"><tr><td class=\"snip\">\n",
       "<div class=\"salarySnippet\">\n",
       "<span class=\"salary no-wrap\">\n",
       "                $50,000 - $125,000 a year</span>\n",
       "</div>\n",
       "<span class=\"summary\">\n",
       "                            Our team of engineers, <b>data</b> <b>scientists</b>, marketers, architects, and designers are building systems using advanced science to make humans better....</span>\n",
       "</td></tr></table>\n",
       "</div>\n",
       "<div class=\"sjCapt\">\n",
       "<div class=\"result-link-bar-container\">\n",
       "<div class=\"result-link-bar\"><span class=\" sponsoredGray \">Sponsored</span> - <span class=\"tt_set\" id=\"tt_set_13\"><a class=\"sl resultLink save-job-link \" href=\"#\" id=\"sj_018c9eb8199e624c\" onclick=\"changeJobState('018c9eb8199e624c', 'save', 'linkbar', true, ''); return false;\" title=\"Save this job to my.indeed\">save job</a></span><div class=\"edit_note_content\" id=\"editsaved2_018c9eb8199e624c\" style=\"display:none;\"></div><script>if (!window['sj_result_018c9eb8199e624c']) {window['sj_result_018c9eb8199e624c'] = {};}window['sj_result_018c9eb8199e624c']['showSource'] = false; window['sj_result_018c9eb8199e624c']['source'] = \"Indeed\"; window['sj_result_018c9eb8199e624c']['loggedIn'] = false; window['sj_result_018c9eb8199e624c']['showMyJobsLinks'] = false;window['sj_result_018c9eb8199e624c']['undoAction'] = \"unsave\";window['sj_result_018c9eb8199e624c']['jobKey'] = \"018c9eb8199e624c\"; window['sj_result_018c9eb8199e624c']['myIndeedAvailable'] = true; window['sj_result_018c9eb8199e624c']['showMoreActionsLink'] = window['sj_result_018c9eb8199e624c']['showMoreActionsLink'] || false; window['sj_result_018c9eb8199e624c']['resultNumber'] = 13; window['sj_result_018c9eb8199e624c']['jobStateChangedToSaved'] = false; window['sj_result_018c9eb8199e624c']['searchState'] = \"q=data scientist&amp;l=Iowa+City%2C+IA\"; window['sj_result_018c9eb8199e624c']['basicPermaLink'] = \"https://www.indeed.com\"; window['sj_result_018c9eb8199e624c']['saveJobFailed'] = false; window['sj_result_018c9eb8199e624c']['removeJobFailed'] = false; window['sj_result_018c9eb8199e624c']['requestPending'] = false; window['sj_result_018c9eb8199e624c']['notesEnabled'] = false; window['sj_result_018c9eb8199e624c']['currentPage'] = \"serp\"; window['sj_result_018c9eb8199e624c']['sponsored'] = true;window['sj_result_018c9eb8199e624c']['showSponsor'] = true;window['sj_result_018c9eb8199e624c']['reportJobButtonEnabled'] = false; window['sj_result_018c9eb8199e624c']['showMyJobsHired'] = false; window['sj_result_018c9eb8199e624c']['showSaveForSponsored'] = true; window['sj_result_018c9eb8199e624c']['showJobAge'] = true;</script></div></div>\n",
       "<div class=\"tab-container\">\n",
       "<div class=\"sign-in-container result-tab\"></div>\n",
       "<div class=\"tellafriend-container result-tab email_job_content\"></div>\n",
       "</div>\n",
       "</div>\n",
       "</div>"
      ]
     },
     "execution_count": 567,
     "metadata": {},
     "output_type": "execute_result"
    }
   ],
   "source": [
    "rows = b.find_all(class_ = 'jobsearch-SerpJobCard')\n",
    "rows[3]"
   ]
  },
  {
   "cell_type": "code",
   "execution_count": 572,
   "metadata": {},
   "outputs": [
    {
     "data": {
      "text/plain": [
       "'Cedar Rapids, IA 52401'"
      ]
     },
     "execution_count": 572,
     "metadata": {},
     "output_type": "execute_result"
    }
   ],
   "source": [
    "rows = b.find_all(class_ = 'jobsearch-SerpJobCard')\n",
    "rows[1].find(class_='location').text.strip()"
   ]
  },
  {
   "cell_type": "code",
   "execution_count": 574,
   "metadata": {
    "collapsed": true
   },
   "outputs": [],
   "source": [
    "\n",
    "column_names = ['job_title','company','job_desc','salary','location']\n",
    "l = []\n",
    "for r in rows:\n",
    "    try:\n",
    "        job_title = r.find(class_='jobtitle turnstileLink').get('title').strip()\n",
    "    except:\n",
    "        job_title = None\n",
    "    company = r.find(class_='company').text.strip()\n",
    "    job_desc = r.find(class_='summary').text.strip()\n",
    "    try:\n",
    "        salary = r.find(class_='salary no-wrap').text.strip()\n",
    "    except:\n",
    "        salary = None\n",
    "    location = r.find(class_='location').text.strip()\n",
    "    d = dict(zip(column_names,[job_title,company,job_desc,salary,location]))\n",
    "    l.append(d)"
   ]
  },
  {
   "cell_type": "code",
   "execution_count": null,
   "metadata": {
    "collapsed": true
   },
   "outputs": [],
   "source": [
    "def get_jobs(url):\n",
    "    p = requests.get(url)\n",
    "    b = BeautifulSoup(p.content, \"html.parser\")\n",
    "    column_names = ['job_title','company','job_desc','salary','location']\n",
    "    l = []\n",
    "    for r in b.find_all(class_ = 'jobsearch-SerpJobCard'):\n",
    "        try:\n",
    "            job_title = r.find(class_='jobtitle turnstileLink').get('title').strip()\n",
    "        except:\n",
    "            job_title = None\n",
    "        company = r.find(class_='company').text.strip()\n",
    "        job_desc = r.find(class_='summary').text.strip()\n",
    "        try:\n",
    "            salary = r.find(class_='salary no-wrap').text.strip()\n",
    "        except:\n",
    "            salary = None\n",
    "        location = r.find(class_='location').text.strip()\n",
    "        d = dict(zip(column_names,[job_title,company,job_desc,salary,location]))\n",
    "        l.append(d)\n",
    "    return l\n",
    "\n",
    "get_jobs('https://www.indeed.com/jobs?q=data+scientist&l=Iowa+City%2C+IA')"
   ]
  },
  {
   "cell_type": "code",
   "execution_count": 579,
   "metadata": {},
   "outputs": [
    {
     "name": "stdout",
     "output_type": "stream",
     "text": [
      "https://www.indeed.com/jobs?q=data+scientist&l=Iowa+City,+IA&start=0\n",
      "https://www.indeed.com/jobs?q=data+scientist&l=Iowa+City,+IA&start=10\n",
      "https://www.indeed.com/jobs?q=data+scientist&l=Iowa+City,+IA&start=20\n",
      "https://www.indeed.com/jobs?q=data+scientist&l=Iowa+City,+IA&start=30\n",
      "https://www.indeed.com/jobs?q=data+scientist&l=Iowa+City,+IA&start=40\n"
     ]
    }
   ],
   "source": [
    "url = 'https://www.indeed.com/jobs?q=data+scientist&l=Iowa+City,+IA&start=%d'\n",
    "\n",
    "l = []\n",
    "for page in range(0,41,10):\n",
    "    print(url%page)\n",
    "    l = l + get_jobs(url%page)\n",
    "    sleep(2)"
   ]
  },
  {
   "cell_type": "markdown",
   "metadata": {},
   "source": [
    "## Pandas DataFrame and saving it to CSV"
   ]
  },
  {
   "cell_type": "code",
   "execution_count": 581,
   "metadata": {
    "collapsed": true
   },
   "outputs": [],
   "source": [
    "import pandas as pd"
   ]
  },
  {
   "cell_type": "code",
   "execution_count": 597,
   "metadata": {},
   "outputs": [
    {
     "data": {
      "text/html": [
       "<div>\n",
       "<style>\n",
       "    .dataframe thead tr:only-child th {\n",
       "        text-align: right;\n",
       "    }\n",
       "\n",
       "    .dataframe thead th {\n",
       "        text-align: left;\n",
       "    }\n",
       "\n",
       "    .dataframe tbody tr th {\n",
       "        vertical-align: top;\n",
       "    }\n",
       "</style>\n",
       "<table border=\"1\" class=\"dataframe\">\n",
       "  <thead>\n",
       "    <tr style=\"text-align: right;\">\n",
       "      <th></th>\n",
       "      <th>company</th>\n",
       "      <th>job_desc</th>\n",
       "      <th>location</th>\n",
       "      <th>salary</th>\n",
       "    </tr>\n",
       "    <tr>\n",
       "      <th>job_title</th>\n",
       "      <th></th>\n",
       "      <th></th>\n",
       "      <th></th>\n",
       "      <th></th>\n",
       "    </tr>\n",
       "  </thead>\n",
       "  <tbody>\n",
       "    <tr>\n",
       "      <th>Data Scientist (Tier-1 school education; 3-5+ years US work experience)</th>\n",
       "      <td>Confidential Client (Full time)</td>\n",
       "      <td>A fast growing startup is looking for several ...</td>\n",
       "      <td>United States</td>\n",
       "      <td>None</td>\n",
       "    </tr>\n",
       "    <tr>\n",
       "      <th>Actuarial Analyst</th>\n",
       "      <td>Cedar Rapids</td>\n",
       "      <td>Knowledge of SAS, R, and data visualization so...</td>\n",
       "      <td>Cedar Rapids, IA 52401</td>\n",
       "      <td>None</td>\n",
       "    </tr>\n",
       "    <tr>\n",
       "      <th>Life Insurance Agent (Remote) - No marketing costs</th>\n",
       "      <td>ASSURANCE</td>\n",
       "      <td>Our team of engineers, data scientists, market...</td>\n",
       "      <td>United States</td>\n",
       "      <td>$50,000 - $125,000 a year</td>\n",
       "    </tr>\n",
       "    <tr>\n",
       "      <th>NaN</th>\n",
       "      <td>United Fire Group</td>\n",
       "      <td>Research, analyze and understand complex regul...</td>\n",
       "      <td>Cedar Rapids, IA</td>\n",
       "      <td>None</td>\n",
       "    </tr>\n",
       "    <tr>\n",
       "      <th>NaN</th>\n",
       "      <td>College Raptor</td>\n",
       "      <td>Please send a resume and a cover letter explai...</td>\n",
       "      <td>Iowa City, IA</td>\n",
       "      <td>None</td>\n",
       "    </tr>\n",
       "  </tbody>\n",
       "</table>\n",
       "</div>"
      ],
      "text/plain": [
       "                                                                            company  \\\n",
       "job_title                                                                             \n",
       "Data Scientist (Tier-1 school education; 3-5+ y...  Confidential Client (Full time)   \n",
       "Actuarial Analyst                                                      Cedar Rapids   \n",
       "Life Insurance Agent (Remote) - No marketing costs                        ASSURANCE   \n",
       "NaN                                                               United Fire Group   \n",
       "NaN                                                                  College Raptor   \n",
       "\n",
       "                                                                                             job_desc  \\\n",
       "job_title                                                                                               \n",
       "Data Scientist (Tier-1 school education; 3-5+ y...  A fast growing startup is looking for several ...   \n",
       "Actuarial Analyst                                   Knowledge of SAS, R, and data visualization so...   \n",
       "Life Insurance Agent (Remote) - No marketing costs  Our team of engineers, data scientists, market...   \n",
       "NaN                                                 Research, analyze and understand complex regul...   \n",
       "NaN                                                 Please send a resume and a cover letter explai...   \n",
       "\n",
       "                                                                  location  \\\n",
       "job_title                                                                    \n",
       "Data Scientist (Tier-1 school education; 3-5+ y...           United States   \n",
       "Actuarial Analyst                                   Cedar Rapids, IA 52401   \n",
       "Life Insurance Agent (Remote) - No marketing costs           United States   \n",
       "NaN                                                       Cedar Rapids, IA   \n",
       "NaN                                                          Iowa City, IA   \n",
       "\n",
       "                                                                       salary  \n",
       "job_title                                                                      \n",
       "Data Scientist (Tier-1 school education; 3-5+ y...                       None  \n",
       "Actuarial Analyst                                                        None  \n",
       "Life Insurance Agent (Remote) - No marketing costs  $50,000 - $125,000 a year  \n",
       "NaN                                                                      None  \n",
       "NaN                                                                      None  "
      ]
     },
     "execution_count": 597,
     "metadata": {},
     "output_type": "execute_result"
    }
   ],
   "source": [
    "df = pd.DataFrame(l) # Make a dataframe\n",
    "df.set_index('job_title', inplace = True)\n",
    "df.to_csv('jobs.csv')\n",
    "df.head()"
   ]
  },
  {
   "cell_type": "code",
   "execution_count": 598,
   "metadata": {},
   "outputs": [
    {
     "name": "stdout",
     "output_type": "stream",
     "text": [
      "job_title,company,job_desc,location,salary\r\n",
      "Data Scientist (Tier-1 school education; 3-5+ years US work experience),Confidential Client (Full time),\"A fast growing startup is looking for several data scientist that have used classification, time series analysis, regression, association rules mining, and...\",United States,\r\n"
     ]
    }
   ],
   "source": [
    "%cat jobs.csv | head -2"
   ]
  },
  {
   "cell_type": "code",
   "execution_count": 600,
   "metadata": {},
   "outputs": [
    {
     "data": {
      "text/html": [
       "<div>\n",
       "<style>\n",
       "    .dataframe thead tr:only-child th {\n",
       "        text-align: right;\n",
       "    }\n",
       "\n",
       "    .dataframe thead th {\n",
       "        text-align: left;\n",
       "    }\n",
       "\n",
       "    .dataframe tbody tr th {\n",
       "        vertical-align: top;\n",
       "    }\n",
       "</style>\n",
       "<table border=\"1\" class=\"dataframe\">\n",
       "  <thead>\n",
       "    <tr style=\"text-align: right;\">\n",
       "      <th></th>\n",
       "      <th>company</th>\n",
       "      <th>job_desc</th>\n",
       "      <th>location</th>\n",
       "      <th>salary</th>\n",
       "    </tr>\n",
       "    <tr>\n",
       "      <th>job_title</th>\n",
       "      <th></th>\n",
       "      <th></th>\n",
       "      <th></th>\n",
       "      <th></th>\n",
       "    </tr>\n",
       "  </thead>\n",
       "  <tbody>\n",
       "    <tr>\n",
       "      <th>Data Scientist (Tier-1 school education; 3-5+ years US work experience)</th>\n",
       "      <td>Confidential Client (Full time)</td>\n",
       "      <td>A fast growing startup is looking for several ...</td>\n",
       "      <td>United States</td>\n",
       "      <td>NaN</td>\n",
       "    </tr>\n",
       "    <tr>\n",
       "      <th>Actuarial Analyst</th>\n",
       "      <td>Cedar Rapids</td>\n",
       "      <td>Knowledge of SAS, R, and data visualization so...</td>\n",
       "      <td>Cedar Rapids, IA 52401</td>\n",
       "      <td>NaN</td>\n",
       "    </tr>\n",
       "    <tr>\n",
       "      <th>Life Insurance Agent (Remote) - No marketing costs</th>\n",
       "      <td>ASSURANCE</td>\n",
       "      <td>Our team of engineers, data scientists, market...</td>\n",
       "      <td>United States</td>\n",
       "      <td>$50,000 - $125,000 a year</td>\n",
       "    </tr>\n",
       "    <tr>\n",
       "      <th>NaN</th>\n",
       "      <td>United Fire Group</td>\n",
       "      <td>Research, analyze and understand complex regul...</td>\n",
       "      <td>Cedar Rapids, IA</td>\n",
       "      <td>NaN</td>\n",
       "    </tr>\n",
       "    <tr>\n",
       "      <th>NaN</th>\n",
       "      <td>College Raptor</td>\n",
       "      <td>Please send a resume and a cover letter explai...</td>\n",
       "      <td>Iowa City, IA</td>\n",
       "      <td>NaN</td>\n",
       "    </tr>\n",
       "  </tbody>\n",
       "</table>\n",
       "</div>"
      ],
      "text/plain": [
       "                                                                            company  \\\n",
       "job_title                                                                             \n",
       "Data Scientist (Tier-1 school education; 3-5+ y...  Confidential Client (Full time)   \n",
       "Actuarial Analyst                                                      Cedar Rapids   \n",
       "Life Insurance Agent (Remote) - No marketing costs                        ASSURANCE   \n",
       "NaN                                                               United Fire Group   \n",
       "NaN                                                                  College Raptor   \n",
       "\n",
       "                                                                                             job_desc  \\\n",
       "job_title                                                                                               \n",
       "Data Scientist (Tier-1 school education; 3-5+ y...  A fast growing startup is looking for several ...   \n",
       "Actuarial Analyst                                   Knowledge of SAS, R, and data visualization so...   \n",
       "Life Insurance Agent (Remote) - No marketing costs  Our team of engineers, data scientists, market...   \n",
       "NaN                                                 Research, analyze and understand complex regul...   \n",
       "NaN                                                 Please send a resume and a cover letter explai...   \n",
       "\n",
       "                                                                  location  \\\n",
       "job_title                                                                    \n",
       "Data Scientist (Tier-1 school education; 3-5+ y...           United States   \n",
       "Actuarial Analyst                                   Cedar Rapids, IA 52401   \n",
       "Life Insurance Agent (Remote) - No marketing costs           United States   \n",
       "NaN                                                       Cedar Rapids, IA   \n",
       "NaN                                                          Iowa City, IA   \n",
       "\n",
       "                                                                       salary  \n",
       "job_title                                                                      \n",
       "Data Scientist (Tier-1 school education; 3-5+ y...                        NaN  \n",
       "Actuarial Analyst                                                         NaN  \n",
       "Life Insurance Agent (Remote) - No marketing costs  $50,000 - $125,000 a year  \n",
       "NaN                                                                       NaN  \n",
       "NaN                                                                       NaN  "
      ]
     },
     "execution_count": 600,
     "metadata": {},
     "output_type": "execute_result"
    }
   ],
   "source": [
    "df2 = pd.read_csv('./data/jobs.csv', index_col = 'job_title')\n",
    "df2.head()"
   ]
  },
  {
   "cell_type": "markdown",
   "metadata": {},
   "source": [
    "## Data Preprocessing in Pandas\n",
    "\n",
    "### Here is a brief summary of regular expressions\n",
    "\n",
    "The data to extract will be placed into groups (). For instance, \"() () ()\" extracts three groups\n",
    "\n",
    "* \\w -- any word character\n",
    "* [A-D] -- uppercase A,B,C, and D\n",
    "* \\w* -- one or many word characters\n",
    "* \\w+ -- more than one word character\n",
    "* \\w{5} -- exactly five word characters\n",
    "* [\\w ]{10} -- exactly 10 characters or spaces\n",
    "* [0-9] -- one digit\n",
    "* ,\\s\\*(\\w\\w) -- , zero or more spaces and exactly two characters to extract state: \", IA\""
   ]
  },
  {
   "cell_type": "code",
   "execution_count": 495,
   "metadata": {},
   "outputs": [
    {
     "data": {
      "text/html": [
       "<div>\n",
       "<style>\n",
       "    .dataframe thead tr:only-child th {\n",
       "        text-align: right;\n",
       "    }\n",
       "\n",
       "    .dataframe thead th {\n",
       "        text-align: left;\n",
       "    }\n",
       "\n",
       "    .dataframe tbody tr th {\n",
       "        vertical-align: top;\n",
       "    }\n",
       "</style>\n",
       "<table border=\"1\" class=\"dataframe\">\n",
       "  <thead>\n",
       "    <tr style=\"text-align: right;\">\n",
       "      <th></th>\n",
       "      <th>company</th>\n",
       "      <th>job_desc</th>\n",
       "      <th>job_title</th>\n",
       "      <th>location</th>\n",
       "      <th>salary</th>\n",
       "    </tr>\n",
       "  </thead>\n",
       "  <tbody>\n",
       "    <tr>\n",
       "      <th>0</th>\n",
       "      <td>Novateur Research Solutions, LLC</td>\n",
       "      <td>Novateur Research Solutions is looking for res...</td>\n",
       "      <td>Machine Learning Research Scientist (US Citize...</td>\n",
       "      <td>United States</td>\n",
       "      <td>None</td>\n",
       "    </tr>\n",
       "    <tr>\n",
       "      <th>1</th>\n",
       "      <td>Cedar Rapids</td>\n",
       "      <td>Knowledge of SAS, R, and data visualization so...</td>\n",
       "      <td>Actuarial Analyst</td>\n",
       "      <td>Cedar Rapids, IA 52401</td>\n",
       "      <td>None</td>\n",
       "    </tr>\n",
       "    <tr>\n",
       "      <th>2</th>\n",
       "      <td>ASSURANCE</td>\n",
       "      <td>Our team of engineers, data scientists, market...</td>\n",
       "      <td>Life Insurance Agent (Remote) - Free leads / N...</td>\n",
       "      <td>United States</td>\n",
       "      <td>$50,000 - $125,000 a year</td>\n",
       "    </tr>\n",
       "    <tr>\n",
       "      <th>3</th>\n",
       "      <td>College Raptor</td>\n",
       "      <td>Please send a resume and a cover letter explai...</td>\n",
       "      <td>Data Scientist and Algorithm Engineer</td>\n",
       "      <td>Iowa City, IA</td>\n",
       "      <td>None</td>\n",
       "    </tr>\n",
       "    <tr>\n",
       "      <th>4</th>\n",
       "      <td>United Fire Group</td>\n",
       "      <td>Research, analyze and understand complex regul...</td>\n",
       "      <td>Statistical Reporting Analyst</td>\n",
       "      <td>Cedar Rapids, IA</td>\n",
       "      <td>None</td>\n",
       "    </tr>\n",
       "  </tbody>\n",
       "</table>\n",
       "</div>"
      ],
      "text/plain": [
       "                            company  \\\n",
       "0  Novateur Research Solutions, LLC   \n",
       "1                      Cedar Rapids   \n",
       "2                         ASSURANCE   \n",
       "3                    College Raptor   \n",
       "4                 United Fire Group   \n",
       "\n",
       "                                            job_desc  \\\n",
       "0  Novateur Research Solutions is looking for res...   \n",
       "1  Knowledge of SAS, R, and data visualization so...   \n",
       "2  Our team of engineers, data scientists, market...   \n",
       "3  Please send a resume and a cover letter explai...   \n",
       "4  Research, analyze and understand complex regul...   \n",
       "\n",
       "                                           job_title                location  \\\n",
       "0  Machine Learning Research Scientist (US Citize...           United States   \n",
       "1                                  Actuarial Analyst  Cedar Rapids, IA 52401   \n",
       "2  Life Insurance Agent (Remote) - Free leads / N...           United States   \n",
       "3              Data Scientist and Algorithm Engineer           Iowa City, IA   \n",
       "4                      Statistical Reporting Analyst        Cedar Rapids, IA   \n",
       "\n",
       "                      salary  \n",
       "0                       None  \n",
       "1                       None  \n",
       "2  $50,000 - $125,000 a year  \n",
       "3                       None  \n",
       "4                       None  "
      ]
     },
     "execution_count": 495,
     "metadata": {},
     "output_type": "execute_result"
    }
   ],
   "source": [
    "df.head()"
   ]
  },
  {
   "cell_type": "code",
   "execution_count": null,
   "metadata": {
    "collapsed": true
   },
   "outputs": [],
   "source": [
    "zip_code = df['location'].str.extract('([0-9]{5})')\n",
    "zip_code"
   ]
  },
  {
   "cell_type": "code",
   "execution_count": null,
   "metadata": {
    "collapsed": true
   },
   "outputs": [],
   "source": [
    "state = df['location'].str.extract(', ([A-Z]{2})')\n",
    "state"
   ]
  },
  {
   "cell_type": "code",
   "execution_count": null,
   "metadata": {
    "collapsed": true
   },
   "outputs": [],
   "source": [
    "town = df['location'].str.extract('([\\w ]+),')\n",
    "town"
   ]
  },
  {
   "cell_type": "code",
   "execution_count": null,
   "metadata": {
    "collapsed": true
   },
   "outputs": [],
   "source": [
    "df['salary'].str.extract('(\\$\\d+,\\d+) - (\\$\\d+,\\d+) ([\\w ]+)')"
   ]
  }
 ],
 "metadata": {
  "kernelspec": {
   "display_name": "Python 3",
   "language": "python",
   "name": "python3"
  },
  "language_info": {
   "codemirror_mode": {
    "name": "ipython",
    "version": 3
   },
   "file_extension": ".py",
   "mimetype": "text/x-python",
   "name": "python",
   "nbconvert_exporter": "python",
   "pygments_lexer": "ipython3",
   "version": "3.5.4"
  }
 },
 "nbformat": 4,
 "nbformat_minor": 2
}
