{
 "cells": [
  {
   "cell_type": "code",
   "execution_count": 105,
   "metadata": {},
   "outputs": [],
   "source": [
    "import pandas as pd\n",
    "import numpy as np\n",
    "import scipy.stats\n",
    "\n",
    "import matplotlib.pyplot as plt\n",
    "from matplotlib.markers import MarkerStyle\n",
    "import seaborn as sns\n",
    "%matplotlib inline\n",
    "\n",
    "from ipywidgets import interactive\n",
    "import ipywidgets as widgets"
   ]
  },
  {
   "cell_type": "markdown",
   "metadata": {},
   "source": [
    "# Introduction to Linear Regression\n",
    "\n",
    "This is to follow the book: http://www-bcf.usc.edu/~gareth/ISL/ISLR%20Seventh%20Printing.pdf\n",
    "\n",
    "* Is there a relationship between advertising budget and sales?\n",
    "* How strong is the relationship between advertising budget and sales?\n",
    "* Which media contribute to sales?\n",
    "* How accurately can we estimate the effect of each medium on sales?\n",
    "* How accurately can we predict future sales?\n",
    "* Is the relationship linear?\n",
    "* Is there synergy among the advertising media?\n",
    "\n",
    "$y \\approx \\beta_0+\\beta_1*X$\n",
    "\n",
    "$\\hat{y} = \\hat{\\beta}_0+\\hat{\\beta}_1*X$"
   ]
  },
  {
   "cell_type": "code",
   "execution_count": 106,
   "metadata": {},
   "outputs": [
    {
     "data": {
      "text/html": [
       "<div>\n",
       "<style scoped>\n",
       "    .dataframe tbody tr th:only-of-type {\n",
       "        vertical-align: middle;\n",
       "    }\n",
       "\n",
       "    .dataframe tbody tr th {\n",
       "        vertical-align: top;\n",
       "    }\n",
       "\n",
       "    .dataframe thead th {\n",
       "        text-align: right;\n",
       "    }\n",
       "</style>\n",
       "<table border=\"1\" class=\"dataframe\">\n",
       "  <thead>\n",
       "    <tr style=\"text-align: right;\">\n",
       "      <th></th>\n",
       "      <th>Unnamed: 0</th>\n",
       "      <th>TV</th>\n",
       "      <th>Radio</th>\n",
       "      <th>Newspaper</th>\n",
       "      <th>Sales</th>\n",
       "    </tr>\n",
       "  </thead>\n",
       "  <tbody>\n",
       "    <tr>\n",
       "      <th>0</th>\n",
       "      <td>1</td>\n",
       "      <td>230.1</td>\n",
       "      <td>37.8</td>\n",
       "      <td>69.2</td>\n",
       "      <td>22.1</td>\n",
       "    </tr>\n",
       "    <tr>\n",
       "      <th>1</th>\n",
       "      <td>2</td>\n",
       "      <td>44.5</td>\n",
       "      <td>39.3</td>\n",
       "      <td>45.1</td>\n",
       "      <td>10.4</td>\n",
       "    </tr>\n",
       "    <tr>\n",
       "      <th>2</th>\n",
       "      <td>3</td>\n",
       "      <td>17.2</td>\n",
       "      <td>45.9</td>\n",
       "      <td>69.3</td>\n",
       "      <td>9.3</td>\n",
       "    </tr>\n",
       "    <tr>\n",
       "      <th>3</th>\n",
       "      <td>4</td>\n",
       "      <td>151.5</td>\n",
       "      <td>41.3</td>\n",
       "      <td>58.5</td>\n",
       "      <td>18.5</td>\n",
       "    </tr>\n",
       "    <tr>\n",
       "      <th>4</th>\n",
       "      <td>5</td>\n",
       "      <td>180.8</td>\n",
       "      <td>10.8</td>\n",
       "      <td>58.4</td>\n",
       "      <td>12.9</td>\n",
       "    </tr>\n",
       "  </tbody>\n",
       "</table>\n",
       "</div>"
      ],
      "text/plain": [
       "   Unnamed: 0     TV  Radio  Newspaper  Sales\n",
       "0           1  230.1   37.8       69.2   22.1\n",
       "1           2   44.5   39.3       45.1   10.4\n",
       "2           3   17.2   45.9       69.3    9.3\n",
       "3           4  151.5   41.3       58.5   18.5\n",
       "4           5  180.8   10.8       58.4   12.9"
      ]
     },
     "execution_count": 106,
     "metadata": {},
     "output_type": "execute_result"
    }
   ],
   "source": [
    "df = pd.read_csv(r'C:\\Users\\anton.bezuglov\\Documents\\notebooks\\data200_notebooks\\data\\Advertising.csv')\n",
    "df.head()"
   ]
  },
  {
   "cell_type": "markdown",
   "metadata": {},
   "source": [
    "## Estimating the coefficients\n",
    "\n",
    "Mean Squared Error approach -- minimize the average squared difference between a point and linear regression."
   ]
  },
  {
   "cell_type": "code",
   "execution_count": 107,
   "metadata": {},
   "outputs": [
    {
     "data": {
      "text/plain": [
       "<seaborn.axisgrid.FacetGrid at 0x2f29a6a3470>"
      ]
     },
     "execution_count": 107,
     "metadata": {},
     "output_type": "execute_result"
    },
    {
     "data": {
      "image/png": "[encoded data removed]",
      "text/plain": [
       "<Figure size 360x360 with 1 Axes>"
      ]
     },
     "metadata": {},
     "output_type": "display_data"
    }
   ],
   "source": [
    "sns.lmplot(x = 'TV', y = 'Sales', data = df)"
   ]
  },
  {
   "cell_type": "markdown",
   "metadata": {},
   "source": [
    "Experiment with the coefficients below to minimize RSS:"
   ]
  },
  {
   "cell_type": "code",
   "execution_count": 108,
   "metadata": {},
   "outputs": [],
   "source": [
    "X = df['TV']\n",
    "y = df['Sales']"
   ]
  },
  {
   "cell_type": "code",
   "execution_count": 109,
   "metadata": {},
   "outputs": [
    {
     "data": {
      "application/vnd.jupyter.widget-view+json": {
       "model_id": "6f91082e60f54b90a29dee535bc30887",
       "version_major": 2,
       "version_minor": 0
      },
      "text/plain": [
       "interactive(children=(FloatSlider(value=5.0, description='b0', max=10.0), FloatSlider(value=0.05, description=…"
      ]
     },
     "metadata": {},
     "output_type": "display_data"
    }
   ],
   "source": [
    "def linear_fit(b0,b1):\n",
    "    y_hat = b0+b1*X\n",
    "    RSS = np.sum((y_hat-y)**2)\n",
    "    \n",
    "    fig = plt.figure(figsize = (10,5))\n",
    "    ax = fig.add_subplot(1,2,1)\n",
    "    ax.plot(X, y_hat, label = '$\\hat{y}$', color = 'b')\n",
    "    ax.scatter(X, y, label = 'Sales')\n",
    "    ax.set_xlabel('TV')\n",
    "    ax.set_ylabel('Sales')\n",
    "    ax.set_title('RSS = %.2f'%RSS)\n",
    "    ax.legend()\n",
    "    \n",
    "    ax = fig.add_subplot(1,2,2)\n",
    "    sns.distplot(y_hat-y, ax = ax)\n",
    "    ax.set_title('Error Distribution')\n",
    "    ax.set_xlabel('$\\hat{y}-y$')\n",
    "    plt.show()\n",
    "    \n",
    "i_plot = interactive(linear_fit, b1 = (0.0,0.1,0.005), b0 = (0.0,10.0))\n",
    "i_plot"
   ]
  },
  {
   "cell_type": "markdown",
   "metadata": {},
   "source": [
    "According to the least squares approach, the equations for $\\hat{\\beta}_1$ and $\\hat{\\beta}_0$ are: \n",
    "\n",
    "$\\hat{\\beta}_1 = \\frac{\\sum_{i=1}^{n}(x_i-\\bar{x})(y_i-\\bar{y})}{\\sum_{i=1}^{n}(x_i-\\bar{x})^2}$\n",
    "\n",
    "$\\hat{\\beta}_0 = \\bar{y}-\\hat{\\beta}_1\\bar{x}$"
   ]
  },
  {
   "cell_type": "code",
   "execution_count": 110,
   "metadata": {},
   "outputs": [
    {
     "data": {
      "text/plain": [
       "(7.032593549127698, 0.047536640433019736)"
      ]
     },
     "execution_count": 110,
     "metadata": {},
     "output_type": "execute_result"
    }
   ],
   "source": [
    "def least_squares_estimate(X,y):\n",
    "    b1_hat = np.sum((X-np.mean(X))*(y-np.mean(y)))/np.sum((X-np.mean(X))**2)\n",
    "    b0_hat = np.mean(y)-b1_hat*np.mean(X)\n",
    "    return b0_hat, b1_hat\n",
    "\n",
    "least_squares_estimate(X,y)"
   ]
  },
  {
   "cell_type": "markdown",
   "metadata": {},
   "source": [
    "## Assessing the Accuracy of the Coefficients\n",
    "\n",
    "The assumption is that the *true* relationship between X and y takes the form $y = f(X)+\\epsilon$, where $\\epsilon$ is a mean-zero random error term:\n",
    "\n",
    "$y = \\beta_0+\\beta_1X+\\epsilon$\n",
    "\n",
    "Let us illustrate this with simulated data:"
   ]
  },
  {
   "cell_type": "code",
   "execution_count": 111,
   "metadata": {},
   "outputs": [],
   "source": [
    "X = np.arange(-2,2,0.05)\n",
    "y = 2 + 3*X + np.random.normal(0,5,X.shape)\n",
    "\n",
    "b0_hat, b1_hat = least_squares_estimate(X,y)"
   ]
  },
  {
   "cell_type": "code",
   "execution_count": 112,
   "metadata": {},
   "outputs": [
    {
     "data": {
      "image/png": "[encoded data removed]",
      "text/plain": [
       "<Figure size 720x360 with 1 Axes>"
      ]
     },
     "metadata": {},
     "output_type": "display_data"
    }
   ],
   "source": [
    "plt.figure(figsize = (10,5))\n",
    "plt.scatter(X,y,facecolors='none', edgecolors='black', \n",
    "            color = 'black')\n",
    "plt.xlabel('x')\n",
    "plt.ylabel('y')\n",
    "plt.plot(X,2+3*X, color = 'red', label = 'true relationship')\n",
    "plt.plot(X,b0_hat+b1_hat*X, color = 'blue', label = 'least squares line')\n",
    "plt.legend()\n",
    "plt.show()"
   ]
  },
  {
   "cell_type": "markdown",
   "metadata": {},
   "source": [
    "At this time, let us compute $\\beta_0$ and $\\beta_1$ based on sample of data:"
   ]
  },
  {
   "cell_type": "code",
   "execution_count": 113,
   "metadata": {},
   "outputs": [
    {
     "data": {
      "image/png": "[encoded data removed]",
      "text/plain": [
       "<Figure size 720x360 with 1 Axes>"
      ]
     },
     "metadata": {},
     "output_type": "display_data"
    }
   ],
   "source": [
    "betas = []\n",
    "num_tries = 10 # number of estimates\n",
    "for _ in range(num_tries):\n",
    "    indices = np.random.choice(X.shape[0]\n",
    "                               ,size = round(0.4*X.shape[0]) # 0.4 -- sample size, 40% of the data\n",
    "                               ,replace = False )\n",
    "    betas.append(least_squares_estimate(X[indices],y[indices]))\n",
    "\n",
    "plt.figure(figsize = (10,5))\n",
    "plt.xlabel('x')\n",
    "plt.ylabel('y')\n",
    "plt.plot(X,2+3*X, color = 'red', label = 'true relationship')\n",
    "for (b0_hat,b1_hat) in betas:\n",
    "    plt.plot(X,b0_hat+b1_hat*X, color = 'blue', alpha = 0.3)\n",
    "plt.title('Least squares lines based on data samples')\n",
    "plt.legend()\n",
    "plt.show()"
   ]
  },
  {
   "cell_type": "markdown",
   "metadata": {},
   "source": [
    "The standard errors of $\\beta_0$ and $\\beta_1$ are as follows:\n",
    "\n",
    "$SE(\\hat{\\beta}_0)^2 = \\sigma^2\\left[1/n+\\frac{\\bar{x}^2}{\\sum_{i=1}^n\\left(x_i-\\bar{x}\\right)^2}\\right]$\n",
    "\n",
    "$SE(\\hat{\\beta}_1)^2 = \\frac{\\sigma^2}{\\sum_{i=1}^n\\left(x_i-\\bar{x}\\right)^2}$\n",
    "\n",
    "where $\\sigma^2 = Var(\\epsilon)$ that can be estimated as residual standard error (RSE):\n",
    "\n",
    "$\\sigma = RSE = \\sqrt{RSS/(n-2)}$\n",
    "\n",
    "95% confidence intervals are:\n",
    "$\\left[\\hat{\\beta}_0-2*SE(\\hat{\\beta}_0),\\hat{\\beta}_0+2*SE(\\hat{\\beta}_0)\\right]$\n",
    "\n",
    "$\\left[\\hat{\\beta}_1-2*SE(\\hat{\\beta}_1),\\hat{\\beta}_1+2*SE(\\hat{\\beta}_1)\\right]$"
   ]
  },
  {
   "cell_type": "code",
   "execution_count": 114,
   "metadata": {},
   "outputs": [
    {
     "name": "stdout",
     "output_type": "stream",
     "text": [
      "(0.530052669016063, 0.4589673686620553)\n",
      "Beta 95% confidence intervals: \n",
      "\tBeta 0: [0.863,2.983]\n",
      "\tBeta 1: [2.483,4.319]\n"
     ]
    }
   ],
   "source": [
    "def standard_errors(betas,X,y):\n",
    "    b0_hat, b1_hat = betas[0], betas[1]\n",
    "    y_hat = b0_hat+b1_hat*X\n",
    "    RSS = np.sum((y_hat-y)**2)\n",
    "    var_e = RSE_squared = (RSS/(X.shape[0]-2))\n",
    "    SE_b0 = (var_e*(1/X.shape[0]+np.mean(X)**2/np.sum((X-np.mean(X))**2)))**0.5\n",
    "    SE_b1 = (var_e/np.sum((X-np.mean(X))**2))**0.5\n",
    "    return SE_b0, SE_b1\n",
    "\n",
    "betas = least_squares_estimate(X,y)\n",
    "SE = standard_errors(betas,X,y)\n",
    "print(SE)\n",
    "print(\"Beta 95% confidence intervals: \")\n",
    "print(\"\\tBeta 0: [%.3f,%.3f]\"%(betas[0]-2*SE[0],betas[0]+2*SE[0]))\n",
    "print(\"\\tBeta 1: [%.3f,%.3f]\"%(betas[1]-2*SE[1],betas[1]+2*SE[1]))"
   ]
  },
  {
   "cell_type": "markdown",
   "metadata": {},
   "source": [
    "Let us get back to our original dataset (Advertising):"
   ]
  },
  {
   "cell_type": "code",
   "execution_count": 115,
   "metadata": {},
   "outputs": [
    {
     "name": "stdout",
     "output_type": "stream",
     "text": [
      "(7.032593549127698, 0.047536640433019736)\n",
      "(0.4578429402734785, 0.0026906071877968707)\n",
      "Beta 95% confidence intervals: \n",
      "\tBeta 0: [6.117,7.948]\n",
      "\tBeta 1: [0.042,0.053]\n"
     ]
    }
   ],
   "source": [
    "X = df['TV']\n",
    "y = df['Sales']\n",
    "betas = least_squares_estimate(X,y)\n",
    "\n",
    "print(betas)\n",
    "\n",
    "SE = standard_errors(betas,X,y)\n",
    "print(SE)\n",
    "\n",
    "print(\"Beta 95% confidence intervals: \")\n",
    "print(\"\\tBeta 0: [%.3f,%.3f]\"%(betas[0]-2*SE[0],betas[0]+2*SE[0]))\n",
    "print(\"\\tBeta 1: [%.3f,%.3f]\"%(betas[1]-2*SE[1],betas[1]+2*SE[1]))"
   ]
  },
  {
   "cell_type": "markdown",
   "metadata": {},
   "source": [
    "In summary, in the absence of TV advertising, on average, the sales will be between 6,117 and 7,948 units. Every 1,000 increase in TV advertising will result in increase in sales of between 42 and 53 units. \n",
    "\n",
    "### Hypothesis tests on the coefficients\n",
    "\n",
    "H0: There is no relationship between X and y\n",
    "Ha: There is some relationship between X and y\n",
    "\n",
    "H0: $\\beta_1 = 0$\n",
    "Ha: $\\beta_1 0$\n",
    "\n",
    "t-statistics:\n",
    "\n",
    "$t = \\frac{\\hat{\\beta}_1}{SE(\\hat{\\beta}_1}$"
   ]
  },
  {
   "cell_type": "code",
   "execution_count": 116,
   "metadata": {},
   "outputs": [
    {
     "data": {
      "text/plain": [
       "((7.032593549127698, 0.047536640433019736),\n",
       " (0.4578429402734785, 0.0026906071877968707))"
      ]
     },
     "execution_count": 116,
     "metadata": {},
     "output_type": "execute_result"
    }
   ],
   "source": [
    "betas, SE"
   ]
  },
  {
   "cell_type": "code",
   "execution_count": 117,
   "metadata": {},
   "outputs": [
    {
     "data": {
      "text/plain": [
       "(15.360275174117556, 17.66762560087554)"
      ]
     },
     "execution_count": 117,
     "metadata": {},
     "output_type": "execute_result"
    }
   ],
   "source": [
    "t_stat = tuple([betas[i]/SE[i] for i in range(len(betas))])\n",
    "t_stat"
   ]
  },
  {
   "cell_type": "markdown",
   "metadata": {},
   "source": [
    "Probability of getting these values randomly:"
   ]
  },
  {
   "cell_type": "code",
   "execution_count": 118,
   "metadata": {},
   "outputs": [
    {
     "data": {
      "text/plain": [
       "(0.0, 0.0)"
      ]
     },
     "execution_count": 118,
     "metadata": {},
     "output_type": "execute_result"
    }
   ],
   "source": [
    "p_values = tuple([(1-scipy.stats.norm(0,1).cdf(np.abs(t)))*2 for t in t_stat])\n",
    "p_values"
   ]
  },
  {
   "cell_type": "markdown",
   "metadata": {},
   "source": [
    "Let us make a function to compute simple linear regression statistics:"
   ]
  },
  {
   "cell_type": "code",
   "execution_count": 119,
   "metadata": {},
   "outputs": [
    {
     "data": {
      "text/plain": [
       "{'coefficients': (7.032593549127698, 0.047536640433019736),\n",
       " 'std. errors': (0.4578429402734785, 0.0026906071877968707),\n",
       " 't-statistic': (15.360275174117556, 17.66762560087554),\n",
       " 'p-values': (0.0, 0.0)}"
      ]
     },
     "execution_count": 119,
     "metadata": {},
     "output_type": "execute_result"
    }
   ],
   "source": [
    "def simple_regression_stats(X,y):\n",
    "    betas = least_squares_estimate(X,y)\n",
    "    SE = standard_errors(betas,X,y)\n",
    "    t_stat = tuple([betas[i]/SE[i] for i in range(len(betas))])\n",
    "    p_values = tuple([(1-scipy.stats.norm(0,1).cdf(np.abs(t)))*2 for t in t_stat])\n",
    "    return dict({'coefficients':betas\n",
    "                ,'std. errors':SE\n",
    "                ,'t-statistic':t_stat\n",
    "                ,'p-values':p_values})\n",
    "simple_regression_stats(X,y)"
   ]
  },
  {
   "cell_type": "markdown",
   "metadata": {},
   "source": [
    "We conclude that neither slope nor intercept are zeros, i.e. *reject the null hypothesis*:\n",
    "\n",
    " || Coefficient | Std. Error | t-statistic | p-value |\n",
    " |-|-------------|------------|-------------|-------- |\n",
    " |Intercept|7.0326|0.4578|15.3603|<0.0001|\n",
    " |Slope|0.0475|0.0027|17.6676|<0.0001|"
   ]
  },
  {
   "cell_type": "markdown",
   "metadata": {},
   "source": [
    "## Assessing the Accuracy of the Model\n",
    "\n",
    "Once we have rejected the null hypothesis, we need to estimate how accurate the model is\n",
    "\n",
    "### Residual Standard Error\n",
    "\n",
    "$RSE = \\sqrt{\\frac{RSS}{n-2}}$\n",
    "\n",
    "$RSS = \\sum_{i=1}^n\\left(y_i-\\hat{y}_i\\right)^2$"
   ]
  },
  {
   "cell_type": "code",
   "execution_count": 47,
   "metadata": {},
   "outputs": [
    {
     "name": "stdout",
     "output_type": "stream",
     "text": [
      "RSE: 3.26\n"
     ]
    }
   ],
   "source": [
    "betas = least_squares_estimate(X,y)\n",
    "b0_hat, b1_hat = betas[0], betas[1]\n",
    "y_hat = b0_hat+b1_hat*X\n",
    "RSS = np.sum((y-y_hat)**2)\n",
    "RSE = np.sqrt(RSS/(X.shape[0]-2))\n",
    "print(\"RSE: %.2f\"%RSE)"
   ]
  },
  {
   "cell_type": "markdown",
   "metadata": {},
   "source": [
    "RSE is considered the *lack of fit* to the data\n",
    "\n",
    "### $R^2$ Statistic\n",
    "\n",
    "RSE provides the goodness of fit in the *units* of data and so it is not always clear what constitutes a good model. $R^2$ is a proportion of variance in the data explained by the model.\n",
    "\n",
    "$R^2 = \\frac{TSS-RSS}{TSS} = 1 - \\frac{RSS}{TSS}$, where $TSS = \\sum_{i=1}^{n}\\left(y_i-\\bar{y}\\right)^2$"
   ]
  },
  {
   "cell_type": "code",
   "execution_count": 48,
   "metadata": {},
   "outputs": [
    {
     "name": "stdout",
     "output_type": "stream",
     "text": [
      "R^2: 0.61\n"
     ]
    }
   ],
   "source": [
    "TSS = np.sum((y-np.mean(y))**2)\n",
    "R2 = 1 - RSS/TSS\n",
    "print(\"R^2: %.2f\"%R2)"
   ]
  },
  {
   "cell_type": "markdown",
   "metadata": {},
   "source": [
    "In fact, in case of a univariate linear regression $\\sqrt{R^2}$ equals to the correlation coefficient between X and y:"
   ]
  },
  {
   "cell_type": "code",
   "execution_count": 49,
   "metadata": {},
   "outputs": [
    {
     "data": {
      "text/plain": [
       "(0.7822244248616067, 0.7822244248616065)"
      ]
     },
     "execution_count": 49,
     "metadata": {},
     "output_type": "execute_result"
    }
   ],
   "source": [
    "np.corrcoef(X,y)[0][1], np.sqrt(R2)"
   ]
  },
  {
   "cell_type": "markdown",
   "metadata": {},
   "source": [
    "# Multiple Linear Regression\n",
    "\n",
    "In case of multiple inputs (TV, Radio, and Newspaper), there are two problems:\n",
    "\n",
    "1. It is unclear how to make a single prediction, from multiple regressions\n",
    "2. The model does not consider cross input effects\n",
    "\n",
    "Below are three single regressions:"
   ]
  },
  {
   "cell_type": "code",
   "execution_count": 50,
   "metadata": {},
   "outputs": [
    {
     "data": {
      "text/plain": [
       "{'coefficients': (7.032593549127698, 0.047536640433019736),\n",
       " 'std. errors': (0.4578429402734785, 0.0026906071877968707),\n",
       " 't-statistic': (15.360275174117556, 17.66762560087554),\n",
       " 'p-values': (0.0, 0.0)}"
      ]
     },
     "execution_count": 50,
     "metadata": {},
     "output_type": "execute_result"
    }
   ],
   "source": [
    "simple_regression_stats(df['TV'],df['Sales'])"
   ]
  },
  {
   "cell_type": "code",
   "execution_count": 51,
   "metadata": {},
   "outputs": [
    {
     "data": {
      "text/plain": [
       "{'coefficients': (9.311638095158282, 0.20249578339243965),\n",
       " 'std. errors': (0.5629004962718714, 0.020411306360090635),\n",
       " 't-statistic': (16.542245311258203, 9.920765472824959),\n",
       " 'p-values': (0.0, 0.0)}"
      ]
     },
     "execution_count": 51,
     "metadata": {},
     "output_type": "execute_result"
    }
   ],
   "source": [
    "simple_regression_stats(df['Radio'],df['Sales'])"
   ]
  },
  {
   "cell_type": "code",
   "execution_count": 54,
   "metadata": {},
   "outputs": [
    {
     "data": {
      "text/plain": [
       "{'coefficients': (12.351407069278164, 0.05469309847227334),\n",
       " 'std. errors': (0.6214201876094345, 0.016575721876358165),\n",
       " 't-statistic': (19.876095620248954, 3.2995907436334173),\n",
       " 'p-values': (0.0, 0.0004841295909323584)}"
      ]
     },
     "execution_count": 54,
     "metadata": {},
     "output_type": "execute_result"
    }
   ],
   "source": [
    "simple_regression_stats(df['Newspaper'],df['Sales'])"
   ]
  },
  {
   "cell_type": "markdown",
   "metadata": {},
   "source": [
    "Rather, the model should look like:\n",
    "\n",
    "$y = \\beta_0+\\beta_1*X_1+\\beta_2*X_2+\\beta_3*X_3+\\epsilon$\n",
    "\n",
    "... and coefficient estimates:\n",
    "\n",
    "$\\hat{y} = \\hat{\\beta}_0+\\hat{\\beta}_1*X_1+\\hat{\\beta}_2*X_2+\\hat{\\beta}_3*X_3$"
   ]
  },
  {
   "cell_type": "markdown",
   "metadata": {},
   "source": [
    "To compute $\\hat{\\beta}$, modify the data by adding column 0 for the intercept and apply linear algebra:\n",
    "\n",
    "$\\hat{\\beta} = \\left(X^TX\\right)^{-1}X^Ty$"
   ]
  },
  {
   "cell_type": "code",
   "execution_count": 73,
   "metadata": {},
   "outputs": [],
   "source": [
    "X = np.ones([df[['TV','Radio','Newspaper']].shape[0],4]) # add an extra column = 1 for the intercept\n",
    "X[:,1:] = df[['TV','Radio','Newspaper']]\n",
    "y = df['Sales']"
   ]
  },
  {
   "cell_type": "code",
   "execution_count": 75,
   "metadata": {},
   "outputs": [
    {
     "data": {
      "text/plain": [
       "array([ 2.93888937e+00,  4.57646455e-02,  1.88530017e-01, -1.03749304e-03])"
      ]
     },
     "execution_count": 75,
     "metadata": {},
     "output_type": "execute_result"
    }
   ],
   "source": [
    "XT = np.transpose(X)\n",
    "XTX = np.dot(XT,X)\n",
    "beta = np.dot(np.dot(np.linalg.inv(XTX),XT),y)\n",
    "beta"
   ]
  },
  {
   "cell_type": "markdown",
   "metadata": {},
   "source": [
    "Model output is now: $\\hat{y} = X\\cdot\\beta$, and the residual standard error is computed as usual:"
   ]
  },
  {
   "cell_type": "code",
   "execution_count": 80,
   "metadata": {},
   "outputs": [
    {
     "name": "stdout",
     "output_type": "stream",
     "text": [
      "RSE: 1.68\n"
     ]
    }
   ],
   "source": [
    "y_hat = np.dot(X, beta)\n",
    "RSS = np.sum((y-y_hat)**2)\n",
    "RSE = np.sqrt(RSS/(X.shape[0]-2))\n",
    "print(\"RSE: %.2f\"%RSE)"
   ]
  },
  {
   "cell_type": "code",
   "execution_count": 81,
   "metadata": {},
   "outputs": [
    {
     "name": "stdout",
     "output_type": "stream",
     "text": [
      "R^2: 0.90\n"
     ]
    }
   ],
   "source": [
    "TSS = np.sum((y-np.mean(y))**2)\n",
    "R2 = 1 - RSS/TSS\n",
    "print(\"R^2: %.2f\"%R2)"
   ]
  },
  {
   "cell_type": "markdown",
   "metadata": {},
   "source": [
    "To test the hypothesis whether any $\\beta$ equals to 0, compute the standardized coefficient, $Z$ score:\n",
    "\n",
    "$z_j = \\frac{\\hat{\\beta}_j}{\\hat{\\sigma}\\sqrt{v_j}}$\n",
    "\n",
    "where\n",
    "\n",
    "$v = diag\\left(X^TX\\right)^{-1}$, $\\sigma^2 = \\frac{1}{n-2-p}RSS$, $p = 3$ since we use three fields: TV, Radio, and Newspaper:"
   ]
  },
  {
   "cell_type": "code",
   "execution_count": 92,
   "metadata": {},
   "outputs": [
    {
     "data": {
      "text/plain": [
       "2.855514168729165"
      ]
     },
     "execution_count": 92,
     "metadata": {},
     "output_type": "execute_result"
    }
   ],
   "source": [
    "var_e = (1/(X.shape[0]-2-3))*RSS # sigma^2\n",
    "var_e"
   ]
  },
  {
   "cell_type": "code",
   "execution_count": 94,
   "metadata": {},
   "outputs": [
    {
     "data": {
      "text/plain": [
       "array([ 9.39822125, 32.72482193, 21.83757388, -0.17626321])"
      ]
     },
     "execution_count": 94,
     "metadata": {},
     "output_type": "execute_result"
    }
   ],
   "source": [
    "v = np.diag(np.linalg.inv(XTX))\n",
    "t_stat = beta/(np.sqrt(var_e)*np.sqrt(v))\n",
    "t_stat"
   ]
  },
  {
   "cell_type": "code",
   "execution_count": 100,
   "metadata": {},
   "outputs": [
    {
     "data": {
      "text/plain": [
       "(3.3400026129847223e-90,\n",
       " 2.210689340922534e-42,\n",
       " 3.571006045348321e-57,\n",
       " 1.3622297201598198e-256)"
      ]
     },
     "execution_count": 100,
     "metadata": {},
     "output_type": "execute_result"
    }
   ],
   "source": [
    "p_values = tuple([scipy.stats.chi2(X.shape[0]-2-3).cdf(np.abs(t)) for t in t_stat])\n",
    "p_values"
   ]
  },
  {
   "cell_type": "code",
   "execution_count": 103,
   "metadata": {},
   "outputs": [
    {
     "data": {
      "text/plain": [
       "(0.0, 0.0, 0.0, 0.8600871655477074)"
      ]
     },
     "execution_count": 103,
     "metadata": {},
     "output_type": "execute_result"
    }
   ],
   "source": [
    "p_values = tuple([(1-scipy.stats.norm(0,1).cdf(np.abs(t)))*2 for t in t_stat])\n",
    "p_values"
   ]
  }
 ],
 "metadata": {
  "kernelspec": {
   "display_name": "Python 3",
   "language": "python",
   "name": "python3"
  },
  "language_info": {
   "codemirror_mode": {
    "name": "ipython",
    "version": 3
   },
   "file_extension": ".py",
   "mimetype": "text/x-python",
   "name": "python",
   "nbconvert_exporter": "python",
   "pygments_lexer": "ipython3",
   "version": "3.6.5"
  }
 },
 "nbformat": 4,
 "nbformat_minor": 2
}
