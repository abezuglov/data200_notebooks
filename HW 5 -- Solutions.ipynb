{
 "cells": [
  {
   "cell_type": "code",
   "execution_count": 6,
   "metadata": {
    "collapsed": true
   },
   "outputs": [],
   "source": [
    "from sklearn.datasets import fetch_mldata\n",
    "from sklearn.datasets import fetch_olivetti_faces\n",
    "\n",
    "import pandas as pd\n",
    "import seaborn as sns\n",
    "import matplotlib.pyplot as plt\n",
    "%matplotlib inline\n",
    "\n",
    "import numpy as np\n",
    "from sklearn.datasets import make_regression\n",
    "from sklearn.decomposition import PCA\n",
    "from sklearn.cluster import KMeans\n",
    "from sklearn.preprocessing import StandardScaler\n",
    "\n",
    "from ipywidgets import interactive\n",
    "import ipywidgets as widgets\n",
    "\n",
    "from sklearn.model_selection import train_test_split"
   ]
  },
  {
   "cell_type": "markdown",
   "metadata": {},
   "source": [
    "# MNIST Clustering and Visualization"
   ]
  },
  {
   "cell_type": "code",
   "execution_count": 7,
   "metadata": {},
   "outputs": [
    {
     "data": {
      "text/plain": [
       "(400, 4096)"
      ]
     },
     "execution_count": 7,
     "metadata": {},
     "output_type": "execute_result"
    }
   ],
   "source": [
    "of = fetch_olivetti_faces()\n",
    "of.data.shape"
   ]
  },
  {
   "cell_type": "code",
   "execution_count": 8,
   "metadata": {},
   "outputs": [
    {
     "data": {
      "text/plain": [
       "(400, 153)"
      ]
     },
     "execution_count": 8,
     "metadata": {},
     "output_type": "execute_result"
    }
   ],
   "source": [
    "pca = PCA(n_components = 153)\n",
    "X = pca.fit_transform(of.data)\n",
    "X.shape"
   ]
  },
  {
   "cell_type": "code",
   "execution_count": 9,
   "metadata": {},
   "outputs": [
    {
     "data": {
      "text/plain": [
       "(400,)"
      ]
     },
     "execution_count": 9,
     "metadata": {},
     "output_type": "execute_result"
    }
   ],
   "source": [
    "from sklearn.cluster import KMeans\n",
    "\n",
    "km = KMeans(n_clusters =3, random_state = 0)\n",
    "km.fit(X)\n",
    "clusters = km.predict(X)\n",
    "clusters.shape"
   ]
  },
  {
   "cell_type": "code",
   "execution_count": 10,
   "metadata": {},
   "outputs": [
    {
     "data": {
      "text/plain": [
       "array([  1,   2,   4,   9,  10,  11,  12,  13,  14,  15,  16,  17,  18,\n",
       "        19,  20,  21,  22,  25,  28,  29,  30,  31,  33,  34,  38,  39,\n",
       "        40,  41,  42,  43,  50,  51,  52,  60,  61,  66,  70,  71,  72,\n",
       "        73,  74,  75,  76,  77,  79,  88,  89,  90,  91,  92,  93,  94,\n",
       "        95,  96,  97,  99, 100, 101, 102, 103, 104, 105, 106, 107, 108,\n",
       "       109, 113, 114, 116, 117, 118, 119, 120, 121, 125, 128, 130, 131,\n",
       "       132, 133, 134, 135, 136, 137, 138, 139, 140, 142, 143, 145, 146,\n",
       "       147, 148, 149, 150, 153, 154, 156, 162, 163, 170, 171, 173, 176,\n",
       "       180, 181, 182, 183, 184, 185, 186, 187, 188, 189, 205, 220, 221,\n",
       "       222, 224, 226, 227, 234, 240, 241, 242, 243, 244, 245, 246, 248,\n",
       "       249, 250, 251, 252, 254, 255, 256, 257, 258, 259, 260, 261, 262,\n",
       "       263, 264, 265, 266, 267, 268, 269, 270, 271, 272, 273, 274, 275,\n",
       "       276, 277, 278, 292, 310, 311, 312, 313, 314, 315, 316, 317, 318,\n",
       "       319, 345, 346, 347, 371, 372, 373, 374, 376, 377, 379, 390, 395, 397])"
      ]
     },
     "execution_count": 10,
     "metadata": {},
     "output_type": "execute_result"
    }
   ],
   "source": [
    "idx_zero = np.argwhere(clusters == 0).reshape(-1)\n",
    "idx_zero"
   ]
  },
  {
   "cell_type": "code",
   "execution_count": 11,
   "metadata": {},
   "outputs": [
    {
     "data": {
      "text/plain": [
       "(153,)"
      ]
     },
     "execution_count": 11,
     "metadata": {},
     "output_type": "execute_result"
    }
   ],
   "source": [
    "cluster_zero = X[idx_zero,:].mean(axis = 0)\n",
    "cluster_zero.shape"
   ]
  },
  {
   "cell_type": "code",
   "execution_count": 12,
   "metadata": {},
   "outputs": [
    {
     "data": {
      "image/png": "[encoded data removed]",
      "text/plain": [
       "<matplotlib.figure.Figure at 0x7f0179234b70>"
      ]
     },
     "metadata": {},
     "output_type": "display_data"
    }
   ],
   "source": [
    "cluster_zero_image = pca.inverse_transform(cluster_zero.reshape([1,-1]))\n",
    "plt.figure()\n",
    "plt.imshow(cluster_zero_image.reshape([64,64]),cmap = plt.cm.gray)\n",
    "plt.show()"
   ]
  }
 ],
 "metadata": {
  "kernelspec": {
   "display_name": "Python 3",
   "language": "python",
   "name": "python3"
  },
  "language_info": {
   "codemirror_mode": {
    "name": "ipython",
    "version": 3
   },
   "file_extension": ".py",
   "mimetype": "text/x-python",
   "name": "python",
   "nbconvert_exporter": "python",
   "pygments_lexer": "ipython3",
   "version": "3.5.4"
  }
 },
 "nbformat": 4,
 "nbformat_minor": 2
}
